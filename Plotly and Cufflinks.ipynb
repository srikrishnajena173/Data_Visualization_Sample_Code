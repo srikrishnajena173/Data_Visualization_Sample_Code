{
 "cells": [
  {
   "cell_type": "markdown",
   "metadata": {},
   "source": [
    "# Plotly and Cufflinks"
   ]
  },
  {
   "cell_type": "markdown",
   "metadata": {},
   "source": [
    "Plotly is a library that allows you to create interactive plots that you can use in dashboards or websites (you can save them as html files or static images).\n",
    "\n",
    "## Installation\n",
    "\n",
    "In order for this all to work, you'll need to install plotly and cufflinks to call plots directly off of a pandas dataframe. These libraries are not currently available through **conda** but are available through **pip**. Install the libraries at your command line/terminal using:\n",
    "\n",
    "    pip install plotly\n",
    "    pip install cufflinks\n",
    "\n",
    "** NOTE: Make sure you only have one installation of Python on your computer when you do this, otherwise the installation may not work. **\n",
    "\n",
    "## Imports and Set-up"
   ]
  },
  {
   "cell_type": "code",
   "execution_count": 1,
   "metadata": {},
   "outputs": [],
   "source": [
    "import pandas as pd\n",
    "import numpy as np\n",
    "%matplotlib inline"
   ]
  },
  {
   "cell_type": "code",
   "execution_count": 2,
   "metadata": {},
   "outputs": [
    {
     "name": "stdout",
     "output_type": "stream",
     "text": [
      "5.4.0\n"
     ]
    }
   ],
   "source": [
    "from plotly import __version__\n",
    "from plotly.offline import download_plotlyjs, init_notebook_mode, plot, iplot\n",
    "\n",
    "print(__version__) # requires version >= 1.9.0"
   ]
  },
  {
   "cell_type": "code",
   "execution_count": 3,
   "metadata": {},
   "outputs": [],
   "source": [
    "import cufflinks as cf"
   ]
  },
  {
   "cell_type": "code",
   "execution_count": 4,
   "metadata": {},
   "outputs": [
    {
     "data": {
      "text/html": [
       "        <script type=\"text/javascript\">\n",
       "        window.PlotlyConfig = {MathJaxConfig: 'local'};\n",
       "        if (window.MathJax) {MathJax.Hub.Config({SVG: {font: \"STIX-Web\"}});}\n",
       "        if (typeof require !== 'undefined') {\n",
       "        require.undef(\"plotly\");\n",
       "        requirejs.config({\n",
       "            paths: {\n",
       "                'plotly': ['https://cdn.plot.ly/plotly-2.6.3.min']\n",
       "            }\n",
       "        });\n",
       "        require(['plotly'], function(Plotly) {\n",
       "            window._Plotly = Plotly;\n",
       "        });\n",
       "        }\n",
       "        </script>\n",
       "        "
      ]
     },
     "metadata": {},
     "output_type": "display_data"
    }
   ],
   "source": [
    "# For Notebooks\n",
    "init_notebook_mode(connected=True)"
   ]
  },
  {
   "cell_type": "code",
   "execution_count": 5,
   "metadata": {},
   "outputs": [
    {
     "data": {
      "text/html": [
       "        <script type=\"text/javascript\">\n",
       "        window.PlotlyConfig = {MathJaxConfig: 'local'};\n",
       "        if (window.MathJax) {MathJax.Hub.Config({SVG: {font: \"STIX-Web\"}});}\n",
       "        if (typeof require !== 'undefined') {\n",
       "        require.undef(\"plotly\");\n",
       "        requirejs.config({\n",
       "            paths: {\n",
       "                'plotly': ['https://cdn.plot.ly/plotly-2.6.3.min']\n",
       "            }\n",
       "        });\n",
       "        require(['plotly'], function(Plotly) {\n",
       "            window._Plotly = Plotly;\n",
       "        });\n",
       "        }\n",
       "        </script>\n",
       "        "
      ]
     },
     "metadata": {},
     "output_type": "display_data"
    }
   ],
   "source": [
    "# For offline use\n",
    "cf.go_offline()"
   ]
  },
  {
   "cell_type": "markdown",
   "metadata": {},
   "source": [
    "### Fake Data"
   ]
  },
  {
   "cell_type": "code",
   "execution_count": 6,
   "metadata": {},
   "outputs": [],
   "source": [
    "df = pd.DataFrame(np.random.randn(100,4),columns='A B C D'.split())"
   ]
  },
  {
   "cell_type": "code",
   "execution_count": 7,
   "metadata": {},
   "outputs": [
    {
     "data": {
      "text/html": [
       "<div>\n",
       "<style scoped>\n",
       "    .dataframe tbody tr th:only-of-type {\n",
       "        vertical-align: middle;\n",
       "    }\n",
       "\n",
       "    .dataframe tbody tr th {\n",
       "        vertical-align: top;\n",
       "    }\n",
       "\n",
       "    .dataframe thead th {\n",
       "        text-align: right;\n",
       "    }\n",
       "</style>\n",
       "<table border=\"1\" class=\"dataframe\">\n",
       "  <thead>\n",
       "    <tr style=\"text-align: right;\">\n",
       "      <th></th>\n",
       "      <th>A</th>\n",
       "      <th>B</th>\n",
       "      <th>C</th>\n",
       "      <th>D</th>\n",
       "    </tr>\n",
       "  </thead>\n",
       "  <tbody>\n",
       "    <tr>\n",
       "      <th>0</th>\n",
       "      <td>1.854694</td>\n",
       "      <td>0.167824</td>\n",
       "      <td>-0.032444</td>\n",
       "      <td>-1.174378</td>\n",
       "    </tr>\n",
       "    <tr>\n",
       "      <th>1</th>\n",
       "      <td>0.748432</td>\n",
       "      <td>0.624804</td>\n",
       "      <td>-1.376065</td>\n",
       "      <td>1.178283</td>\n",
       "    </tr>\n",
       "    <tr>\n",
       "      <th>2</th>\n",
       "      <td>-1.300380</td>\n",
       "      <td>0.203724</td>\n",
       "      <td>-0.893645</td>\n",
       "      <td>1.528579</td>\n",
       "    </tr>\n",
       "    <tr>\n",
       "      <th>3</th>\n",
       "      <td>0.546601</td>\n",
       "      <td>-1.059111</td>\n",
       "      <td>2.246183</td>\n",
       "      <td>-0.243414</td>\n",
       "    </tr>\n",
       "    <tr>\n",
       "      <th>4</th>\n",
       "      <td>0.593675</td>\n",
       "      <td>-1.141999</td>\n",
       "      <td>-0.284246</td>\n",
       "      <td>-0.430159</td>\n",
       "    </tr>\n",
       "  </tbody>\n",
       "</table>\n",
       "</div>"
      ],
      "text/plain": [
       "          A         B         C         D\n",
       "0  1.854694  0.167824 -0.032444 -1.174378\n",
       "1  0.748432  0.624804 -1.376065  1.178283\n",
       "2 -1.300380  0.203724 -0.893645  1.528579\n",
       "3  0.546601 -1.059111  2.246183 -0.243414\n",
       "4  0.593675 -1.141999 -0.284246 -0.430159"
      ]
     },
     "execution_count": 7,
     "metadata": {},
     "output_type": "execute_result"
    }
   ],
   "source": [
    "df.head()"
   ]
  },
  {
   "cell_type": "code",
   "execution_count": 8,
   "metadata": {},
   "outputs": [],
   "source": [
    "df2 = pd.DataFrame({'Category':['A','B','C'],'Values':[32,43,50]})"
   ]
  },
  {
   "cell_type": "code",
   "execution_count": 9,
   "metadata": {},
   "outputs": [
    {
     "data": {
      "text/html": [
       "<div>\n",
       "<style scoped>\n",
       "    .dataframe tbody tr th:only-of-type {\n",
       "        vertical-align: middle;\n",
       "    }\n",
       "\n",
       "    .dataframe tbody tr th {\n",
       "        vertical-align: top;\n",
       "    }\n",
       "\n",
       "    .dataframe thead th {\n",
       "        text-align: right;\n",
       "    }\n",
       "</style>\n",
       "<table border=\"1\" class=\"dataframe\">\n",
       "  <thead>\n",
       "    <tr style=\"text-align: right;\">\n",
       "      <th></th>\n",
       "      <th>Category</th>\n",
       "      <th>Values</th>\n",
       "    </tr>\n",
       "  </thead>\n",
       "  <tbody>\n",
       "    <tr>\n",
       "      <th>0</th>\n",
       "      <td>A</td>\n",
       "      <td>32</td>\n",
       "    </tr>\n",
       "    <tr>\n",
       "      <th>1</th>\n",
       "      <td>B</td>\n",
       "      <td>43</td>\n",
       "    </tr>\n",
       "    <tr>\n",
       "      <th>2</th>\n",
       "      <td>C</td>\n",
       "      <td>50</td>\n",
       "    </tr>\n",
       "  </tbody>\n",
       "</table>\n",
       "</div>"
      ],
      "text/plain": [
       "  Category  Values\n",
       "0        A      32\n",
       "1        B      43\n",
       "2        C      50"
      ]
     },
     "execution_count": 9,
     "metadata": {},
     "output_type": "execute_result"
    }
   ],
   "source": [
    "df2.head()"
   ]
  },
  {
   "cell_type": "markdown",
   "metadata": {},
   "source": [
    "## Using Cufflinks and iplot()\n",
    "\n",
    "* scatter\n",
    "* bar\n",
    "* box\n",
    "* spread\n",
    "* ratio\n",
    "* heatmap\n",
    "* surface\n",
    "* histogram\n",
    "* bubble"
   ]
  },
  {
   "cell_type": "markdown",
   "metadata": {},
   "source": [
    "## Scatter"
   ]
  },
  {
   "cell_type": "code",
   "execution_count": 10,
   "metadata": {},
   "outputs": [
    {
     "data": {
      "application/vnd.plotly.v1+json": {
       "config": {
        "linkText": "Export to plot.ly",
        "plotlyServerURL": "https://plot.ly",
        "showLink": true
       },
       "data": [
        {
         "line": {
          "color": "rgba(255, 153, 51, 1.0)",
          "dash": "solid",
          "shape": "linear",
          "width": 1.3
         },
         "marker": {
          "size": 10,
          "symbol": "circle"
         },
         "mode": "markers",
         "name": "B",
         "text": "",
         "type": "scatter",
         "x": [
          1.8546943094246786,
          0.7484318595969548,
          -1.3003802265817697,
          0.5466013635649044,
          0.5936748444947731,
          -1.8998908810208484,
          0.33721413564963915,
          1.1337712628923053,
          1.359082325911419,
          1.0243456616090953,
          -0.7769188276254685,
          0.15627448332439178,
          0.02909909907259362,
          0.5340802561947197,
          0.44166099876698245,
          0.07418337277071425,
          -1.2166485828944438,
          0.4704216470315535,
          0.1776738729336818,
          -0.9082445699203281,
          -0.5882378507295679,
          1.2566415972493183,
          -0.6219653660070883,
          0.39494223876348156,
          1.4308659933450811,
          1.49581915347491,
          0.4076595706023893,
          -1.2939477605182126,
          0.973390369604027,
          0.840098155584022,
          -0.5185938843649213,
          0.10199556541041863,
          0.8500271871363656,
          1.1539670862850304,
          -1.0848994588674004,
          0.8384190457546357,
          0.6937565388763399,
          -1.410582449207463,
          0.0690709545571296,
          2.0081983789111573,
          -1.0046445131062767,
          0.7516523194583801,
          1.3873453206817357,
          0.0743343655411143,
          0.13912434845424487,
          -1.0530483619299962,
          -0.5065833576247132,
          1.0048844700796773,
          1.6869679168211584,
          -0.6326703784319785,
          -0.14584422183332776,
          -0.3012231557587274,
          0.9861559735709121,
          -1.3944268538824043,
          0.205266530140708,
          -0.3526912470632605,
          0.5139945168452866,
          0.6431761536884101,
          0.8533221153361462,
          0.3634162498544376,
          1.488558770362642,
          0.39118080162568675,
          -0.4064937772536102,
          -1.3424483605503834,
          -0.8484394801485337,
          0.442011011278428,
          0.5552676006967177,
          -1.1550992405702285,
          -0.045464650893156155,
          -0.22856117724941144,
          0.6310239049105584,
          1.443996432243972,
          -0.14437703793582427,
          -1.8093132042767839,
          -0.8965944258926464,
          -0.7955997958807984,
          -0.4820361239791199,
          0.5371266880897007,
          -0.23005501754629296,
          -0.24086175705188134,
          0.2530975143376481,
          -0.055343478317405104,
          -0.6591122798690139,
          1.2243412756761436,
          0.708139988592118,
          -0.11597112980702137,
          -0.8039079953833423,
          1.4002562252201896,
          0.8216116431913105,
          -0.8804732872490963,
          0.7570077363215513,
          -1.2470995107966565,
          -0.10568771334587965,
          0.4014953547386781,
          0.22971241053917285,
          -0.3461355642941567,
          -0.8004521108163732,
          1.0572143736336341,
          0.7315126139588002,
          1.0860112166901377
         ],
         "y": [
          0.16782352183400587,
          0.624804262589385,
          0.20372352671812846,
          -1.0591108379188434,
          -1.1419991407057792,
          0.8822057456431932,
          -0.30702637099270114,
          -2.0571013104149785,
          0.14614864879810144,
          2.8239149412769016,
          -2.412974864103616,
          0.721557660743138,
          -1.3663833420655647,
          -0.4052192278722541,
          0.23495373968771768,
          -0.5455590082566745,
          -1.1389799602470527,
          -1.9385486162077734,
          0.8047110489285142,
          -0.2351182610922446,
          2.3322152150147737,
          0.8960012160713902,
          0.8218942950746454,
          -0.4482443216083756,
          0.19863172403022056,
          0.33279159985848933,
          -2.4384779622185095,
          1.193567194099597,
          0.06995951078451483,
          0.4072798445048463,
          0.8146048718814357,
          1.4685320619448519,
          1.241729574244285,
          -0.37101981322201927,
          0.19634382933661695,
          -1.2594514852704604,
          0.48904672630322243,
          0.31628022355690794,
          -1.815222945460142,
          0.5376001263469178,
          0.8928260980073432,
          0.12879019588005242,
          0.6852771649802917,
          0.9239529848193153,
          2.3823692123794133,
          1.8982715919903281,
          1.7308831412905878,
          1.1862688195828759,
          -1.848635962299935,
          -2.073596318572358,
          0.12343301517841951,
          -0.34208245724851927,
          0.001591497174670703,
          -0.7105462449113583,
          2.118870082413893,
          1.0323512051698571,
          -0.14904284624203912,
          -0.27697382952569033,
          -1.4030368172614824,
          0.8069435110865915,
          -0.48338082158192425,
          -0.16726241537412317,
          0.7750420639775881,
          0.8556546635018052,
          -0.5617163502227375,
          -1.1334010030114128,
          2.8353718723380155,
          1.1504533925555331,
          0.8432868744795676,
          0.9992348285333864,
          -1.3610373755414766,
          0.17205002153134172,
          0.3127027245372549,
          -2.533325046279571,
          1.0768939607725407,
          -0.568689730288132,
          1.1509542732856508,
          -0.3683126886930604,
          -1.8553771750534833,
          -0.767540898256376,
          -1.3840393947293608,
          0.3718860914407538,
          0.2847053629058795,
          -0.7893439575251157,
          -1.642169014129789,
          2.3274424411981007,
          1.2633183284786307,
          -0.2664500269888275,
          -1.1605565365059336,
          -0.36382358959654326,
          -0.5740259278524541,
          -0.9447372467663968,
          -1.4061398731208765,
          1.7657635056574208,
          0.042685599019628644,
          0.7527939395183922,
          0.1025381452497282,
          -1.0029596827640692,
          -1.3391133535210205,
          -2.431710577117348
         ]
        }
       ],
       "layout": {
        "legend": {
         "bgcolor": "#F5F6F9",
         "font": {
          "color": "#4D5663"
         }
        },
        "paper_bgcolor": "#F5F6F9",
        "plot_bgcolor": "#F5F6F9",
        "template": {
         "data": {
          "bar": [
           {
            "error_x": {
             "color": "#2a3f5f"
            },
            "error_y": {
             "color": "#2a3f5f"
            },
            "marker": {
             "line": {
              "color": "#E5ECF6",
              "width": 0.5
             },
             "pattern": {
              "fillmode": "overlay",
              "size": 10,
              "solidity": 0.2
             }
            },
            "type": "bar"
           }
          ],
          "barpolar": [
           {
            "marker": {
             "line": {
              "color": "#E5ECF6",
              "width": 0.5
             },
             "pattern": {
              "fillmode": "overlay",
              "size": 10,
              "solidity": 0.2
             }
            },
            "type": "barpolar"
           }
          ],
          "carpet": [
           {
            "aaxis": {
             "endlinecolor": "#2a3f5f",
             "gridcolor": "white",
             "linecolor": "white",
             "minorgridcolor": "white",
             "startlinecolor": "#2a3f5f"
            },
            "baxis": {
             "endlinecolor": "#2a3f5f",
             "gridcolor": "white",
             "linecolor": "white",
             "minorgridcolor": "white",
             "startlinecolor": "#2a3f5f"
            },
            "type": "carpet"
           }
          ],
          "choropleth": [
           {
            "colorbar": {
             "outlinewidth": 0,
             "ticks": ""
            },
            "type": "choropleth"
           }
          ],
          "contour": [
           {
            "colorbar": {
             "outlinewidth": 0,
             "ticks": ""
            },
            "colorscale": [
             [
              0,
              "#0d0887"
             ],
             [
              0.1111111111111111,
              "#46039f"
             ],
             [
              0.2222222222222222,
              "#7201a8"
             ],
             [
              0.3333333333333333,
              "#9c179e"
             ],
             [
              0.4444444444444444,
              "#bd3786"
             ],
             [
              0.5555555555555556,
              "#d8576b"
             ],
             [
              0.6666666666666666,
              "#ed7953"
             ],
             [
              0.7777777777777778,
              "#fb9f3a"
             ],
             [
              0.8888888888888888,
              "#fdca26"
             ],
             [
              1,
              "#f0f921"
             ]
            ],
            "type": "contour"
           }
          ],
          "contourcarpet": [
           {
            "colorbar": {
             "outlinewidth": 0,
             "ticks": ""
            },
            "type": "contourcarpet"
           }
          ],
          "heatmap": [
           {
            "colorbar": {
             "outlinewidth": 0,
             "ticks": ""
            },
            "colorscale": [
             [
              0,
              "#0d0887"
             ],
             [
              0.1111111111111111,
              "#46039f"
             ],
             [
              0.2222222222222222,
              "#7201a8"
             ],
             [
              0.3333333333333333,
              "#9c179e"
             ],
             [
              0.4444444444444444,
              "#bd3786"
             ],
             [
              0.5555555555555556,
              "#d8576b"
             ],
             [
              0.6666666666666666,
              "#ed7953"
             ],
             [
              0.7777777777777778,
              "#fb9f3a"
             ],
             [
              0.8888888888888888,
              "#fdca26"
             ],
             [
              1,
              "#f0f921"
             ]
            ],
            "type": "heatmap"
           }
          ],
          "heatmapgl": [
           {
            "colorbar": {
             "outlinewidth": 0,
             "ticks": ""
            },
            "colorscale": [
             [
              0,
              "#0d0887"
             ],
             [
              0.1111111111111111,
              "#46039f"
             ],
             [
              0.2222222222222222,
              "#7201a8"
             ],
             [
              0.3333333333333333,
              "#9c179e"
             ],
             [
              0.4444444444444444,
              "#bd3786"
             ],
             [
              0.5555555555555556,
              "#d8576b"
             ],
             [
              0.6666666666666666,
              "#ed7953"
             ],
             [
              0.7777777777777778,
              "#fb9f3a"
             ],
             [
              0.8888888888888888,
              "#fdca26"
             ],
             [
              1,
              "#f0f921"
             ]
            ],
            "type": "heatmapgl"
           }
          ],
          "histogram": [
           {
            "marker": {
             "pattern": {
              "fillmode": "overlay",
              "size": 10,
              "solidity": 0.2
             }
            },
            "type": "histogram"
           }
          ],
          "histogram2d": [
           {
            "colorbar": {
             "outlinewidth": 0,
             "ticks": ""
            },
            "colorscale": [
             [
              0,
              "#0d0887"
             ],
             [
              0.1111111111111111,
              "#46039f"
             ],
             [
              0.2222222222222222,
              "#7201a8"
             ],
             [
              0.3333333333333333,
              "#9c179e"
             ],
             [
              0.4444444444444444,
              "#bd3786"
             ],
             [
              0.5555555555555556,
              "#d8576b"
             ],
             [
              0.6666666666666666,
              "#ed7953"
             ],
             [
              0.7777777777777778,
              "#fb9f3a"
             ],
             [
              0.8888888888888888,
              "#fdca26"
             ],
             [
              1,
              "#f0f921"
             ]
            ],
            "type": "histogram2d"
           }
          ],
          "histogram2dcontour": [
           {
            "colorbar": {
             "outlinewidth": 0,
             "ticks": ""
            },
            "colorscale": [
             [
              0,
              "#0d0887"
             ],
             [
              0.1111111111111111,
              "#46039f"
             ],
             [
              0.2222222222222222,
              "#7201a8"
             ],
             [
              0.3333333333333333,
              "#9c179e"
             ],
             [
              0.4444444444444444,
              "#bd3786"
             ],
             [
              0.5555555555555556,
              "#d8576b"
             ],
             [
              0.6666666666666666,
              "#ed7953"
             ],
             [
              0.7777777777777778,
              "#fb9f3a"
             ],
             [
              0.8888888888888888,
              "#fdca26"
             ],
             [
              1,
              "#f0f921"
             ]
            ],
            "type": "histogram2dcontour"
           }
          ],
          "mesh3d": [
           {
            "colorbar": {
             "outlinewidth": 0,
             "ticks": ""
            },
            "type": "mesh3d"
           }
          ],
          "parcoords": [
           {
            "line": {
             "colorbar": {
              "outlinewidth": 0,
              "ticks": ""
             }
            },
            "type": "parcoords"
           }
          ],
          "pie": [
           {
            "automargin": true,
            "type": "pie"
           }
          ],
          "scatter": [
           {
            "marker": {
             "colorbar": {
              "outlinewidth": 0,
              "ticks": ""
             }
            },
            "type": "scatter"
           }
          ],
          "scatter3d": [
           {
            "line": {
             "colorbar": {
              "outlinewidth": 0,
              "ticks": ""
             }
            },
            "marker": {
             "colorbar": {
              "outlinewidth": 0,
              "ticks": ""
             }
            },
            "type": "scatter3d"
           }
          ],
          "scattercarpet": [
           {
            "marker": {
             "colorbar": {
              "outlinewidth": 0,
              "ticks": ""
             }
            },
            "type": "scattercarpet"
           }
          ],
          "scattergeo": [
           {
            "marker": {
             "colorbar": {
              "outlinewidth": 0,
              "ticks": ""
             }
            },
            "type": "scattergeo"
           }
          ],
          "scattergl": [
           {
            "marker": {
             "colorbar": {
              "outlinewidth": 0,
              "ticks": ""
             }
            },
            "type": "scattergl"
           }
          ],
          "scattermapbox": [
           {
            "marker": {
             "colorbar": {
              "outlinewidth": 0,
              "ticks": ""
             }
            },
            "type": "scattermapbox"
           }
          ],
          "scatterpolar": [
           {
            "marker": {
             "colorbar": {
              "outlinewidth": 0,
              "ticks": ""
             }
            },
            "type": "scatterpolar"
           }
          ],
          "scatterpolargl": [
           {
            "marker": {
             "colorbar": {
              "outlinewidth": 0,
              "ticks": ""
             }
            },
            "type": "scatterpolargl"
           }
          ],
          "scatterternary": [
           {
            "marker": {
             "colorbar": {
              "outlinewidth": 0,
              "ticks": ""
             }
            },
            "type": "scatterternary"
           }
          ],
          "surface": [
           {
            "colorbar": {
             "outlinewidth": 0,
             "ticks": ""
            },
            "colorscale": [
             [
              0,
              "#0d0887"
             ],
             [
              0.1111111111111111,
              "#46039f"
             ],
             [
              0.2222222222222222,
              "#7201a8"
             ],
             [
              0.3333333333333333,
              "#9c179e"
             ],
             [
              0.4444444444444444,
              "#bd3786"
             ],
             [
              0.5555555555555556,
              "#d8576b"
             ],
             [
              0.6666666666666666,
              "#ed7953"
             ],
             [
              0.7777777777777778,
              "#fb9f3a"
             ],
             [
              0.8888888888888888,
              "#fdca26"
             ],
             [
              1,
              "#f0f921"
             ]
            ],
            "type": "surface"
           }
          ],
          "table": [
           {
            "cells": {
             "fill": {
              "color": "#EBF0F8"
             },
             "line": {
              "color": "white"
             }
            },
            "header": {
             "fill": {
              "color": "#C8D4E3"
             },
             "line": {
              "color": "white"
             }
            },
            "type": "table"
           }
          ]
         },
         "layout": {
          "annotationdefaults": {
           "arrowcolor": "#2a3f5f",
           "arrowhead": 0,
           "arrowwidth": 1
          },
          "autotypenumbers": "strict",
          "coloraxis": {
           "colorbar": {
            "outlinewidth": 0,
            "ticks": ""
           }
          },
          "colorscale": {
           "diverging": [
            [
             0,
             "#8e0152"
            ],
            [
             0.1,
             "#c51b7d"
            ],
            [
             0.2,
             "#de77ae"
            ],
            [
             0.3,
             "#f1b6da"
            ],
            [
             0.4,
             "#fde0ef"
            ],
            [
             0.5,
             "#f7f7f7"
            ],
            [
             0.6,
             "#e6f5d0"
            ],
            [
             0.7,
             "#b8e186"
            ],
            [
             0.8,
             "#7fbc41"
            ],
            [
             0.9,
             "#4d9221"
            ],
            [
             1,
             "#276419"
            ]
           ],
           "sequential": [
            [
             0,
             "#0d0887"
            ],
            [
             0.1111111111111111,
             "#46039f"
            ],
            [
             0.2222222222222222,
             "#7201a8"
            ],
            [
             0.3333333333333333,
             "#9c179e"
            ],
            [
             0.4444444444444444,
             "#bd3786"
            ],
            [
             0.5555555555555556,
             "#d8576b"
            ],
            [
             0.6666666666666666,
             "#ed7953"
            ],
            [
             0.7777777777777778,
             "#fb9f3a"
            ],
            [
             0.8888888888888888,
             "#fdca26"
            ],
            [
             1,
             "#f0f921"
            ]
           ],
           "sequentialminus": [
            [
             0,
             "#0d0887"
            ],
            [
             0.1111111111111111,
             "#46039f"
            ],
            [
             0.2222222222222222,
             "#7201a8"
            ],
            [
             0.3333333333333333,
             "#9c179e"
            ],
            [
             0.4444444444444444,
             "#bd3786"
            ],
            [
             0.5555555555555556,
             "#d8576b"
            ],
            [
             0.6666666666666666,
             "#ed7953"
            ],
            [
             0.7777777777777778,
             "#fb9f3a"
            ],
            [
             0.8888888888888888,
             "#fdca26"
            ],
            [
             1,
             "#f0f921"
            ]
           ]
          },
          "colorway": [
           "#636efa",
           "#EF553B",
           "#00cc96",
           "#ab63fa",
           "#FFA15A",
           "#19d3f3",
           "#FF6692",
           "#B6E880",
           "#FF97FF",
           "#FECB52"
          ],
          "font": {
           "color": "#2a3f5f"
          },
          "geo": {
           "bgcolor": "white",
           "lakecolor": "white",
           "landcolor": "#E5ECF6",
           "showlakes": true,
           "showland": true,
           "subunitcolor": "white"
          },
          "hoverlabel": {
           "align": "left"
          },
          "hovermode": "closest",
          "mapbox": {
           "style": "light"
          },
          "paper_bgcolor": "white",
          "plot_bgcolor": "#E5ECF6",
          "polar": {
           "angularaxis": {
            "gridcolor": "white",
            "linecolor": "white",
            "ticks": ""
           },
           "bgcolor": "#E5ECF6",
           "radialaxis": {
            "gridcolor": "white",
            "linecolor": "white",
            "ticks": ""
           }
          },
          "scene": {
           "xaxis": {
            "backgroundcolor": "#E5ECF6",
            "gridcolor": "white",
            "gridwidth": 2,
            "linecolor": "white",
            "showbackground": true,
            "ticks": "",
            "zerolinecolor": "white"
           },
           "yaxis": {
            "backgroundcolor": "#E5ECF6",
            "gridcolor": "white",
            "gridwidth": 2,
            "linecolor": "white",
            "showbackground": true,
            "ticks": "",
            "zerolinecolor": "white"
           },
           "zaxis": {
            "backgroundcolor": "#E5ECF6",
            "gridcolor": "white",
            "gridwidth": 2,
            "linecolor": "white",
            "showbackground": true,
            "ticks": "",
            "zerolinecolor": "white"
           }
          },
          "shapedefaults": {
           "line": {
            "color": "#2a3f5f"
           }
          },
          "ternary": {
           "aaxis": {
            "gridcolor": "white",
            "linecolor": "white",
            "ticks": ""
           },
           "baxis": {
            "gridcolor": "white",
            "linecolor": "white",
            "ticks": ""
           },
           "bgcolor": "#E5ECF6",
           "caxis": {
            "gridcolor": "white",
            "linecolor": "white",
            "ticks": ""
           }
          },
          "title": {
           "x": 0.05
          },
          "xaxis": {
           "automargin": true,
           "gridcolor": "white",
           "linecolor": "white",
           "ticks": "",
           "title": {
            "standoff": 15
           },
           "zerolinecolor": "white",
           "zerolinewidth": 2
          },
          "yaxis": {
           "automargin": true,
           "gridcolor": "white",
           "linecolor": "white",
           "ticks": "",
           "title": {
            "standoff": 15
           },
           "zerolinecolor": "white",
           "zerolinewidth": 2
          }
         }
        },
        "title": {
         "font": {
          "color": "#4D5663"
         }
        },
        "xaxis": {
         "gridcolor": "#E1E5ED",
         "showgrid": true,
         "tickfont": {
          "color": "#4D5663"
         },
         "title": {
          "font": {
           "color": "#4D5663"
          },
          "text": ""
         },
         "zerolinecolor": "#E1E5ED"
        },
        "yaxis": {
         "gridcolor": "#E1E5ED",
         "showgrid": true,
         "tickfont": {
          "color": "#4D5663"
         },
         "title": {
          "font": {
           "color": "#4D5663"
          },
          "text": ""
         },
         "zerolinecolor": "#E1E5ED"
        }
       }
      },
      "text/html": [
       "<div>                            <div id=\"7d4bf6d1-12b4-4904-8a31-029f64e306d1\" class=\"plotly-graph-div\" style=\"height:525px; width:100%;\"></div>            <script type=\"text/javascript\">                require([\"plotly\"], function(Plotly) {                    window.PLOTLYENV=window.PLOTLYENV || {};\n",
       "                    window.PLOTLYENV.BASE_URL='https://plot.ly';                                    if (document.getElementById(\"7d4bf6d1-12b4-4904-8a31-029f64e306d1\")) {                    Plotly.newPlot(                        \"7d4bf6d1-12b4-4904-8a31-029f64e306d1\",                        [{\"line\":{\"color\":\"rgba(255, 153, 51, 1.0)\",\"dash\":\"solid\",\"shape\":\"linear\",\"width\":1.3},\"marker\":{\"size\":10,\"symbol\":\"circle\"},\"mode\":\"markers\",\"name\":\"B\",\"text\":\"\",\"x\":[1.8546943094246786,0.7484318595969548,-1.3003802265817697,0.5466013635649044,0.5936748444947731,-1.8998908810208484,0.33721413564963915,1.1337712628923053,1.359082325911419,1.0243456616090953,-0.7769188276254685,0.15627448332439178,0.02909909907259362,0.5340802561947197,0.44166099876698245,0.07418337277071425,-1.2166485828944438,0.4704216470315535,0.1776738729336818,-0.9082445699203281,-0.5882378507295679,1.2566415972493183,-0.6219653660070883,0.39494223876348156,1.4308659933450811,1.49581915347491,0.4076595706023893,-1.2939477605182126,0.973390369604027,0.840098155584022,-0.5185938843649213,0.10199556541041863,0.8500271871363656,1.1539670862850304,-1.0848994588674004,0.8384190457546357,0.6937565388763399,-1.410582449207463,0.0690709545571296,2.0081983789111573,-1.0046445131062767,0.7516523194583801,1.3873453206817357,0.0743343655411143,0.13912434845424487,-1.0530483619299962,-0.5065833576247132,1.0048844700796773,1.6869679168211584,-0.6326703784319785,-0.14584422183332776,-0.3012231557587274,0.9861559735709121,-1.3944268538824043,0.205266530140708,-0.3526912470632605,0.5139945168452866,0.6431761536884101,0.8533221153361462,0.3634162498544376,1.488558770362642,0.39118080162568675,-0.4064937772536102,-1.3424483605503834,-0.8484394801485337,0.442011011278428,0.5552676006967177,-1.1550992405702285,-0.045464650893156155,-0.22856117724941144,0.6310239049105584,1.443996432243972,-0.14437703793582427,-1.8093132042767839,-0.8965944258926464,-0.7955997958807984,-0.4820361239791199,0.5371266880897007,-0.23005501754629296,-0.24086175705188134,0.2530975143376481,-0.055343478317405104,-0.6591122798690139,1.2243412756761436,0.708139988592118,-0.11597112980702137,-0.8039079953833423,1.4002562252201896,0.8216116431913105,-0.8804732872490963,0.7570077363215513,-1.2470995107966565,-0.10568771334587965,0.4014953547386781,0.22971241053917285,-0.3461355642941567,-0.8004521108163732,1.0572143736336341,0.7315126139588002,1.0860112166901377],\"y\":[0.16782352183400587,0.624804262589385,0.20372352671812846,-1.0591108379188434,-1.1419991407057792,0.8822057456431932,-0.30702637099270114,-2.0571013104149785,0.14614864879810144,2.8239149412769016,-2.412974864103616,0.721557660743138,-1.3663833420655647,-0.4052192278722541,0.23495373968771768,-0.5455590082566745,-1.1389799602470527,-1.9385486162077734,0.8047110489285142,-0.2351182610922446,2.3322152150147737,0.8960012160713902,0.8218942950746454,-0.4482443216083756,0.19863172403022056,0.33279159985848933,-2.4384779622185095,1.193567194099597,0.06995951078451483,0.4072798445048463,0.8146048718814357,1.4685320619448519,1.241729574244285,-0.37101981322201927,0.19634382933661695,-1.2594514852704604,0.48904672630322243,0.31628022355690794,-1.815222945460142,0.5376001263469178,0.8928260980073432,0.12879019588005242,0.6852771649802917,0.9239529848193153,2.3823692123794133,1.8982715919903281,1.7308831412905878,1.1862688195828759,-1.848635962299935,-2.073596318572358,0.12343301517841951,-0.34208245724851927,0.001591497174670703,-0.7105462449113583,2.118870082413893,1.0323512051698571,-0.14904284624203912,-0.27697382952569033,-1.4030368172614824,0.8069435110865915,-0.48338082158192425,-0.16726241537412317,0.7750420639775881,0.8556546635018052,-0.5617163502227375,-1.1334010030114128,2.8353718723380155,1.1504533925555331,0.8432868744795676,0.9992348285333864,-1.3610373755414766,0.17205002153134172,0.3127027245372549,-2.533325046279571,1.0768939607725407,-0.568689730288132,1.1509542732856508,-0.3683126886930604,-1.8553771750534833,-0.767540898256376,-1.3840393947293608,0.3718860914407538,0.2847053629058795,-0.7893439575251157,-1.642169014129789,2.3274424411981007,1.2633183284786307,-0.2664500269888275,-1.1605565365059336,-0.36382358959654326,-0.5740259278524541,-0.9447372467663968,-1.4061398731208765,1.7657635056574208,0.042685599019628644,0.7527939395183922,0.1025381452497282,-1.0029596827640692,-1.3391133535210205,-2.431710577117348],\"type\":\"scatter\"}],                        {\"legend\":{\"bgcolor\":\"#F5F6F9\",\"font\":{\"color\":\"#4D5663\"}},\"paper_bgcolor\":\"#F5F6F9\",\"plot_bgcolor\":\"#F5F6F9\",\"template\":{\"data\":{\"barpolar\":[{\"marker\":{\"line\":{\"color\":\"#E5ECF6\",\"width\":0.5},\"pattern\":{\"fillmode\":\"overlay\",\"size\":10,\"solidity\":0.2}},\"type\":\"barpolar\"}],\"bar\":[{\"error_x\":{\"color\":\"#2a3f5f\"},\"error_y\":{\"color\":\"#2a3f5f\"},\"marker\":{\"line\":{\"color\":\"#E5ECF6\",\"width\":0.5},\"pattern\":{\"fillmode\":\"overlay\",\"size\":10,\"solidity\":0.2}},\"type\":\"bar\"}],\"carpet\":[{\"aaxis\":{\"endlinecolor\":\"#2a3f5f\",\"gridcolor\":\"white\",\"linecolor\":\"white\",\"minorgridcolor\":\"white\",\"startlinecolor\":\"#2a3f5f\"},\"baxis\":{\"endlinecolor\":\"#2a3f5f\",\"gridcolor\":\"white\",\"linecolor\":\"white\",\"minorgridcolor\":\"white\",\"startlinecolor\":\"#2a3f5f\"},\"type\":\"carpet\"}],\"choropleth\":[{\"colorbar\":{\"outlinewidth\":0,\"ticks\":\"\"},\"type\":\"choropleth\"}],\"contourcarpet\":[{\"colorbar\":{\"outlinewidth\":0,\"ticks\":\"\"},\"type\":\"contourcarpet\"}],\"contour\":[{\"colorbar\":{\"outlinewidth\":0,\"ticks\":\"\"},\"colorscale\":[[0.0,\"#0d0887\"],[0.1111111111111111,\"#46039f\"],[0.2222222222222222,\"#7201a8\"],[0.3333333333333333,\"#9c179e\"],[0.4444444444444444,\"#bd3786\"],[0.5555555555555556,\"#d8576b\"],[0.6666666666666666,\"#ed7953\"],[0.7777777777777778,\"#fb9f3a\"],[0.8888888888888888,\"#fdca26\"],[1.0,\"#f0f921\"]],\"type\":\"contour\"}],\"heatmapgl\":[{\"colorbar\":{\"outlinewidth\":0,\"ticks\":\"\"},\"colorscale\":[[0.0,\"#0d0887\"],[0.1111111111111111,\"#46039f\"],[0.2222222222222222,\"#7201a8\"],[0.3333333333333333,\"#9c179e\"],[0.4444444444444444,\"#bd3786\"],[0.5555555555555556,\"#d8576b\"],[0.6666666666666666,\"#ed7953\"],[0.7777777777777778,\"#fb9f3a\"],[0.8888888888888888,\"#fdca26\"],[1.0,\"#f0f921\"]],\"type\":\"heatmapgl\"}],\"heatmap\":[{\"colorbar\":{\"outlinewidth\":0,\"ticks\":\"\"},\"colorscale\":[[0.0,\"#0d0887\"],[0.1111111111111111,\"#46039f\"],[0.2222222222222222,\"#7201a8\"],[0.3333333333333333,\"#9c179e\"],[0.4444444444444444,\"#bd3786\"],[0.5555555555555556,\"#d8576b\"],[0.6666666666666666,\"#ed7953\"],[0.7777777777777778,\"#fb9f3a\"],[0.8888888888888888,\"#fdca26\"],[1.0,\"#f0f921\"]],\"type\":\"heatmap\"}],\"histogram2dcontour\":[{\"colorbar\":{\"outlinewidth\":0,\"ticks\":\"\"},\"colorscale\":[[0.0,\"#0d0887\"],[0.1111111111111111,\"#46039f\"],[0.2222222222222222,\"#7201a8\"],[0.3333333333333333,\"#9c179e\"],[0.4444444444444444,\"#bd3786\"],[0.5555555555555556,\"#d8576b\"],[0.6666666666666666,\"#ed7953\"],[0.7777777777777778,\"#fb9f3a\"],[0.8888888888888888,\"#fdca26\"],[1.0,\"#f0f921\"]],\"type\":\"histogram2dcontour\"}],\"histogram2d\":[{\"colorbar\":{\"outlinewidth\":0,\"ticks\":\"\"},\"colorscale\":[[0.0,\"#0d0887\"],[0.1111111111111111,\"#46039f\"],[0.2222222222222222,\"#7201a8\"],[0.3333333333333333,\"#9c179e\"],[0.4444444444444444,\"#bd3786\"],[0.5555555555555556,\"#d8576b\"],[0.6666666666666666,\"#ed7953\"],[0.7777777777777778,\"#fb9f3a\"],[0.8888888888888888,\"#fdca26\"],[1.0,\"#f0f921\"]],\"type\":\"histogram2d\"}],\"histogram\":[{\"marker\":{\"pattern\":{\"fillmode\":\"overlay\",\"size\":10,\"solidity\":0.2}},\"type\":\"histogram\"}],\"mesh3d\":[{\"colorbar\":{\"outlinewidth\":0,\"ticks\":\"\"},\"type\":\"mesh3d\"}],\"parcoords\":[{\"line\":{\"colorbar\":{\"outlinewidth\":0,\"ticks\":\"\"}},\"type\":\"parcoords\"}],\"pie\":[{\"automargin\":true,\"type\":\"pie\"}],\"scatter3d\":[{\"line\":{\"colorbar\":{\"outlinewidth\":0,\"ticks\":\"\"}},\"marker\":{\"colorbar\":{\"outlinewidth\":0,\"ticks\":\"\"}},\"type\":\"scatter3d\"}],\"scattercarpet\":[{\"marker\":{\"colorbar\":{\"outlinewidth\":0,\"ticks\":\"\"}},\"type\":\"scattercarpet\"}],\"scattergeo\":[{\"marker\":{\"colorbar\":{\"outlinewidth\":0,\"ticks\":\"\"}},\"type\":\"scattergeo\"}],\"scattergl\":[{\"marker\":{\"colorbar\":{\"outlinewidth\":0,\"ticks\":\"\"}},\"type\":\"scattergl\"}],\"scattermapbox\":[{\"marker\":{\"colorbar\":{\"outlinewidth\":0,\"ticks\":\"\"}},\"type\":\"scattermapbox\"}],\"scatterpolargl\":[{\"marker\":{\"colorbar\":{\"outlinewidth\":0,\"ticks\":\"\"}},\"type\":\"scatterpolargl\"}],\"scatterpolar\":[{\"marker\":{\"colorbar\":{\"outlinewidth\":0,\"ticks\":\"\"}},\"type\":\"scatterpolar\"}],\"scatter\":[{\"marker\":{\"colorbar\":{\"outlinewidth\":0,\"ticks\":\"\"}},\"type\":\"scatter\"}],\"scatterternary\":[{\"marker\":{\"colorbar\":{\"outlinewidth\":0,\"ticks\":\"\"}},\"type\":\"scatterternary\"}],\"surface\":[{\"colorbar\":{\"outlinewidth\":0,\"ticks\":\"\"},\"colorscale\":[[0.0,\"#0d0887\"],[0.1111111111111111,\"#46039f\"],[0.2222222222222222,\"#7201a8\"],[0.3333333333333333,\"#9c179e\"],[0.4444444444444444,\"#bd3786\"],[0.5555555555555556,\"#d8576b\"],[0.6666666666666666,\"#ed7953\"],[0.7777777777777778,\"#fb9f3a\"],[0.8888888888888888,\"#fdca26\"],[1.0,\"#f0f921\"]],\"type\":\"surface\"}],\"table\":[{\"cells\":{\"fill\":{\"color\":\"#EBF0F8\"},\"line\":{\"color\":\"white\"}},\"header\":{\"fill\":{\"color\":\"#C8D4E3\"},\"line\":{\"color\":\"white\"}},\"type\":\"table\"}]},\"layout\":{\"annotationdefaults\":{\"arrowcolor\":\"#2a3f5f\",\"arrowhead\":0,\"arrowwidth\":1},\"autotypenumbers\":\"strict\",\"coloraxis\":{\"colorbar\":{\"outlinewidth\":0,\"ticks\":\"\"}},\"colorscale\":{\"diverging\":[[0,\"#8e0152\"],[0.1,\"#c51b7d\"],[0.2,\"#de77ae\"],[0.3,\"#f1b6da\"],[0.4,\"#fde0ef\"],[0.5,\"#f7f7f7\"],[0.6,\"#e6f5d0\"],[0.7,\"#b8e186\"],[0.8,\"#7fbc41\"],[0.9,\"#4d9221\"],[1,\"#276419\"]],\"sequential\":[[0.0,\"#0d0887\"],[0.1111111111111111,\"#46039f\"],[0.2222222222222222,\"#7201a8\"],[0.3333333333333333,\"#9c179e\"],[0.4444444444444444,\"#bd3786\"],[0.5555555555555556,\"#d8576b\"],[0.6666666666666666,\"#ed7953\"],[0.7777777777777778,\"#fb9f3a\"],[0.8888888888888888,\"#fdca26\"],[1.0,\"#f0f921\"]],\"sequentialminus\":[[0.0,\"#0d0887\"],[0.1111111111111111,\"#46039f\"],[0.2222222222222222,\"#7201a8\"],[0.3333333333333333,\"#9c179e\"],[0.4444444444444444,\"#bd3786\"],[0.5555555555555556,\"#d8576b\"],[0.6666666666666666,\"#ed7953\"],[0.7777777777777778,\"#fb9f3a\"],[0.8888888888888888,\"#fdca26\"],[1.0,\"#f0f921\"]]},\"colorway\":[\"#636efa\",\"#EF553B\",\"#00cc96\",\"#ab63fa\",\"#FFA15A\",\"#19d3f3\",\"#FF6692\",\"#B6E880\",\"#FF97FF\",\"#FECB52\"],\"font\":{\"color\":\"#2a3f5f\"},\"geo\":{\"bgcolor\":\"white\",\"lakecolor\":\"white\",\"landcolor\":\"#E5ECF6\",\"showlakes\":true,\"showland\":true,\"subunitcolor\":\"white\"},\"hoverlabel\":{\"align\":\"left\"},\"hovermode\":\"closest\",\"mapbox\":{\"style\":\"light\"},\"paper_bgcolor\":\"white\",\"plot_bgcolor\":\"#E5ECF6\",\"polar\":{\"angularaxis\":{\"gridcolor\":\"white\",\"linecolor\":\"white\",\"ticks\":\"\"},\"bgcolor\":\"#E5ECF6\",\"radialaxis\":{\"gridcolor\":\"white\",\"linecolor\":\"white\",\"ticks\":\"\"}},\"scene\":{\"xaxis\":{\"backgroundcolor\":\"#E5ECF6\",\"gridcolor\":\"white\",\"gridwidth\":2,\"linecolor\":\"white\",\"showbackground\":true,\"ticks\":\"\",\"zerolinecolor\":\"white\"},\"yaxis\":{\"backgroundcolor\":\"#E5ECF6\",\"gridcolor\":\"white\",\"gridwidth\":2,\"linecolor\":\"white\",\"showbackground\":true,\"ticks\":\"\",\"zerolinecolor\":\"white\"},\"zaxis\":{\"backgroundcolor\":\"#E5ECF6\",\"gridcolor\":\"white\",\"gridwidth\":2,\"linecolor\":\"white\",\"showbackground\":true,\"ticks\":\"\",\"zerolinecolor\":\"white\"}},\"shapedefaults\":{\"line\":{\"color\":\"#2a3f5f\"}},\"ternary\":{\"aaxis\":{\"gridcolor\":\"white\",\"linecolor\":\"white\",\"ticks\":\"\"},\"baxis\":{\"gridcolor\":\"white\",\"linecolor\":\"white\",\"ticks\":\"\"},\"bgcolor\":\"#E5ECF6\",\"caxis\":{\"gridcolor\":\"white\",\"linecolor\":\"white\",\"ticks\":\"\"}},\"title\":{\"x\":0.05},\"xaxis\":{\"automargin\":true,\"gridcolor\":\"white\",\"linecolor\":\"white\",\"ticks\":\"\",\"title\":{\"standoff\":15},\"zerolinecolor\":\"white\",\"zerolinewidth\":2},\"yaxis\":{\"automargin\":true,\"gridcolor\":\"white\",\"linecolor\":\"white\",\"ticks\":\"\",\"title\":{\"standoff\":15},\"zerolinecolor\":\"white\",\"zerolinewidth\":2}}},\"title\":{\"font\":{\"color\":\"#4D5663\"}},\"xaxis\":{\"gridcolor\":\"#E1E5ED\",\"showgrid\":true,\"tickfont\":{\"color\":\"#4D5663\"},\"title\":{\"font\":{\"color\":\"#4D5663\"},\"text\":\"\"},\"zerolinecolor\":\"#E1E5ED\"},\"yaxis\":{\"gridcolor\":\"#E1E5ED\",\"showgrid\":true,\"tickfont\":{\"color\":\"#4D5663\"},\"title\":{\"font\":{\"color\":\"#4D5663\"},\"text\":\"\"},\"zerolinecolor\":\"#E1E5ED\"}},                        {\"showLink\": true, \"linkText\": \"Export to plot.ly\", \"plotlyServerURL\": \"https://plot.ly\", \"responsive\": true}                    ).then(function(){\n",
       "                            \n",
       "var gd = document.getElementById('7d4bf6d1-12b4-4904-8a31-029f64e306d1');\n",
       "var x = new MutationObserver(function (mutations, observer) {{\n",
       "        var display = window.getComputedStyle(gd).display;\n",
       "        if (!display || display === 'none') {{\n",
       "            console.log([gd, 'removed!']);\n",
       "            Plotly.purge(gd);\n",
       "            observer.disconnect();\n",
       "        }}\n",
       "}});\n",
       "\n",
       "// Listen for the removal of the full notebook cells\n",
       "var notebookContainer = gd.closest('#notebook-container');\n",
       "if (notebookContainer) {{\n",
       "    x.observe(notebookContainer, {childList: true});\n",
       "}}\n",
       "\n",
       "// Listen for the clearing of the current output cell\n",
       "var outputEl = gd.closest('.output');\n",
       "if (outputEl) {{\n",
       "    x.observe(outputEl, {childList: true});\n",
       "}}\n",
       "\n",
       "                        })                };                });            </script>        </div>"
      ]
     },
     "metadata": {},
     "output_type": "display_data"
    }
   ],
   "source": [
    "df.iplot(kind='scatter',x='A',y='B',mode='markers',size=10)"
   ]
  },
  {
   "cell_type": "markdown",
   "metadata": {},
   "source": [
    "## Bar Plots"
   ]
  },
  {
   "cell_type": "code",
   "execution_count": 11,
   "metadata": {},
   "outputs": [
    {
     "data": {
      "application/vnd.plotly.v1+json": {
       "config": {
        "linkText": "Export to plot.ly",
        "plotlyServerURL": "https://plot.ly",
        "showLink": true
       },
       "data": [
        {
         "marker": {
          "color": "rgba(255, 153, 51, 0.6)",
          "line": {
           "color": "rgba(255, 153, 51, 1.0)",
           "width": 1
          }
         },
         "name": "Values",
         "orientation": "v",
         "text": "",
         "type": "bar",
         "x": [
          "A",
          "B",
          "C"
         ],
         "y": [
          32,
          43,
          50
         ]
        }
       ],
       "layout": {
        "legend": {
         "bgcolor": "#F5F6F9",
         "font": {
          "color": "#4D5663"
         }
        },
        "paper_bgcolor": "#F5F6F9",
        "plot_bgcolor": "#F5F6F9",
        "template": {
         "data": {
          "bar": [
           {
            "error_x": {
             "color": "#2a3f5f"
            },
            "error_y": {
             "color": "#2a3f5f"
            },
            "marker": {
             "line": {
              "color": "#E5ECF6",
              "width": 0.5
             },
             "pattern": {
              "fillmode": "overlay",
              "size": 10,
              "solidity": 0.2
             }
            },
            "type": "bar"
           }
          ],
          "barpolar": [
           {
            "marker": {
             "line": {
              "color": "#E5ECF6",
              "width": 0.5
             },
             "pattern": {
              "fillmode": "overlay",
              "size": 10,
              "solidity": 0.2
             }
            },
            "type": "barpolar"
           }
          ],
          "carpet": [
           {
            "aaxis": {
             "endlinecolor": "#2a3f5f",
             "gridcolor": "white",
             "linecolor": "white",
             "minorgridcolor": "white",
             "startlinecolor": "#2a3f5f"
            },
            "baxis": {
             "endlinecolor": "#2a3f5f",
             "gridcolor": "white",
             "linecolor": "white",
             "minorgridcolor": "white",
             "startlinecolor": "#2a3f5f"
            },
            "type": "carpet"
           }
          ],
          "choropleth": [
           {
            "colorbar": {
             "outlinewidth": 0,
             "ticks": ""
            },
            "type": "choropleth"
           }
          ],
          "contour": [
           {
            "colorbar": {
             "outlinewidth": 0,
             "ticks": ""
            },
            "colorscale": [
             [
              0,
              "#0d0887"
             ],
             [
              0.1111111111111111,
              "#46039f"
             ],
             [
              0.2222222222222222,
              "#7201a8"
             ],
             [
              0.3333333333333333,
              "#9c179e"
             ],
             [
              0.4444444444444444,
              "#bd3786"
             ],
             [
              0.5555555555555556,
              "#d8576b"
             ],
             [
              0.6666666666666666,
              "#ed7953"
             ],
             [
              0.7777777777777778,
              "#fb9f3a"
             ],
             [
              0.8888888888888888,
              "#fdca26"
             ],
             [
              1,
              "#f0f921"
             ]
            ],
            "type": "contour"
           }
          ],
          "contourcarpet": [
           {
            "colorbar": {
             "outlinewidth": 0,
             "ticks": ""
            },
            "type": "contourcarpet"
           }
          ],
          "heatmap": [
           {
            "colorbar": {
             "outlinewidth": 0,
             "ticks": ""
            },
            "colorscale": [
             [
              0,
              "#0d0887"
             ],
             [
              0.1111111111111111,
              "#46039f"
             ],
             [
              0.2222222222222222,
              "#7201a8"
             ],
             [
              0.3333333333333333,
              "#9c179e"
             ],
             [
              0.4444444444444444,
              "#bd3786"
             ],
             [
              0.5555555555555556,
              "#d8576b"
             ],
             [
              0.6666666666666666,
              "#ed7953"
             ],
             [
              0.7777777777777778,
              "#fb9f3a"
             ],
             [
              0.8888888888888888,
              "#fdca26"
             ],
             [
              1,
              "#f0f921"
             ]
            ],
            "type": "heatmap"
           }
          ],
          "heatmapgl": [
           {
            "colorbar": {
             "outlinewidth": 0,
             "ticks": ""
            },
            "colorscale": [
             [
              0,
              "#0d0887"
             ],
             [
              0.1111111111111111,
              "#46039f"
             ],
             [
              0.2222222222222222,
              "#7201a8"
             ],
             [
              0.3333333333333333,
              "#9c179e"
             ],
             [
              0.4444444444444444,
              "#bd3786"
             ],
             [
              0.5555555555555556,
              "#d8576b"
             ],
             [
              0.6666666666666666,
              "#ed7953"
             ],
             [
              0.7777777777777778,
              "#fb9f3a"
             ],
             [
              0.8888888888888888,
              "#fdca26"
             ],
             [
              1,
              "#f0f921"
             ]
            ],
            "type": "heatmapgl"
           }
          ],
          "histogram": [
           {
            "marker": {
             "pattern": {
              "fillmode": "overlay",
              "size": 10,
              "solidity": 0.2
             }
            },
            "type": "histogram"
           }
          ],
          "histogram2d": [
           {
            "colorbar": {
             "outlinewidth": 0,
             "ticks": ""
            },
            "colorscale": [
             [
              0,
              "#0d0887"
             ],
             [
              0.1111111111111111,
              "#46039f"
             ],
             [
              0.2222222222222222,
              "#7201a8"
             ],
             [
              0.3333333333333333,
              "#9c179e"
             ],
             [
              0.4444444444444444,
              "#bd3786"
             ],
             [
              0.5555555555555556,
              "#d8576b"
             ],
             [
              0.6666666666666666,
              "#ed7953"
             ],
             [
              0.7777777777777778,
              "#fb9f3a"
             ],
             [
              0.8888888888888888,
              "#fdca26"
             ],
             [
              1,
              "#f0f921"
             ]
            ],
            "type": "histogram2d"
           }
          ],
          "histogram2dcontour": [
           {
            "colorbar": {
             "outlinewidth": 0,
             "ticks": ""
            },
            "colorscale": [
             [
              0,
              "#0d0887"
             ],
             [
              0.1111111111111111,
              "#46039f"
             ],
             [
              0.2222222222222222,
              "#7201a8"
             ],
             [
              0.3333333333333333,
              "#9c179e"
             ],
             [
              0.4444444444444444,
              "#bd3786"
             ],
             [
              0.5555555555555556,
              "#d8576b"
             ],
             [
              0.6666666666666666,
              "#ed7953"
             ],
             [
              0.7777777777777778,
              "#fb9f3a"
             ],
             [
              0.8888888888888888,
              "#fdca26"
             ],
             [
              1,
              "#f0f921"
             ]
            ],
            "type": "histogram2dcontour"
           }
          ],
          "mesh3d": [
           {
            "colorbar": {
             "outlinewidth": 0,
             "ticks": ""
            },
            "type": "mesh3d"
           }
          ],
          "parcoords": [
           {
            "line": {
             "colorbar": {
              "outlinewidth": 0,
              "ticks": ""
             }
            },
            "type": "parcoords"
           }
          ],
          "pie": [
           {
            "automargin": true,
            "type": "pie"
           }
          ],
          "scatter": [
           {
            "marker": {
             "colorbar": {
              "outlinewidth": 0,
              "ticks": ""
             }
            },
            "type": "scatter"
           }
          ],
          "scatter3d": [
           {
            "line": {
             "colorbar": {
              "outlinewidth": 0,
              "ticks": ""
             }
            },
            "marker": {
             "colorbar": {
              "outlinewidth": 0,
              "ticks": ""
             }
            },
            "type": "scatter3d"
           }
          ],
          "scattercarpet": [
           {
            "marker": {
             "colorbar": {
              "outlinewidth": 0,
              "ticks": ""
             }
            },
            "type": "scattercarpet"
           }
          ],
          "scattergeo": [
           {
            "marker": {
             "colorbar": {
              "outlinewidth": 0,
              "ticks": ""
             }
            },
            "type": "scattergeo"
           }
          ],
          "scattergl": [
           {
            "marker": {
             "colorbar": {
              "outlinewidth": 0,
              "ticks": ""
             }
            },
            "type": "scattergl"
           }
          ],
          "scattermapbox": [
           {
            "marker": {
             "colorbar": {
              "outlinewidth": 0,
              "ticks": ""
             }
            },
            "type": "scattermapbox"
           }
          ],
          "scatterpolar": [
           {
            "marker": {
             "colorbar": {
              "outlinewidth": 0,
              "ticks": ""
             }
            },
            "type": "scatterpolar"
           }
          ],
          "scatterpolargl": [
           {
            "marker": {
             "colorbar": {
              "outlinewidth": 0,
              "ticks": ""
             }
            },
            "type": "scatterpolargl"
           }
          ],
          "scatterternary": [
           {
            "marker": {
             "colorbar": {
              "outlinewidth": 0,
              "ticks": ""
             }
            },
            "type": "scatterternary"
           }
          ],
          "surface": [
           {
            "colorbar": {
             "outlinewidth": 0,
             "ticks": ""
            },
            "colorscale": [
             [
              0,
              "#0d0887"
             ],
             [
              0.1111111111111111,
              "#46039f"
             ],
             [
              0.2222222222222222,
              "#7201a8"
             ],
             [
              0.3333333333333333,
              "#9c179e"
             ],
             [
              0.4444444444444444,
              "#bd3786"
             ],
             [
              0.5555555555555556,
              "#d8576b"
             ],
             [
              0.6666666666666666,
              "#ed7953"
             ],
             [
              0.7777777777777778,
              "#fb9f3a"
             ],
             [
              0.8888888888888888,
              "#fdca26"
             ],
             [
              1,
              "#f0f921"
             ]
            ],
            "type": "surface"
           }
          ],
          "table": [
           {
            "cells": {
             "fill": {
              "color": "#EBF0F8"
             },
             "line": {
              "color": "white"
             }
            },
            "header": {
             "fill": {
              "color": "#C8D4E3"
             },
             "line": {
              "color": "white"
             }
            },
            "type": "table"
           }
          ]
         },
         "layout": {
          "annotationdefaults": {
           "arrowcolor": "#2a3f5f",
           "arrowhead": 0,
           "arrowwidth": 1
          },
          "autotypenumbers": "strict",
          "coloraxis": {
           "colorbar": {
            "outlinewidth": 0,
            "ticks": ""
           }
          },
          "colorscale": {
           "diverging": [
            [
             0,
             "#8e0152"
            ],
            [
             0.1,
             "#c51b7d"
            ],
            [
             0.2,
             "#de77ae"
            ],
            [
             0.3,
             "#f1b6da"
            ],
            [
             0.4,
             "#fde0ef"
            ],
            [
             0.5,
             "#f7f7f7"
            ],
            [
             0.6,
             "#e6f5d0"
            ],
            [
             0.7,
             "#b8e186"
            ],
            [
             0.8,
             "#7fbc41"
            ],
            [
             0.9,
             "#4d9221"
            ],
            [
             1,
             "#276419"
            ]
           ],
           "sequential": [
            [
             0,
             "#0d0887"
            ],
            [
             0.1111111111111111,
             "#46039f"
            ],
            [
             0.2222222222222222,
             "#7201a8"
            ],
            [
             0.3333333333333333,
             "#9c179e"
            ],
            [
             0.4444444444444444,
             "#bd3786"
            ],
            [
             0.5555555555555556,
             "#d8576b"
            ],
            [
             0.6666666666666666,
             "#ed7953"
            ],
            [
             0.7777777777777778,
             "#fb9f3a"
            ],
            [
             0.8888888888888888,
             "#fdca26"
            ],
            [
             1,
             "#f0f921"
            ]
           ],
           "sequentialminus": [
            [
             0,
             "#0d0887"
            ],
            [
             0.1111111111111111,
             "#46039f"
            ],
            [
             0.2222222222222222,
             "#7201a8"
            ],
            [
             0.3333333333333333,
             "#9c179e"
            ],
            [
             0.4444444444444444,
             "#bd3786"
            ],
            [
             0.5555555555555556,
             "#d8576b"
            ],
            [
             0.6666666666666666,
             "#ed7953"
            ],
            [
             0.7777777777777778,
             "#fb9f3a"
            ],
            [
             0.8888888888888888,
             "#fdca26"
            ],
            [
             1,
             "#f0f921"
            ]
           ]
          },
          "colorway": [
           "#636efa",
           "#EF553B",
           "#00cc96",
           "#ab63fa",
           "#FFA15A",
           "#19d3f3",
           "#FF6692",
           "#B6E880",
           "#FF97FF",
           "#FECB52"
          ],
          "font": {
           "color": "#2a3f5f"
          },
          "geo": {
           "bgcolor": "white",
           "lakecolor": "white",
           "landcolor": "#E5ECF6",
           "showlakes": true,
           "showland": true,
           "subunitcolor": "white"
          },
          "hoverlabel": {
           "align": "left"
          },
          "hovermode": "closest",
          "mapbox": {
           "style": "light"
          },
          "paper_bgcolor": "white",
          "plot_bgcolor": "#E5ECF6",
          "polar": {
           "angularaxis": {
            "gridcolor": "white",
            "linecolor": "white",
            "ticks": ""
           },
           "bgcolor": "#E5ECF6",
           "radialaxis": {
            "gridcolor": "white",
            "linecolor": "white",
            "ticks": ""
           }
          },
          "scene": {
           "xaxis": {
            "backgroundcolor": "#E5ECF6",
            "gridcolor": "white",
            "gridwidth": 2,
            "linecolor": "white",
            "showbackground": true,
            "ticks": "",
            "zerolinecolor": "white"
           },
           "yaxis": {
            "backgroundcolor": "#E5ECF6",
            "gridcolor": "white",
            "gridwidth": 2,
            "linecolor": "white",
            "showbackground": true,
            "ticks": "",
            "zerolinecolor": "white"
           },
           "zaxis": {
            "backgroundcolor": "#E5ECF6",
            "gridcolor": "white",
            "gridwidth": 2,
            "linecolor": "white",
            "showbackground": true,
            "ticks": "",
            "zerolinecolor": "white"
           }
          },
          "shapedefaults": {
           "line": {
            "color": "#2a3f5f"
           }
          },
          "ternary": {
           "aaxis": {
            "gridcolor": "white",
            "linecolor": "white",
            "ticks": ""
           },
           "baxis": {
            "gridcolor": "white",
            "linecolor": "white",
            "ticks": ""
           },
           "bgcolor": "#E5ECF6",
           "caxis": {
            "gridcolor": "white",
            "linecolor": "white",
            "ticks": ""
           }
          },
          "title": {
           "x": 0.05
          },
          "xaxis": {
           "automargin": true,
           "gridcolor": "white",
           "linecolor": "white",
           "ticks": "",
           "title": {
            "standoff": 15
           },
           "zerolinecolor": "white",
           "zerolinewidth": 2
          },
          "yaxis": {
           "automargin": true,
           "gridcolor": "white",
           "linecolor": "white",
           "ticks": "",
           "title": {
            "standoff": 15
           },
           "zerolinecolor": "white",
           "zerolinewidth": 2
          }
         }
        },
        "title": {
         "font": {
          "color": "#4D5663"
         }
        },
        "xaxis": {
         "gridcolor": "#E1E5ED",
         "showgrid": true,
         "tickfont": {
          "color": "#4D5663"
         },
         "title": {
          "font": {
           "color": "#4D5663"
          },
          "text": ""
         },
         "zerolinecolor": "#E1E5ED"
        },
        "yaxis": {
         "gridcolor": "#E1E5ED",
         "showgrid": true,
         "tickfont": {
          "color": "#4D5663"
         },
         "title": {
          "font": {
           "color": "#4D5663"
          },
          "text": ""
         },
         "zerolinecolor": "#E1E5ED"
        }
       }
      },
      "text/html": [
       "<div>                            <div id=\"64285cbe-bb79-479b-af12-02537fbdb025\" class=\"plotly-graph-div\" style=\"height:525px; width:100%;\"></div>            <script type=\"text/javascript\">                require([\"plotly\"], function(Plotly) {                    window.PLOTLYENV=window.PLOTLYENV || {};\n",
       "                    window.PLOTLYENV.BASE_URL='https://plot.ly';                                    if (document.getElementById(\"64285cbe-bb79-479b-af12-02537fbdb025\")) {                    Plotly.newPlot(                        \"64285cbe-bb79-479b-af12-02537fbdb025\",                        [{\"marker\":{\"color\":\"rgba(255, 153, 51, 0.6)\",\"line\":{\"color\":\"rgba(255, 153, 51, 1.0)\",\"width\":1}},\"name\":\"Values\",\"orientation\":\"v\",\"text\":\"\",\"x\":[\"A\",\"B\",\"C\"],\"y\":[32,43,50],\"type\":\"bar\"}],                        {\"legend\":{\"bgcolor\":\"#F5F6F9\",\"font\":{\"color\":\"#4D5663\"}},\"paper_bgcolor\":\"#F5F6F9\",\"plot_bgcolor\":\"#F5F6F9\",\"template\":{\"data\":{\"barpolar\":[{\"marker\":{\"line\":{\"color\":\"#E5ECF6\",\"width\":0.5},\"pattern\":{\"fillmode\":\"overlay\",\"size\":10,\"solidity\":0.2}},\"type\":\"barpolar\"}],\"bar\":[{\"error_x\":{\"color\":\"#2a3f5f\"},\"error_y\":{\"color\":\"#2a3f5f\"},\"marker\":{\"line\":{\"color\":\"#E5ECF6\",\"width\":0.5},\"pattern\":{\"fillmode\":\"overlay\",\"size\":10,\"solidity\":0.2}},\"type\":\"bar\"}],\"carpet\":[{\"aaxis\":{\"endlinecolor\":\"#2a3f5f\",\"gridcolor\":\"white\",\"linecolor\":\"white\",\"minorgridcolor\":\"white\",\"startlinecolor\":\"#2a3f5f\"},\"baxis\":{\"endlinecolor\":\"#2a3f5f\",\"gridcolor\":\"white\",\"linecolor\":\"white\",\"minorgridcolor\":\"white\",\"startlinecolor\":\"#2a3f5f\"},\"type\":\"carpet\"}],\"choropleth\":[{\"colorbar\":{\"outlinewidth\":0,\"ticks\":\"\"},\"type\":\"choropleth\"}],\"contourcarpet\":[{\"colorbar\":{\"outlinewidth\":0,\"ticks\":\"\"},\"type\":\"contourcarpet\"}],\"contour\":[{\"colorbar\":{\"outlinewidth\":0,\"ticks\":\"\"},\"colorscale\":[[0.0,\"#0d0887\"],[0.1111111111111111,\"#46039f\"],[0.2222222222222222,\"#7201a8\"],[0.3333333333333333,\"#9c179e\"],[0.4444444444444444,\"#bd3786\"],[0.5555555555555556,\"#d8576b\"],[0.6666666666666666,\"#ed7953\"],[0.7777777777777778,\"#fb9f3a\"],[0.8888888888888888,\"#fdca26\"],[1.0,\"#f0f921\"]],\"type\":\"contour\"}],\"heatmapgl\":[{\"colorbar\":{\"outlinewidth\":0,\"ticks\":\"\"},\"colorscale\":[[0.0,\"#0d0887\"],[0.1111111111111111,\"#46039f\"],[0.2222222222222222,\"#7201a8\"],[0.3333333333333333,\"#9c179e\"],[0.4444444444444444,\"#bd3786\"],[0.5555555555555556,\"#d8576b\"],[0.6666666666666666,\"#ed7953\"],[0.7777777777777778,\"#fb9f3a\"],[0.8888888888888888,\"#fdca26\"],[1.0,\"#f0f921\"]],\"type\":\"heatmapgl\"}],\"heatmap\":[{\"colorbar\":{\"outlinewidth\":0,\"ticks\":\"\"},\"colorscale\":[[0.0,\"#0d0887\"],[0.1111111111111111,\"#46039f\"],[0.2222222222222222,\"#7201a8\"],[0.3333333333333333,\"#9c179e\"],[0.4444444444444444,\"#bd3786\"],[0.5555555555555556,\"#d8576b\"],[0.6666666666666666,\"#ed7953\"],[0.7777777777777778,\"#fb9f3a\"],[0.8888888888888888,\"#fdca26\"],[1.0,\"#f0f921\"]],\"type\":\"heatmap\"}],\"histogram2dcontour\":[{\"colorbar\":{\"outlinewidth\":0,\"ticks\":\"\"},\"colorscale\":[[0.0,\"#0d0887\"],[0.1111111111111111,\"#46039f\"],[0.2222222222222222,\"#7201a8\"],[0.3333333333333333,\"#9c179e\"],[0.4444444444444444,\"#bd3786\"],[0.5555555555555556,\"#d8576b\"],[0.6666666666666666,\"#ed7953\"],[0.7777777777777778,\"#fb9f3a\"],[0.8888888888888888,\"#fdca26\"],[1.0,\"#f0f921\"]],\"type\":\"histogram2dcontour\"}],\"histogram2d\":[{\"colorbar\":{\"outlinewidth\":0,\"ticks\":\"\"},\"colorscale\":[[0.0,\"#0d0887\"],[0.1111111111111111,\"#46039f\"],[0.2222222222222222,\"#7201a8\"],[0.3333333333333333,\"#9c179e\"],[0.4444444444444444,\"#bd3786\"],[0.5555555555555556,\"#d8576b\"],[0.6666666666666666,\"#ed7953\"],[0.7777777777777778,\"#fb9f3a\"],[0.8888888888888888,\"#fdca26\"],[1.0,\"#f0f921\"]],\"type\":\"histogram2d\"}],\"histogram\":[{\"marker\":{\"pattern\":{\"fillmode\":\"overlay\",\"size\":10,\"solidity\":0.2}},\"type\":\"histogram\"}],\"mesh3d\":[{\"colorbar\":{\"outlinewidth\":0,\"ticks\":\"\"},\"type\":\"mesh3d\"}],\"parcoords\":[{\"line\":{\"colorbar\":{\"outlinewidth\":0,\"ticks\":\"\"}},\"type\":\"parcoords\"}],\"pie\":[{\"automargin\":true,\"type\":\"pie\"}],\"scatter3d\":[{\"line\":{\"colorbar\":{\"outlinewidth\":0,\"ticks\":\"\"}},\"marker\":{\"colorbar\":{\"outlinewidth\":0,\"ticks\":\"\"}},\"type\":\"scatter3d\"}],\"scattercarpet\":[{\"marker\":{\"colorbar\":{\"outlinewidth\":0,\"ticks\":\"\"}},\"type\":\"scattercarpet\"}],\"scattergeo\":[{\"marker\":{\"colorbar\":{\"outlinewidth\":0,\"ticks\":\"\"}},\"type\":\"scattergeo\"}],\"scattergl\":[{\"marker\":{\"colorbar\":{\"outlinewidth\":0,\"ticks\":\"\"}},\"type\":\"scattergl\"}],\"scattermapbox\":[{\"marker\":{\"colorbar\":{\"outlinewidth\":0,\"ticks\":\"\"}},\"type\":\"scattermapbox\"}],\"scatterpolargl\":[{\"marker\":{\"colorbar\":{\"outlinewidth\":0,\"ticks\":\"\"}},\"type\":\"scatterpolargl\"}],\"scatterpolar\":[{\"marker\":{\"colorbar\":{\"outlinewidth\":0,\"ticks\":\"\"}},\"type\":\"scatterpolar\"}],\"scatter\":[{\"marker\":{\"colorbar\":{\"outlinewidth\":0,\"ticks\":\"\"}},\"type\":\"scatter\"}],\"scatterternary\":[{\"marker\":{\"colorbar\":{\"outlinewidth\":0,\"ticks\":\"\"}},\"type\":\"scatterternary\"}],\"surface\":[{\"colorbar\":{\"outlinewidth\":0,\"ticks\":\"\"},\"colorscale\":[[0.0,\"#0d0887\"],[0.1111111111111111,\"#46039f\"],[0.2222222222222222,\"#7201a8\"],[0.3333333333333333,\"#9c179e\"],[0.4444444444444444,\"#bd3786\"],[0.5555555555555556,\"#d8576b\"],[0.6666666666666666,\"#ed7953\"],[0.7777777777777778,\"#fb9f3a\"],[0.8888888888888888,\"#fdca26\"],[1.0,\"#f0f921\"]],\"type\":\"surface\"}],\"table\":[{\"cells\":{\"fill\":{\"color\":\"#EBF0F8\"},\"line\":{\"color\":\"white\"}},\"header\":{\"fill\":{\"color\":\"#C8D4E3\"},\"line\":{\"color\":\"white\"}},\"type\":\"table\"}]},\"layout\":{\"annotationdefaults\":{\"arrowcolor\":\"#2a3f5f\",\"arrowhead\":0,\"arrowwidth\":1},\"autotypenumbers\":\"strict\",\"coloraxis\":{\"colorbar\":{\"outlinewidth\":0,\"ticks\":\"\"}},\"colorscale\":{\"diverging\":[[0,\"#8e0152\"],[0.1,\"#c51b7d\"],[0.2,\"#de77ae\"],[0.3,\"#f1b6da\"],[0.4,\"#fde0ef\"],[0.5,\"#f7f7f7\"],[0.6,\"#e6f5d0\"],[0.7,\"#b8e186\"],[0.8,\"#7fbc41\"],[0.9,\"#4d9221\"],[1,\"#276419\"]],\"sequential\":[[0.0,\"#0d0887\"],[0.1111111111111111,\"#46039f\"],[0.2222222222222222,\"#7201a8\"],[0.3333333333333333,\"#9c179e\"],[0.4444444444444444,\"#bd3786\"],[0.5555555555555556,\"#d8576b\"],[0.6666666666666666,\"#ed7953\"],[0.7777777777777778,\"#fb9f3a\"],[0.8888888888888888,\"#fdca26\"],[1.0,\"#f0f921\"]],\"sequentialminus\":[[0.0,\"#0d0887\"],[0.1111111111111111,\"#46039f\"],[0.2222222222222222,\"#7201a8\"],[0.3333333333333333,\"#9c179e\"],[0.4444444444444444,\"#bd3786\"],[0.5555555555555556,\"#d8576b\"],[0.6666666666666666,\"#ed7953\"],[0.7777777777777778,\"#fb9f3a\"],[0.8888888888888888,\"#fdca26\"],[1.0,\"#f0f921\"]]},\"colorway\":[\"#636efa\",\"#EF553B\",\"#00cc96\",\"#ab63fa\",\"#FFA15A\",\"#19d3f3\",\"#FF6692\",\"#B6E880\",\"#FF97FF\",\"#FECB52\"],\"font\":{\"color\":\"#2a3f5f\"},\"geo\":{\"bgcolor\":\"white\",\"lakecolor\":\"white\",\"landcolor\":\"#E5ECF6\",\"showlakes\":true,\"showland\":true,\"subunitcolor\":\"white\"},\"hoverlabel\":{\"align\":\"left\"},\"hovermode\":\"closest\",\"mapbox\":{\"style\":\"light\"},\"paper_bgcolor\":\"white\",\"plot_bgcolor\":\"#E5ECF6\",\"polar\":{\"angularaxis\":{\"gridcolor\":\"white\",\"linecolor\":\"white\",\"ticks\":\"\"},\"bgcolor\":\"#E5ECF6\",\"radialaxis\":{\"gridcolor\":\"white\",\"linecolor\":\"white\",\"ticks\":\"\"}},\"scene\":{\"xaxis\":{\"backgroundcolor\":\"#E5ECF6\",\"gridcolor\":\"white\",\"gridwidth\":2,\"linecolor\":\"white\",\"showbackground\":true,\"ticks\":\"\",\"zerolinecolor\":\"white\"},\"yaxis\":{\"backgroundcolor\":\"#E5ECF6\",\"gridcolor\":\"white\",\"gridwidth\":2,\"linecolor\":\"white\",\"showbackground\":true,\"ticks\":\"\",\"zerolinecolor\":\"white\"},\"zaxis\":{\"backgroundcolor\":\"#E5ECF6\",\"gridcolor\":\"white\",\"gridwidth\":2,\"linecolor\":\"white\",\"showbackground\":true,\"ticks\":\"\",\"zerolinecolor\":\"white\"}},\"shapedefaults\":{\"line\":{\"color\":\"#2a3f5f\"}},\"ternary\":{\"aaxis\":{\"gridcolor\":\"white\",\"linecolor\":\"white\",\"ticks\":\"\"},\"baxis\":{\"gridcolor\":\"white\",\"linecolor\":\"white\",\"ticks\":\"\"},\"bgcolor\":\"#E5ECF6\",\"caxis\":{\"gridcolor\":\"white\",\"linecolor\":\"white\",\"ticks\":\"\"}},\"title\":{\"x\":0.05},\"xaxis\":{\"automargin\":true,\"gridcolor\":\"white\",\"linecolor\":\"white\",\"ticks\":\"\",\"title\":{\"standoff\":15},\"zerolinecolor\":\"white\",\"zerolinewidth\":2},\"yaxis\":{\"automargin\":true,\"gridcolor\":\"white\",\"linecolor\":\"white\",\"ticks\":\"\",\"title\":{\"standoff\":15},\"zerolinecolor\":\"white\",\"zerolinewidth\":2}}},\"title\":{\"font\":{\"color\":\"#4D5663\"}},\"xaxis\":{\"gridcolor\":\"#E1E5ED\",\"showgrid\":true,\"tickfont\":{\"color\":\"#4D5663\"},\"title\":{\"font\":{\"color\":\"#4D5663\"},\"text\":\"\"},\"zerolinecolor\":\"#E1E5ED\"},\"yaxis\":{\"gridcolor\":\"#E1E5ED\",\"showgrid\":true,\"tickfont\":{\"color\":\"#4D5663\"},\"title\":{\"font\":{\"color\":\"#4D5663\"},\"text\":\"\"},\"zerolinecolor\":\"#E1E5ED\"}},                        {\"showLink\": true, \"linkText\": \"Export to plot.ly\", \"plotlyServerURL\": \"https://plot.ly\", \"responsive\": true}                    ).then(function(){\n",
       "                            \n",
       "var gd = document.getElementById('64285cbe-bb79-479b-af12-02537fbdb025');\n",
       "var x = new MutationObserver(function (mutations, observer) {{\n",
       "        var display = window.getComputedStyle(gd).display;\n",
       "        if (!display || display === 'none') {{\n",
       "            console.log([gd, 'removed!']);\n",
       "            Plotly.purge(gd);\n",
       "            observer.disconnect();\n",
       "        }}\n",
       "}});\n",
       "\n",
       "// Listen for the removal of the full notebook cells\n",
       "var notebookContainer = gd.closest('#notebook-container');\n",
       "if (notebookContainer) {{\n",
       "    x.observe(notebookContainer, {childList: true});\n",
       "}}\n",
       "\n",
       "// Listen for the clearing of the current output cell\n",
       "var outputEl = gd.closest('.output');\n",
       "if (outputEl) {{\n",
       "    x.observe(outputEl, {childList: true});\n",
       "}}\n",
       "\n",
       "                        })                };                });            </script>        </div>"
      ]
     },
     "metadata": {},
     "output_type": "display_data"
    }
   ],
   "source": [
    "df2.iplot(kind='bar',x='Category',y='Values')"
   ]
  },
  {
   "cell_type": "code",
   "execution_count": 12,
   "metadata": {},
   "outputs": [
    {
     "data": {
      "application/vnd.plotly.v1+json": {
       "config": {
        "linkText": "Export to plot.ly",
        "plotlyServerURL": "https://plot.ly",
        "showLink": true
       },
       "data": [
        {
         "marker": {
          "color": "rgba(255, 153, 51, 0.6)",
          "line": {
           "color": "rgba(255, 153, 51, 1.0)",
           "width": 1
          }
         },
         "name": "None",
         "orientation": "v",
         "text": "",
         "type": "bar",
         "x": [
          "A",
          "B",
          "C",
          "D"
         ],
         "y": [
          100,
          100,
          100,
          100
         ]
        }
       ],
       "layout": {
        "legend": {
         "bgcolor": "#F5F6F9",
         "font": {
          "color": "#4D5663"
         }
        },
        "paper_bgcolor": "#F5F6F9",
        "plot_bgcolor": "#F5F6F9",
        "template": {
         "data": {
          "bar": [
           {
            "error_x": {
             "color": "#2a3f5f"
            },
            "error_y": {
             "color": "#2a3f5f"
            },
            "marker": {
             "line": {
              "color": "#E5ECF6",
              "width": 0.5
             },
             "pattern": {
              "fillmode": "overlay",
              "size": 10,
              "solidity": 0.2
             }
            },
            "type": "bar"
           }
          ],
          "barpolar": [
           {
            "marker": {
             "line": {
              "color": "#E5ECF6",
              "width": 0.5
             },
             "pattern": {
              "fillmode": "overlay",
              "size": 10,
              "solidity": 0.2
             }
            },
            "type": "barpolar"
           }
          ],
          "carpet": [
           {
            "aaxis": {
             "endlinecolor": "#2a3f5f",
             "gridcolor": "white",
             "linecolor": "white",
             "minorgridcolor": "white",
             "startlinecolor": "#2a3f5f"
            },
            "baxis": {
             "endlinecolor": "#2a3f5f",
             "gridcolor": "white",
             "linecolor": "white",
             "minorgridcolor": "white",
             "startlinecolor": "#2a3f5f"
            },
            "type": "carpet"
           }
          ],
          "choropleth": [
           {
            "colorbar": {
             "outlinewidth": 0,
             "ticks": ""
            },
            "type": "choropleth"
           }
          ],
          "contour": [
           {
            "colorbar": {
             "outlinewidth": 0,
             "ticks": ""
            },
            "colorscale": [
             [
              0,
              "#0d0887"
             ],
             [
              0.1111111111111111,
              "#46039f"
             ],
             [
              0.2222222222222222,
              "#7201a8"
             ],
             [
              0.3333333333333333,
              "#9c179e"
             ],
             [
              0.4444444444444444,
              "#bd3786"
             ],
             [
              0.5555555555555556,
              "#d8576b"
             ],
             [
              0.6666666666666666,
              "#ed7953"
             ],
             [
              0.7777777777777778,
              "#fb9f3a"
             ],
             [
              0.8888888888888888,
              "#fdca26"
             ],
             [
              1,
              "#f0f921"
             ]
            ],
            "type": "contour"
           }
          ],
          "contourcarpet": [
           {
            "colorbar": {
             "outlinewidth": 0,
             "ticks": ""
            },
            "type": "contourcarpet"
           }
          ],
          "heatmap": [
           {
            "colorbar": {
             "outlinewidth": 0,
             "ticks": ""
            },
            "colorscale": [
             [
              0,
              "#0d0887"
             ],
             [
              0.1111111111111111,
              "#46039f"
             ],
             [
              0.2222222222222222,
              "#7201a8"
             ],
             [
              0.3333333333333333,
              "#9c179e"
             ],
             [
              0.4444444444444444,
              "#bd3786"
             ],
             [
              0.5555555555555556,
              "#d8576b"
             ],
             [
              0.6666666666666666,
              "#ed7953"
             ],
             [
              0.7777777777777778,
              "#fb9f3a"
             ],
             [
              0.8888888888888888,
              "#fdca26"
             ],
             [
              1,
              "#f0f921"
             ]
            ],
            "type": "heatmap"
           }
          ],
          "heatmapgl": [
           {
            "colorbar": {
             "outlinewidth": 0,
             "ticks": ""
            },
            "colorscale": [
             [
              0,
              "#0d0887"
             ],
             [
              0.1111111111111111,
              "#46039f"
             ],
             [
              0.2222222222222222,
              "#7201a8"
             ],
             [
              0.3333333333333333,
              "#9c179e"
             ],
             [
              0.4444444444444444,
              "#bd3786"
             ],
             [
              0.5555555555555556,
              "#d8576b"
             ],
             [
              0.6666666666666666,
              "#ed7953"
             ],
             [
              0.7777777777777778,
              "#fb9f3a"
             ],
             [
              0.8888888888888888,
              "#fdca26"
             ],
             [
              1,
              "#f0f921"
             ]
            ],
            "type": "heatmapgl"
           }
          ],
          "histogram": [
           {
            "marker": {
             "pattern": {
              "fillmode": "overlay",
              "size": 10,
              "solidity": 0.2
             }
            },
            "type": "histogram"
           }
          ],
          "histogram2d": [
           {
            "colorbar": {
             "outlinewidth": 0,
             "ticks": ""
            },
            "colorscale": [
             [
              0,
              "#0d0887"
             ],
             [
              0.1111111111111111,
              "#46039f"
             ],
             [
              0.2222222222222222,
              "#7201a8"
             ],
             [
              0.3333333333333333,
              "#9c179e"
             ],
             [
              0.4444444444444444,
              "#bd3786"
             ],
             [
              0.5555555555555556,
              "#d8576b"
             ],
             [
              0.6666666666666666,
              "#ed7953"
             ],
             [
              0.7777777777777778,
              "#fb9f3a"
             ],
             [
              0.8888888888888888,
              "#fdca26"
             ],
             [
              1,
              "#f0f921"
             ]
            ],
            "type": "histogram2d"
           }
          ],
          "histogram2dcontour": [
           {
            "colorbar": {
             "outlinewidth": 0,
             "ticks": ""
            },
            "colorscale": [
             [
              0,
              "#0d0887"
             ],
             [
              0.1111111111111111,
              "#46039f"
             ],
             [
              0.2222222222222222,
              "#7201a8"
             ],
             [
              0.3333333333333333,
              "#9c179e"
             ],
             [
              0.4444444444444444,
              "#bd3786"
             ],
             [
              0.5555555555555556,
              "#d8576b"
             ],
             [
              0.6666666666666666,
              "#ed7953"
             ],
             [
              0.7777777777777778,
              "#fb9f3a"
             ],
             [
              0.8888888888888888,
              "#fdca26"
             ],
             [
              1,
              "#f0f921"
             ]
            ],
            "type": "histogram2dcontour"
           }
          ],
          "mesh3d": [
           {
            "colorbar": {
             "outlinewidth": 0,
             "ticks": ""
            },
            "type": "mesh3d"
           }
          ],
          "parcoords": [
           {
            "line": {
             "colorbar": {
              "outlinewidth": 0,
              "ticks": ""
             }
            },
            "type": "parcoords"
           }
          ],
          "pie": [
           {
            "automargin": true,
            "type": "pie"
           }
          ],
          "scatter": [
           {
            "marker": {
             "colorbar": {
              "outlinewidth": 0,
              "ticks": ""
             }
            },
            "type": "scatter"
           }
          ],
          "scatter3d": [
           {
            "line": {
             "colorbar": {
              "outlinewidth": 0,
              "ticks": ""
             }
            },
            "marker": {
             "colorbar": {
              "outlinewidth": 0,
              "ticks": ""
             }
            },
            "type": "scatter3d"
           }
          ],
          "scattercarpet": [
           {
            "marker": {
             "colorbar": {
              "outlinewidth": 0,
              "ticks": ""
             }
            },
            "type": "scattercarpet"
           }
          ],
          "scattergeo": [
           {
            "marker": {
             "colorbar": {
              "outlinewidth": 0,
              "ticks": ""
             }
            },
            "type": "scattergeo"
           }
          ],
          "scattergl": [
           {
            "marker": {
             "colorbar": {
              "outlinewidth": 0,
              "ticks": ""
             }
            },
            "type": "scattergl"
           }
          ],
          "scattermapbox": [
           {
            "marker": {
             "colorbar": {
              "outlinewidth": 0,
              "ticks": ""
             }
            },
            "type": "scattermapbox"
           }
          ],
          "scatterpolar": [
           {
            "marker": {
             "colorbar": {
              "outlinewidth": 0,
              "ticks": ""
             }
            },
            "type": "scatterpolar"
           }
          ],
          "scatterpolargl": [
           {
            "marker": {
             "colorbar": {
              "outlinewidth": 0,
              "ticks": ""
             }
            },
            "type": "scatterpolargl"
           }
          ],
          "scatterternary": [
           {
            "marker": {
             "colorbar": {
              "outlinewidth": 0,
              "ticks": ""
             }
            },
            "type": "scatterternary"
           }
          ],
          "surface": [
           {
            "colorbar": {
             "outlinewidth": 0,
             "ticks": ""
            },
            "colorscale": [
             [
              0,
              "#0d0887"
             ],
             [
              0.1111111111111111,
              "#46039f"
             ],
             [
              0.2222222222222222,
              "#7201a8"
             ],
             [
              0.3333333333333333,
              "#9c179e"
             ],
             [
              0.4444444444444444,
              "#bd3786"
             ],
             [
              0.5555555555555556,
              "#d8576b"
             ],
             [
              0.6666666666666666,
              "#ed7953"
             ],
             [
              0.7777777777777778,
              "#fb9f3a"
             ],
             [
              0.8888888888888888,
              "#fdca26"
             ],
             [
              1,
              "#f0f921"
             ]
            ],
            "type": "surface"
           }
          ],
          "table": [
           {
            "cells": {
             "fill": {
              "color": "#EBF0F8"
             },
             "line": {
              "color": "white"
             }
            },
            "header": {
             "fill": {
              "color": "#C8D4E3"
             },
             "line": {
              "color": "white"
             }
            },
            "type": "table"
           }
          ]
         },
         "layout": {
          "annotationdefaults": {
           "arrowcolor": "#2a3f5f",
           "arrowhead": 0,
           "arrowwidth": 1
          },
          "autotypenumbers": "strict",
          "coloraxis": {
           "colorbar": {
            "outlinewidth": 0,
            "ticks": ""
           }
          },
          "colorscale": {
           "diverging": [
            [
             0,
             "#8e0152"
            ],
            [
             0.1,
             "#c51b7d"
            ],
            [
             0.2,
             "#de77ae"
            ],
            [
             0.3,
             "#f1b6da"
            ],
            [
             0.4,
             "#fde0ef"
            ],
            [
             0.5,
             "#f7f7f7"
            ],
            [
             0.6,
             "#e6f5d0"
            ],
            [
             0.7,
             "#b8e186"
            ],
            [
             0.8,
             "#7fbc41"
            ],
            [
             0.9,
             "#4d9221"
            ],
            [
             1,
             "#276419"
            ]
           ],
           "sequential": [
            [
             0,
             "#0d0887"
            ],
            [
             0.1111111111111111,
             "#46039f"
            ],
            [
             0.2222222222222222,
             "#7201a8"
            ],
            [
             0.3333333333333333,
             "#9c179e"
            ],
            [
             0.4444444444444444,
             "#bd3786"
            ],
            [
             0.5555555555555556,
             "#d8576b"
            ],
            [
             0.6666666666666666,
             "#ed7953"
            ],
            [
             0.7777777777777778,
             "#fb9f3a"
            ],
            [
             0.8888888888888888,
             "#fdca26"
            ],
            [
             1,
             "#f0f921"
            ]
           ],
           "sequentialminus": [
            [
             0,
             "#0d0887"
            ],
            [
             0.1111111111111111,
             "#46039f"
            ],
            [
             0.2222222222222222,
             "#7201a8"
            ],
            [
             0.3333333333333333,
             "#9c179e"
            ],
            [
             0.4444444444444444,
             "#bd3786"
            ],
            [
             0.5555555555555556,
             "#d8576b"
            ],
            [
             0.6666666666666666,
             "#ed7953"
            ],
            [
             0.7777777777777778,
             "#fb9f3a"
            ],
            [
             0.8888888888888888,
             "#fdca26"
            ],
            [
             1,
             "#f0f921"
            ]
           ]
          },
          "colorway": [
           "#636efa",
           "#EF553B",
           "#00cc96",
           "#ab63fa",
           "#FFA15A",
           "#19d3f3",
           "#FF6692",
           "#B6E880",
           "#FF97FF",
           "#FECB52"
          ],
          "font": {
           "color": "#2a3f5f"
          },
          "geo": {
           "bgcolor": "white",
           "lakecolor": "white",
           "landcolor": "#E5ECF6",
           "showlakes": true,
           "showland": true,
           "subunitcolor": "white"
          },
          "hoverlabel": {
           "align": "left"
          },
          "hovermode": "closest",
          "mapbox": {
           "style": "light"
          },
          "paper_bgcolor": "white",
          "plot_bgcolor": "#E5ECF6",
          "polar": {
           "angularaxis": {
            "gridcolor": "white",
            "linecolor": "white",
            "ticks": ""
           },
           "bgcolor": "#E5ECF6",
           "radialaxis": {
            "gridcolor": "white",
            "linecolor": "white",
            "ticks": ""
           }
          },
          "scene": {
           "xaxis": {
            "backgroundcolor": "#E5ECF6",
            "gridcolor": "white",
            "gridwidth": 2,
            "linecolor": "white",
            "showbackground": true,
            "ticks": "",
            "zerolinecolor": "white"
           },
           "yaxis": {
            "backgroundcolor": "#E5ECF6",
            "gridcolor": "white",
            "gridwidth": 2,
            "linecolor": "white",
            "showbackground": true,
            "ticks": "",
            "zerolinecolor": "white"
           },
           "zaxis": {
            "backgroundcolor": "#E5ECF6",
            "gridcolor": "white",
            "gridwidth": 2,
            "linecolor": "white",
            "showbackground": true,
            "ticks": "",
            "zerolinecolor": "white"
           }
          },
          "shapedefaults": {
           "line": {
            "color": "#2a3f5f"
           }
          },
          "ternary": {
           "aaxis": {
            "gridcolor": "white",
            "linecolor": "white",
            "ticks": ""
           },
           "baxis": {
            "gridcolor": "white",
            "linecolor": "white",
            "ticks": ""
           },
           "bgcolor": "#E5ECF6",
           "caxis": {
            "gridcolor": "white",
            "linecolor": "white",
            "ticks": ""
           }
          },
          "title": {
           "x": 0.05
          },
          "xaxis": {
           "automargin": true,
           "gridcolor": "white",
           "linecolor": "white",
           "ticks": "",
           "title": {
            "standoff": 15
           },
           "zerolinecolor": "white",
           "zerolinewidth": 2
          },
          "yaxis": {
           "automargin": true,
           "gridcolor": "white",
           "linecolor": "white",
           "ticks": "",
           "title": {
            "standoff": 15
           },
           "zerolinecolor": "white",
           "zerolinewidth": 2
          }
         }
        },
        "title": {
         "font": {
          "color": "#4D5663"
         }
        },
        "xaxis": {
         "gridcolor": "#E1E5ED",
         "showgrid": true,
         "tickfont": {
          "color": "#4D5663"
         },
         "title": {
          "font": {
           "color": "#4D5663"
          },
          "text": ""
         },
         "zerolinecolor": "#E1E5ED"
        },
        "yaxis": {
         "gridcolor": "#E1E5ED",
         "showgrid": true,
         "tickfont": {
          "color": "#4D5663"
         },
         "title": {
          "font": {
           "color": "#4D5663"
          },
          "text": ""
         },
         "zerolinecolor": "#E1E5ED"
        }
       }
      },
      "text/html": [
       "<div>                            <div id=\"96901d39-92a3-4a1e-b13d-65344f221b4b\" class=\"plotly-graph-div\" style=\"height:525px; width:100%;\"></div>            <script type=\"text/javascript\">                require([\"plotly\"], function(Plotly) {                    window.PLOTLYENV=window.PLOTLYENV || {};\n",
       "                    window.PLOTLYENV.BASE_URL='https://plot.ly';                                    if (document.getElementById(\"96901d39-92a3-4a1e-b13d-65344f221b4b\")) {                    Plotly.newPlot(                        \"96901d39-92a3-4a1e-b13d-65344f221b4b\",                        [{\"marker\":{\"color\":\"rgba(255, 153, 51, 0.6)\",\"line\":{\"color\":\"rgba(255, 153, 51, 1.0)\",\"width\":1}},\"name\":\"None\",\"orientation\":\"v\",\"text\":\"\",\"x\":[\"A\",\"B\",\"C\",\"D\"],\"y\":[100,100,100,100],\"type\":\"bar\"}],                        {\"legend\":{\"bgcolor\":\"#F5F6F9\",\"font\":{\"color\":\"#4D5663\"}},\"paper_bgcolor\":\"#F5F6F9\",\"plot_bgcolor\":\"#F5F6F9\",\"template\":{\"data\":{\"barpolar\":[{\"marker\":{\"line\":{\"color\":\"#E5ECF6\",\"width\":0.5},\"pattern\":{\"fillmode\":\"overlay\",\"size\":10,\"solidity\":0.2}},\"type\":\"barpolar\"}],\"bar\":[{\"error_x\":{\"color\":\"#2a3f5f\"},\"error_y\":{\"color\":\"#2a3f5f\"},\"marker\":{\"line\":{\"color\":\"#E5ECF6\",\"width\":0.5},\"pattern\":{\"fillmode\":\"overlay\",\"size\":10,\"solidity\":0.2}},\"type\":\"bar\"}],\"carpet\":[{\"aaxis\":{\"endlinecolor\":\"#2a3f5f\",\"gridcolor\":\"white\",\"linecolor\":\"white\",\"minorgridcolor\":\"white\",\"startlinecolor\":\"#2a3f5f\"},\"baxis\":{\"endlinecolor\":\"#2a3f5f\",\"gridcolor\":\"white\",\"linecolor\":\"white\",\"minorgridcolor\":\"white\",\"startlinecolor\":\"#2a3f5f\"},\"type\":\"carpet\"}],\"choropleth\":[{\"colorbar\":{\"outlinewidth\":0,\"ticks\":\"\"},\"type\":\"choropleth\"}],\"contourcarpet\":[{\"colorbar\":{\"outlinewidth\":0,\"ticks\":\"\"},\"type\":\"contourcarpet\"}],\"contour\":[{\"colorbar\":{\"outlinewidth\":0,\"ticks\":\"\"},\"colorscale\":[[0.0,\"#0d0887\"],[0.1111111111111111,\"#46039f\"],[0.2222222222222222,\"#7201a8\"],[0.3333333333333333,\"#9c179e\"],[0.4444444444444444,\"#bd3786\"],[0.5555555555555556,\"#d8576b\"],[0.6666666666666666,\"#ed7953\"],[0.7777777777777778,\"#fb9f3a\"],[0.8888888888888888,\"#fdca26\"],[1.0,\"#f0f921\"]],\"type\":\"contour\"}],\"heatmapgl\":[{\"colorbar\":{\"outlinewidth\":0,\"ticks\":\"\"},\"colorscale\":[[0.0,\"#0d0887\"],[0.1111111111111111,\"#46039f\"],[0.2222222222222222,\"#7201a8\"],[0.3333333333333333,\"#9c179e\"],[0.4444444444444444,\"#bd3786\"],[0.5555555555555556,\"#d8576b\"],[0.6666666666666666,\"#ed7953\"],[0.7777777777777778,\"#fb9f3a\"],[0.8888888888888888,\"#fdca26\"],[1.0,\"#f0f921\"]],\"type\":\"heatmapgl\"}],\"heatmap\":[{\"colorbar\":{\"outlinewidth\":0,\"ticks\":\"\"},\"colorscale\":[[0.0,\"#0d0887\"],[0.1111111111111111,\"#46039f\"],[0.2222222222222222,\"#7201a8\"],[0.3333333333333333,\"#9c179e\"],[0.4444444444444444,\"#bd3786\"],[0.5555555555555556,\"#d8576b\"],[0.6666666666666666,\"#ed7953\"],[0.7777777777777778,\"#fb9f3a\"],[0.8888888888888888,\"#fdca26\"],[1.0,\"#f0f921\"]],\"type\":\"heatmap\"}],\"histogram2dcontour\":[{\"colorbar\":{\"outlinewidth\":0,\"ticks\":\"\"},\"colorscale\":[[0.0,\"#0d0887\"],[0.1111111111111111,\"#46039f\"],[0.2222222222222222,\"#7201a8\"],[0.3333333333333333,\"#9c179e\"],[0.4444444444444444,\"#bd3786\"],[0.5555555555555556,\"#d8576b\"],[0.6666666666666666,\"#ed7953\"],[0.7777777777777778,\"#fb9f3a\"],[0.8888888888888888,\"#fdca26\"],[1.0,\"#f0f921\"]],\"type\":\"histogram2dcontour\"}],\"histogram2d\":[{\"colorbar\":{\"outlinewidth\":0,\"ticks\":\"\"},\"colorscale\":[[0.0,\"#0d0887\"],[0.1111111111111111,\"#46039f\"],[0.2222222222222222,\"#7201a8\"],[0.3333333333333333,\"#9c179e\"],[0.4444444444444444,\"#bd3786\"],[0.5555555555555556,\"#d8576b\"],[0.6666666666666666,\"#ed7953\"],[0.7777777777777778,\"#fb9f3a\"],[0.8888888888888888,\"#fdca26\"],[1.0,\"#f0f921\"]],\"type\":\"histogram2d\"}],\"histogram\":[{\"marker\":{\"pattern\":{\"fillmode\":\"overlay\",\"size\":10,\"solidity\":0.2}},\"type\":\"histogram\"}],\"mesh3d\":[{\"colorbar\":{\"outlinewidth\":0,\"ticks\":\"\"},\"type\":\"mesh3d\"}],\"parcoords\":[{\"line\":{\"colorbar\":{\"outlinewidth\":0,\"ticks\":\"\"}},\"type\":\"parcoords\"}],\"pie\":[{\"automargin\":true,\"type\":\"pie\"}],\"scatter3d\":[{\"line\":{\"colorbar\":{\"outlinewidth\":0,\"ticks\":\"\"}},\"marker\":{\"colorbar\":{\"outlinewidth\":0,\"ticks\":\"\"}},\"type\":\"scatter3d\"}],\"scattercarpet\":[{\"marker\":{\"colorbar\":{\"outlinewidth\":0,\"ticks\":\"\"}},\"type\":\"scattercarpet\"}],\"scattergeo\":[{\"marker\":{\"colorbar\":{\"outlinewidth\":0,\"ticks\":\"\"}},\"type\":\"scattergeo\"}],\"scattergl\":[{\"marker\":{\"colorbar\":{\"outlinewidth\":0,\"ticks\":\"\"}},\"type\":\"scattergl\"}],\"scattermapbox\":[{\"marker\":{\"colorbar\":{\"outlinewidth\":0,\"ticks\":\"\"}},\"type\":\"scattermapbox\"}],\"scatterpolargl\":[{\"marker\":{\"colorbar\":{\"outlinewidth\":0,\"ticks\":\"\"}},\"type\":\"scatterpolargl\"}],\"scatterpolar\":[{\"marker\":{\"colorbar\":{\"outlinewidth\":0,\"ticks\":\"\"}},\"type\":\"scatterpolar\"}],\"scatter\":[{\"marker\":{\"colorbar\":{\"outlinewidth\":0,\"ticks\":\"\"}},\"type\":\"scatter\"}],\"scatterternary\":[{\"marker\":{\"colorbar\":{\"outlinewidth\":0,\"ticks\":\"\"}},\"type\":\"scatterternary\"}],\"surface\":[{\"colorbar\":{\"outlinewidth\":0,\"ticks\":\"\"},\"colorscale\":[[0.0,\"#0d0887\"],[0.1111111111111111,\"#46039f\"],[0.2222222222222222,\"#7201a8\"],[0.3333333333333333,\"#9c179e\"],[0.4444444444444444,\"#bd3786\"],[0.5555555555555556,\"#d8576b\"],[0.6666666666666666,\"#ed7953\"],[0.7777777777777778,\"#fb9f3a\"],[0.8888888888888888,\"#fdca26\"],[1.0,\"#f0f921\"]],\"type\":\"surface\"}],\"table\":[{\"cells\":{\"fill\":{\"color\":\"#EBF0F8\"},\"line\":{\"color\":\"white\"}},\"header\":{\"fill\":{\"color\":\"#C8D4E3\"},\"line\":{\"color\":\"white\"}},\"type\":\"table\"}]},\"layout\":{\"annotationdefaults\":{\"arrowcolor\":\"#2a3f5f\",\"arrowhead\":0,\"arrowwidth\":1},\"autotypenumbers\":\"strict\",\"coloraxis\":{\"colorbar\":{\"outlinewidth\":0,\"ticks\":\"\"}},\"colorscale\":{\"diverging\":[[0,\"#8e0152\"],[0.1,\"#c51b7d\"],[0.2,\"#de77ae\"],[0.3,\"#f1b6da\"],[0.4,\"#fde0ef\"],[0.5,\"#f7f7f7\"],[0.6,\"#e6f5d0\"],[0.7,\"#b8e186\"],[0.8,\"#7fbc41\"],[0.9,\"#4d9221\"],[1,\"#276419\"]],\"sequential\":[[0.0,\"#0d0887\"],[0.1111111111111111,\"#46039f\"],[0.2222222222222222,\"#7201a8\"],[0.3333333333333333,\"#9c179e\"],[0.4444444444444444,\"#bd3786\"],[0.5555555555555556,\"#d8576b\"],[0.6666666666666666,\"#ed7953\"],[0.7777777777777778,\"#fb9f3a\"],[0.8888888888888888,\"#fdca26\"],[1.0,\"#f0f921\"]],\"sequentialminus\":[[0.0,\"#0d0887\"],[0.1111111111111111,\"#46039f\"],[0.2222222222222222,\"#7201a8\"],[0.3333333333333333,\"#9c179e\"],[0.4444444444444444,\"#bd3786\"],[0.5555555555555556,\"#d8576b\"],[0.6666666666666666,\"#ed7953\"],[0.7777777777777778,\"#fb9f3a\"],[0.8888888888888888,\"#fdca26\"],[1.0,\"#f0f921\"]]},\"colorway\":[\"#636efa\",\"#EF553B\",\"#00cc96\",\"#ab63fa\",\"#FFA15A\",\"#19d3f3\",\"#FF6692\",\"#B6E880\",\"#FF97FF\",\"#FECB52\"],\"font\":{\"color\":\"#2a3f5f\"},\"geo\":{\"bgcolor\":\"white\",\"lakecolor\":\"white\",\"landcolor\":\"#E5ECF6\",\"showlakes\":true,\"showland\":true,\"subunitcolor\":\"white\"},\"hoverlabel\":{\"align\":\"left\"},\"hovermode\":\"closest\",\"mapbox\":{\"style\":\"light\"},\"paper_bgcolor\":\"white\",\"plot_bgcolor\":\"#E5ECF6\",\"polar\":{\"angularaxis\":{\"gridcolor\":\"white\",\"linecolor\":\"white\",\"ticks\":\"\"},\"bgcolor\":\"#E5ECF6\",\"radialaxis\":{\"gridcolor\":\"white\",\"linecolor\":\"white\",\"ticks\":\"\"}},\"scene\":{\"xaxis\":{\"backgroundcolor\":\"#E5ECF6\",\"gridcolor\":\"white\",\"gridwidth\":2,\"linecolor\":\"white\",\"showbackground\":true,\"ticks\":\"\",\"zerolinecolor\":\"white\"},\"yaxis\":{\"backgroundcolor\":\"#E5ECF6\",\"gridcolor\":\"white\",\"gridwidth\":2,\"linecolor\":\"white\",\"showbackground\":true,\"ticks\":\"\",\"zerolinecolor\":\"white\"},\"zaxis\":{\"backgroundcolor\":\"#E5ECF6\",\"gridcolor\":\"white\",\"gridwidth\":2,\"linecolor\":\"white\",\"showbackground\":true,\"ticks\":\"\",\"zerolinecolor\":\"white\"}},\"shapedefaults\":{\"line\":{\"color\":\"#2a3f5f\"}},\"ternary\":{\"aaxis\":{\"gridcolor\":\"white\",\"linecolor\":\"white\",\"ticks\":\"\"},\"baxis\":{\"gridcolor\":\"white\",\"linecolor\":\"white\",\"ticks\":\"\"},\"bgcolor\":\"#E5ECF6\",\"caxis\":{\"gridcolor\":\"white\",\"linecolor\":\"white\",\"ticks\":\"\"}},\"title\":{\"x\":0.05},\"xaxis\":{\"automargin\":true,\"gridcolor\":\"white\",\"linecolor\":\"white\",\"ticks\":\"\",\"title\":{\"standoff\":15},\"zerolinecolor\":\"white\",\"zerolinewidth\":2},\"yaxis\":{\"automargin\":true,\"gridcolor\":\"white\",\"linecolor\":\"white\",\"ticks\":\"\",\"title\":{\"standoff\":15},\"zerolinecolor\":\"white\",\"zerolinewidth\":2}}},\"title\":{\"font\":{\"color\":\"#4D5663\"}},\"xaxis\":{\"gridcolor\":\"#E1E5ED\",\"showgrid\":true,\"tickfont\":{\"color\":\"#4D5663\"},\"title\":{\"font\":{\"color\":\"#4D5663\"},\"text\":\"\"},\"zerolinecolor\":\"#E1E5ED\"},\"yaxis\":{\"gridcolor\":\"#E1E5ED\",\"showgrid\":true,\"tickfont\":{\"color\":\"#4D5663\"},\"title\":{\"font\":{\"color\":\"#4D5663\"},\"text\":\"\"},\"zerolinecolor\":\"#E1E5ED\"}},                        {\"showLink\": true, \"linkText\": \"Export to plot.ly\", \"plotlyServerURL\": \"https://plot.ly\", \"responsive\": true}                    ).then(function(){\n",
       "                            \n",
       "var gd = document.getElementById('96901d39-92a3-4a1e-b13d-65344f221b4b');\n",
       "var x = new MutationObserver(function (mutations, observer) {{\n",
       "        var display = window.getComputedStyle(gd).display;\n",
       "        if (!display || display === 'none') {{\n",
       "            console.log([gd, 'removed!']);\n",
       "            Plotly.purge(gd);\n",
       "            observer.disconnect();\n",
       "        }}\n",
       "}});\n",
       "\n",
       "// Listen for the removal of the full notebook cells\n",
       "var notebookContainer = gd.closest('#notebook-container');\n",
       "if (notebookContainer) {{\n",
       "    x.observe(notebookContainer, {childList: true});\n",
       "}}\n",
       "\n",
       "// Listen for the clearing of the current output cell\n",
       "var outputEl = gd.closest('.output');\n",
       "if (outputEl) {{\n",
       "    x.observe(outputEl, {childList: true});\n",
       "}}\n",
       "\n",
       "                        })                };                });            </script>        </div>"
      ]
     },
     "metadata": {},
     "output_type": "display_data"
    }
   ],
   "source": [
    "df.count().iplot(kind='bar')"
   ]
  },
  {
   "cell_type": "markdown",
   "metadata": {},
   "source": [
    "## Boxplots"
   ]
  },
  {
   "cell_type": "code",
   "execution_count": 13,
   "metadata": {},
   "outputs": [
    {
     "data": {
      "application/vnd.plotly.v1+json": {
       "config": {
        "linkText": "Export to plot.ly",
        "plotlyServerURL": "https://plot.ly",
        "showLink": true
       },
       "data": [
        {
         "boxpoints": false,
         "line": {
          "width": 1.3
         },
         "marker": {
          "color": "rgba(255, 153, 51, 1.0)"
         },
         "name": "A",
         "orientation": "v",
         "type": "box",
         "y": [
          1.8546943094246786,
          0.7484318595969548,
          -1.3003802265817697,
          0.5466013635649044,
          0.5936748444947731,
          -1.8998908810208484,
          0.33721413564963915,
          1.1337712628923053,
          1.359082325911419,
          1.0243456616090953,
          -0.7769188276254685,
          0.15627448332439178,
          0.02909909907259362,
          0.5340802561947197,
          0.44166099876698245,
          0.07418337277071425,
          -1.2166485828944438,
          0.4704216470315535,
          0.1776738729336818,
          -0.9082445699203281,
          -0.5882378507295679,
          1.2566415972493183,
          -0.6219653660070883,
          0.39494223876348156,
          1.4308659933450811,
          1.49581915347491,
          0.4076595706023893,
          -1.2939477605182126,
          0.973390369604027,
          0.840098155584022,
          -0.5185938843649213,
          0.10199556541041863,
          0.8500271871363656,
          1.1539670862850304,
          -1.0848994588674004,
          0.8384190457546357,
          0.6937565388763399,
          -1.410582449207463,
          0.0690709545571296,
          2.0081983789111573,
          -1.0046445131062767,
          0.7516523194583801,
          1.3873453206817357,
          0.0743343655411143,
          0.13912434845424487,
          -1.0530483619299962,
          -0.5065833576247132,
          1.0048844700796773,
          1.6869679168211584,
          -0.6326703784319785,
          -0.14584422183332776,
          -0.3012231557587274,
          0.9861559735709121,
          -1.3944268538824043,
          0.205266530140708,
          -0.3526912470632605,
          0.5139945168452866,
          0.6431761536884101,
          0.8533221153361462,
          0.3634162498544376,
          1.488558770362642,
          0.39118080162568675,
          -0.4064937772536102,
          -1.3424483605503834,
          -0.8484394801485337,
          0.442011011278428,
          0.5552676006967177,
          -1.1550992405702285,
          -0.045464650893156155,
          -0.22856117724941144,
          0.6310239049105584,
          1.443996432243972,
          -0.14437703793582427,
          -1.8093132042767839,
          -0.8965944258926464,
          -0.7955997958807984,
          -0.4820361239791199,
          0.5371266880897007,
          -0.23005501754629296,
          -0.24086175705188134,
          0.2530975143376481,
          -0.055343478317405104,
          -0.6591122798690139,
          1.2243412756761436,
          0.708139988592118,
          -0.11597112980702137,
          -0.8039079953833423,
          1.4002562252201896,
          0.8216116431913105,
          -0.8804732872490963,
          0.7570077363215513,
          -1.2470995107966565,
          -0.10568771334587965,
          0.4014953547386781,
          0.22971241053917285,
          -0.3461355642941567,
          -0.8004521108163732,
          1.0572143736336341,
          0.7315126139588002,
          1.0860112166901377
         ]
        },
        {
         "boxpoints": false,
         "line": {
          "width": 1.3
         },
         "marker": {
          "color": "rgba(55, 128, 191, 1.0)"
         },
         "name": "B",
         "orientation": "v",
         "type": "box",
         "y": [
          0.16782352183400587,
          0.624804262589385,
          0.20372352671812846,
          -1.0591108379188434,
          -1.1419991407057792,
          0.8822057456431932,
          -0.30702637099270114,
          -2.0571013104149785,
          0.14614864879810144,
          2.8239149412769016,
          -2.412974864103616,
          0.721557660743138,
          -1.3663833420655647,
          -0.4052192278722541,
          0.23495373968771768,
          -0.5455590082566745,
          -1.1389799602470527,
          -1.9385486162077734,
          0.8047110489285142,
          -0.2351182610922446,
          2.3322152150147737,
          0.8960012160713902,
          0.8218942950746454,
          -0.4482443216083756,
          0.19863172403022056,
          0.33279159985848933,
          -2.4384779622185095,
          1.193567194099597,
          0.06995951078451483,
          0.4072798445048463,
          0.8146048718814357,
          1.4685320619448519,
          1.241729574244285,
          -0.37101981322201927,
          0.19634382933661695,
          -1.2594514852704604,
          0.48904672630322243,
          0.31628022355690794,
          -1.815222945460142,
          0.5376001263469178,
          0.8928260980073432,
          0.12879019588005242,
          0.6852771649802917,
          0.9239529848193153,
          2.3823692123794133,
          1.8982715919903281,
          1.7308831412905878,
          1.1862688195828759,
          -1.848635962299935,
          -2.073596318572358,
          0.12343301517841951,
          -0.34208245724851927,
          0.001591497174670703,
          -0.7105462449113583,
          2.118870082413893,
          1.0323512051698571,
          -0.14904284624203912,
          -0.27697382952569033,
          -1.4030368172614824,
          0.8069435110865915,
          -0.48338082158192425,
          -0.16726241537412317,
          0.7750420639775881,
          0.8556546635018052,
          -0.5617163502227375,
          -1.1334010030114128,
          2.8353718723380155,
          1.1504533925555331,
          0.8432868744795676,
          0.9992348285333864,
          -1.3610373755414766,
          0.17205002153134172,
          0.3127027245372549,
          -2.533325046279571,
          1.0768939607725407,
          -0.568689730288132,
          1.1509542732856508,
          -0.3683126886930604,
          -1.8553771750534833,
          -0.767540898256376,
          -1.3840393947293608,
          0.3718860914407538,
          0.2847053629058795,
          -0.7893439575251157,
          -1.642169014129789,
          2.3274424411981007,
          1.2633183284786307,
          -0.2664500269888275,
          -1.1605565365059336,
          -0.36382358959654326,
          -0.5740259278524541,
          -0.9447372467663968,
          -1.4061398731208765,
          1.7657635056574208,
          0.042685599019628644,
          0.7527939395183922,
          0.1025381452497282,
          -1.0029596827640692,
          -1.3391133535210205,
          -2.431710577117348
         ]
        },
        {
         "boxpoints": false,
         "line": {
          "width": 1.3
         },
         "marker": {
          "color": "rgba(50, 171, 96, 1.0)"
         },
         "name": "C",
         "orientation": "v",
         "type": "box",
         "y": [
          -0.03244389602055529,
          -1.376064723215646,
          -0.8936449852951962,
          2.246183247170497,
          -0.2842455411433604,
          0.24977220339714862,
          -1.3092079752731844,
          -1.125820862033277,
          0.7881123101596321,
          -0.17629478631106424,
          0.24791816263662367,
          0.024129800700381513,
          -0.0731598915189741,
          0.011826906834777438,
          0.25766620763392967,
          -0.2760160116474995,
          -0.12422601615338257,
          0.6304374772358293,
          2.0906771171790104,
          -1.0682789441846812,
          0.35542075055937694,
          0.07116119586324078,
          -0.5785308586685893,
          1.592617960631492,
          0.04851991365648021,
          -1.068886282058525,
          0.36282714372099184,
          0.00509787537875922,
          0.45830896155744966,
          0.887170281719946,
          0.9978917974896991,
          1.022752347260949,
          0.556188463426931,
          -0.23755417410411084,
          -0.3310855715715259,
          0.2714160532359191,
          -1.4189791792176458,
          -0.00042666021864642376,
          -0.06049170225579462,
          0.01194277380680795,
          1.5831380346753257,
          0.035250206851351266,
          1.417575706148856,
          -2.2127674994658983,
          0.24454590517047958,
          0.3281634508912985,
          -0.7267207272217229,
          -0.44970481157645426,
          -0.35327261841451457,
          -0.16458726099049978,
          -0.4593882381974047,
          0.7023722469065665,
          -1.2623134023136406,
          0.314987762048421,
          -0.9901882642956437,
          2.706367199353684,
          -0.6596398069513764,
          -0.31575679367085446,
          0.2032154447404938,
          -0.4200196391830115,
          0.9221453778359124,
          1.0085534461366155,
          -0.6556210132152722,
          1.1414216930155912,
          -1.9488020947921916,
          0.7355350611389138,
          0.9509715976708066,
          0.2482948033835417,
          -0.29254111057074667,
          -0.3220057608509072,
          -2.315980644514428,
          0.3057844356233016,
          -0.2712245431049181,
          -1.0915701524938453,
          -2.1015619677219455,
          0.01920940725249679,
          -0.28048236908173735,
          -0.10100878456696832,
          -0.6835423968236275,
          1.3714640280125716,
          -0.10764423590559576,
          1.8174456157836572,
          0.02236206198865971,
          0.062061313687635136,
          -0.009785031937426381,
          -0.7838538964590656,
          1.6255932335409693,
          0.5003115963691971,
          -0.25889661335579556,
          -0.9668628171957215,
          -0.01756446850677946,
          0.01921596143610028,
          -0.9626825014469726,
          0.8186790237590893,
          -1.1037901893201325,
          -0.12499750671327468,
          -1.6067080396214912,
          0.8909711217238272,
          -0.5237514547912062,
          -1.5974457559062116
         ]
        },
        {
         "boxpoints": false,
         "line": {
          "width": 1.3
         },
         "marker": {
          "color": "rgba(128, 0, 128, 1.0)"
         },
         "name": "D",
         "orientation": "v",
         "type": "box",
         "y": [
          -1.1743782441565986,
          1.1782833648527276,
          1.5285790172040352,
          -0.2434144242919703,
          -0.4301588761425384,
          -0.7837164708704318,
          2.073423242544931,
          -0.2257065019732865,
          0.04025288020323026,
          -1.833822463665788,
          -0.2587243022625214,
          -0.6335293523645709,
          -1.5938225684918346,
          -1.9844992498676004,
          -2.2467059083481717,
          -1.1574783516368528,
          -1.4314297953207724,
          -0.5675189226657303,
          0.07328812335559368,
          0.7763500403084073,
          -0.04574480746821436,
          -0.9425064559799998,
          -0.8984776247702821,
          0.956115375095708,
          1.1249636326772186,
          0.18047759286331055,
          0.4834830977051666,
          1.1359849486831892,
          -1.23109749884796,
          -0.8350338429293566,
          -1.4041117937722885,
          -0.19222501951972754,
          0.4107617067354256,
          1.113296384171082,
          0.3542586508961774,
          0.04216726966998681,
          0.8337223455153439,
          0.8799374868623578,
          -0.30970768032124896,
          0.8135929649919327,
          -0.3474054726372615,
          1.434623693513677,
          1.2090274423416068,
          0.9776485795974024,
          -0.359336777779442,
          -0.7524142469475738,
          -1.0786195821151634,
          1.1441069081921416,
          -0.6438736200124546,
          -2.1811363529022243,
          2.749364643347722,
          -0.6376526405902072,
          0.4933127169085133,
          0.6407358994289105,
          1.9203355558496584,
          -0.5031870511468246,
          1.1902510739977927,
          -0.8522380402140213,
          -0.7994261211247916,
          -1.5676607716376543,
          0.5189353938974922,
          0.9418028876654798,
          -1.7933214038330763,
          -0.18300167329776737,
          -0.3623073647973699,
          1.7645851942714825,
          0.9158521128290925,
          -0.6610980358418276,
          0.5353690939854695,
          1.6614260596748263,
          -1.866332590645327,
          1.0251188630279735,
          -1.2434292901719175,
          1.3659799826491938,
          -0.02593510027533987,
          -0.6795213977682552,
          -1.2585533047693196,
          0.7800230311503399,
          0.1494552056184573,
          0.12657988727076194,
          0.13454202817400898,
          1.123746387394713,
          -0.5028693384267661,
          1.1632965799030452,
          -0.3649996949647845,
          -1.4981199619605614,
          -1.1455858537957884,
          -0.20965624480119005,
          -1.225845377033073,
          0.5358111916046665,
          1.7643937592782502,
          1.6013443242308194,
          1.4191392048939866,
          0.7218348489598841,
          -0.3219562479975362,
          0.10487503564293446,
          -0.23344503665794872,
          -0.08201562590525006,
          -0.10466154218617565,
          0.1053146185652273
         ]
        }
       ],
       "layout": {
        "legend": {
         "bgcolor": "#F5F6F9",
         "font": {
          "color": "#4D5663"
         }
        },
        "paper_bgcolor": "#F5F6F9",
        "plot_bgcolor": "#F5F6F9",
        "template": {
         "data": {
          "bar": [
           {
            "error_x": {
             "color": "#2a3f5f"
            },
            "error_y": {
             "color": "#2a3f5f"
            },
            "marker": {
             "line": {
              "color": "#E5ECF6",
              "width": 0.5
             },
             "pattern": {
              "fillmode": "overlay",
              "size": 10,
              "solidity": 0.2
             }
            },
            "type": "bar"
           }
          ],
          "barpolar": [
           {
            "marker": {
             "line": {
              "color": "#E5ECF6",
              "width": 0.5
             },
             "pattern": {
              "fillmode": "overlay",
              "size": 10,
              "solidity": 0.2
             }
            },
            "type": "barpolar"
           }
          ],
          "carpet": [
           {
            "aaxis": {
             "endlinecolor": "#2a3f5f",
             "gridcolor": "white",
             "linecolor": "white",
             "minorgridcolor": "white",
             "startlinecolor": "#2a3f5f"
            },
            "baxis": {
             "endlinecolor": "#2a3f5f",
             "gridcolor": "white",
             "linecolor": "white",
             "minorgridcolor": "white",
             "startlinecolor": "#2a3f5f"
            },
            "type": "carpet"
           }
          ],
          "choropleth": [
           {
            "colorbar": {
             "outlinewidth": 0,
             "ticks": ""
            },
            "type": "choropleth"
           }
          ],
          "contour": [
           {
            "colorbar": {
             "outlinewidth": 0,
             "ticks": ""
            },
            "colorscale": [
             [
              0,
              "#0d0887"
             ],
             [
              0.1111111111111111,
              "#46039f"
             ],
             [
              0.2222222222222222,
              "#7201a8"
             ],
             [
              0.3333333333333333,
              "#9c179e"
             ],
             [
              0.4444444444444444,
              "#bd3786"
             ],
             [
              0.5555555555555556,
              "#d8576b"
             ],
             [
              0.6666666666666666,
              "#ed7953"
             ],
             [
              0.7777777777777778,
              "#fb9f3a"
             ],
             [
              0.8888888888888888,
              "#fdca26"
             ],
             [
              1,
              "#f0f921"
             ]
            ],
            "type": "contour"
           }
          ],
          "contourcarpet": [
           {
            "colorbar": {
             "outlinewidth": 0,
             "ticks": ""
            },
            "type": "contourcarpet"
           }
          ],
          "heatmap": [
           {
            "colorbar": {
             "outlinewidth": 0,
             "ticks": ""
            },
            "colorscale": [
             [
              0,
              "#0d0887"
             ],
             [
              0.1111111111111111,
              "#46039f"
             ],
             [
              0.2222222222222222,
              "#7201a8"
             ],
             [
              0.3333333333333333,
              "#9c179e"
             ],
             [
              0.4444444444444444,
              "#bd3786"
             ],
             [
              0.5555555555555556,
              "#d8576b"
             ],
             [
              0.6666666666666666,
              "#ed7953"
             ],
             [
              0.7777777777777778,
              "#fb9f3a"
             ],
             [
              0.8888888888888888,
              "#fdca26"
             ],
             [
              1,
              "#f0f921"
             ]
            ],
            "type": "heatmap"
           }
          ],
          "heatmapgl": [
           {
            "colorbar": {
             "outlinewidth": 0,
             "ticks": ""
            },
            "colorscale": [
             [
              0,
              "#0d0887"
             ],
             [
              0.1111111111111111,
              "#46039f"
             ],
             [
              0.2222222222222222,
              "#7201a8"
             ],
             [
              0.3333333333333333,
              "#9c179e"
             ],
             [
              0.4444444444444444,
              "#bd3786"
             ],
             [
              0.5555555555555556,
              "#d8576b"
             ],
             [
              0.6666666666666666,
              "#ed7953"
             ],
             [
              0.7777777777777778,
              "#fb9f3a"
             ],
             [
              0.8888888888888888,
              "#fdca26"
             ],
             [
              1,
              "#f0f921"
             ]
            ],
            "type": "heatmapgl"
           }
          ],
          "histogram": [
           {
            "marker": {
             "pattern": {
              "fillmode": "overlay",
              "size": 10,
              "solidity": 0.2
             }
            },
            "type": "histogram"
           }
          ],
          "histogram2d": [
           {
            "colorbar": {
             "outlinewidth": 0,
             "ticks": ""
            },
            "colorscale": [
             [
              0,
              "#0d0887"
             ],
             [
              0.1111111111111111,
              "#46039f"
             ],
             [
              0.2222222222222222,
              "#7201a8"
             ],
             [
              0.3333333333333333,
              "#9c179e"
             ],
             [
              0.4444444444444444,
              "#bd3786"
             ],
             [
              0.5555555555555556,
              "#d8576b"
             ],
             [
              0.6666666666666666,
              "#ed7953"
             ],
             [
              0.7777777777777778,
              "#fb9f3a"
             ],
             [
              0.8888888888888888,
              "#fdca26"
             ],
             [
              1,
              "#f0f921"
             ]
            ],
            "type": "histogram2d"
           }
          ],
          "histogram2dcontour": [
           {
            "colorbar": {
             "outlinewidth": 0,
             "ticks": ""
            },
            "colorscale": [
             [
              0,
              "#0d0887"
             ],
             [
              0.1111111111111111,
              "#46039f"
             ],
             [
              0.2222222222222222,
              "#7201a8"
             ],
             [
              0.3333333333333333,
              "#9c179e"
             ],
             [
              0.4444444444444444,
              "#bd3786"
             ],
             [
              0.5555555555555556,
              "#d8576b"
             ],
             [
              0.6666666666666666,
              "#ed7953"
             ],
             [
              0.7777777777777778,
              "#fb9f3a"
             ],
             [
              0.8888888888888888,
              "#fdca26"
             ],
             [
              1,
              "#f0f921"
             ]
            ],
            "type": "histogram2dcontour"
           }
          ],
          "mesh3d": [
           {
            "colorbar": {
             "outlinewidth": 0,
             "ticks": ""
            },
            "type": "mesh3d"
           }
          ],
          "parcoords": [
           {
            "line": {
             "colorbar": {
              "outlinewidth": 0,
              "ticks": ""
             }
            },
            "type": "parcoords"
           }
          ],
          "pie": [
           {
            "automargin": true,
            "type": "pie"
           }
          ],
          "scatter": [
           {
            "marker": {
             "colorbar": {
              "outlinewidth": 0,
              "ticks": ""
             }
            },
            "type": "scatter"
           }
          ],
          "scatter3d": [
           {
            "line": {
             "colorbar": {
              "outlinewidth": 0,
              "ticks": ""
             }
            },
            "marker": {
             "colorbar": {
              "outlinewidth": 0,
              "ticks": ""
             }
            },
            "type": "scatter3d"
           }
          ],
          "scattercarpet": [
           {
            "marker": {
             "colorbar": {
              "outlinewidth": 0,
              "ticks": ""
             }
            },
            "type": "scattercarpet"
           }
          ],
          "scattergeo": [
           {
            "marker": {
             "colorbar": {
              "outlinewidth": 0,
              "ticks": ""
             }
            },
            "type": "scattergeo"
           }
          ],
          "scattergl": [
           {
            "marker": {
             "colorbar": {
              "outlinewidth": 0,
              "ticks": ""
             }
            },
            "type": "scattergl"
           }
          ],
          "scattermapbox": [
           {
            "marker": {
             "colorbar": {
              "outlinewidth": 0,
              "ticks": ""
             }
            },
            "type": "scattermapbox"
           }
          ],
          "scatterpolar": [
           {
            "marker": {
             "colorbar": {
              "outlinewidth": 0,
              "ticks": ""
             }
            },
            "type": "scatterpolar"
           }
          ],
          "scatterpolargl": [
           {
            "marker": {
             "colorbar": {
              "outlinewidth": 0,
              "ticks": ""
             }
            },
            "type": "scatterpolargl"
           }
          ],
          "scatterternary": [
           {
            "marker": {
             "colorbar": {
              "outlinewidth": 0,
              "ticks": ""
             }
            },
            "type": "scatterternary"
           }
          ],
          "surface": [
           {
            "colorbar": {
             "outlinewidth": 0,
             "ticks": ""
            },
            "colorscale": [
             [
              0,
              "#0d0887"
             ],
             [
              0.1111111111111111,
              "#46039f"
             ],
             [
              0.2222222222222222,
              "#7201a8"
             ],
             [
              0.3333333333333333,
              "#9c179e"
             ],
             [
              0.4444444444444444,
              "#bd3786"
             ],
             [
              0.5555555555555556,
              "#d8576b"
             ],
             [
              0.6666666666666666,
              "#ed7953"
             ],
             [
              0.7777777777777778,
              "#fb9f3a"
             ],
             [
              0.8888888888888888,
              "#fdca26"
             ],
             [
              1,
              "#f0f921"
             ]
            ],
            "type": "surface"
           }
          ],
          "table": [
           {
            "cells": {
             "fill": {
              "color": "#EBF0F8"
             },
             "line": {
              "color": "white"
             }
            },
            "header": {
             "fill": {
              "color": "#C8D4E3"
             },
             "line": {
              "color": "white"
             }
            },
            "type": "table"
           }
          ]
         },
         "layout": {
          "annotationdefaults": {
           "arrowcolor": "#2a3f5f",
           "arrowhead": 0,
           "arrowwidth": 1
          },
          "autotypenumbers": "strict",
          "coloraxis": {
           "colorbar": {
            "outlinewidth": 0,
            "ticks": ""
           }
          },
          "colorscale": {
           "diverging": [
            [
             0,
             "#8e0152"
            ],
            [
             0.1,
             "#c51b7d"
            ],
            [
             0.2,
             "#de77ae"
            ],
            [
             0.3,
             "#f1b6da"
            ],
            [
             0.4,
             "#fde0ef"
            ],
            [
             0.5,
             "#f7f7f7"
            ],
            [
             0.6,
             "#e6f5d0"
            ],
            [
             0.7,
             "#b8e186"
            ],
            [
             0.8,
             "#7fbc41"
            ],
            [
             0.9,
             "#4d9221"
            ],
            [
             1,
             "#276419"
            ]
           ],
           "sequential": [
            [
             0,
             "#0d0887"
            ],
            [
             0.1111111111111111,
             "#46039f"
            ],
            [
             0.2222222222222222,
             "#7201a8"
            ],
            [
             0.3333333333333333,
             "#9c179e"
            ],
            [
             0.4444444444444444,
             "#bd3786"
            ],
            [
             0.5555555555555556,
             "#d8576b"
            ],
            [
             0.6666666666666666,
             "#ed7953"
            ],
            [
             0.7777777777777778,
             "#fb9f3a"
            ],
            [
             0.8888888888888888,
             "#fdca26"
            ],
            [
             1,
             "#f0f921"
            ]
           ],
           "sequentialminus": [
            [
             0,
             "#0d0887"
            ],
            [
             0.1111111111111111,
             "#46039f"
            ],
            [
             0.2222222222222222,
             "#7201a8"
            ],
            [
             0.3333333333333333,
             "#9c179e"
            ],
            [
             0.4444444444444444,
             "#bd3786"
            ],
            [
             0.5555555555555556,
             "#d8576b"
            ],
            [
             0.6666666666666666,
             "#ed7953"
            ],
            [
             0.7777777777777778,
             "#fb9f3a"
            ],
            [
             0.8888888888888888,
             "#fdca26"
            ],
            [
             1,
             "#f0f921"
            ]
           ]
          },
          "colorway": [
           "#636efa",
           "#EF553B",
           "#00cc96",
           "#ab63fa",
           "#FFA15A",
           "#19d3f3",
           "#FF6692",
           "#B6E880",
           "#FF97FF",
           "#FECB52"
          ],
          "font": {
           "color": "#2a3f5f"
          },
          "geo": {
           "bgcolor": "white",
           "lakecolor": "white",
           "landcolor": "#E5ECF6",
           "showlakes": true,
           "showland": true,
           "subunitcolor": "white"
          },
          "hoverlabel": {
           "align": "left"
          },
          "hovermode": "closest",
          "mapbox": {
           "style": "light"
          },
          "paper_bgcolor": "white",
          "plot_bgcolor": "#E5ECF6",
          "polar": {
           "angularaxis": {
            "gridcolor": "white",
            "linecolor": "white",
            "ticks": ""
           },
           "bgcolor": "#E5ECF6",
           "radialaxis": {
            "gridcolor": "white",
            "linecolor": "white",
            "ticks": ""
           }
          },
          "scene": {
           "xaxis": {
            "backgroundcolor": "#E5ECF6",
            "gridcolor": "white",
            "gridwidth": 2,
            "linecolor": "white",
            "showbackground": true,
            "ticks": "",
            "zerolinecolor": "white"
           },
           "yaxis": {
            "backgroundcolor": "#E5ECF6",
            "gridcolor": "white",
            "gridwidth": 2,
            "linecolor": "white",
            "showbackground": true,
            "ticks": "",
            "zerolinecolor": "white"
           },
           "zaxis": {
            "backgroundcolor": "#E5ECF6",
            "gridcolor": "white",
            "gridwidth": 2,
            "linecolor": "white",
            "showbackground": true,
            "ticks": "",
            "zerolinecolor": "white"
           }
          },
          "shapedefaults": {
           "line": {
            "color": "#2a3f5f"
           }
          },
          "ternary": {
           "aaxis": {
            "gridcolor": "white",
            "linecolor": "white",
            "ticks": ""
           },
           "baxis": {
            "gridcolor": "white",
            "linecolor": "white",
            "ticks": ""
           },
           "bgcolor": "#E5ECF6",
           "caxis": {
            "gridcolor": "white",
            "linecolor": "white",
            "ticks": ""
           }
          },
          "title": {
           "x": 0.05
          },
          "xaxis": {
           "automargin": true,
           "gridcolor": "white",
           "linecolor": "white",
           "ticks": "",
           "title": {
            "standoff": 15
           },
           "zerolinecolor": "white",
           "zerolinewidth": 2
          },
          "yaxis": {
           "automargin": true,
           "gridcolor": "white",
           "linecolor": "white",
           "ticks": "",
           "title": {
            "standoff": 15
           },
           "zerolinecolor": "white",
           "zerolinewidth": 2
          }
         }
        },
        "title": {
         "font": {
          "color": "#4D5663"
         }
        },
        "xaxis": {
         "gridcolor": "#E1E5ED",
         "showgrid": true,
         "tickfont": {
          "color": "#4D5663"
         },
         "title": {
          "font": {
           "color": "#4D5663"
          },
          "text": ""
         },
         "zerolinecolor": "#E1E5ED"
        },
        "yaxis": {
         "gridcolor": "#E1E5ED",
         "showgrid": true,
         "tickfont": {
          "color": "#4D5663"
         },
         "title": {
          "font": {
           "color": "#4D5663"
          },
          "text": ""
         },
         "zerolinecolor": "#E1E5ED"
        }
       }
      },
      "text/html": [
       "<div>                            <div id=\"a42f43bd-bc61-411c-98f4-4dd092476620\" class=\"plotly-graph-div\" style=\"height:525px; width:100%;\"></div>            <script type=\"text/javascript\">                require([\"plotly\"], function(Plotly) {                    window.PLOTLYENV=window.PLOTLYENV || {};\n",
       "                    window.PLOTLYENV.BASE_URL='https://plot.ly';                                    if (document.getElementById(\"a42f43bd-bc61-411c-98f4-4dd092476620\")) {                    Plotly.newPlot(                        \"a42f43bd-bc61-411c-98f4-4dd092476620\",                        [{\"boxpoints\":false,\"line\":{\"width\":1.3},\"marker\":{\"color\":\"rgba(255, 153, 51, 1.0)\"},\"name\":\"A\",\"orientation\":\"v\",\"y\":[1.8546943094246786,0.7484318595969548,-1.3003802265817697,0.5466013635649044,0.5936748444947731,-1.8998908810208484,0.33721413564963915,1.1337712628923053,1.359082325911419,1.0243456616090953,-0.7769188276254685,0.15627448332439178,0.02909909907259362,0.5340802561947197,0.44166099876698245,0.07418337277071425,-1.2166485828944438,0.4704216470315535,0.1776738729336818,-0.9082445699203281,-0.5882378507295679,1.2566415972493183,-0.6219653660070883,0.39494223876348156,1.4308659933450811,1.49581915347491,0.4076595706023893,-1.2939477605182126,0.973390369604027,0.840098155584022,-0.5185938843649213,0.10199556541041863,0.8500271871363656,1.1539670862850304,-1.0848994588674004,0.8384190457546357,0.6937565388763399,-1.410582449207463,0.0690709545571296,2.0081983789111573,-1.0046445131062767,0.7516523194583801,1.3873453206817357,0.0743343655411143,0.13912434845424487,-1.0530483619299962,-0.5065833576247132,1.0048844700796773,1.6869679168211584,-0.6326703784319785,-0.14584422183332776,-0.3012231557587274,0.9861559735709121,-1.3944268538824043,0.205266530140708,-0.3526912470632605,0.5139945168452866,0.6431761536884101,0.8533221153361462,0.3634162498544376,1.488558770362642,0.39118080162568675,-0.4064937772536102,-1.3424483605503834,-0.8484394801485337,0.442011011278428,0.5552676006967177,-1.1550992405702285,-0.045464650893156155,-0.22856117724941144,0.6310239049105584,1.443996432243972,-0.14437703793582427,-1.8093132042767839,-0.8965944258926464,-0.7955997958807984,-0.4820361239791199,0.5371266880897007,-0.23005501754629296,-0.24086175705188134,0.2530975143376481,-0.055343478317405104,-0.6591122798690139,1.2243412756761436,0.708139988592118,-0.11597112980702137,-0.8039079953833423,1.4002562252201896,0.8216116431913105,-0.8804732872490963,0.7570077363215513,-1.2470995107966565,-0.10568771334587965,0.4014953547386781,0.22971241053917285,-0.3461355642941567,-0.8004521108163732,1.0572143736336341,0.7315126139588002,1.0860112166901377],\"type\":\"box\"},{\"boxpoints\":false,\"line\":{\"width\":1.3},\"marker\":{\"color\":\"rgba(55, 128, 191, 1.0)\"},\"name\":\"B\",\"orientation\":\"v\",\"y\":[0.16782352183400587,0.624804262589385,0.20372352671812846,-1.0591108379188434,-1.1419991407057792,0.8822057456431932,-0.30702637099270114,-2.0571013104149785,0.14614864879810144,2.8239149412769016,-2.412974864103616,0.721557660743138,-1.3663833420655647,-0.4052192278722541,0.23495373968771768,-0.5455590082566745,-1.1389799602470527,-1.9385486162077734,0.8047110489285142,-0.2351182610922446,2.3322152150147737,0.8960012160713902,0.8218942950746454,-0.4482443216083756,0.19863172403022056,0.33279159985848933,-2.4384779622185095,1.193567194099597,0.06995951078451483,0.4072798445048463,0.8146048718814357,1.4685320619448519,1.241729574244285,-0.37101981322201927,0.19634382933661695,-1.2594514852704604,0.48904672630322243,0.31628022355690794,-1.815222945460142,0.5376001263469178,0.8928260980073432,0.12879019588005242,0.6852771649802917,0.9239529848193153,2.3823692123794133,1.8982715919903281,1.7308831412905878,1.1862688195828759,-1.848635962299935,-2.073596318572358,0.12343301517841951,-0.34208245724851927,0.001591497174670703,-0.7105462449113583,2.118870082413893,1.0323512051698571,-0.14904284624203912,-0.27697382952569033,-1.4030368172614824,0.8069435110865915,-0.48338082158192425,-0.16726241537412317,0.7750420639775881,0.8556546635018052,-0.5617163502227375,-1.1334010030114128,2.8353718723380155,1.1504533925555331,0.8432868744795676,0.9992348285333864,-1.3610373755414766,0.17205002153134172,0.3127027245372549,-2.533325046279571,1.0768939607725407,-0.568689730288132,1.1509542732856508,-0.3683126886930604,-1.8553771750534833,-0.767540898256376,-1.3840393947293608,0.3718860914407538,0.2847053629058795,-0.7893439575251157,-1.642169014129789,2.3274424411981007,1.2633183284786307,-0.2664500269888275,-1.1605565365059336,-0.36382358959654326,-0.5740259278524541,-0.9447372467663968,-1.4061398731208765,1.7657635056574208,0.042685599019628644,0.7527939395183922,0.1025381452497282,-1.0029596827640692,-1.3391133535210205,-2.431710577117348],\"type\":\"box\"},{\"boxpoints\":false,\"line\":{\"width\":1.3},\"marker\":{\"color\":\"rgba(50, 171, 96, 1.0)\"},\"name\":\"C\",\"orientation\":\"v\",\"y\":[-0.03244389602055529,-1.376064723215646,-0.8936449852951962,2.246183247170497,-0.2842455411433604,0.24977220339714862,-1.3092079752731844,-1.125820862033277,0.7881123101596321,-0.17629478631106424,0.24791816263662367,0.024129800700381513,-0.0731598915189741,0.011826906834777438,0.25766620763392967,-0.2760160116474995,-0.12422601615338257,0.6304374772358293,2.0906771171790104,-1.0682789441846812,0.35542075055937694,0.07116119586324078,-0.5785308586685893,1.592617960631492,0.04851991365648021,-1.068886282058525,0.36282714372099184,0.00509787537875922,0.45830896155744966,0.887170281719946,0.9978917974896991,1.022752347260949,0.556188463426931,-0.23755417410411084,-0.3310855715715259,0.2714160532359191,-1.4189791792176458,-0.00042666021864642376,-0.06049170225579462,0.01194277380680795,1.5831380346753257,0.035250206851351266,1.417575706148856,-2.2127674994658983,0.24454590517047958,0.3281634508912985,-0.7267207272217229,-0.44970481157645426,-0.35327261841451457,-0.16458726099049978,-0.4593882381974047,0.7023722469065665,-1.2623134023136406,0.314987762048421,-0.9901882642956437,2.706367199353684,-0.6596398069513764,-0.31575679367085446,0.2032154447404938,-0.4200196391830115,0.9221453778359124,1.0085534461366155,-0.6556210132152722,1.1414216930155912,-1.9488020947921916,0.7355350611389138,0.9509715976708066,0.2482948033835417,-0.29254111057074667,-0.3220057608509072,-2.315980644514428,0.3057844356233016,-0.2712245431049181,-1.0915701524938453,-2.1015619677219455,0.01920940725249679,-0.28048236908173735,-0.10100878456696832,-0.6835423968236275,1.3714640280125716,-0.10764423590559576,1.8174456157836572,0.02236206198865971,0.062061313687635136,-0.009785031937426381,-0.7838538964590656,1.6255932335409693,0.5003115963691971,-0.25889661335579556,-0.9668628171957215,-0.01756446850677946,0.01921596143610028,-0.9626825014469726,0.8186790237590893,-1.1037901893201325,-0.12499750671327468,-1.6067080396214912,0.8909711217238272,-0.5237514547912062,-1.5974457559062116],\"type\":\"box\"},{\"boxpoints\":false,\"line\":{\"width\":1.3},\"marker\":{\"color\":\"rgba(128, 0, 128, 1.0)\"},\"name\":\"D\",\"orientation\":\"v\",\"y\":[-1.1743782441565986,1.1782833648527276,1.5285790172040352,-0.2434144242919703,-0.4301588761425384,-0.7837164708704318,2.073423242544931,-0.2257065019732865,0.04025288020323026,-1.833822463665788,-0.2587243022625214,-0.6335293523645709,-1.5938225684918346,-1.9844992498676004,-2.2467059083481717,-1.1574783516368528,-1.4314297953207724,-0.5675189226657303,0.07328812335559368,0.7763500403084073,-0.04574480746821436,-0.9425064559799998,-0.8984776247702821,0.956115375095708,1.1249636326772186,0.18047759286331055,0.4834830977051666,1.1359849486831892,-1.23109749884796,-0.8350338429293566,-1.4041117937722885,-0.19222501951972754,0.4107617067354256,1.113296384171082,0.3542586508961774,0.04216726966998681,0.8337223455153439,0.8799374868623578,-0.30970768032124896,0.8135929649919327,-0.3474054726372615,1.434623693513677,1.2090274423416068,0.9776485795974024,-0.359336777779442,-0.7524142469475738,-1.0786195821151634,1.1441069081921416,-0.6438736200124546,-2.1811363529022243,2.749364643347722,-0.6376526405902072,0.4933127169085133,0.6407358994289105,1.9203355558496584,-0.5031870511468246,1.1902510739977927,-0.8522380402140213,-0.7994261211247916,-1.5676607716376543,0.5189353938974922,0.9418028876654798,-1.7933214038330763,-0.18300167329776737,-0.3623073647973699,1.7645851942714825,0.9158521128290925,-0.6610980358418276,0.5353690939854695,1.6614260596748263,-1.866332590645327,1.0251188630279735,-1.2434292901719175,1.3659799826491938,-0.02593510027533987,-0.6795213977682552,-1.2585533047693196,0.7800230311503399,0.1494552056184573,0.12657988727076194,0.13454202817400898,1.123746387394713,-0.5028693384267661,1.1632965799030452,-0.3649996949647845,-1.4981199619605614,-1.1455858537957884,-0.20965624480119005,-1.225845377033073,0.5358111916046665,1.7643937592782502,1.6013443242308194,1.4191392048939866,0.7218348489598841,-0.3219562479975362,0.10487503564293446,-0.23344503665794872,-0.08201562590525006,-0.10466154218617565,0.1053146185652273],\"type\":\"box\"}],                        {\"legend\":{\"bgcolor\":\"#F5F6F9\",\"font\":{\"color\":\"#4D5663\"}},\"paper_bgcolor\":\"#F5F6F9\",\"plot_bgcolor\":\"#F5F6F9\",\"template\":{\"data\":{\"barpolar\":[{\"marker\":{\"line\":{\"color\":\"#E5ECF6\",\"width\":0.5},\"pattern\":{\"fillmode\":\"overlay\",\"size\":10,\"solidity\":0.2}},\"type\":\"barpolar\"}],\"bar\":[{\"error_x\":{\"color\":\"#2a3f5f\"},\"error_y\":{\"color\":\"#2a3f5f\"},\"marker\":{\"line\":{\"color\":\"#E5ECF6\",\"width\":0.5},\"pattern\":{\"fillmode\":\"overlay\",\"size\":10,\"solidity\":0.2}},\"type\":\"bar\"}],\"carpet\":[{\"aaxis\":{\"endlinecolor\":\"#2a3f5f\",\"gridcolor\":\"white\",\"linecolor\":\"white\",\"minorgridcolor\":\"white\",\"startlinecolor\":\"#2a3f5f\"},\"baxis\":{\"endlinecolor\":\"#2a3f5f\",\"gridcolor\":\"white\",\"linecolor\":\"white\",\"minorgridcolor\":\"white\",\"startlinecolor\":\"#2a3f5f\"},\"type\":\"carpet\"}],\"choropleth\":[{\"colorbar\":{\"outlinewidth\":0,\"ticks\":\"\"},\"type\":\"choropleth\"}],\"contourcarpet\":[{\"colorbar\":{\"outlinewidth\":0,\"ticks\":\"\"},\"type\":\"contourcarpet\"}],\"contour\":[{\"colorbar\":{\"outlinewidth\":0,\"ticks\":\"\"},\"colorscale\":[[0.0,\"#0d0887\"],[0.1111111111111111,\"#46039f\"],[0.2222222222222222,\"#7201a8\"],[0.3333333333333333,\"#9c179e\"],[0.4444444444444444,\"#bd3786\"],[0.5555555555555556,\"#d8576b\"],[0.6666666666666666,\"#ed7953\"],[0.7777777777777778,\"#fb9f3a\"],[0.8888888888888888,\"#fdca26\"],[1.0,\"#f0f921\"]],\"type\":\"contour\"}],\"heatmapgl\":[{\"colorbar\":{\"outlinewidth\":0,\"ticks\":\"\"},\"colorscale\":[[0.0,\"#0d0887\"],[0.1111111111111111,\"#46039f\"],[0.2222222222222222,\"#7201a8\"],[0.3333333333333333,\"#9c179e\"],[0.4444444444444444,\"#bd3786\"],[0.5555555555555556,\"#d8576b\"],[0.6666666666666666,\"#ed7953\"],[0.7777777777777778,\"#fb9f3a\"],[0.8888888888888888,\"#fdca26\"],[1.0,\"#f0f921\"]],\"type\":\"heatmapgl\"}],\"heatmap\":[{\"colorbar\":{\"outlinewidth\":0,\"ticks\":\"\"},\"colorscale\":[[0.0,\"#0d0887\"],[0.1111111111111111,\"#46039f\"],[0.2222222222222222,\"#7201a8\"],[0.3333333333333333,\"#9c179e\"],[0.4444444444444444,\"#bd3786\"],[0.5555555555555556,\"#d8576b\"],[0.6666666666666666,\"#ed7953\"],[0.7777777777777778,\"#fb9f3a\"],[0.8888888888888888,\"#fdca26\"],[1.0,\"#f0f921\"]],\"type\":\"heatmap\"}],\"histogram2dcontour\":[{\"colorbar\":{\"outlinewidth\":0,\"ticks\":\"\"},\"colorscale\":[[0.0,\"#0d0887\"],[0.1111111111111111,\"#46039f\"],[0.2222222222222222,\"#7201a8\"],[0.3333333333333333,\"#9c179e\"],[0.4444444444444444,\"#bd3786\"],[0.5555555555555556,\"#d8576b\"],[0.6666666666666666,\"#ed7953\"],[0.7777777777777778,\"#fb9f3a\"],[0.8888888888888888,\"#fdca26\"],[1.0,\"#f0f921\"]],\"type\":\"histogram2dcontour\"}],\"histogram2d\":[{\"colorbar\":{\"outlinewidth\":0,\"ticks\":\"\"},\"colorscale\":[[0.0,\"#0d0887\"],[0.1111111111111111,\"#46039f\"],[0.2222222222222222,\"#7201a8\"],[0.3333333333333333,\"#9c179e\"],[0.4444444444444444,\"#bd3786\"],[0.5555555555555556,\"#d8576b\"],[0.6666666666666666,\"#ed7953\"],[0.7777777777777778,\"#fb9f3a\"],[0.8888888888888888,\"#fdca26\"],[1.0,\"#f0f921\"]],\"type\":\"histogram2d\"}],\"histogram\":[{\"marker\":{\"pattern\":{\"fillmode\":\"overlay\",\"size\":10,\"solidity\":0.2}},\"type\":\"histogram\"}],\"mesh3d\":[{\"colorbar\":{\"outlinewidth\":0,\"ticks\":\"\"},\"type\":\"mesh3d\"}],\"parcoords\":[{\"line\":{\"colorbar\":{\"outlinewidth\":0,\"ticks\":\"\"}},\"type\":\"parcoords\"}],\"pie\":[{\"automargin\":true,\"type\":\"pie\"}],\"scatter3d\":[{\"line\":{\"colorbar\":{\"outlinewidth\":0,\"ticks\":\"\"}},\"marker\":{\"colorbar\":{\"outlinewidth\":0,\"ticks\":\"\"}},\"type\":\"scatter3d\"}],\"scattercarpet\":[{\"marker\":{\"colorbar\":{\"outlinewidth\":0,\"ticks\":\"\"}},\"type\":\"scattercarpet\"}],\"scattergeo\":[{\"marker\":{\"colorbar\":{\"outlinewidth\":0,\"ticks\":\"\"}},\"type\":\"scattergeo\"}],\"scattergl\":[{\"marker\":{\"colorbar\":{\"outlinewidth\":0,\"ticks\":\"\"}},\"type\":\"scattergl\"}],\"scattermapbox\":[{\"marker\":{\"colorbar\":{\"outlinewidth\":0,\"ticks\":\"\"}},\"type\":\"scattermapbox\"}],\"scatterpolargl\":[{\"marker\":{\"colorbar\":{\"outlinewidth\":0,\"ticks\":\"\"}},\"type\":\"scatterpolargl\"}],\"scatterpolar\":[{\"marker\":{\"colorbar\":{\"outlinewidth\":0,\"ticks\":\"\"}},\"type\":\"scatterpolar\"}],\"scatter\":[{\"marker\":{\"colorbar\":{\"outlinewidth\":0,\"ticks\":\"\"}},\"type\":\"scatter\"}],\"scatterternary\":[{\"marker\":{\"colorbar\":{\"outlinewidth\":0,\"ticks\":\"\"}},\"type\":\"scatterternary\"}],\"surface\":[{\"colorbar\":{\"outlinewidth\":0,\"ticks\":\"\"},\"colorscale\":[[0.0,\"#0d0887\"],[0.1111111111111111,\"#46039f\"],[0.2222222222222222,\"#7201a8\"],[0.3333333333333333,\"#9c179e\"],[0.4444444444444444,\"#bd3786\"],[0.5555555555555556,\"#d8576b\"],[0.6666666666666666,\"#ed7953\"],[0.7777777777777778,\"#fb9f3a\"],[0.8888888888888888,\"#fdca26\"],[1.0,\"#f0f921\"]],\"type\":\"surface\"}],\"table\":[{\"cells\":{\"fill\":{\"color\":\"#EBF0F8\"},\"line\":{\"color\":\"white\"}},\"header\":{\"fill\":{\"color\":\"#C8D4E3\"},\"line\":{\"color\":\"white\"}},\"type\":\"table\"}]},\"layout\":{\"annotationdefaults\":{\"arrowcolor\":\"#2a3f5f\",\"arrowhead\":0,\"arrowwidth\":1},\"autotypenumbers\":\"strict\",\"coloraxis\":{\"colorbar\":{\"outlinewidth\":0,\"ticks\":\"\"}},\"colorscale\":{\"diverging\":[[0,\"#8e0152\"],[0.1,\"#c51b7d\"],[0.2,\"#de77ae\"],[0.3,\"#f1b6da\"],[0.4,\"#fde0ef\"],[0.5,\"#f7f7f7\"],[0.6,\"#e6f5d0\"],[0.7,\"#b8e186\"],[0.8,\"#7fbc41\"],[0.9,\"#4d9221\"],[1,\"#276419\"]],\"sequential\":[[0.0,\"#0d0887\"],[0.1111111111111111,\"#46039f\"],[0.2222222222222222,\"#7201a8\"],[0.3333333333333333,\"#9c179e\"],[0.4444444444444444,\"#bd3786\"],[0.5555555555555556,\"#d8576b\"],[0.6666666666666666,\"#ed7953\"],[0.7777777777777778,\"#fb9f3a\"],[0.8888888888888888,\"#fdca26\"],[1.0,\"#f0f921\"]],\"sequentialminus\":[[0.0,\"#0d0887\"],[0.1111111111111111,\"#46039f\"],[0.2222222222222222,\"#7201a8\"],[0.3333333333333333,\"#9c179e\"],[0.4444444444444444,\"#bd3786\"],[0.5555555555555556,\"#d8576b\"],[0.6666666666666666,\"#ed7953\"],[0.7777777777777778,\"#fb9f3a\"],[0.8888888888888888,\"#fdca26\"],[1.0,\"#f0f921\"]]},\"colorway\":[\"#636efa\",\"#EF553B\",\"#00cc96\",\"#ab63fa\",\"#FFA15A\",\"#19d3f3\",\"#FF6692\",\"#B6E880\",\"#FF97FF\",\"#FECB52\"],\"font\":{\"color\":\"#2a3f5f\"},\"geo\":{\"bgcolor\":\"white\",\"lakecolor\":\"white\",\"landcolor\":\"#E5ECF6\",\"showlakes\":true,\"showland\":true,\"subunitcolor\":\"white\"},\"hoverlabel\":{\"align\":\"left\"},\"hovermode\":\"closest\",\"mapbox\":{\"style\":\"light\"},\"paper_bgcolor\":\"white\",\"plot_bgcolor\":\"#E5ECF6\",\"polar\":{\"angularaxis\":{\"gridcolor\":\"white\",\"linecolor\":\"white\",\"ticks\":\"\"},\"bgcolor\":\"#E5ECF6\",\"radialaxis\":{\"gridcolor\":\"white\",\"linecolor\":\"white\",\"ticks\":\"\"}},\"scene\":{\"xaxis\":{\"backgroundcolor\":\"#E5ECF6\",\"gridcolor\":\"white\",\"gridwidth\":2,\"linecolor\":\"white\",\"showbackground\":true,\"ticks\":\"\",\"zerolinecolor\":\"white\"},\"yaxis\":{\"backgroundcolor\":\"#E5ECF6\",\"gridcolor\":\"white\",\"gridwidth\":2,\"linecolor\":\"white\",\"showbackground\":true,\"ticks\":\"\",\"zerolinecolor\":\"white\"},\"zaxis\":{\"backgroundcolor\":\"#E5ECF6\",\"gridcolor\":\"white\",\"gridwidth\":2,\"linecolor\":\"white\",\"showbackground\":true,\"ticks\":\"\",\"zerolinecolor\":\"white\"}},\"shapedefaults\":{\"line\":{\"color\":\"#2a3f5f\"}},\"ternary\":{\"aaxis\":{\"gridcolor\":\"white\",\"linecolor\":\"white\",\"ticks\":\"\"},\"baxis\":{\"gridcolor\":\"white\",\"linecolor\":\"white\",\"ticks\":\"\"},\"bgcolor\":\"#E5ECF6\",\"caxis\":{\"gridcolor\":\"white\",\"linecolor\":\"white\",\"ticks\":\"\"}},\"title\":{\"x\":0.05},\"xaxis\":{\"automargin\":true,\"gridcolor\":\"white\",\"linecolor\":\"white\",\"ticks\":\"\",\"title\":{\"standoff\":15},\"zerolinecolor\":\"white\",\"zerolinewidth\":2},\"yaxis\":{\"automargin\":true,\"gridcolor\":\"white\",\"linecolor\":\"white\",\"ticks\":\"\",\"title\":{\"standoff\":15},\"zerolinecolor\":\"white\",\"zerolinewidth\":2}}},\"title\":{\"font\":{\"color\":\"#4D5663\"}},\"xaxis\":{\"gridcolor\":\"#E1E5ED\",\"showgrid\":true,\"tickfont\":{\"color\":\"#4D5663\"},\"title\":{\"font\":{\"color\":\"#4D5663\"},\"text\":\"\"},\"zerolinecolor\":\"#E1E5ED\"},\"yaxis\":{\"gridcolor\":\"#E1E5ED\",\"showgrid\":true,\"tickfont\":{\"color\":\"#4D5663\"},\"title\":{\"font\":{\"color\":\"#4D5663\"},\"text\":\"\"},\"zerolinecolor\":\"#E1E5ED\"}},                        {\"showLink\": true, \"linkText\": \"Export to plot.ly\", \"plotlyServerURL\": \"https://plot.ly\", \"responsive\": true}                    ).then(function(){\n",
       "                            \n",
       "var gd = document.getElementById('a42f43bd-bc61-411c-98f4-4dd092476620');\n",
       "var x = new MutationObserver(function (mutations, observer) {{\n",
       "        var display = window.getComputedStyle(gd).display;\n",
       "        if (!display || display === 'none') {{\n",
       "            console.log([gd, 'removed!']);\n",
       "            Plotly.purge(gd);\n",
       "            observer.disconnect();\n",
       "        }}\n",
       "}});\n",
       "\n",
       "// Listen for the removal of the full notebook cells\n",
       "var notebookContainer = gd.closest('#notebook-container');\n",
       "if (notebookContainer) {{\n",
       "    x.observe(notebookContainer, {childList: true});\n",
       "}}\n",
       "\n",
       "// Listen for the clearing of the current output cell\n",
       "var outputEl = gd.closest('.output');\n",
       "if (outputEl) {{\n",
       "    x.observe(outputEl, {childList: true});\n",
       "}}\n",
       "\n",
       "                        })                };                });            </script>        </div>"
      ]
     },
     "metadata": {},
     "output_type": "display_data"
    }
   ],
   "source": [
    "df.iplot(kind='box')"
   ]
  },
  {
   "cell_type": "markdown",
   "metadata": {},
   "source": [
    "## 3d Surface"
   ]
  },
  {
   "cell_type": "code",
   "execution_count": 14,
   "metadata": {},
   "outputs": [
    {
     "data": {
      "application/vnd.plotly.v1+json": {
       "config": {
        "linkText": "Export to plot.ly",
        "plotlyServerURL": "https://plot.ly",
        "showLink": true
       },
       "data": [
        {
         "colorscale": [
          [
           0,
           "rgb(165,0,38)"
          ],
          [
           0.1,
           "rgb(215,48,39)"
          ],
          [
           0.2,
           "rgb(244,109,67)"
          ],
          [
           0.3,
           "rgb(253,174,97)"
          ],
          [
           0.4,
           "rgb(254,224,144)"
          ],
          [
           0.5,
           "rgb(255,255,191)"
          ],
          [
           0.6,
           "rgb(224,243,248)"
          ],
          [
           0.7,
           "rgb(171,217,233)"
          ],
          [
           0.8,
           "rgb(116,173,209)"
          ],
          [
           0.9,
           "rgb(69,117,180)"
          ],
          [
           1,
           "rgb(49,54,149)"
          ]
         ],
         "type": "surface",
         "x": [
          0,
          1,
          2,
          3,
          4
         ],
         "y": [
          "x",
          "y",
          "z"
         ],
         "z": [
          [
           1,
           2,
           3,
           4,
           5
          ],
          [
           10,
           20,
           30,
           20,
           10
          ],
          [
           5,
           4,
           3,
           2,
           1
          ]
         ]
        }
       ],
       "layout": {
        "legend": {
         "bgcolor": "#F5F6F9",
         "font": {
          "color": "#4D5663"
         }
        },
        "paper_bgcolor": "#F5F6F9",
        "plot_bgcolor": "#F5F6F9",
        "template": {
         "data": {
          "bar": [
           {
            "error_x": {
             "color": "#2a3f5f"
            },
            "error_y": {
             "color": "#2a3f5f"
            },
            "marker": {
             "line": {
              "color": "#E5ECF6",
              "width": 0.5
             },
             "pattern": {
              "fillmode": "overlay",
              "size": 10,
              "solidity": 0.2
             }
            },
            "type": "bar"
           }
          ],
          "barpolar": [
           {
            "marker": {
             "line": {
              "color": "#E5ECF6",
              "width": 0.5
             },
             "pattern": {
              "fillmode": "overlay",
              "size": 10,
              "solidity": 0.2
             }
            },
            "type": "barpolar"
           }
          ],
          "carpet": [
           {
            "aaxis": {
             "endlinecolor": "#2a3f5f",
             "gridcolor": "white",
             "linecolor": "white",
             "minorgridcolor": "white",
             "startlinecolor": "#2a3f5f"
            },
            "baxis": {
             "endlinecolor": "#2a3f5f",
             "gridcolor": "white",
             "linecolor": "white",
             "minorgridcolor": "white",
             "startlinecolor": "#2a3f5f"
            },
            "type": "carpet"
           }
          ],
          "choropleth": [
           {
            "colorbar": {
             "outlinewidth": 0,
             "ticks": ""
            },
            "type": "choropleth"
           }
          ],
          "contour": [
           {
            "colorbar": {
             "outlinewidth": 0,
             "ticks": ""
            },
            "colorscale": [
             [
              0,
              "#0d0887"
             ],
             [
              0.1111111111111111,
              "#46039f"
             ],
             [
              0.2222222222222222,
              "#7201a8"
             ],
             [
              0.3333333333333333,
              "#9c179e"
             ],
             [
              0.4444444444444444,
              "#bd3786"
             ],
             [
              0.5555555555555556,
              "#d8576b"
             ],
             [
              0.6666666666666666,
              "#ed7953"
             ],
             [
              0.7777777777777778,
              "#fb9f3a"
             ],
             [
              0.8888888888888888,
              "#fdca26"
             ],
             [
              1,
              "#f0f921"
             ]
            ],
            "type": "contour"
           }
          ],
          "contourcarpet": [
           {
            "colorbar": {
             "outlinewidth": 0,
             "ticks": ""
            },
            "type": "contourcarpet"
           }
          ],
          "heatmap": [
           {
            "colorbar": {
             "outlinewidth": 0,
             "ticks": ""
            },
            "colorscale": [
             [
              0,
              "#0d0887"
             ],
             [
              0.1111111111111111,
              "#46039f"
             ],
             [
              0.2222222222222222,
              "#7201a8"
             ],
             [
              0.3333333333333333,
              "#9c179e"
             ],
             [
              0.4444444444444444,
              "#bd3786"
             ],
             [
              0.5555555555555556,
              "#d8576b"
             ],
             [
              0.6666666666666666,
              "#ed7953"
             ],
             [
              0.7777777777777778,
              "#fb9f3a"
             ],
             [
              0.8888888888888888,
              "#fdca26"
             ],
             [
              1,
              "#f0f921"
             ]
            ],
            "type": "heatmap"
           }
          ],
          "heatmapgl": [
           {
            "colorbar": {
             "outlinewidth": 0,
             "ticks": ""
            },
            "colorscale": [
             [
              0,
              "#0d0887"
             ],
             [
              0.1111111111111111,
              "#46039f"
             ],
             [
              0.2222222222222222,
              "#7201a8"
             ],
             [
              0.3333333333333333,
              "#9c179e"
             ],
             [
              0.4444444444444444,
              "#bd3786"
             ],
             [
              0.5555555555555556,
              "#d8576b"
             ],
             [
              0.6666666666666666,
              "#ed7953"
             ],
             [
              0.7777777777777778,
              "#fb9f3a"
             ],
             [
              0.8888888888888888,
              "#fdca26"
             ],
             [
              1,
              "#f0f921"
             ]
            ],
            "type": "heatmapgl"
           }
          ],
          "histogram": [
           {
            "marker": {
             "pattern": {
              "fillmode": "overlay",
              "size": 10,
              "solidity": 0.2
             }
            },
            "type": "histogram"
           }
          ],
          "histogram2d": [
           {
            "colorbar": {
             "outlinewidth": 0,
             "ticks": ""
            },
            "colorscale": [
             [
              0,
              "#0d0887"
             ],
             [
              0.1111111111111111,
              "#46039f"
             ],
             [
              0.2222222222222222,
              "#7201a8"
             ],
             [
              0.3333333333333333,
              "#9c179e"
             ],
             [
              0.4444444444444444,
              "#bd3786"
             ],
             [
              0.5555555555555556,
              "#d8576b"
             ],
             [
              0.6666666666666666,
              "#ed7953"
             ],
             [
              0.7777777777777778,
              "#fb9f3a"
             ],
             [
              0.8888888888888888,
              "#fdca26"
             ],
             [
              1,
              "#f0f921"
             ]
            ],
            "type": "histogram2d"
           }
          ],
          "histogram2dcontour": [
           {
            "colorbar": {
             "outlinewidth": 0,
             "ticks": ""
            },
            "colorscale": [
             [
              0,
              "#0d0887"
             ],
             [
              0.1111111111111111,
              "#46039f"
             ],
             [
              0.2222222222222222,
              "#7201a8"
             ],
             [
              0.3333333333333333,
              "#9c179e"
             ],
             [
              0.4444444444444444,
              "#bd3786"
             ],
             [
              0.5555555555555556,
              "#d8576b"
             ],
             [
              0.6666666666666666,
              "#ed7953"
             ],
             [
              0.7777777777777778,
              "#fb9f3a"
             ],
             [
              0.8888888888888888,
              "#fdca26"
             ],
             [
              1,
              "#f0f921"
             ]
            ],
            "type": "histogram2dcontour"
           }
          ],
          "mesh3d": [
           {
            "colorbar": {
             "outlinewidth": 0,
             "ticks": ""
            },
            "type": "mesh3d"
           }
          ],
          "parcoords": [
           {
            "line": {
             "colorbar": {
              "outlinewidth": 0,
              "ticks": ""
             }
            },
            "type": "parcoords"
           }
          ],
          "pie": [
           {
            "automargin": true,
            "type": "pie"
           }
          ],
          "scatter": [
           {
            "marker": {
             "colorbar": {
              "outlinewidth": 0,
              "ticks": ""
             }
            },
            "type": "scatter"
           }
          ],
          "scatter3d": [
           {
            "line": {
             "colorbar": {
              "outlinewidth": 0,
              "ticks": ""
             }
            },
            "marker": {
             "colorbar": {
              "outlinewidth": 0,
              "ticks": ""
             }
            },
            "type": "scatter3d"
           }
          ],
          "scattercarpet": [
           {
            "marker": {
             "colorbar": {
              "outlinewidth": 0,
              "ticks": ""
             }
            },
            "type": "scattercarpet"
           }
          ],
          "scattergeo": [
           {
            "marker": {
             "colorbar": {
              "outlinewidth": 0,
              "ticks": ""
             }
            },
            "type": "scattergeo"
           }
          ],
          "scattergl": [
           {
            "marker": {
             "colorbar": {
              "outlinewidth": 0,
              "ticks": ""
             }
            },
            "type": "scattergl"
           }
          ],
          "scattermapbox": [
           {
            "marker": {
             "colorbar": {
              "outlinewidth": 0,
              "ticks": ""
             }
            },
            "type": "scattermapbox"
           }
          ],
          "scatterpolar": [
           {
            "marker": {
             "colorbar": {
              "outlinewidth": 0,
              "ticks": ""
             }
            },
            "type": "scatterpolar"
           }
          ],
          "scatterpolargl": [
           {
            "marker": {
             "colorbar": {
              "outlinewidth": 0,
              "ticks": ""
             }
            },
            "type": "scatterpolargl"
           }
          ],
          "scatterternary": [
           {
            "marker": {
             "colorbar": {
              "outlinewidth": 0,
              "ticks": ""
             }
            },
            "type": "scatterternary"
           }
          ],
          "surface": [
           {
            "colorbar": {
             "outlinewidth": 0,
             "ticks": ""
            },
            "colorscale": [
             [
              0,
              "#0d0887"
             ],
             [
              0.1111111111111111,
              "#46039f"
             ],
             [
              0.2222222222222222,
              "#7201a8"
             ],
             [
              0.3333333333333333,
              "#9c179e"
             ],
             [
              0.4444444444444444,
              "#bd3786"
             ],
             [
              0.5555555555555556,
              "#d8576b"
             ],
             [
              0.6666666666666666,
              "#ed7953"
             ],
             [
              0.7777777777777778,
              "#fb9f3a"
             ],
             [
              0.8888888888888888,
              "#fdca26"
             ],
             [
              1,
              "#f0f921"
             ]
            ],
            "type": "surface"
           }
          ],
          "table": [
           {
            "cells": {
             "fill": {
              "color": "#EBF0F8"
             },
             "line": {
              "color": "white"
             }
            },
            "header": {
             "fill": {
              "color": "#C8D4E3"
             },
             "line": {
              "color": "white"
             }
            },
            "type": "table"
           }
          ]
         },
         "layout": {
          "annotationdefaults": {
           "arrowcolor": "#2a3f5f",
           "arrowhead": 0,
           "arrowwidth": 1
          },
          "autotypenumbers": "strict",
          "coloraxis": {
           "colorbar": {
            "outlinewidth": 0,
            "ticks": ""
           }
          },
          "colorscale": {
           "diverging": [
            [
             0,
             "#8e0152"
            ],
            [
             0.1,
             "#c51b7d"
            ],
            [
             0.2,
             "#de77ae"
            ],
            [
             0.3,
             "#f1b6da"
            ],
            [
             0.4,
             "#fde0ef"
            ],
            [
             0.5,
             "#f7f7f7"
            ],
            [
             0.6,
             "#e6f5d0"
            ],
            [
             0.7,
             "#b8e186"
            ],
            [
             0.8,
             "#7fbc41"
            ],
            [
             0.9,
             "#4d9221"
            ],
            [
             1,
             "#276419"
            ]
           ],
           "sequential": [
            [
             0,
             "#0d0887"
            ],
            [
             0.1111111111111111,
             "#46039f"
            ],
            [
             0.2222222222222222,
             "#7201a8"
            ],
            [
             0.3333333333333333,
             "#9c179e"
            ],
            [
             0.4444444444444444,
             "#bd3786"
            ],
            [
             0.5555555555555556,
             "#d8576b"
            ],
            [
             0.6666666666666666,
             "#ed7953"
            ],
            [
             0.7777777777777778,
             "#fb9f3a"
            ],
            [
             0.8888888888888888,
             "#fdca26"
            ],
            [
             1,
             "#f0f921"
            ]
           ],
           "sequentialminus": [
            [
             0,
             "#0d0887"
            ],
            [
             0.1111111111111111,
             "#46039f"
            ],
            [
             0.2222222222222222,
             "#7201a8"
            ],
            [
             0.3333333333333333,
             "#9c179e"
            ],
            [
             0.4444444444444444,
             "#bd3786"
            ],
            [
             0.5555555555555556,
             "#d8576b"
            ],
            [
             0.6666666666666666,
             "#ed7953"
            ],
            [
             0.7777777777777778,
             "#fb9f3a"
            ],
            [
             0.8888888888888888,
             "#fdca26"
            ],
            [
             1,
             "#f0f921"
            ]
           ]
          },
          "colorway": [
           "#636efa",
           "#EF553B",
           "#00cc96",
           "#ab63fa",
           "#FFA15A",
           "#19d3f3",
           "#FF6692",
           "#B6E880",
           "#FF97FF",
           "#FECB52"
          ],
          "font": {
           "color": "#2a3f5f"
          },
          "geo": {
           "bgcolor": "white",
           "lakecolor": "white",
           "landcolor": "#E5ECF6",
           "showlakes": true,
           "showland": true,
           "subunitcolor": "white"
          },
          "hoverlabel": {
           "align": "left"
          },
          "hovermode": "closest",
          "mapbox": {
           "style": "light"
          },
          "paper_bgcolor": "white",
          "plot_bgcolor": "#E5ECF6",
          "polar": {
           "angularaxis": {
            "gridcolor": "white",
            "linecolor": "white",
            "ticks": ""
           },
           "bgcolor": "#E5ECF6",
           "radialaxis": {
            "gridcolor": "white",
            "linecolor": "white",
            "ticks": ""
           }
          },
          "scene": {
           "xaxis": {
            "backgroundcolor": "#E5ECF6",
            "gridcolor": "white",
            "gridwidth": 2,
            "linecolor": "white",
            "showbackground": true,
            "ticks": "",
            "zerolinecolor": "white"
           },
           "yaxis": {
            "backgroundcolor": "#E5ECF6",
            "gridcolor": "white",
            "gridwidth": 2,
            "linecolor": "white",
            "showbackground": true,
            "ticks": "",
            "zerolinecolor": "white"
           },
           "zaxis": {
            "backgroundcolor": "#E5ECF6",
            "gridcolor": "white",
            "gridwidth": 2,
            "linecolor": "white",
            "showbackground": true,
            "ticks": "",
            "zerolinecolor": "white"
           }
          },
          "shapedefaults": {
           "line": {
            "color": "#2a3f5f"
           }
          },
          "ternary": {
           "aaxis": {
            "gridcolor": "white",
            "linecolor": "white",
            "ticks": ""
           },
           "baxis": {
            "gridcolor": "white",
            "linecolor": "white",
            "ticks": ""
           },
           "bgcolor": "#E5ECF6",
           "caxis": {
            "gridcolor": "white",
            "linecolor": "white",
            "ticks": ""
           }
          },
          "title": {
           "x": 0.05
          },
          "xaxis": {
           "automargin": true,
           "gridcolor": "white",
           "linecolor": "white",
           "ticks": "",
           "title": {
            "standoff": 15
           },
           "zerolinecolor": "white",
           "zerolinewidth": 2
          },
          "yaxis": {
           "automargin": true,
           "gridcolor": "white",
           "linecolor": "white",
           "ticks": "",
           "title": {
            "standoff": 15
           },
           "zerolinecolor": "white",
           "zerolinewidth": 2
          }
         }
        },
        "title": {
         "font": {
          "color": "#4D5663"
         }
        },
        "xaxis": {
         "gridcolor": "#E1E5ED",
         "showgrid": true,
         "tickfont": {
          "color": "#4D5663"
         },
         "title": {
          "font": {
           "color": "#4D5663"
          },
          "text": ""
         },
         "zerolinecolor": "#E1E5ED"
        },
        "yaxis": {
         "gridcolor": "#E1E5ED",
         "showgrid": true,
         "tickfont": {
          "color": "#4D5663"
         },
         "title": {
          "font": {
           "color": "#4D5663"
          },
          "text": ""
         },
         "zerolinecolor": "#E1E5ED"
        }
       }
      },
      "text/html": [
       "<div>                            <div id=\"8ae65e54-5676-4830-aabf-ac2e602d5a62\" class=\"plotly-graph-div\" style=\"height:525px; width:100%;\"></div>            <script type=\"text/javascript\">                require([\"plotly\"], function(Plotly) {                    window.PLOTLYENV=window.PLOTLYENV || {};\n",
       "                    window.PLOTLYENV.BASE_URL='https://plot.ly';                                    if (document.getElementById(\"8ae65e54-5676-4830-aabf-ac2e602d5a62\")) {                    Plotly.newPlot(                        \"8ae65e54-5676-4830-aabf-ac2e602d5a62\",                        [{\"colorscale\":[[0.0,\"rgb(165,0,38)\"],[0.1,\"rgb(215,48,39)\"],[0.2,\"rgb(244,109,67)\"],[0.3,\"rgb(253,174,97)\"],[0.4,\"rgb(254,224,144)\"],[0.5,\"rgb(255,255,191)\"],[0.6,\"rgb(224,243,248)\"],[0.7,\"rgb(171,217,233)\"],[0.8,\"rgb(116,173,209)\"],[0.9,\"rgb(69,117,180)\"],[1.0,\"rgb(49,54,149)\"]],\"x\":[0,1,2,3,4],\"y\":[\"x\",\"y\",\"z\"],\"z\":[[1,2,3,4,5],[10,20,30,20,10],[5,4,3,2,1]],\"type\":\"surface\"}],                        {\"legend\":{\"bgcolor\":\"#F5F6F9\",\"font\":{\"color\":\"#4D5663\"}},\"paper_bgcolor\":\"#F5F6F9\",\"plot_bgcolor\":\"#F5F6F9\",\"template\":{\"data\":{\"barpolar\":[{\"marker\":{\"line\":{\"color\":\"#E5ECF6\",\"width\":0.5},\"pattern\":{\"fillmode\":\"overlay\",\"size\":10,\"solidity\":0.2}},\"type\":\"barpolar\"}],\"bar\":[{\"error_x\":{\"color\":\"#2a3f5f\"},\"error_y\":{\"color\":\"#2a3f5f\"},\"marker\":{\"line\":{\"color\":\"#E5ECF6\",\"width\":0.5},\"pattern\":{\"fillmode\":\"overlay\",\"size\":10,\"solidity\":0.2}},\"type\":\"bar\"}],\"carpet\":[{\"aaxis\":{\"endlinecolor\":\"#2a3f5f\",\"gridcolor\":\"white\",\"linecolor\":\"white\",\"minorgridcolor\":\"white\",\"startlinecolor\":\"#2a3f5f\"},\"baxis\":{\"endlinecolor\":\"#2a3f5f\",\"gridcolor\":\"white\",\"linecolor\":\"white\",\"minorgridcolor\":\"white\",\"startlinecolor\":\"#2a3f5f\"},\"type\":\"carpet\"}],\"choropleth\":[{\"colorbar\":{\"outlinewidth\":0,\"ticks\":\"\"},\"type\":\"choropleth\"}],\"contourcarpet\":[{\"colorbar\":{\"outlinewidth\":0,\"ticks\":\"\"},\"type\":\"contourcarpet\"}],\"contour\":[{\"colorbar\":{\"outlinewidth\":0,\"ticks\":\"\"},\"colorscale\":[[0.0,\"#0d0887\"],[0.1111111111111111,\"#46039f\"],[0.2222222222222222,\"#7201a8\"],[0.3333333333333333,\"#9c179e\"],[0.4444444444444444,\"#bd3786\"],[0.5555555555555556,\"#d8576b\"],[0.6666666666666666,\"#ed7953\"],[0.7777777777777778,\"#fb9f3a\"],[0.8888888888888888,\"#fdca26\"],[1.0,\"#f0f921\"]],\"type\":\"contour\"}],\"heatmapgl\":[{\"colorbar\":{\"outlinewidth\":0,\"ticks\":\"\"},\"colorscale\":[[0.0,\"#0d0887\"],[0.1111111111111111,\"#46039f\"],[0.2222222222222222,\"#7201a8\"],[0.3333333333333333,\"#9c179e\"],[0.4444444444444444,\"#bd3786\"],[0.5555555555555556,\"#d8576b\"],[0.6666666666666666,\"#ed7953\"],[0.7777777777777778,\"#fb9f3a\"],[0.8888888888888888,\"#fdca26\"],[1.0,\"#f0f921\"]],\"type\":\"heatmapgl\"}],\"heatmap\":[{\"colorbar\":{\"outlinewidth\":0,\"ticks\":\"\"},\"colorscale\":[[0.0,\"#0d0887\"],[0.1111111111111111,\"#46039f\"],[0.2222222222222222,\"#7201a8\"],[0.3333333333333333,\"#9c179e\"],[0.4444444444444444,\"#bd3786\"],[0.5555555555555556,\"#d8576b\"],[0.6666666666666666,\"#ed7953\"],[0.7777777777777778,\"#fb9f3a\"],[0.8888888888888888,\"#fdca26\"],[1.0,\"#f0f921\"]],\"type\":\"heatmap\"}],\"histogram2dcontour\":[{\"colorbar\":{\"outlinewidth\":0,\"ticks\":\"\"},\"colorscale\":[[0.0,\"#0d0887\"],[0.1111111111111111,\"#46039f\"],[0.2222222222222222,\"#7201a8\"],[0.3333333333333333,\"#9c179e\"],[0.4444444444444444,\"#bd3786\"],[0.5555555555555556,\"#d8576b\"],[0.6666666666666666,\"#ed7953\"],[0.7777777777777778,\"#fb9f3a\"],[0.8888888888888888,\"#fdca26\"],[1.0,\"#f0f921\"]],\"type\":\"histogram2dcontour\"}],\"histogram2d\":[{\"colorbar\":{\"outlinewidth\":0,\"ticks\":\"\"},\"colorscale\":[[0.0,\"#0d0887\"],[0.1111111111111111,\"#46039f\"],[0.2222222222222222,\"#7201a8\"],[0.3333333333333333,\"#9c179e\"],[0.4444444444444444,\"#bd3786\"],[0.5555555555555556,\"#d8576b\"],[0.6666666666666666,\"#ed7953\"],[0.7777777777777778,\"#fb9f3a\"],[0.8888888888888888,\"#fdca26\"],[1.0,\"#f0f921\"]],\"type\":\"histogram2d\"}],\"histogram\":[{\"marker\":{\"pattern\":{\"fillmode\":\"overlay\",\"size\":10,\"solidity\":0.2}},\"type\":\"histogram\"}],\"mesh3d\":[{\"colorbar\":{\"outlinewidth\":0,\"ticks\":\"\"},\"type\":\"mesh3d\"}],\"parcoords\":[{\"line\":{\"colorbar\":{\"outlinewidth\":0,\"ticks\":\"\"}},\"type\":\"parcoords\"}],\"pie\":[{\"automargin\":true,\"type\":\"pie\"}],\"scatter3d\":[{\"line\":{\"colorbar\":{\"outlinewidth\":0,\"ticks\":\"\"}},\"marker\":{\"colorbar\":{\"outlinewidth\":0,\"ticks\":\"\"}},\"type\":\"scatter3d\"}],\"scattercarpet\":[{\"marker\":{\"colorbar\":{\"outlinewidth\":0,\"ticks\":\"\"}},\"type\":\"scattercarpet\"}],\"scattergeo\":[{\"marker\":{\"colorbar\":{\"outlinewidth\":0,\"ticks\":\"\"}},\"type\":\"scattergeo\"}],\"scattergl\":[{\"marker\":{\"colorbar\":{\"outlinewidth\":0,\"ticks\":\"\"}},\"type\":\"scattergl\"}],\"scattermapbox\":[{\"marker\":{\"colorbar\":{\"outlinewidth\":0,\"ticks\":\"\"}},\"type\":\"scattermapbox\"}],\"scatterpolargl\":[{\"marker\":{\"colorbar\":{\"outlinewidth\":0,\"ticks\":\"\"}},\"type\":\"scatterpolargl\"}],\"scatterpolar\":[{\"marker\":{\"colorbar\":{\"outlinewidth\":0,\"ticks\":\"\"}},\"type\":\"scatterpolar\"}],\"scatter\":[{\"marker\":{\"colorbar\":{\"outlinewidth\":0,\"ticks\":\"\"}},\"type\":\"scatter\"}],\"scatterternary\":[{\"marker\":{\"colorbar\":{\"outlinewidth\":0,\"ticks\":\"\"}},\"type\":\"scatterternary\"}],\"surface\":[{\"colorbar\":{\"outlinewidth\":0,\"ticks\":\"\"},\"colorscale\":[[0.0,\"#0d0887\"],[0.1111111111111111,\"#46039f\"],[0.2222222222222222,\"#7201a8\"],[0.3333333333333333,\"#9c179e\"],[0.4444444444444444,\"#bd3786\"],[0.5555555555555556,\"#d8576b\"],[0.6666666666666666,\"#ed7953\"],[0.7777777777777778,\"#fb9f3a\"],[0.8888888888888888,\"#fdca26\"],[1.0,\"#f0f921\"]],\"type\":\"surface\"}],\"table\":[{\"cells\":{\"fill\":{\"color\":\"#EBF0F8\"},\"line\":{\"color\":\"white\"}},\"header\":{\"fill\":{\"color\":\"#C8D4E3\"},\"line\":{\"color\":\"white\"}},\"type\":\"table\"}]},\"layout\":{\"annotationdefaults\":{\"arrowcolor\":\"#2a3f5f\",\"arrowhead\":0,\"arrowwidth\":1},\"autotypenumbers\":\"strict\",\"coloraxis\":{\"colorbar\":{\"outlinewidth\":0,\"ticks\":\"\"}},\"colorscale\":{\"diverging\":[[0,\"#8e0152\"],[0.1,\"#c51b7d\"],[0.2,\"#de77ae\"],[0.3,\"#f1b6da\"],[0.4,\"#fde0ef\"],[0.5,\"#f7f7f7\"],[0.6,\"#e6f5d0\"],[0.7,\"#b8e186\"],[0.8,\"#7fbc41\"],[0.9,\"#4d9221\"],[1,\"#276419\"]],\"sequential\":[[0.0,\"#0d0887\"],[0.1111111111111111,\"#46039f\"],[0.2222222222222222,\"#7201a8\"],[0.3333333333333333,\"#9c179e\"],[0.4444444444444444,\"#bd3786\"],[0.5555555555555556,\"#d8576b\"],[0.6666666666666666,\"#ed7953\"],[0.7777777777777778,\"#fb9f3a\"],[0.8888888888888888,\"#fdca26\"],[1.0,\"#f0f921\"]],\"sequentialminus\":[[0.0,\"#0d0887\"],[0.1111111111111111,\"#46039f\"],[0.2222222222222222,\"#7201a8\"],[0.3333333333333333,\"#9c179e\"],[0.4444444444444444,\"#bd3786\"],[0.5555555555555556,\"#d8576b\"],[0.6666666666666666,\"#ed7953\"],[0.7777777777777778,\"#fb9f3a\"],[0.8888888888888888,\"#fdca26\"],[1.0,\"#f0f921\"]]},\"colorway\":[\"#636efa\",\"#EF553B\",\"#00cc96\",\"#ab63fa\",\"#FFA15A\",\"#19d3f3\",\"#FF6692\",\"#B6E880\",\"#FF97FF\",\"#FECB52\"],\"font\":{\"color\":\"#2a3f5f\"},\"geo\":{\"bgcolor\":\"white\",\"lakecolor\":\"white\",\"landcolor\":\"#E5ECF6\",\"showlakes\":true,\"showland\":true,\"subunitcolor\":\"white\"},\"hoverlabel\":{\"align\":\"left\"},\"hovermode\":\"closest\",\"mapbox\":{\"style\":\"light\"},\"paper_bgcolor\":\"white\",\"plot_bgcolor\":\"#E5ECF6\",\"polar\":{\"angularaxis\":{\"gridcolor\":\"white\",\"linecolor\":\"white\",\"ticks\":\"\"},\"bgcolor\":\"#E5ECF6\",\"radialaxis\":{\"gridcolor\":\"white\",\"linecolor\":\"white\",\"ticks\":\"\"}},\"scene\":{\"xaxis\":{\"backgroundcolor\":\"#E5ECF6\",\"gridcolor\":\"white\",\"gridwidth\":2,\"linecolor\":\"white\",\"showbackground\":true,\"ticks\":\"\",\"zerolinecolor\":\"white\"},\"yaxis\":{\"backgroundcolor\":\"#E5ECF6\",\"gridcolor\":\"white\",\"gridwidth\":2,\"linecolor\":\"white\",\"showbackground\":true,\"ticks\":\"\",\"zerolinecolor\":\"white\"},\"zaxis\":{\"backgroundcolor\":\"#E5ECF6\",\"gridcolor\":\"white\",\"gridwidth\":2,\"linecolor\":\"white\",\"showbackground\":true,\"ticks\":\"\",\"zerolinecolor\":\"white\"}},\"shapedefaults\":{\"line\":{\"color\":\"#2a3f5f\"}},\"ternary\":{\"aaxis\":{\"gridcolor\":\"white\",\"linecolor\":\"white\",\"ticks\":\"\"},\"baxis\":{\"gridcolor\":\"white\",\"linecolor\":\"white\",\"ticks\":\"\"},\"bgcolor\":\"#E5ECF6\",\"caxis\":{\"gridcolor\":\"white\",\"linecolor\":\"white\",\"ticks\":\"\"}},\"title\":{\"x\":0.05},\"xaxis\":{\"automargin\":true,\"gridcolor\":\"white\",\"linecolor\":\"white\",\"ticks\":\"\",\"title\":{\"standoff\":15},\"zerolinecolor\":\"white\",\"zerolinewidth\":2},\"yaxis\":{\"automargin\":true,\"gridcolor\":\"white\",\"linecolor\":\"white\",\"ticks\":\"\",\"title\":{\"standoff\":15},\"zerolinecolor\":\"white\",\"zerolinewidth\":2}}},\"title\":{\"font\":{\"color\":\"#4D5663\"}},\"xaxis\":{\"gridcolor\":\"#E1E5ED\",\"showgrid\":true,\"tickfont\":{\"color\":\"#4D5663\"},\"title\":{\"font\":{\"color\":\"#4D5663\"},\"text\":\"\"},\"zerolinecolor\":\"#E1E5ED\"},\"yaxis\":{\"gridcolor\":\"#E1E5ED\",\"showgrid\":true,\"tickfont\":{\"color\":\"#4D5663\"},\"title\":{\"font\":{\"color\":\"#4D5663\"},\"text\":\"\"},\"zerolinecolor\":\"#E1E5ED\"}},                        {\"showLink\": true, \"linkText\": \"Export to plot.ly\", \"plotlyServerURL\": \"https://plot.ly\", \"responsive\": true}                    ).then(function(){\n",
       "                            \n",
       "var gd = document.getElementById('8ae65e54-5676-4830-aabf-ac2e602d5a62');\n",
       "var x = new MutationObserver(function (mutations, observer) {{\n",
       "        var display = window.getComputedStyle(gd).display;\n",
       "        if (!display || display === 'none') {{\n",
       "            console.log([gd, 'removed!']);\n",
       "            Plotly.purge(gd);\n",
       "            observer.disconnect();\n",
       "        }}\n",
       "}});\n",
       "\n",
       "// Listen for the removal of the full notebook cells\n",
       "var notebookContainer = gd.closest('#notebook-container');\n",
       "if (notebookContainer) {{\n",
       "    x.observe(notebookContainer, {childList: true});\n",
       "}}\n",
       "\n",
       "// Listen for the clearing of the current output cell\n",
       "var outputEl = gd.closest('.output');\n",
       "if (outputEl) {{\n",
       "    x.observe(outputEl, {childList: true});\n",
       "}}\n",
       "\n",
       "                        })                };                });            </script>        </div>"
      ]
     },
     "metadata": {},
     "output_type": "display_data"
    }
   ],
   "source": [
    "df3 = pd.DataFrame({'x':[1,2,3,4,5],'y':[10,20,30,20,10],'z':[5,4,3,2,1]})\n",
    "df3.iplot(kind='surface',colorscale='rdylbu')"
   ]
  },
  {
   "cell_type": "markdown",
   "metadata": {},
   "source": [
    "## Spread"
   ]
  },
  {
   "cell_type": "code",
   "execution_count": 15,
   "metadata": {},
   "outputs": [
    {
     "name": "stderr",
     "output_type": "stream",
     "text": [
      "C:\\Users\\Sri\\AppData\\Roaming\\Python\\Python39\\site-packages\\cufflinks\\plotlytools.py:849: FutureWarning:\n",
      "\n",
      "The pandas.np module is deprecated and will be removed from pandas in a future version. Import numpy directly instead\n",
      "\n",
      "C:\\Users\\Sri\\AppData\\Roaming\\Python\\Python39\\site-packages\\cufflinks\\plotlytools.py:850: FutureWarning:\n",
      "\n",
      "The pandas.np module is deprecated and will be removed from pandas in a future version. Import numpy directly instead\n",
      "\n"
     ]
    },
    {
     "data": {
      "application/vnd.plotly.v1+json": {
       "config": {
        "linkText": "Export to plot.ly",
        "plotlyServerURL": "https://plot.ly",
        "showLink": true
       },
       "data": [
        {
         "line": {
          "color": "rgba(255, 153, 51, 1.0)",
          "dash": "solid",
          "shape": "linear",
          "width": 1.3
         },
         "mode": "lines",
         "name": "A",
         "text": "",
         "type": "scatter",
         "x": [
          0,
          1,
          2,
          3,
          4,
          5,
          6,
          7,
          8,
          9,
          10,
          11,
          12,
          13,
          14,
          15,
          16,
          17,
          18,
          19,
          20,
          21,
          22,
          23,
          24,
          25,
          26,
          27,
          28,
          29,
          30,
          31,
          32,
          33,
          34,
          35,
          36,
          37,
          38,
          39,
          40,
          41,
          42,
          43,
          44,
          45,
          46,
          47,
          48,
          49,
          50,
          51,
          52,
          53,
          54,
          55,
          56,
          57,
          58,
          59,
          60,
          61,
          62,
          63,
          64,
          65,
          66,
          67,
          68,
          69,
          70,
          71,
          72,
          73,
          74,
          75,
          76,
          77,
          78,
          79,
          80,
          81,
          82,
          83,
          84,
          85,
          86,
          87,
          88,
          89,
          90,
          91,
          92,
          93,
          94,
          95,
          96,
          97,
          98,
          99
         ],
         "y": [
          1.8546943094246786,
          0.7484318595969548,
          -1.3003802265817697,
          0.5466013635649044,
          0.5936748444947731,
          -1.8998908810208484,
          0.33721413564963915,
          1.1337712628923053,
          1.359082325911419,
          1.0243456616090953,
          -0.7769188276254685,
          0.15627448332439178,
          0.02909909907259362,
          0.5340802561947197,
          0.44166099876698245,
          0.07418337277071425,
          -1.2166485828944438,
          0.4704216470315535,
          0.1776738729336818,
          -0.9082445699203281,
          -0.5882378507295679,
          1.2566415972493183,
          -0.6219653660070883,
          0.39494223876348156,
          1.4308659933450811,
          1.49581915347491,
          0.4076595706023893,
          -1.2939477605182126,
          0.973390369604027,
          0.840098155584022,
          -0.5185938843649213,
          0.10199556541041863,
          0.8500271871363656,
          1.1539670862850304,
          -1.0848994588674004,
          0.8384190457546357,
          0.6937565388763399,
          -1.410582449207463,
          0.0690709545571296,
          2.0081983789111573,
          -1.0046445131062767,
          0.7516523194583801,
          1.3873453206817357,
          0.0743343655411143,
          0.13912434845424487,
          -1.0530483619299962,
          -0.5065833576247132,
          1.0048844700796773,
          1.6869679168211584,
          -0.6326703784319785,
          -0.14584422183332776,
          -0.3012231557587274,
          0.9861559735709121,
          -1.3944268538824043,
          0.205266530140708,
          -0.3526912470632605,
          0.5139945168452866,
          0.6431761536884101,
          0.8533221153361462,
          0.3634162498544376,
          1.488558770362642,
          0.39118080162568675,
          -0.4064937772536102,
          -1.3424483605503834,
          -0.8484394801485337,
          0.442011011278428,
          0.5552676006967177,
          -1.1550992405702285,
          -0.045464650893156155,
          -0.22856117724941144,
          0.6310239049105584,
          1.443996432243972,
          -0.14437703793582427,
          -1.8093132042767839,
          -0.8965944258926464,
          -0.7955997958807984,
          -0.4820361239791199,
          0.5371266880897007,
          -0.23005501754629296,
          -0.24086175705188134,
          0.2530975143376481,
          -0.055343478317405104,
          -0.6591122798690139,
          1.2243412756761436,
          0.708139988592118,
          -0.11597112980702137,
          -0.8039079953833423,
          1.4002562252201896,
          0.8216116431913105,
          -0.8804732872490963,
          0.7570077363215513,
          -1.2470995107966565,
          -0.10568771334587965,
          0.4014953547386781,
          0.22971241053917285,
          -0.3461355642941567,
          -0.8004521108163732,
          1.0572143736336341,
          0.7315126139588002,
          1.0860112166901377
         ]
        },
        {
         "line": {
          "color": "rgba(55, 128, 191, 1.0)",
          "dash": "solid",
          "shape": "linear",
          "width": 1.3
         },
         "mode": "lines",
         "name": "B",
         "text": "",
         "type": "scatter",
         "x": [
          0,
          1,
          2,
          3,
          4,
          5,
          6,
          7,
          8,
          9,
          10,
          11,
          12,
          13,
          14,
          15,
          16,
          17,
          18,
          19,
          20,
          21,
          22,
          23,
          24,
          25,
          26,
          27,
          28,
          29,
          30,
          31,
          32,
          33,
          34,
          35,
          36,
          37,
          38,
          39,
          40,
          41,
          42,
          43,
          44,
          45,
          46,
          47,
          48,
          49,
          50,
          51,
          52,
          53,
          54,
          55,
          56,
          57,
          58,
          59,
          60,
          61,
          62,
          63,
          64,
          65,
          66,
          67,
          68,
          69,
          70,
          71,
          72,
          73,
          74,
          75,
          76,
          77,
          78,
          79,
          80,
          81,
          82,
          83,
          84,
          85,
          86,
          87,
          88,
          89,
          90,
          91,
          92,
          93,
          94,
          95,
          96,
          97,
          98,
          99
         ],
         "y": [
          0.16782352183400587,
          0.624804262589385,
          0.20372352671812846,
          -1.0591108379188434,
          -1.1419991407057792,
          0.8822057456431932,
          -0.30702637099270114,
          -2.0571013104149785,
          0.14614864879810144,
          2.8239149412769016,
          -2.412974864103616,
          0.721557660743138,
          -1.3663833420655647,
          -0.4052192278722541,
          0.23495373968771768,
          -0.5455590082566745,
          -1.1389799602470527,
          -1.9385486162077734,
          0.8047110489285142,
          -0.2351182610922446,
          2.3322152150147737,
          0.8960012160713902,
          0.8218942950746454,
          -0.4482443216083756,
          0.19863172403022056,
          0.33279159985848933,
          -2.4384779622185095,
          1.193567194099597,
          0.06995951078451483,
          0.4072798445048463,
          0.8146048718814357,
          1.4685320619448519,
          1.241729574244285,
          -0.37101981322201927,
          0.19634382933661695,
          -1.2594514852704604,
          0.48904672630322243,
          0.31628022355690794,
          -1.815222945460142,
          0.5376001263469178,
          0.8928260980073432,
          0.12879019588005242,
          0.6852771649802917,
          0.9239529848193153,
          2.3823692123794133,
          1.8982715919903281,
          1.7308831412905878,
          1.1862688195828759,
          -1.848635962299935,
          -2.073596318572358,
          0.12343301517841951,
          -0.34208245724851927,
          0.001591497174670703,
          -0.7105462449113583,
          2.118870082413893,
          1.0323512051698571,
          -0.14904284624203912,
          -0.27697382952569033,
          -1.4030368172614824,
          0.8069435110865915,
          -0.48338082158192425,
          -0.16726241537412317,
          0.7750420639775881,
          0.8556546635018052,
          -0.5617163502227375,
          -1.1334010030114128,
          2.8353718723380155,
          1.1504533925555331,
          0.8432868744795676,
          0.9992348285333864,
          -1.3610373755414766,
          0.17205002153134172,
          0.3127027245372549,
          -2.533325046279571,
          1.0768939607725407,
          -0.568689730288132,
          1.1509542732856508,
          -0.3683126886930604,
          -1.8553771750534833,
          -0.767540898256376,
          -1.3840393947293608,
          0.3718860914407538,
          0.2847053629058795,
          -0.7893439575251157,
          -1.642169014129789,
          2.3274424411981007,
          1.2633183284786307,
          -0.2664500269888275,
          -1.1605565365059336,
          -0.36382358959654326,
          -0.5740259278524541,
          -0.9447372467663968,
          -1.4061398731208765,
          1.7657635056574208,
          0.042685599019628644,
          0.7527939395183922,
          0.1025381452497282,
          -1.0029596827640692,
          -1.3391133535210205,
          -2.431710577117348
         ]
        },
        {
         "connectgaps": false,
         "fill": "tozeroy",
         "line": {
          "color": "green",
          "dash": "solid",
          "shape": "linear",
          "width": 0.5
         },
         "mode": "lines",
         "name": "Spread",
         "showlegend": false,
         "type": "scatter",
         "x": [
          0,
          1,
          2,
          3,
          4,
          5,
          6,
          7,
          8,
          9,
          10,
          11,
          12,
          13,
          14,
          15,
          16,
          17,
          18,
          19,
          20,
          21,
          22,
          23,
          24,
          25,
          26,
          27,
          28,
          29,
          30,
          31,
          32,
          33,
          34,
          35,
          36,
          37,
          38,
          39,
          40,
          41,
          42,
          43,
          44,
          45,
          46,
          47,
          48,
          49,
          50,
          51,
          52,
          53,
          54,
          55,
          56,
          57,
          58,
          59,
          60,
          61,
          62,
          63,
          64,
          65,
          66,
          67,
          68,
          69,
          70,
          71,
          72,
          73,
          74,
          75,
          76,
          77,
          78,
          79,
          80,
          81,
          82,
          83,
          84,
          85,
          86,
          87,
          88,
          89,
          90,
          91,
          92,
          93,
          94,
          95,
          96,
          97,
          98,
          99
         ],
         "xaxis": "x2",
         "y": [
          1.6868707875906728,
          0.12362759700756976,
          "",
          1.605712201483748,
          1.7356739852005525,
          "",
          0.6442405066423402,
          3.190872573307284,
          1.2129336771133177,
          "",
          1.6360560364781476,
          "",
          1.3954824411381583,
          0.9392994840669737,
          0.20670725907926477,
          0.6197423810273888,
          "",
          2.408970263239327,
          "",
          "",
          "",
          0.3606403811779282,
          "",
          0.8431865603718571,
          1.2322342693148607,
          1.1630275536164205,
          2.8461375328208987,
          "",
          0.9034308588195122,
          0.43281831107917573,
          "",
          "",
          "",
          1.5249868995070497,
          "",
          2.0978705310250962,
          0.2047098125731175,
          "",
          1.8842939000172716,
          1.4705982525642396,
          "",
          0.6228621235783276,
          0.702068155701444,
          "",
          "",
          "",
          "",
          "",
          3.5356038791210933,
          1.4409259401403796,
          "",
          0.04085930148979189,
          0.9845644763962415,
          "",
          "",
          "",
          0.6630373630873257,
          0.9201499832141005,
          2.2563589325976285,
          "",
          1.9719395919445661,
          0.5584432169998099,
          "",
          "",
          "",
          1.575412014289841,
          "",
          "",
          "",
          "",
          1.992061280452035,
          1.2719464107126304,
          "",
          0.724011842002787,
          "",
          "",
          "",
          0.9054393767827611,
          1.6253221575071903,
          0.5266791412044947,
          1.637136909067009,
          "",
          "",
          2.0136852332012594,
          2.3503090027219073,
          "",
          "",
          1.666706252209017,
          1.9821681796972441,
          "",
          1.3310336641740053,
          "",
          1.300452159774997,
          "",
          0.1870268115195442,
          "",
          "",
          2.0601740563977033,
          2.0706259674798204,
          3.5177217938074854
         ],
         "yaxis": "y2"
        },
        {
         "connectgaps": false,
         "fill": "tozeroy",
         "line": {
          "color": "red",
          "dash": "solid",
          "shape": "linear",
          "width": 0.5
         },
         "mode": "lines",
         "name": "Spread",
         "showlegend": false,
         "type": "scatter",
         "x": [
          0,
          1,
          2,
          3,
          4,
          5,
          6,
          7,
          8,
          9,
          10,
          11,
          12,
          13,
          14,
          15,
          16,
          17,
          18,
          19,
          20,
          21,
          22,
          23,
          24,
          25,
          26,
          27,
          28,
          29,
          30,
          31,
          32,
          33,
          34,
          35,
          36,
          37,
          38,
          39,
          40,
          41,
          42,
          43,
          44,
          45,
          46,
          47,
          48,
          49,
          50,
          51,
          52,
          53,
          54,
          55,
          56,
          57,
          58,
          59,
          60,
          61,
          62,
          63,
          64,
          65,
          66,
          67,
          68,
          69,
          70,
          71,
          72,
          73,
          74,
          75,
          76,
          77,
          78,
          79,
          80,
          81,
          82,
          83,
          84,
          85,
          86,
          87,
          88,
          89,
          90,
          91,
          92,
          93,
          94,
          95,
          96,
          97,
          98,
          99
         ],
         "xaxis": "x2",
         "y": [
          "",
          "",
          -1.5041037532998982,
          "",
          "",
          -2.7820966266640417,
          "",
          "",
          "",
          -1.7995692796678062,
          "",
          -0.5652831774187462,
          "",
          "",
          "",
          "",
          -0.07766862264739105,
          "",
          -0.6270371759948323,
          -0.6731263088280834,
          -2.9204530657443417,
          "",
          -1.4438596610817336,
          "",
          "",
          "",
          "",
          -2.4875149546178097,
          "",
          "",
          -1.333198756246357,
          -1.3665364965344333,
          -0.3917023871079195,
          "",
          -1.2812432882040172,
          "",
          "",
          -1.726862672764371,
          "",
          "",
          -1.89747061111362,
          "",
          "",
          -0.849618619278201,
          -2.2432448639251685,
          -2.9513199539203243,
          -2.237466498915301,
          -0.1813843495031986,
          "",
          "",
          -0.2692772370117473,
          "",
          "",
          -0.683880608971046,
          -1.913603552273185,
          -1.3850424522331175,
          "",
          "",
          "",
          -0.44352726123215386,
          "",
          "",
          -1.1815358412311983,
          -2.1981030240521884,
          -0.2867231299257962,
          "",
          -2.2801042716412976,
          -2.3055526331257616,
          -0.8887515253727238,
          -1.227796005782798,
          "",
          "",
          -0.45707976247307913,
          "",
          -1.973488386665187,
          -0.22691006559266647,
          -1.6329903972647708,
          "",
          "",
          "",
          "",
          -0.4272295697581589,
          -0.9438176427748934,
          "",
          "",
          -2.443413571005122,
          -2.067226323861973,
          "",
          "",
          -0.5166496976525531,
          "",
          -0.3023622640302597,
          "",
          -1.3642681509187427,
          "",
          -1.098929503812549,
          -0.9029902560661014,
          "",
          "",
          ""
         ],
         "yaxis": "y2"
        }
       ],
       "layout": {
        "hovermode": "x",
        "legend": {
         "bgcolor": "#F5F6F9",
         "font": {
          "color": "#4D5663"
         }
        },
        "paper_bgcolor": "#F5F6F9",
        "plot_bgcolor": "#F5F6F9",
        "template": {
         "data": {
          "bar": [
           {
            "error_x": {
             "color": "#2a3f5f"
            },
            "error_y": {
             "color": "#2a3f5f"
            },
            "marker": {
             "line": {
              "color": "#E5ECF6",
              "width": 0.5
             },
             "pattern": {
              "fillmode": "overlay",
              "size": 10,
              "solidity": 0.2
             }
            },
            "type": "bar"
           }
          ],
          "barpolar": [
           {
            "marker": {
             "line": {
              "color": "#E5ECF6",
              "width": 0.5
             },
             "pattern": {
              "fillmode": "overlay",
              "size": 10,
              "solidity": 0.2
             }
            },
            "type": "barpolar"
           }
          ],
          "carpet": [
           {
            "aaxis": {
             "endlinecolor": "#2a3f5f",
             "gridcolor": "white",
             "linecolor": "white",
             "minorgridcolor": "white",
             "startlinecolor": "#2a3f5f"
            },
            "baxis": {
             "endlinecolor": "#2a3f5f",
             "gridcolor": "white",
             "linecolor": "white",
             "minorgridcolor": "white",
             "startlinecolor": "#2a3f5f"
            },
            "type": "carpet"
           }
          ],
          "choropleth": [
           {
            "colorbar": {
             "outlinewidth": 0,
             "ticks": ""
            },
            "type": "choropleth"
           }
          ],
          "contour": [
           {
            "colorbar": {
             "outlinewidth": 0,
             "ticks": ""
            },
            "colorscale": [
             [
              0,
              "#0d0887"
             ],
             [
              0.1111111111111111,
              "#46039f"
             ],
             [
              0.2222222222222222,
              "#7201a8"
             ],
             [
              0.3333333333333333,
              "#9c179e"
             ],
             [
              0.4444444444444444,
              "#bd3786"
             ],
             [
              0.5555555555555556,
              "#d8576b"
             ],
             [
              0.6666666666666666,
              "#ed7953"
             ],
             [
              0.7777777777777778,
              "#fb9f3a"
             ],
             [
              0.8888888888888888,
              "#fdca26"
             ],
             [
              1,
              "#f0f921"
             ]
            ],
            "type": "contour"
           }
          ],
          "contourcarpet": [
           {
            "colorbar": {
             "outlinewidth": 0,
             "ticks": ""
            },
            "type": "contourcarpet"
           }
          ],
          "heatmap": [
           {
            "colorbar": {
             "outlinewidth": 0,
             "ticks": ""
            },
            "colorscale": [
             [
              0,
              "#0d0887"
             ],
             [
              0.1111111111111111,
              "#46039f"
             ],
             [
              0.2222222222222222,
              "#7201a8"
             ],
             [
              0.3333333333333333,
              "#9c179e"
             ],
             [
              0.4444444444444444,
              "#bd3786"
             ],
             [
              0.5555555555555556,
              "#d8576b"
             ],
             [
              0.6666666666666666,
              "#ed7953"
             ],
             [
              0.7777777777777778,
              "#fb9f3a"
             ],
             [
              0.8888888888888888,
              "#fdca26"
             ],
             [
              1,
              "#f0f921"
             ]
            ],
            "type": "heatmap"
           }
          ],
          "heatmapgl": [
           {
            "colorbar": {
             "outlinewidth": 0,
             "ticks": ""
            },
            "colorscale": [
             [
              0,
              "#0d0887"
             ],
             [
              0.1111111111111111,
              "#46039f"
             ],
             [
              0.2222222222222222,
              "#7201a8"
             ],
             [
              0.3333333333333333,
              "#9c179e"
             ],
             [
              0.4444444444444444,
              "#bd3786"
             ],
             [
              0.5555555555555556,
              "#d8576b"
             ],
             [
              0.6666666666666666,
              "#ed7953"
             ],
             [
              0.7777777777777778,
              "#fb9f3a"
             ],
             [
              0.8888888888888888,
              "#fdca26"
             ],
             [
              1,
              "#f0f921"
             ]
            ],
            "type": "heatmapgl"
           }
          ],
          "histogram": [
           {
            "marker": {
             "pattern": {
              "fillmode": "overlay",
              "size": 10,
              "solidity": 0.2
             }
            },
            "type": "histogram"
           }
          ],
          "histogram2d": [
           {
            "colorbar": {
             "outlinewidth": 0,
             "ticks": ""
            },
            "colorscale": [
             [
              0,
              "#0d0887"
             ],
             [
              0.1111111111111111,
              "#46039f"
             ],
             [
              0.2222222222222222,
              "#7201a8"
             ],
             [
              0.3333333333333333,
              "#9c179e"
             ],
             [
              0.4444444444444444,
              "#bd3786"
             ],
             [
              0.5555555555555556,
              "#d8576b"
             ],
             [
              0.6666666666666666,
              "#ed7953"
             ],
             [
              0.7777777777777778,
              "#fb9f3a"
             ],
             [
              0.8888888888888888,
              "#fdca26"
             ],
             [
              1,
              "#f0f921"
             ]
            ],
            "type": "histogram2d"
           }
          ],
          "histogram2dcontour": [
           {
            "colorbar": {
             "outlinewidth": 0,
             "ticks": ""
            },
            "colorscale": [
             [
              0,
              "#0d0887"
             ],
             [
              0.1111111111111111,
              "#46039f"
             ],
             [
              0.2222222222222222,
              "#7201a8"
             ],
             [
              0.3333333333333333,
              "#9c179e"
             ],
             [
              0.4444444444444444,
              "#bd3786"
             ],
             [
              0.5555555555555556,
              "#d8576b"
             ],
             [
              0.6666666666666666,
              "#ed7953"
             ],
             [
              0.7777777777777778,
              "#fb9f3a"
             ],
             [
              0.8888888888888888,
              "#fdca26"
             ],
             [
              1,
              "#f0f921"
             ]
            ],
            "type": "histogram2dcontour"
           }
          ],
          "mesh3d": [
           {
            "colorbar": {
             "outlinewidth": 0,
             "ticks": ""
            },
            "type": "mesh3d"
           }
          ],
          "parcoords": [
           {
            "line": {
             "colorbar": {
              "outlinewidth": 0,
              "ticks": ""
             }
            },
            "type": "parcoords"
           }
          ],
          "pie": [
           {
            "automargin": true,
            "type": "pie"
           }
          ],
          "scatter": [
           {
            "marker": {
             "colorbar": {
              "outlinewidth": 0,
              "ticks": ""
             }
            },
            "type": "scatter"
           }
          ],
          "scatter3d": [
           {
            "line": {
             "colorbar": {
              "outlinewidth": 0,
              "ticks": ""
             }
            },
            "marker": {
             "colorbar": {
              "outlinewidth": 0,
              "ticks": ""
             }
            },
            "type": "scatter3d"
           }
          ],
          "scattercarpet": [
           {
            "marker": {
             "colorbar": {
              "outlinewidth": 0,
              "ticks": ""
             }
            },
            "type": "scattercarpet"
           }
          ],
          "scattergeo": [
           {
            "marker": {
             "colorbar": {
              "outlinewidth": 0,
              "ticks": ""
             }
            },
            "type": "scattergeo"
           }
          ],
          "scattergl": [
           {
            "marker": {
             "colorbar": {
              "outlinewidth": 0,
              "ticks": ""
             }
            },
            "type": "scattergl"
           }
          ],
          "scattermapbox": [
           {
            "marker": {
             "colorbar": {
              "outlinewidth": 0,
              "ticks": ""
             }
            },
            "type": "scattermapbox"
           }
          ],
          "scatterpolar": [
           {
            "marker": {
             "colorbar": {
              "outlinewidth": 0,
              "ticks": ""
             }
            },
            "type": "scatterpolar"
           }
          ],
          "scatterpolargl": [
           {
            "marker": {
             "colorbar": {
              "outlinewidth": 0,
              "ticks": ""
             }
            },
            "type": "scatterpolargl"
           }
          ],
          "scatterternary": [
           {
            "marker": {
             "colorbar": {
              "outlinewidth": 0,
              "ticks": ""
             }
            },
            "type": "scatterternary"
           }
          ],
          "surface": [
           {
            "colorbar": {
             "outlinewidth": 0,
             "ticks": ""
            },
            "colorscale": [
             [
              0,
              "#0d0887"
             ],
             [
              0.1111111111111111,
              "#46039f"
             ],
             [
              0.2222222222222222,
              "#7201a8"
             ],
             [
              0.3333333333333333,
              "#9c179e"
             ],
             [
              0.4444444444444444,
              "#bd3786"
             ],
             [
              0.5555555555555556,
              "#d8576b"
             ],
             [
              0.6666666666666666,
              "#ed7953"
             ],
             [
              0.7777777777777778,
              "#fb9f3a"
             ],
             [
              0.8888888888888888,
              "#fdca26"
             ],
             [
              1,
              "#f0f921"
             ]
            ],
            "type": "surface"
           }
          ],
          "table": [
           {
            "cells": {
             "fill": {
              "color": "#EBF0F8"
             },
             "line": {
              "color": "white"
             }
            },
            "header": {
             "fill": {
              "color": "#C8D4E3"
             },
             "line": {
              "color": "white"
             }
            },
            "type": "table"
           }
          ]
         },
         "layout": {
          "annotationdefaults": {
           "arrowcolor": "#2a3f5f",
           "arrowhead": 0,
           "arrowwidth": 1
          },
          "autotypenumbers": "strict",
          "coloraxis": {
           "colorbar": {
            "outlinewidth": 0,
            "ticks": ""
           }
          },
          "colorscale": {
           "diverging": [
            [
             0,
             "#8e0152"
            ],
            [
             0.1,
             "#c51b7d"
            ],
            [
             0.2,
             "#de77ae"
            ],
            [
             0.3,
             "#f1b6da"
            ],
            [
             0.4,
             "#fde0ef"
            ],
            [
             0.5,
             "#f7f7f7"
            ],
            [
             0.6,
             "#e6f5d0"
            ],
            [
             0.7,
             "#b8e186"
            ],
            [
             0.8,
             "#7fbc41"
            ],
            [
             0.9,
             "#4d9221"
            ],
            [
             1,
             "#276419"
            ]
           ],
           "sequential": [
            [
             0,
             "#0d0887"
            ],
            [
             0.1111111111111111,
             "#46039f"
            ],
            [
             0.2222222222222222,
             "#7201a8"
            ],
            [
             0.3333333333333333,
             "#9c179e"
            ],
            [
             0.4444444444444444,
             "#bd3786"
            ],
            [
             0.5555555555555556,
             "#d8576b"
            ],
            [
             0.6666666666666666,
             "#ed7953"
            ],
            [
             0.7777777777777778,
             "#fb9f3a"
            ],
            [
             0.8888888888888888,
             "#fdca26"
            ],
            [
             1,
             "#f0f921"
            ]
           ],
           "sequentialminus": [
            [
             0,
             "#0d0887"
            ],
            [
             0.1111111111111111,
             "#46039f"
            ],
            [
             0.2222222222222222,
             "#7201a8"
            ],
            [
             0.3333333333333333,
             "#9c179e"
            ],
            [
             0.4444444444444444,
             "#bd3786"
            ],
            [
             0.5555555555555556,
             "#d8576b"
            ],
            [
             0.6666666666666666,
             "#ed7953"
            ],
            [
             0.7777777777777778,
             "#fb9f3a"
            ],
            [
             0.8888888888888888,
             "#fdca26"
            ],
            [
             1,
             "#f0f921"
            ]
           ]
          },
          "colorway": [
           "#636efa",
           "#EF553B",
           "#00cc96",
           "#ab63fa",
           "#FFA15A",
           "#19d3f3",
           "#FF6692",
           "#B6E880",
           "#FF97FF",
           "#FECB52"
          ],
          "font": {
           "color": "#2a3f5f"
          },
          "geo": {
           "bgcolor": "white",
           "lakecolor": "white",
           "landcolor": "#E5ECF6",
           "showlakes": true,
           "showland": true,
           "subunitcolor": "white"
          },
          "hoverlabel": {
           "align": "left"
          },
          "hovermode": "closest",
          "mapbox": {
           "style": "light"
          },
          "paper_bgcolor": "white",
          "plot_bgcolor": "#E5ECF6",
          "polar": {
           "angularaxis": {
            "gridcolor": "white",
            "linecolor": "white",
            "ticks": ""
           },
           "bgcolor": "#E5ECF6",
           "radialaxis": {
            "gridcolor": "white",
            "linecolor": "white",
            "ticks": ""
           }
          },
          "scene": {
           "xaxis": {
            "backgroundcolor": "#E5ECF6",
            "gridcolor": "white",
            "gridwidth": 2,
            "linecolor": "white",
            "showbackground": true,
            "ticks": "",
            "zerolinecolor": "white"
           },
           "yaxis": {
            "backgroundcolor": "#E5ECF6",
            "gridcolor": "white",
            "gridwidth": 2,
            "linecolor": "white",
            "showbackground": true,
            "ticks": "",
            "zerolinecolor": "white"
           },
           "zaxis": {
            "backgroundcolor": "#E5ECF6",
            "gridcolor": "white",
            "gridwidth": 2,
            "linecolor": "white",
            "showbackground": true,
            "ticks": "",
            "zerolinecolor": "white"
           }
          },
          "shapedefaults": {
           "line": {
            "color": "#2a3f5f"
           }
          },
          "ternary": {
           "aaxis": {
            "gridcolor": "white",
            "linecolor": "white",
            "ticks": ""
           },
           "baxis": {
            "gridcolor": "white",
            "linecolor": "white",
            "ticks": ""
           },
           "bgcolor": "#E5ECF6",
           "caxis": {
            "gridcolor": "white",
            "linecolor": "white",
            "ticks": ""
           }
          },
          "title": {
           "x": 0.05
          },
          "xaxis": {
           "automargin": true,
           "gridcolor": "white",
           "linecolor": "white",
           "ticks": "",
           "title": {
            "standoff": 15
           },
           "zerolinecolor": "white",
           "zerolinewidth": 2
          },
          "yaxis": {
           "automargin": true,
           "gridcolor": "white",
           "linecolor": "white",
           "ticks": "",
           "title": {
            "standoff": 15
           },
           "zerolinecolor": "white",
           "zerolinewidth": 2
          }
         }
        },
        "title": {
         "font": {
          "color": "#4D5663"
         }
        },
        "xaxis": {
         "gridcolor": "#E1E5ED",
         "showgrid": true,
         "tickfont": {
          "color": "#4D5663"
         },
         "title": {
          "font": {
           "color": "#4D5663"
          },
          "text": ""
         },
         "zerolinecolor": "#E1E5ED"
        },
        "xaxis2": {
         "anchor": "y2",
         "gridcolor": "#E1E5ED",
         "showgrid": true,
         "showticklabels": false,
         "tickfont": {
          "color": "#4D5663"
         },
         "title": {
          "font": {
           "color": "#4D5663"
          },
          "text": ""
         },
         "zerolinecolor": "#E1E5ED"
        },
        "yaxis": {
         "domain": [
          0.3,
          1
         ],
         "gridcolor": "#E1E5ED",
         "showgrid": true,
         "tickfont": {
          "color": "#4D5663"
         },
         "title": {
          "font": {
           "color": "#4D5663"
          },
          "text": ""
         },
         "zerolinecolor": "#E1E5ED"
        },
        "yaxis2": {
         "domain": [
          0,
          0.25
         ],
         "gridcolor": "#E1E5ED",
         "showgrid": true,
         "tickfont": {
          "color": "#4D5663"
         },
         "title": {
          "font": {
           "color": "#4D5663"
          },
          "text": "Spread"
         },
         "zerolinecolor": "#E1E5ED"
        }
       }
      },
      "text/html": [
       "<div>                            <div id=\"1ec68024-d8b5-4557-a960-1f69407b6382\" class=\"plotly-graph-div\" style=\"height:525px; width:100%;\"></div>            <script type=\"text/javascript\">                require([\"plotly\"], function(Plotly) {                    window.PLOTLYENV=window.PLOTLYENV || {};\n",
       "                    window.PLOTLYENV.BASE_URL='https://plot.ly';                                    if (document.getElementById(\"1ec68024-d8b5-4557-a960-1f69407b6382\")) {                    Plotly.newPlot(                        \"1ec68024-d8b5-4557-a960-1f69407b6382\",                        [{\"line\":{\"color\":\"rgba(255, 153, 51, 1.0)\",\"dash\":\"solid\",\"shape\":\"linear\",\"width\":1.3},\"mode\":\"lines\",\"name\":\"A\",\"text\":\"\",\"x\":[0,1,2,3,4,5,6,7,8,9,10,11,12,13,14,15,16,17,18,19,20,21,22,23,24,25,26,27,28,29,30,31,32,33,34,35,36,37,38,39,40,41,42,43,44,45,46,47,48,49,50,51,52,53,54,55,56,57,58,59,60,61,62,63,64,65,66,67,68,69,70,71,72,73,74,75,76,77,78,79,80,81,82,83,84,85,86,87,88,89,90,91,92,93,94,95,96,97,98,99],\"y\":[1.8546943094246786,0.7484318595969548,-1.3003802265817697,0.5466013635649044,0.5936748444947731,-1.8998908810208484,0.33721413564963915,1.1337712628923053,1.359082325911419,1.0243456616090953,-0.7769188276254685,0.15627448332439178,0.02909909907259362,0.5340802561947197,0.44166099876698245,0.07418337277071425,-1.2166485828944438,0.4704216470315535,0.1776738729336818,-0.9082445699203281,-0.5882378507295679,1.2566415972493183,-0.6219653660070883,0.39494223876348156,1.4308659933450811,1.49581915347491,0.4076595706023893,-1.2939477605182126,0.973390369604027,0.840098155584022,-0.5185938843649213,0.10199556541041863,0.8500271871363656,1.1539670862850304,-1.0848994588674004,0.8384190457546357,0.6937565388763399,-1.410582449207463,0.0690709545571296,2.0081983789111573,-1.0046445131062767,0.7516523194583801,1.3873453206817357,0.0743343655411143,0.13912434845424487,-1.0530483619299962,-0.5065833576247132,1.0048844700796773,1.6869679168211584,-0.6326703784319785,-0.14584422183332776,-0.3012231557587274,0.9861559735709121,-1.3944268538824043,0.205266530140708,-0.3526912470632605,0.5139945168452866,0.6431761536884101,0.8533221153361462,0.3634162498544376,1.488558770362642,0.39118080162568675,-0.4064937772536102,-1.3424483605503834,-0.8484394801485337,0.442011011278428,0.5552676006967177,-1.1550992405702285,-0.045464650893156155,-0.22856117724941144,0.6310239049105584,1.443996432243972,-0.14437703793582427,-1.8093132042767839,-0.8965944258926464,-0.7955997958807984,-0.4820361239791199,0.5371266880897007,-0.23005501754629296,-0.24086175705188134,0.2530975143376481,-0.055343478317405104,-0.6591122798690139,1.2243412756761436,0.708139988592118,-0.11597112980702137,-0.8039079953833423,1.4002562252201896,0.8216116431913105,-0.8804732872490963,0.7570077363215513,-1.2470995107966565,-0.10568771334587965,0.4014953547386781,0.22971241053917285,-0.3461355642941567,-0.8004521108163732,1.0572143736336341,0.7315126139588002,1.0860112166901377],\"type\":\"scatter\"},{\"line\":{\"color\":\"rgba(55, 128, 191, 1.0)\",\"dash\":\"solid\",\"shape\":\"linear\",\"width\":1.3},\"mode\":\"lines\",\"name\":\"B\",\"text\":\"\",\"x\":[0,1,2,3,4,5,6,7,8,9,10,11,12,13,14,15,16,17,18,19,20,21,22,23,24,25,26,27,28,29,30,31,32,33,34,35,36,37,38,39,40,41,42,43,44,45,46,47,48,49,50,51,52,53,54,55,56,57,58,59,60,61,62,63,64,65,66,67,68,69,70,71,72,73,74,75,76,77,78,79,80,81,82,83,84,85,86,87,88,89,90,91,92,93,94,95,96,97,98,99],\"y\":[0.16782352183400587,0.624804262589385,0.20372352671812846,-1.0591108379188434,-1.1419991407057792,0.8822057456431932,-0.30702637099270114,-2.0571013104149785,0.14614864879810144,2.8239149412769016,-2.412974864103616,0.721557660743138,-1.3663833420655647,-0.4052192278722541,0.23495373968771768,-0.5455590082566745,-1.1389799602470527,-1.9385486162077734,0.8047110489285142,-0.2351182610922446,2.3322152150147737,0.8960012160713902,0.8218942950746454,-0.4482443216083756,0.19863172403022056,0.33279159985848933,-2.4384779622185095,1.193567194099597,0.06995951078451483,0.4072798445048463,0.8146048718814357,1.4685320619448519,1.241729574244285,-0.37101981322201927,0.19634382933661695,-1.2594514852704604,0.48904672630322243,0.31628022355690794,-1.815222945460142,0.5376001263469178,0.8928260980073432,0.12879019588005242,0.6852771649802917,0.9239529848193153,2.3823692123794133,1.8982715919903281,1.7308831412905878,1.1862688195828759,-1.848635962299935,-2.073596318572358,0.12343301517841951,-0.34208245724851927,0.001591497174670703,-0.7105462449113583,2.118870082413893,1.0323512051698571,-0.14904284624203912,-0.27697382952569033,-1.4030368172614824,0.8069435110865915,-0.48338082158192425,-0.16726241537412317,0.7750420639775881,0.8556546635018052,-0.5617163502227375,-1.1334010030114128,2.8353718723380155,1.1504533925555331,0.8432868744795676,0.9992348285333864,-1.3610373755414766,0.17205002153134172,0.3127027245372549,-2.533325046279571,1.0768939607725407,-0.568689730288132,1.1509542732856508,-0.3683126886930604,-1.8553771750534833,-0.767540898256376,-1.3840393947293608,0.3718860914407538,0.2847053629058795,-0.7893439575251157,-1.642169014129789,2.3274424411981007,1.2633183284786307,-0.2664500269888275,-1.1605565365059336,-0.36382358959654326,-0.5740259278524541,-0.9447372467663968,-1.4061398731208765,1.7657635056574208,0.042685599019628644,0.7527939395183922,0.1025381452497282,-1.0029596827640692,-1.3391133535210205,-2.431710577117348],\"type\":\"scatter\"},{\"connectgaps\":false,\"fill\":\"tozeroy\",\"line\":{\"color\":\"green\",\"dash\":\"solid\",\"shape\":\"linear\",\"width\":0.5},\"mode\":\"lines\",\"name\":\"Spread\",\"showlegend\":false,\"x\":[0,1,2,3,4,5,6,7,8,9,10,11,12,13,14,15,16,17,18,19,20,21,22,23,24,25,26,27,28,29,30,31,32,33,34,35,36,37,38,39,40,41,42,43,44,45,46,47,48,49,50,51,52,53,54,55,56,57,58,59,60,61,62,63,64,65,66,67,68,69,70,71,72,73,74,75,76,77,78,79,80,81,82,83,84,85,86,87,88,89,90,91,92,93,94,95,96,97,98,99],\"xaxis\":\"x2\",\"y\":[1.6868707875906728,0.12362759700756976,\"\",1.605712201483748,1.7356739852005525,\"\",0.6442405066423402,3.190872573307284,1.2129336771133177,\"\",1.6360560364781476,\"\",1.3954824411381583,0.9392994840669737,0.20670725907926477,0.6197423810273888,\"\",2.408970263239327,\"\",\"\",\"\",0.3606403811779282,\"\",0.8431865603718571,1.2322342693148607,1.1630275536164205,2.8461375328208987,\"\",0.9034308588195122,0.43281831107917573,\"\",\"\",\"\",1.5249868995070497,\"\",2.0978705310250962,0.2047098125731175,\"\",1.8842939000172716,1.4705982525642396,\"\",0.6228621235783276,0.702068155701444,\"\",\"\",\"\",\"\",\"\",3.5356038791210933,1.4409259401403796,\"\",0.04085930148979189,0.9845644763962415,\"\",\"\",\"\",0.6630373630873257,0.9201499832141005,2.2563589325976285,\"\",1.9719395919445661,0.5584432169998099,\"\",\"\",\"\",1.575412014289841,\"\",\"\",\"\",\"\",1.992061280452035,1.2719464107126304,\"\",0.724011842002787,\"\",\"\",\"\",0.9054393767827611,1.6253221575071903,0.5266791412044947,1.637136909067009,\"\",\"\",2.0136852332012594,2.3503090027219073,\"\",\"\",1.666706252209017,1.9821681796972441,\"\",1.3310336641740053,\"\",1.300452159774997,\"\",0.1870268115195442,\"\",\"\",2.0601740563977033,2.0706259674798204,3.5177217938074854],\"yaxis\":\"y2\",\"type\":\"scatter\"},{\"connectgaps\":false,\"fill\":\"tozeroy\",\"line\":{\"color\":\"red\",\"dash\":\"solid\",\"shape\":\"linear\",\"width\":0.5},\"mode\":\"lines\",\"name\":\"Spread\",\"showlegend\":false,\"x\":[0,1,2,3,4,5,6,7,8,9,10,11,12,13,14,15,16,17,18,19,20,21,22,23,24,25,26,27,28,29,30,31,32,33,34,35,36,37,38,39,40,41,42,43,44,45,46,47,48,49,50,51,52,53,54,55,56,57,58,59,60,61,62,63,64,65,66,67,68,69,70,71,72,73,74,75,76,77,78,79,80,81,82,83,84,85,86,87,88,89,90,91,92,93,94,95,96,97,98,99],\"xaxis\":\"x2\",\"y\":[\"\",\"\",-1.5041037532998982,\"\",\"\",-2.7820966266640417,\"\",\"\",\"\",-1.7995692796678062,\"\",-0.5652831774187462,\"\",\"\",\"\",\"\",-0.07766862264739105,\"\",-0.6270371759948323,-0.6731263088280834,-2.9204530657443417,\"\",-1.4438596610817336,\"\",\"\",\"\",\"\",-2.4875149546178097,\"\",\"\",-1.333198756246357,-1.3665364965344333,-0.3917023871079195,\"\",-1.2812432882040172,\"\",\"\",-1.726862672764371,\"\",\"\",-1.89747061111362,\"\",\"\",-0.849618619278201,-2.2432448639251685,-2.9513199539203243,-2.237466498915301,-0.1813843495031986,\"\",\"\",-0.2692772370117473,\"\",\"\",-0.683880608971046,-1.913603552273185,-1.3850424522331175,\"\",\"\",\"\",-0.44352726123215386,\"\",\"\",-1.1815358412311983,-2.1981030240521884,-0.2867231299257962,\"\",-2.2801042716412976,-2.3055526331257616,-0.8887515253727238,-1.227796005782798,\"\",\"\",-0.45707976247307913,\"\",-1.973488386665187,-0.22691006559266647,-1.6329903972647708,\"\",\"\",\"\",\"\",-0.4272295697581589,-0.9438176427748934,\"\",\"\",-2.443413571005122,-2.067226323861973,\"\",\"\",-0.5166496976525531,\"\",-0.3023622640302597,\"\",-1.3642681509187427,\"\",-1.098929503812549,-0.9029902560661014,\"\",\"\",\"\"],\"yaxis\":\"y2\",\"type\":\"scatter\"}],                        {\"hovermode\":\"x\",\"legend\":{\"bgcolor\":\"#F5F6F9\",\"font\":{\"color\":\"#4D5663\"}},\"paper_bgcolor\":\"#F5F6F9\",\"plot_bgcolor\":\"#F5F6F9\",\"template\":{\"data\":{\"barpolar\":[{\"marker\":{\"line\":{\"color\":\"#E5ECF6\",\"width\":0.5},\"pattern\":{\"fillmode\":\"overlay\",\"size\":10,\"solidity\":0.2}},\"type\":\"barpolar\"}],\"bar\":[{\"error_x\":{\"color\":\"#2a3f5f\"},\"error_y\":{\"color\":\"#2a3f5f\"},\"marker\":{\"line\":{\"color\":\"#E5ECF6\",\"width\":0.5},\"pattern\":{\"fillmode\":\"overlay\",\"size\":10,\"solidity\":0.2}},\"type\":\"bar\"}],\"carpet\":[{\"aaxis\":{\"endlinecolor\":\"#2a3f5f\",\"gridcolor\":\"white\",\"linecolor\":\"white\",\"minorgridcolor\":\"white\",\"startlinecolor\":\"#2a3f5f\"},\"baxis\":{\"endlinecolor\":\"#2a3f5f\",\"gridcolor\":\"white\",\"linecolor\":\"white\",\"minorgridcolor\":\"white\",\"startlinecolor\":\"#2a3f5f\"},\"type\":\"carpet\"}],\"choropleth\":[{\"colorbar\":{\"outlinewidth\":0,\"ticks\":\"\"},\"type\":\"choropleth\"}],\"contourcarpet\":[{\"colorbar\":{\"outlinewidth\":0,\"ticks\":\"\"},\"type\":\"contourcarpet\"}],\"contour\":[{\"colorbar\":{\"outlinewidth\":0,\"ticks\":\"\"},\"colorscale\":[[0.0,\"#0d0887\"],[0.1111111111111111,\"#46039f\"],[0.2222222222222222,\"#7201a8\"],[0.3333333333333333,\"#9c179e\"],[0.4444444444444444,\"#bd3786\"],[0.5555555555555556,\"#d8576b\"],[0.6666666666666666,\"#ed7953\"],[0.7777777777777778,\"#fb9f3a\"],[0.8888888888888888,\"#fdca26\"],[1.0,\"#f0f921\"]],\"type\":\"contour\"}],\"heatmapgl\":[{\"colorbar\":{\"outlinewidth\":0,\"ticks\":\"\"},\"colorscale\":[[0.0,\"#0d0887\"],[0.1111111111111111,\"#46039f\"],[0.2222222222222222,\"#7201a8\"],[0.3333333333333333,\"#9c179e\"],[0.4444444444444444,\"#bd3786\"],[0.5555555555555556,\"#d8576b\"],[0.6666666666666666,\"#ed7953\"],[0.7777777777777778,\"#fb9f3a\"],[0.8888888888888888,\"#fdca26\"],[1.0,\"#f0f921\"]],\"type\":\"heatmapgl\"}],\"heatmap\":[{\"colorbar\":{\"outlinewidth\":0,\"ticks\":\"\"},\"colorscale\":[[0.0,\"#0d0887\"],[0.1111111111111111,\"#46039f\"],[0.2222222222222222,\"#7201a8\"],[0.3333333333333333,\"#9c179e\"],[0.4444444444444444,\"#bd3786\"],[0.5555555555555556,\"#d8576b\"],[0.6666666666666666,\"#ed7953\"],[0.7777777777777778,\"#fb9f3a\"],[0.8888888888888888,\"#fdca26\"],[1.0,\"#f0f921\"]],\"type\":\"heatmap\"}],\"histogram2dcontour\":[{\"colorbar\":{\"outlinewidth\":0,\"ticks\":\"\"},\"colorscale\":[[0.0,\"#0d0887\"],[0.1111111111111111,\"#46039f\"],[0.2222222222222222,\"#7201a8\"],[0.3333333333333333,\"#9c179e\"],[0.4444444444444444,\"#bd3786\"],[0.5555555555555556,\"#d8576b\"],[0.6666666666666666,\"#ed7953\"],[0.7777777777777778,\"#fb9f3a\"],[0.8888888888888888,\"#fdca26\"],[1.0,\"#f0f921\"]],\"type\":\"histogram2dcontour\"}],\"histogram2d\":[{\"colorbar\":{\"outlinewidth\":0,\"ticks\":\"\"},\"colorscale\":[[0.0,\"#0d0887\"],[0.1111111111111111,\"#46039f\"],[0.2222222222222222,\"#7201a8\"],[0.3333333333333333,\"#9c179e\"],[0.4444444444444444,\"#bd3786\"],[0.5555555555555556,\"#d8576b\"],[0.6666666666666666,\"#ed7953\"],[0.7777777777777778,\"#fb9f3a\"],[0.8888888888888888,\"#fdca26\"],[1.0,\"#f0f921\"]],\"type\":\"histogram2d\"}],\"histogram\":[{\"marker\":{\"pattern\":{\"fillmode\":\"overlay\",\"size\":10,\"solidity\":0.2}},\"type\":\"histogram\"}],\"mesh3d\":[{\"colorbar\":{\"outlinewidth\":0,\"ticks\":\"\"},\"type\":\"mesh3d\"}],\"parcoords\":[{\"line\":{\"colorbar\":{\"outlinewidth\":0,\"ticks\":\"\"}},\"type\":\"parcoords\"}],\"pie\":[{\"automargin\":true,\"type\":\"pie\"}],\"scatter3d\":[{\"line\":{\"colorbar\":{\"outlinewidth\":0,\"ticks\":\"\"}},\"marker\":{\"colorbar\":{\"outlinewidth\":0,\"ticks\":\"\"}},\"type\":\"scatter3d\"}],\"scattercarpet\":[{\"marker\":{\"colorbar\":{\"outlinewidth\":0,\"ticks\":\"\"}},\"type\":\"scattercarpet\"}],\"scattergeo\":[{\"marker\":{\"colorbar\":{\"outlinewidth\":0,\"ticks\":\"\"}},\"type\":\"scattergeo\"}],\"scattergl\":[{\"marker\":{\"colorbar\":{\"outlinewidth\":0,\"ticks\":\"\"}},\"type\":\"scattergl\"}],\"scattermapbox\":[{\"marker\":{\"colorbar\":{\"outlinewidth\":0,\"ticks\":\"\"}},\"type\":\"scattermapbox\"}],\"scatterpolargl\":[{\"marker\":{\"colorbar\":{\"outlinewidth\":0,\"ticks\":\"\"}},\"type\":\"scatterpolargl\"}],\"scatterpolar\":[{\"marker\":{\"colorbar\":{\"outlinewidth\":0,\"ticks\":\"\"}},\"type\":\"scatterpolar\"}],\"scatter\":[{\"marker\":{\"colorbar\":{\"outlinewidth\":0,\"ticks\":\"\"}},\"type\":\"scatter\"}],\"scatterternary\":[{\"marker\":{\"colorbar\":{\"outlinewidth\":0,\"ticks\":\"\"}},\"type\":\"scatterternary\"}],\"surface\":[{\"colorbar\":{\"outlinewidth\":0,\"ticks\":\"\"},\"colorscale\":[[0.0,\"#0d0887\"],[0.1111111111111111,\"#46039f\"],[0.2222222222222222,\"#7201a8\"],[0.3333333333333333,\"#9c179e\"],[0.4444444444444444,\"#bd3786\"],[0.5555555555555556,\"#d8576b\"],[0.6666666666666666,\"#ed7953\"],[0.7777777777777778,\"#fb9f3a\"],[0.8888888888888888,\"#fdca26\"],[1.0,\"#f0f921\"]],\"type\":\"surface\"}],\"table\":[{\"cells\":{\"fill\":{\"color\":\"#EBF0F8\"},\"line\":{\"color\":\"white\"}},\"header\":{\"fill\":{\"color\":\"#C8D4E3\"},\"line\":{\"color\":\"white\"}},\"type\":\"table\"}]},\"layout\":{\"annotationdefaults\":{\"arrowcolor\":\"#2a3f5f\",\"arrowhead\":0,\"arrowwidth\":1},\"autotypenumbers\":\"strict\",\"coloraxis\":{\"colorbar\":{\"outlinewidth\":0,\"ticks\":\"\"}},\"colorscale\":{\"diverging\":[[0,\"#8e0152\"],[0.1,\"#c51b7d\"],[0.2,\"#de77ae\"],[0.3,\"#f1b6da\"],[0.4,\"#fde0ef\"],[0.5,\"#f7f7f7\"],[0.6,\"#e6f5d0\"],[0.7,\"#b8e186\"],[0.8,\"#7fbc41\"],[0.9,\"#4d9221\"],[1,\"#276419\"]],\"sequential\":[[0.0,\"#0d0887\"],[0.1111111111111111,\"#46039f\"],[0.2222222222222222,\"#7201a8\"],[0.3333333333333333,\"#9c179e\"],[0.4444444444444444,\"#bd3786\"],[0.5555555555555556,\"#d8576b\"],[0.6666666666666666,\"#ed7953\"],[0.7777777777777778,\"#fb9f3a\"],[0.8888888888888888,\"#fdca26\"],[1.0,\"#f0f921\"]],\"sequentialminus\":[[0.0,\"#0d0887\"],[0.1111111111111111,\"#46039f\"],[0.2222222222222222,\"#7201a8\"],[0.3333333333333333,\"#9c179e\"],[0.4444444444444444,\"#bd3786\"],[0.5555555555555556,\"#d8576b\"],[0.6666666666666666,\"#ed7953\"],[0.7777777777777778,\"#fb9f3a\"],[0.8888888888888888,\"#fdca26\"],[1.0,\"#f0f921\"]]},\"colorway\":[\"#636efa\",\"#EF553B\",\"#00cc96\",\"#ab63fa\",\"#FFA15A\",\"#19d3f3\",\"#FF6692\",\"#B6E880\",\"#FF97FF\",\"#FECB52\"],\"font\":{\"color\":\"#2a3f5f\"},\"geo\":{\"bgcolor\":\"white\",\"lakecolor\":\"white\",\"landcolor\":\"#E5ECF6\",\"showlakes\":true,\"showland\":true,\"subunitcolor\":\"white\"},\"hoverlabel\":{\"align\":\"left\"},\"hovermode\":\"closest\",\"mapbox\":{\"style\":\"light\"},\"paper_bgcolor\":\"white\",\"plot_bgcolor\":\"#E5ECF6\",\"polar\":{\"angularaxis\":{\"gridcolor\":\"white\",\"linecolor\":\"white\",\"ticks\":\"\"},\"bgcolor\":\"#E5ECF6\",\"radialaxis\":{\"gridcolor\":\"white\",\"linecolor\":\"white\",\"ticks\":\"\"}},\"scene\":{\"xaxis\":{\"backgroundcolor\":\"#E5ECF6\",\"gridcolor\":\"white\",\"gridwidth\":2,\"linecolor\":\"white\",\"showbackground\":true,\"ticks\":\"\",\"zerolinecolor\":\"white\"},\"yaxis\":{\"backgroundcolor\":\"#E5ECF6\",\"gridcolor\":\"white\",\"gridwidth\":2,\"linecolor\":\"white\",\"showbackground\":true,\"ticks\":\"\",\"zerolinecolor\":\"white\"},\"zaxis\":{\"backgroundcolor\":\"#E5ECF6\",\"gridcolor\":\"white\",\"gridwidth\":2,\"linecolor\":\"white\",\"showbackground\":true,\"ticks\":\"\",\"zerolinecolor\":\"white\"}},\"shapedefaults\":{\"line\":{\"color\":\"#2a3f5f\"}},\"ternary\":{\"aaxis\":{\"gridcolor\":\"white\",\"linecolor\":\"white\",\"ticks\":\"\"},\"baxis\":{\"gridcolor\":\"white\",\"linecolor\":\"white\",\"ticks\":\"\"},\"bgcolor\":\"#E5ECF6\",\"caxis\":{\"gridcolor\":\"white\",\"linecolor\":\"white\",\"ticks\":\"\"}},\"title\":{\"x\":0.05},\"xaxis\":{\"automargin\":true,\"gridcolor\":\"white\",\"linecolor\":\"white\",\"ticks\":\"\",\"title\":{\"standoff\":15},\"zerolinecolor\":\"white\",\"zerolinewidth\":2},\"yaxis\":{\"automargin\":true,\"gridcolor\":\"white\",\"linecolor\":\"white\",\"ticks\":\"\",\"title\":{\"standoff\":15},\"zerolinecolor\":\"white\",\"zerolinewidth\":2}}},\"title\":{\"font\":{\"color\":\"#4D5663\"}},\"xaxis\":{\"gridcolor\":\"#E1E5ED\",\"showgrid\":true,\"tickfont\":{\"color\":\"#4D5663\"},\"title\":{\"font\":{\"color\":\"#4D5663\"},\"text\":\"\"},\"zerolinecolor\":\"#E1E5ED\"},\"yaxis\":{\"domain\":[0.3,1],\"gridcolor\":\"#E1E5ED\",\"showgrid\":true,\"tickfont\":{\"color\":\"#4D5663\"},\"title\":{\"font\":{\"color\":\"#4D5663\"},\"text\":\"\"},\"zerolinecolor\":\"#E1E5ED\"},\"yaxis2\":{\"domain\":[0,0.25],\"gridcolor\":\"#E1E5ED\",\"showgrid\":true,\"tickfont\":{\"color\":\"#4D5663\"},\"title\":{\"font\":{\"color\":\"#4D5663\"},\"text\":\"Spread\"},\"zerolinecolor\":\"#E1E5ED\"},\"xaxis2\":{\"anchor\":\"y2\",\"gridcolor\":\"#E1E5ED\",\"showgrid\":true,\"showticklabels\":false,\"tickfont\":{\"color\":\"#4D5663\"},\"title\":{\"font\":{\"color\":\"#4D5663\"},\"text\":\"\"},\"zerolinecolor\":\"#E1E5ED\"}},                        {\"showLink\": true, \"linkText\": \"Export to plot.ly\", \"plotlyServerURL\": \"https://plot.ly\", \"responsive\": true}                    ).then(function(){\n",
       "                            \n",
       "var gd = document.getElementById('1ec68024-d8b5-4557-a960-1f69407b6382');\n",
       "var x = new MutationObserver(function (mutations, observer) {{\n",
       "        var display = window.getComputedStyle(gd).display;\n",
       "        if (!display || display === 'none') {{\n",
       "            console.log([gd, 'removed!']);\n",
       "            Plotly.purge(gd);\n",
       "            observer.disconnect();\n",
       "        }}\n",
       "}});\n",
       "\n",
       "// Listen for the removal of the full notebook cells\n",
       "var notebookContainer = gd.closest('#notebook-container');\n",
       "if (notebookContainer) {{\n",
       "    x.observe(notebookContainer, {childList: true});\n",
       "}}\n",
       "\n",
       "// Listen for the clearing of the current output cell\n",
       "var outputEl = gd.closest('.output');\n",
       "if (outputEl) {{\n",
       "    x.observe(outputEl, {childList: true});\n",
       "}}\n",
       "\n",
       "                        })                };                });            </script>        </div>"
      ]
     },
     "metadata": {},
     "output_type": "display_data"
    }
   ],
   "source": [
    "df[['A','B']].iplot(kind='spread')"
   ]
  },
  {
   "cell_type": "markdown",
   "metadata": {},
   "source": [
    "## histogram"
   ]
  },
  {
   "cell_type": "code",
   "execution_count": 16,
   "metadata": {},
   "outputs": [
    {
     "data": {
      "application/vnd.plotly.v1+json": {
       "config": {
        "linkText": "Export to plot.ly",
        "plotlyServerURL": "https://plot.ly",
        "showLink": true
       },
       "data": [
        {
         "histfunc": "count",
         "histnorm": "",
         "marker": {
          "color": "rgba(255, 153, 51, 1.0)",
          "line": {
           "color": "#4D5663",
           "width": 1.3
          }
         },
         "name": "A",
         "nbinsx": 25,
         "opacity": 0.8,
         "orientation": "v",
         "type": "histogram",
         "x": [
          1.8546943094246786,
          0.7484318595969548,
          -1.3003802265817697,
          0.5466013635649044,
          0.5936748444947731,
          -1.8998908810208484,
          0.33721413564963915,
          1.1337712628923053,
          1.359082325911419,
          1.0243456616090953,
          -0.7769188276254685,
          0.15627448332439178,
          0.02909909907259362,
          0.5340802561947197,
          0.44166099876698245,
          0.07418337277071425,
          -1.2166485828944438,
          0.4704216470315535,
          0.1776738729336818,
          -0.9082445699203281,
          -0.5882378507295679,
          1.2566415972493183,
          -0.6219653660070883,
          0.39494223876348156,
          1.4308659933450811,
          1.49581915347491,
          0.4076595706023893,
          -1.2939477605182126,
          0.973390369604027,
          0.840098155584022,
          -0.5185938843649213,
          0.10199556541041863,
          0.8500271871363656,
          1.1539670862850304,
          -1.0848994588674004,
          0.8384190457546357,
          0.6937565388763399,
          -1.410582449207463,
          0.0690709545571296,
          2.0081983789111573,
          -1.0046445131062767,
          0.7516523194583801,
          1.3873453206817357,
          0.0743343655411143,
          0.13912434845424487,
          -1.0530483619299962,
          -0.5065833576247132,
          1.0048844700796773,
          1.6869679168211584,
          -0.6326703784319785,
          -0.14584422183332776,
          -0.3012231557587274,
          0.9861559735709121,
          -1.3944268538824043,
          0.205266530140708,
          -0.3526912470632605,
          0.5139945168452866,
          0.6431761536884101,
          0.8533221153361462,
          0.3634162498544376,
          1.488558770362642,
          0.39118080162568675,
          -0.4064937772536102,
          -1.3424483605503834,
          -0.8484394801485337,
          0.442011011278428,
          0.5552676006967177,
          -1.1550992405702285,
          -0.045464650893156155,
          -0.22856117724941144,
          0.6310239049105584,
          1.443996432243972,
          -0.14437703793582427,
          -1.8093132042767839,
          -0.8965944258926464,
          -0.7955997958807984,
          -0.4820361239791199,
          0.5371266880897007,
          -0.23005501754629296,
          -0.24086175705188134,
          0.2530975143376481,
          -0.055343478317405104,
          -0.6591122798690139,
          1.2243412756761436,
          0.708139988592118,
          -0.11597112980702137,
          -0.8039079953833423,
          1.4002562252201896,
          0.8216116431913105,
          -0.8804732872490963,
          0.7570077363215513,
          -1.2470995107966565,
          -0.10568771334587965,
          0.4014953547386781,
          0.22971241053917285,
          -0.3461355642941567,
          -0.8004521108163732,
          1.0572143736336341,
          0.7315126139588002,
          1.0860112166901377
         ]
        }
       ],
       "layout": {
        "barmode": "overlay",
        "legend": {
         "bgcolor": "#F5F6F9",
         "font": {
          "color": "#4D5663"
         }
        },
        "paper_bgcolor": "#F5F6F9",
        "plot_bgcolor": "#F5F6F9",
        "template": {
         "data": {
          "bar": [
           {
            "error_x": {
             "color": "#2a3f5f"
            },
            "error_y": {
             "color": "#2a3f5f"
            },
            "marker": {
             "line": {
              "color": "#E5ECF6",
              "width": 0.5
             },
             "pattern": {
              "fillmode": "overlay",
              "size": 10,
              "solidity": 0.2
             }
            },
            "type": "bar"
           }
          ],
          "barpolar": [
           {
            "marker": {
             "line": {
              "color": "#E5ECF6",
              "width": 0.5
             },
             "pattern": {
              "fillmode": "overlay",
              "size": 10,
              "solidity": 0.2
             }
            },
            "type": "barpolar"
           }
          ],
          "carpet": [
           {
            "aaxis": {
             "endlinecolor": "#2a3f5f",
             "gridcolor": "white",
             "linecolor": "white",
             "minorgridcolor": "white",
             "startlinecolor": "#2a3f5f"
            },
            "baxis": {
             "endlinecolor": "#2a3f5f",
             "gridcolor": "white",
             "linecolor": "white",
             "minorgridcolor": "white",
             "startlinecolor": "#2a3f5f"
            },
            "type": "carpet"
           }
          ],
          "choropleth": [
           {
            "colorbar": {
             "outlinewidth": 0,
             "ticks": ""
            },
            "type": "choropleth"
           }
          ],
          "contour": [
           {
            "colorbar": {
             "outlinewidth": 0,
             "ticks": ""
            },
            "colorscale": [
             [
              0,
              "#0d0887"
             ],
             [
              0.1111111111111111,
              "#46039f"
             ],
             [
              0.2222222222222222,
              "#7201a8"
             ],
             [
              0.3333333333333333,
              "#9c179e"
             ],
             [
              0.4444444444444444,
              "#bd3786"
             ],
             [
              0.5555555555555556,
              "#d8576b"
             ],
             [
              0.6666666666666666,
              "#ed7953"
             ],
             [
              0.7777777777777778,
              "#fb9f3a"
             ],
             [
              0.8888888888888888,
              "#fdca26"
             ],
             [
              1,
              "#f0f921"
             ]
            ],
            "type": "contour"
           }
          ],
          "contourcarpet": [
           {
            "colorbar": {
             "outlinewidth": 0,
             "ticks": ""
            },
            "type": "contourcarpet"
           }
          ],
          "heatmap": [
           {
            "colorbar": {
             "outlinewidth": 0,
             "ticks": ""
            },
            "colorscale": [
             [
              0,
              "#0d0887"
             ],
             [
              0.1111111111111111,
              "#46039f"
             ],
             [
              0.2222222222222222,
              "#7201a8"
             ],
             [
              0.3333333333333333,
              "#9c179e"
             ],
             [
              0.4444444444444444,
              "#bd3786"
             ],
             [
              0.5555555555555556,
              "#d8576b"
             ],
             [
              0.6666666666666666,
              "#ed7953"
             ],
             [
              0.7777777777777778,
              "#fb9f3a"
             ],
             [
              0.8888888888888888,
              "#fdca26"
             ],
             [
              1,
              "#f0f921"
             ]
            ],
            "type": "heatmap"
           }
          ],
          "heatmapgl": [
           {
            "colorbar": {
             "outlinewidth": 0,
             "ticks": ""
            },
            "colorscale": [
             [
              0,
              "#0d0887"
             ],
             [
              0.1111111111111111,
              "#46039f"
             ],
             [
              0.2222222222222222,
              "#7201a8"
             ],
             [
              0.3333333333333333,
              "#9c179e"
             ],
             [
              0.4444444444444444,
              "#bd3786"
             ],
             [
              0.5555555555555556,
              "#d8576b"
             ],
             [
              0.6666666666666666,
              "#ed7953"
             ],
             [
              0.7777777777777778,
              "#fb9f3a"
             ],
             [
              0.8888888888888888,
              "#fdca26"
             ],
             [
              1,
              "#f0f921"
             ]
            ],
            "type": "heatmapgl"
           }
          ],
          "histogram": [
           {
            "marker": {
             "pattern": {
              "fillmode": "overlay",
              "size": 10,
              "solidity": 0.2
             }
            },
            "type": "histogram"
           }
          ],
          "histogram2d": [
           {
            "colorbar": {
             "outlinewidth": 0,
             "ticks": ""
            },
            "colorscale": [
             [
              0,
              "#0d0887"
             ],
             [
              0.1111111111111111,
              "#46039f"
             ],
             [
              0.2222222222222222,
              "#7201a8"
             ],
             [
              0.3333333333333333,
              "#9c179e"
             ],
             [
              0.4444444444444444,
              "#bd3786"
             ],
             [
              0.5555555555555556,
              "#d8576b"
             ],
             [
              0.6666666666666666,
              "#ed7953"
             ],
             [
              0.7777777777777778,
              "#fb9f3a"
             ],
             [
              0.8888888888888888,
              "#fdca26"
             ],
             [
              1,
              "#f0f921"
             ]
            ],
            "type": "histogram2d"
           }
          ],
          "histogram2dcontour": [
           {
            "colorbar": {
             "outlinewidth": 0,
             "ticks": ""
            },
            "colorscale": [
             [
              0,
              "#0d0887"
             ],
             [
              0.1111111111111111,
              "#46039f"
             ],
             [
              0.2222222222222222,
              "#7201a8"
             ],
             [
              0.3333333333333333,
              "#9c179e"
             ],
             [
              0.4444444444444444,
              "#bd3786"
             ],
             [
              0.5555555555555556,
              "#d8576b"
             ],
             [
              0.6666666666666666,
              "#ed7953"
             ],
             [
              0.7777777777777778,
              "#fb9f3a"
             ],
             [
              0.8888888888888888,
              "#fdca26"
             ],
             [
              1,
              "#f0f921"
             ]
            ],
            "type": "histogram2dcontour"
           }
          ],
          "mesh3d": [
           {
            "colorbar": {
             "outlinewidth": 0,
             "ticks": ""
            },
            "type": "mesh3d"
           }
          ],
          "parcoords": [
           {
            "line": {
             "colorbar": {
              "outlinewidth": 0,
              "ticks": ""
             }
            },
            "type": "parcoords"
           }
          ],
          "pie": [
           {
            "automargin": true,
            "type": "pie"
           }
          ],
          "scatter": [
           {
            "marker": {
             "colorbar": {
              "outlinewidth": 0,
              "ticks": ""
             }
            },
            "type": "scatter"
           }
          ],
          "scatter3d": [
           {
            "line": {
             "colorbar": {
              "outlinewidth": 0,
              "ticks": ""
             }
            },
            "marker": {
             "colorbar": {
              "outlinewidth": 0,
              "ticks": ""
             }
            },
            "type": "scatter3d"
           }
          ],
          "scattercarpet": [
           {
            "marker": {
             "colorbar": {
              "outlinewidth": 0,
              "ticks": ""
             }
            },
            "type": "scattercarpet"
           }
          ],
          "scattergeo": [
           {
            "marker": {
             "colorbar": {
              "outlinewidth": 0,
              "ticks": ""
             }
            },
            "type": "scattergeo"
           }
          ],
          "scattergl": [
           {
            "marker": {
             "colorbar": {
              "outlinewidth": 0,
              "ticks": ""
             }
            },
            "type": "scattergl"
           }
          ],
          "scattermapbox": [
           {
            "marker": {
             "colorbar": {
              "outlinewidth": 0,
              "ticks": ""
             }
            },
            "type": "scattermapbox"
           }
          ],
          "scatterpolar": [
           {
            "marker": {
             "colorbar": {
              "outlinewidth": 0,
              "ticks": ""
             }
            },
            "type": "scatterpolar"
           }
          ],
          "scatterpolargl": [
           {
            "marker": {
             "colorbar": {
              "outlinewidth": 0,
              "ticks": ""
             }
            },
            "type": "scatterpolargl"
           }
          ],
          "scatterternary": [
           {
            "marker": {
             "colorbar": {
              "outlinewidth": 0,
              "ticks": ""
             }
            },
            "type": "scatterternary"
           }
          ],
          "surface": [
           {
            "colorbar": {
             "outlinewidth": 0,
             "ticks": ""
            },
            "colorscale": [
             [
              0,
              "#0d0887"
             ],
             [
              0.1111111111111111,
              "#46039f"
             ],
             [
              0.2222222222222222,
              "#7201a8"
             ],
             [
              0.3333333333333333,
              "#9c179e"
             ],
             [
              0.4444444444444444,
              "#bd3786"
             ],
             [
              0.5555555555555556,
              "#d8576b"
             ],
             [
              0.6666666666666666,
              "#ed7953"
             ],
             [
              0.7777777777777778,
              "#fb9f3a"
             ],
             [
              0.8888888888888888,
              "#fdca26"
             ],
             [
              1,
              "#f0f921"
             ]
            ],
            "type": "surface"
           }
          ],
          "table": [
           {
            "cells": {
             "fill": {
              "color": "#EBF0F8"
             },
             "line": {
              "color": "white"
             }
            },
            "header": {
             "fill": {
              "color": "#C8D4E3"
             },
             "line": {
              "color": "white"
             }
            },
            "type": "table"
           }
          ]
         },
         "layout": {
          "annotationdefaults": {
           "arrowcolor": "#2a3f5f",
           "arrowhead": 0,
           "arrowwidth": 1
          },
          "autotypenumbers": "strict",
          "coloraxis": {
           "colorbar": {
            "outlinewidth": 0,
            "ticks": ""
           }
          },
          "colorscale": {
           "diverging": [
            [
             0,
             "#8e0152"
            ],
            [
             0.1,
             "#c51b7d"
            ],
            [
             0.2,
             "#de77ae"
            ],
            [
             0.3,
             "#f1b6da"
            ],
            [
             0.4,
             "#fde0ef"
            ],
            [
             0.5,
             "#f7f7f7"
            ],
            [
             0.6,
             "#e6f5d0"
            ],
            [
             0.7,
             "#b8e186"
            ],
            [
             0.8,
             "#7fbc41"
            ],
            [
             0.9,
             "#4d9221"
            ],
            [
             1,
             "#276419"
            ]
           ],
           "sequential": [
            [
             0,
             "#0d0887"
            ],
            [
             0.1111111111111111,
             "#46039f"
            ],
            [
             0.2222222222222222,
             "#7201a8"
            ],
            [
             0.3333333333333333,
             "#9c179e"
            ],
            [
             0.4444444444444444,
             "#bd3786"
            ],
            [
             0.5555555555555556,
             "#d8576b"
            ],
            [
             0.6666666666666666,
             "#ed7953"
            ],
            [
             0.7777777777777778,
             "#fb9f3a"
            ],
            [
             0.8888888888888888,
             "#fdca26"
            ],
            [
             1,
             "#f0f921"
            ]
           ],
           "sequentialminus": [
            [
             0,
             "#0d0887"
            ],
            [
             0.1111111111111111,
             "#46039f"
            ],
            [
             0.2222222222222222,
             "#7201a8"
            ],
            [
             0.3333333333333333,
             "#9c179e"
            ],
            [
             0.4444444444444444,
             "#bd3786"
            ],
            [
             0.5555555555555556,
             "#d8576b"
            ],
            [
             0.6666666666666666,
             "#ed7953"
            ],
            [
             0.7777777777777778,
             "#fb9f3a"
            ],
            [
             0.8888888888888888,
             "#fdca26"
            ],
            [
             1,
             "#f0f921"
            ]
           ]
          },
          "colorway": [
           "#636efa",
           "#EF553B",
           "#00cc96",
           "#ab63fa",
           "#FFA15A",
           "#19d3f3",
           "#FF6692",
           "#B6E880",
           "#FF97FF",
           "#FECB52"
          ],
          "font": {
           "color": "#2a3f5f"
          },
          "geo": {
           "bgcolor": "white",
           "lakecolor": "white",
           "landcolor": "#E5ECF6",
           "showlakes": true,
           "showland": true,
           "subunitcolor": "white"
          },
          "hoverlabel": {
           "align": "left"
          },
          "hovermode": "closest",
          "mapbox": {
           "style": "light"
          },
          "paper_bgcolor": "white",
          "plot_bgcolor": "#E5ECF6",
          "polar": {
           "angularaxis": {
            "gridcolor": "white",
            "linecolor": "white",
            "ticks": ""
           },
           "bgcolor": "#E5ECF6",
           "radialaxis": {
            "gridcolor": "white",
            "linecolor": "white",
            "ticks": ""
           }
          },
          "scene": {
           "xaxis": {
            "backgroundcolor": "#E5ECF6",
            "gridcolor": "white",
            "gridwidth": 2,
            "linecolor": "white",
            "showbackground": true,
            "ticks": "",
            "zerolinecolor": "white"
           },
           "yaxis": {
            "backgroundcolor": "#E5ECF6",
            "gridcolor": "white",
            "gridwidth": 2,
            "linecolor": "white",
            "showbackground": true,
            "ticks": "",
            "zerolinecolor": "white"
           },
           "zaxis": {
            "backgroundcolor": "#E5ECF6",
            "gridcolor": "white",
            "gridwidth": 2,
            "linecolor": "white",
            "showbackground": true,
            "ticks": "",
            "zerolinecolor": "white"
           }
          },
          "shapedefaults": {
           "line": {
            "color": "#2a3f5f"
           }
          },
          "ternary": {
           "aaxis": {
            "gridcolor": "white",
            "linecolor": "white",
            "ticks": ""
           },
           "baxis": {
            "gridcolor": "white",
            "linecolor": "white",
            "ticks": ""
           },
           "bgcolor": "#E5ECF6",
           "caxis": {
            "gridcolor": "white",
            "linecolor": "white",
            "ticks": ""
           }
          },
          "title": {
           "x": 0.05
          },
          "xaxis": {
           "automargin": true,
           "gridcolor": "white",
           "linecolor": "white",
           "ticks": "",
           "title": {
            "standoff": 15
           },
           "zerolinecolor": "white",
           "zerolinewidth": 2
          },
          "yaxis": {
           "automargin": true,
           "gridcolor": "white",
           "linecolor": "white",
           "ticks": "",
           "title": {
            "standoff": 15
           },
           "zerolinecolor": "white",
           "zerolinewidth": 2
          }
         }
        },
        "title": {
         "font": {
          "color": "#4D5663"
         }
        },
        "xaxis": {
         "gridcolor": "#E1E5ED",
         "showgrid": true,
         "tickfont": {
          "color": "#4D5663"
         },
         "title": {
          "font": {
           "color": "#4D5663"
          },
          "text": ""
         },
         "zerolinecolor": "#E1E5ED"
        },
        "yaxis": {
         "gridcolor": "#E1E5ED",
         "showgrid": true,
         "tickfont": {
          "color": "#4D5663"
         },
         "title": {
          "font": {
           "color": "#4D5663"
          },
          "text": ""
         },
         "zerolinecolor": "#E1E5ED"
        }
       }
      },
      "text/html": [
       "<div>                            <div id=\"549eb3c4-c756-4e30-919e-ffd67e784250\" class=\"plotly-graph-div\" style=\"height:525px; width:100%;\"></div>            <script type=\"text/javascript\">                require([\"plotly\"], function(Plotly) {                    window.PLOTLYENV=window.PLOTLYENV || {};\n",
       "                    window.PLOTLYENV.BASE_URL='https://plot.ly';                                    if (document.getElementById(\"549eb3c4-c756-4e30-919e-ffd67e784250\")) {                    Plotly.newPlot(                        \"549eb3c4-c756-4e30-919e-ffd67e784250\",                        [{\"histfunc\":\"count\",\"histnorm\":\"\",\"marker\":{\"color\":\"rgba(255, 153, 51, 1.0)\",\"line\":{\"color\":\"#4D5663\",\"width\":1.3}},\"name\":\"A\",\"nbinsx\":25,\"opacity\":0.8,\"orientation\":\"v\",\"x\":[1.8546943094246786,0.7484318595969548,-1.3003802265817697,0.5466013635649044,0.5936748444947731,-1.8998908810208484,0.33721413564963915,1.1337712628923053,1.359082325911419,1.0243456616090953,-0.7769188276254685,0.15627448332439178,0.02909909907259362,0.5340802561947197,0.44166099876698245,0.07418337277071425,-1.2166485828944438,0.4704216470315535,0.1776738729336818,-0.9082445699203281,-0.5882378507295679,1.2566415972493183,-0.6219653660070883,0.39494223876348156,1.4308659933450811,1.49581915347491,0.4076595706023893,-1.2939477605182126,0.973390369604027,0.840098155584022,-0.5185938843649213,0.10199556541041863,0.8500271871363656,1.1539670862850304,-1.0848994588674004,0.8384190457546357,0.6937565388763399,-1.410582449207463,0.0690709545571296,2.0081983789111573,-1.0046445131062767,0.7516523194583801,1.3873453206817357,0.0743343655411143,0.13912434845424487,-1.0530483619299962,-0.5065833576247132,1.0048844700796773,1.6869679168211584,-0.6326703784319785,-0.14584422183332776,-0.3012231557587274,0.9861559735709121,-1.3944268538824043,0.205266530140708,-0.3526912470632605,0.5139945168452866,0.6431761536884101,0.8533221153361462,0.3634162498544376,1.488558770362642,0.39118080162568675,-0.4064937772536102,-1.3424483605503834,-0.8484394801485337,0.442011011278428,0.5552676006967177,-1.1550992405702285,-0.045464650893156155,-0.22856117724941144,0.6310239049105584,1.443996432243972,-0.14437703793582427,-1.8093132042767839,-0.8965944258926464,-0.7955997958807984,-0.4820361239791199,0.5371266880897007,-0.23005501754629296,-0.24086175705188134,0.2530975143376481,-0.055343478317405104,-0.6591122798690139,1.2243412756761436,0.708139988592118,-0.11597112980702137,-0.8039079953833423,1.4002562252201896,0.8216116431913105,-0.8804732872490963,0.7570077363215513,-1.2470995107966565,-0.10568771334587965,0.4014953547386781,0.22971241053917285,-0.3461355642941567,-0.8004521108163732,1.0572143736336341,0.7315126139588002,1.0860112166901377],\"type\":\"histogram\"}],                        {\"barmode\":\"overlay\",\"legend\":{\"bgcolor\":\"#F5F6F9\",\"font\":{\"color\":\"#4D5663\"}},\"paper_bgcolor\":\"#F5F6F9\",\"plot_bgcolor\":\"#F5F6F9\",\"template\":{\"data\":{\"barpolar\":[{\"marker\":{\"line\":{\"color\":\"#E5ECF6\",\"width\":0.5},\"pattern\":{\"fillmode\":\"overlay\",\"size\":10,\"solidity\":0.2}},\"type\":\"barpolar\"}],\"bar\":[{\"error_x\":{\"color\":\"#2a3f5f\"},\"error_y\":{\"color\":\"#2a3f5f\"},\"marker\":{\"line\":{\"color\":\"#E5ECF6\",\"width\":0.5},\"pattern\":{\"fillmode\":\"overlay\",\"size\":10,\"solidity\":0.2}},\"type\":\"bar\"}],\"carpet\":[{\"aaxis\":{\"endlinecolor\":\"#2a3f5f\",\"gridcolor\":\"white\",\"linecolor\":\"white\",\"minorgridcolor\":\"white\",\"startlinecolor\":\"#2a3f5f\"},\"baxis\":{\"endlinecolor\":\"#2a3f5f\",\"gridcolor\":\"white\",\"linecolor\":\"white\",\"minorgridcolor\":\"white\",\"startlinecolor\":\"#2a3f5f\"},\"type\":\"carpet\"}],\"choropleth\":[{\"colorbar\":{\"outlinewidth\":0,\"ticks\":\"\"},\"type\":\"choropleth\"}],\"contourcarpet\":[{\"colorbar\":{\"outlinewidth\":0,\"ticks\":\"\"},\"type\":\"contourcarpet\"}],\"contour\":[{\"colorbar\":{\"outlinewidth\":0,\"ticks\":\"\"},\"colorscale\":[[0.0,\"#0d0887\"],[0.1111111111111111,\"#46039f\"],[0.2222222222222222,\"#7201a8\"],[0.3333333333333333,\"#9c179e\"],[0.4444444444444444,\"#bd3786\"],[0.5555555555555556,\"#d8576b\"],[0.6666666666666666,\"#ed7953\"],[0.7777777777777778,\"#fb9f3a\"],[0.8888888888888888,\"#fdca26\"],[1.0,\"#f0f921\"]],\"type\":\"contour\"}],\"heatmapgl\":[{\"colorbar\":{\"outlinewidth\":0,\"ticks\":\"\"},\"colorscale\":[[0.0,\"#0d0887\"],[0.1111111111111111,\"#46039f\"],[0.2222222222222222,\"#7201a8\"],[0.3333333333333333,\"#9c179e\"],[0.4444444444444444,\"#bd3786\"],[0.5555555555555556,\"#d8576b\"],[0.6666666666666666,\"#ed7953\"],[0.7777777777777778,\"#fb9f3a\"],[0.8888888888888888,\"#fdca26\"],[1.0,\"#f0f921\"]],\"type\":\"heatmapgl\"}],\"heatmap\":[{\"colorbar\":{\"outlinewidth\":0,\"ticks\":\"\"},\"colorscale\":[[0.0,\"#0d0887\"],[0.1111111111111111,\"#46039f\"],[0.2222222222222222,\"#7201a8\"],[0.3333333333333333,\"#9c179e\"],[0.4444444444444444,\"#bd3786\"],[0.5555555555555556,\"#d8576b\"],[0.6666666666666666,\"#ed7953\"],[0.7777777777777778,\"#fb9f3a\"],[0.8888888888888888,\"#fdca26\"],[1.0,\"#f0f921\"]],\"type\":\"heatmap\"}],\"histogram2dcontour\":[{\"colorbar\":{\"outlinewidth\":0,\"ticks\":\"\"},\"colorscale\":[[0.0,\"#0d0887\"],[0.1111111111111111,\"#46039f\"],[0.2222222222222222,\"#7201a8\"],[0.3333333333333333,\"#9c179e\"],[0.4444444444444444,\"#bd3786\"],[0.5555555555555556,\"#d8576b\"],[0.6666666666666666,\"#ed7953\"],[0.7777777777777778,\"#fb9f3a\"],[0.8888888888888888,\"#fdca26\"],[1.0,\"#f0f921\"]],\"type\":\"histogram2dcontour\"}],\"histogram2d\":[{\"colorbar\":{\"outlinewidth\":0,\"ticks\":\"\"},\"colorscale\":[[0.0,\"#0d0887\"],[0.1111111111111111,\"#46039f\"],[0.2222222222222222,\"#7201a8\"],[0.3333333333333333,\"#9c179e\"],[0.4444444444444444,\"#bd3786\"],[0.5555555555555556,\"#d8576b\"],[0.6666666666666666,\"#ed7953\"],[0.7777777777777778,\"#fb9f3a\"],[0.8888888888888888,\"#fdca26\"],[1.0,\"#f0f921\"]],\"type\":\"histogram2d\"}],\"histogram\":[{\"marker\":{\"pattern\":{\"fillmode\":\"overlay\",\"size\":10,\"solidity\":0.2}},\"type\":\"histogram\"}],\"mesh3d\":[{\"colorbar\":{\"outlinewidth\":0,\"ticks\":\"\"},\"type\":\"mesh3d\"}],\"parcoords\":[{\"line\":{\"colorbar\":{\"outlinewidth\":0,\"ticks\":\"\"}},\"type\":\"parcoords\"}],\"pie\":[{\"automargin\":true,\"type\":\"pie\"}],\"scatter3d\":[{\"line\":{\"colorbar\":{\"outlinewidth\":0,\"ticks\":\"\"}},\"marker\":{\"colorbar\":{\"outlinewidth\":0,\"ticks\":\"\"}},\"type\":\"scatter3d\"}],\"scattercarpet\":[{\"marker\":{\"colorbar\":{\"outlinewidth\":0,\"ticks\":\"\"}},\"type\":\"scattercarpet\"}],\"scattergeo\":[{\"marker\":{\"colorbar\":{\"outlinewidth\":0,\"ticks\":\"\"}},\"type\":\"scattergeo\"}],\"scattergl\":[{\"marker\":{\"colorbar\":{\"outlinewidth\":0,\"ticks\":\"\"}},\"type\":\"scattergl\"}],\"scattermapbox\":[{\"marker\":{\"colorbar\":{\"outlinewidth\":0,\"ticks\":\"\"}},\"type\":\"scattermapbox\"}],\"scatterpolargl\":[{\"marker\":{\"colorbar\":{\"outlinewidth\":0,\"ticks\":\"\"}},\"type\":\"scatterpolargl\"}],\"scatterpolar\":[{\"marker\":{\"colorbar\":{\"outlinewidth\":0,\"ticks\":\"\"}},\"type\":\"scatterpolar\"}],\"scatter\":[{\"marker\":{\"colorbar\":{\"outlinewidth\":0,\"ticks\":\"\"}},\"type\":\"scatter\"}],\"scatterternary\":[{\"marker\":{\"colorbar\":{\"outlinewidth\":0,\"ticks\":\"\"}},\"type\":\"scatterternary\"}],\"surface\":[{\"colorbar\":{\"outlinewidth\":0,\"ticks\":\"\"},\"colorscale\":[[0.0,\"#0d0887\"],[0.1111111111111111,\"#46039f\"],[0.2222222222222222,\"#7201a8\"],[0.3333333333333333,\"#9c179e\"],[0.4444444444444444,\"#bd3786\"],[0.5555555555555556,\"#d8576b\"],[0.6666666666666666,\"#ed7953\"],[0.7777777777777778,\"#fb9f3a\"],[0.8888888888888888,\"#fdca26\"],[1.0,\"#f0f921\"]],\"type\":\"surface\"}],\"table\":[{\"cells\":{\"fill\":{\"color\":\"#EBF0F8\"},\"line\":{\"color\":\"white\"}},\"header\":{\"fill\":{\"color\":\"#C8D4E3\"},\"line\":{\"color\":\"white\"}},\"type\":\"table\"}]},\"layout\":{\"annotationdefaults\":{\"arrowcolor\":\"#2a3f5f\",\"arrowhead\":0,\"arrowwidth\":1},\"autotypenumbers\":\"strict\",\"coloraxis\":{\"colorbar\":{\"outlinewidth\":0,\"ticks\":\"\"}},\"colorscale\":{\"diverging\":[[0,\"#8e0152\"],[0.1,\"#c51b7d\"],[0.2,\"#de77ae\"],[0.3,\"#f1b6da\"],[0.4,\"#fde0ef\"],[0.5,\"#f7f7f7\"],[0.6,\"#e6f5d0\"],[0.7,\"#b8e186\"],[0.8,\"#7fbc41\"],[0.9,\"#4d9221\"],[1,\"#276419\"]],\"sequential\":[[0.0,\"#0d0887\"],[0.1111111111111111,\"#46039f\"],[0.2222222222222222,\"#7201a8\"],[0.3333333333333333,\"#9c179e\"],[0.4444444444444444,\"#bd3786\"],[0.5555555555555556,\"#d8576b\"],[0.6666666666666666,\"#ed7953\"],[0.7777777777777778,\"#fb9f3a\"],[0.8888888888888888,\"#fdca26\"],[1.0,\"#f0f921\"]],\"sequentialminus\":[[0.0,\"#0d0887\"],[0.1111111111111111,\"#46039f\"],[0.2222222222222222,\"#7201a8\"],[0.3333333333333333,\"#9c179e\"],[0.4444444444444444,\"#bd3786\"],[0.5555555555555556,\"#d8576b\"],[0.6666666666666666,\"#ed7953\"],[0.7777777777777778,\"#fb9f3a\"],[0.8888888888888888,\"#fdca26\"],[1.0,\"#f0f921\"]]},\"colorway\":[\"#636efa\",\"#EF553B\",\"#00cc96\",\"#ab63fa\",\"#FFA15A\",\"#19d3f3\",\"#FF6692\",\"#B6E880\",\"#FF97FF\",\"#FECB52\"],\"font\":{\"color\":\"#2a3f5f\"},\"geo\":{\"bgcolor\":\"white\",\"lakecolor\":\"white\",\"landcolor\":\"#E5ECF6\",\"showlakes\":true,\"showland\":true,\"subunitcolor\":\"white\"},\"hoverlabel\":{\"align\":\"left\"},\"hovermode\":\"closest\",\"mapbox\":{\"style\":\"light\"},\"paper_bgcolor\":\"white\",\"plot_bgcolor\":\"#E5ECF6\",\"polar\":{\"angularaxis\":{\"gridcolor\":\"white\",\"linecolor\":\"white\",\"ticks\":\"\"},\"bgcolor\":\"#E5ECF6\",\"radialaxis\":{\"gridcolor\":\"white\",\"linecolor\":\"white\",\"ticks\":\"\"}},\"scene\":{\"xaxis\":{\"backgroundcolor\":\"#E5ECF6\",\"gridcolor\":\"white\",\"gridwidth\":2,\"linecolor\":\"white\",\"showbackground\":true,\"ticks\":\"\",\"zerolinecolor\":\"white\"},\"yaxis\":{\"backgroundcolor\":\"#E5ECF6\",\"gridcolor\":\"white\",\"gridwidth\":2,\"linecolor\":\"white\",\"showbackground\":true,\"ticks\":\"\",\"zerolinecolor\":\"white\"},\"zaxis\":{\"backgroundcolor\":\"#E5ECF6\",\"gridcolor\":\"white\",\"gridwidth\":2,\"linecolor\":\"white\",\"showbackground\":true,\"ticks\":\"\",\"zerolinecolor\":\"white\"}},\"shapedefaults\":{\"line\":{\"color\":\"#2a3f5f\"}},\"ternary\":{\"aaxis\":{\"gridcolor\":\"white\",\"linecolor\":\"white\",\"ticks\":\"\"},\"baxis\":{\"gridcolor\":\"white\",\"linecolor\":\"white\",\"ticks\":\"\"},\"bgcolor\":\"#E5ECF6\",\"caxis\":{\"gridcolor\":\"white\",\"linecolor\":\"white\",\"ticks\":\"\"}},\"title\":{\"x\":0.05},\"xaxis\":{\"automargin\":true,\"gridcolor\":\"white\",\"linecolor\":\"white\",\"ticks\":\"\",\"title\":{\"standoff\":15},\"zerolinecolor\":\"white\",\"zerolinewidth\":2},\"yaxis\":{\"automargin\":true,\"gridcolor\":\"white\",\"linecolor\":\"white\",\"ticks\":\"\",\"title\":{\"standoff\":15},\"zerolinecolor\":\"white\",\"zerolinewidth\":2}}},\"title\":{\"font\":{\"color\":\"#4D5663\"}},\"xaxis\":{\"gridcolor\":\"#E1E5ED\",\"showgrid\":true,\"tickfont\":{\"color\":\"#4D5663\"},\"title\":{\"font\":{\"color\":\"#4D5663\"},\"text\":\"\"},\"zerolinecolor\":\"#E1E5ED\"},\"yaxis\":{\"gridcolor\":\"#E1E5ED\",\"showgrid\":true,\"tickfont\":{\"color\":\"#4D5663\"},\"title\":{\"font\":{\"color\":\"#4D5663\"},\"text\":\"\"},\"zerolinecolor\":\"#E1E5ED\"}},                        {\"showLink\": true, \"linkText\": \"Export to plot.ly\", \"plotlyServerURL\": \"https://plot.ly\", \"responsive\": true}                    ).then(function(){\n",
       "                            \n",
       "var gd = document.getElementById('549eb3c4-c756-4e30-919e-ffd67e784250');\n",
       "var x = new MutationObserver(function (mutations, observer) {{\n",
       "        var display = window.getComputedStyle(gd).display;\n",
       "        if (!display || display === 'none') {{\n",
       "            console.log([gd, 'removed!']);\n",
       "            Plotly.purge(gd);\n",
       "            observer.disconnect();\n",
       "        }}\n",
       "}});\n",
       "\n",
       "// Listen for the removal of the full notebook cells\n",
       "var notebookContainer = gd.closest('#notebook-container');\n",
       "if (notebookContainer) {{\n",
       "    x.observe(notebookContainer, {childList: true});\n",
       "}}\n",
       "\n",
       "// Listen for the clearing of the current output cell\n",
       "var outputEl = gd.closest('.output');\n",
       "if (outputEl) {{\n",
       "    x.observe(outputEl, {childList: true});\n",
       "}}\n",
       "\n",
       "                        })                };                });            </script>        </div>"
      ]
     },
     "metadata": {},
     "output_type": "display_data"
    }
   ],
   "source": [
    "df['A'].iplot(kind='hist',bins=25)"
   ]
  },
  {
   "cell_type": "code",
   "execution_count": 17,
   "metadata": {},
   "outputs": [
    {
     "data": {
      "application/vnd.plotly.v1+json": {
       "config": {
        "linkText": "Export to plot.ly",
        "plotlyServerURL": "https://plot.ly",
        "showLink": true
       },
       "data": [
        {
         "marker": {
          "color": [
           "rgb(255, 153, 51)",
           "rgb(55, 128, 191)",
           "rgb(50, 171, 96)",
           "rgb(128, 0, 128)",
           "rgb(219, 64, 82)",
           "rgb(0, 128, 128)",
           "rgb(255, 255, 51)",
           "rgb(128, 128, 0)",
           "rgb(251, 128, 114)",
           "rgb(128, 177, 211)"
          ],
          "line": {
           "width": 1.3
          },
          "size": [
           57,
           30,
           40,
           102,
           52,
           63,
           32,
           35,
           73,
           54,
           63,
           58,
           56,
           58,
           63,
           52,
           55,
           70,
           99,
           36,
           65,
           59,
           46,
           89,
           59,
           36,
           65,
           58,
           67,
           75,
           77,
           78,
           69,
           53,
           51,
           63,
           29,
           58,
           56,
           58,
           89,
           58,
           86,
           14,
           62,
           64,
           43,
           49,
           51,
           54,
           48,
           72,
           32,
           64,
           38,
           112,
           44,
           51,
           62,
           49,
           76,
           78,
           45,
           80,
           19,
           72,
           77,
           63,
           52,
           51,
           12,
           64,
           52,
           36,
           16,
           58,
           52,
           56,
           44,
           85,
           55,
           94,
           58,
           59,
           57,
           42,
           90,
           68,
           52,
           38,
           57,
           58,
           38,
           74,
           36,
           55,
           26,
           75,
           47,
           26
          ],
          "symbol": "circle"
         },
         "mode": "markers",
         "text": "",
         "type": "scatter",
         "x": [
          1.8546943094246786,
          0.7484318595969548,
          -1.3003802265817697,
          0.5466013635649044,
          0.5936748444947731,
          -1.8998908810208484,
          0.33721413564963915,
          1.1337712628923053,
          1.359082325911419,
          1.0243456616090953,
          -0.7769188276254685,
          0.15627448332439178,
          0.02909909907259362,
          0.5340802561947197,
          0.44166099876698245,
          0.07418337277071425,
          -1.2166485828944438,
          0.4704216470315535,
          0.1776738729336818,
          -0.9082445699203281,
          -0.5882378507295679,
          1.2566415972493183,
          -0.6219653660070883,
          0.39494223876348156,
          1.4308659933450811,
          1.49581915347491,
          0.4076595706023893,
          -1.2939477605182126,
          0.973390369604027,
          0.840098155584022,
          -0.5185938843649213,
          0.10199556541041863,
          0.8500271871363656,
          1.1539670862850304,
          -1.0848994588674004,
          0.8384190457546357,
          0.6937565388763399,
          -1.410582449207463,
          0.0690709545571296,
          2.0081983789111573,
          -1.0046445131062767,
          0.7516523194583801,
          1.3873453206817357,
          0.0743343655411143,
          0.13912434845424487,
          -1.0530483619299962,
          -0.5065833576247132,
          1.0048844700796773,
          1.6869679168211584,
          -0.6326703784319785,
          -0.14584422183332776,
          -0.3012231557587274,
          0.9861559735709121,
          -1.3944268538824043,
          0.205266530140708,
          -0.3526912470632605,
          0.5139945168452866,
          0.6431761536884101,
          0.8533221153361462,
          0.3634162498544376,
          1.488558770362642,
          0.39118080162568675,
          -0.4064937772536102,
          -1.3424483605503834,
          -0.8484394801485337,
          0.442011011278428,
          0.5552676006967177,
          -1.1550992405702285,
          -0.045464650893156155,
          -0.22856117724941144,
          0.6310239049105584,
          1.443996432243972,
          -0.14437703793582427,
          -1.8093132042767839,
          -0.8965944258926464,
          -0.7955997958807984,
          -0.4820361239791199,
          0.5371266880897007,
          -0.23005501754629296,
          -0.24086175705188134,
          0.2530975143376481,
          -0.055343478317405104,
          -0.6591122798690139,
          1.2243412756761436,
          0.708139988592118,
          -0.11597112980702137,
          -0.8039079953833423,
          1.4002562252201896,
          0.8216116431913105,
          -0.8804732872490963,
          0.7570077363215513,
          -1.2470995107966565,
          -0.10568771334587965,
          0.4014953547386781,
          0.22971241053917285,
          -0.3461355642941567,
          -0.8004521108163732,
          1.0572143736336341,
          0.7315126139588002,
          1.0860112166901377
         ],
         "y": [
          0.16782352183400587,
          0.624804262589385,
          0.20372352671812846,
          -1.0591108379188434,
          -1.1419991407057792,
          0.8822057456431932,
          -0.30702637099270114,
          -2.0571013104149785,
          0.14614864879810144,
          2.8239149412769016,
          -2.412974864103616,
          0.721557660743138,
          -1.3663833420655647,
          -0.4052192278722541,
          0.23495373968771768,
          -0.5455590082566745,
          -1.1389799602470527,
          -1.9385486162077734,
          0.8047110489285142,
          -0.2351182610922446,
          2.3322152150147737,
          0.8960012160713902,
          0.8218942950746454,
          -0.4482443216083756,
          0.19863172403022056,
          0.33279159985848933,
          -2.4384779622185095,
          1.193567194099597,
          0.06995951078451483,
          0.4072798445048463,
          0.8146048718814357,
          1.4685320619448519,
          1.241729574244285,
          -0.37101981322201927,
          0.19634382933661695,
          -1.2594514852704604,
          0.48904672630322243,
          0.31628022355690794,
          -1.815222945460142,
          0.5376001263469178,
          0.8928260980073432,
          0.12879019588005242,
          0.6852771649802917,
          0.9239529848193153,
          2.3823692123794133,
          1.8982715919903281,
          1.7308831412905878,
          1.1862688195828759,
          -1.848635962299935,
          -2.073596318572358,
          0.12343301517841951,
          -0.34208245724851927,
          0.001591497174670703,
          -0.7105462449113583,
          2.118870082413893,
          1.0323512051698571,
          -0.14904284624203912,
          -0.27697382952569033,
          -1.4030368172614824,
          0.8069435110865915,
          -0.48338082158192425,
          -0.16726241537412317,
          0.7750420639775881,
          0.8556546635018052,
          -0.5617163502227375,
          -1.1334010030114128,
          2.8353718723380155,
          1.1504533925555331,
          0.8432868744795676,
          0.9992348285333864,
          -1.3610373755414766,
          0.17205002153134172,
          0.3127027245372549,
          -2.533325046279571,
          1.0768939607725407,
          -0.568689730288132,
          1.1509542732856508,
          -0.3683126886930604,
          -1.8553771750534833,
          -0.767540898256376,
          -1.3840393947293608,
          0.3718860914407538,
          0.2847053629058795,
          -0.7893439575251157,
          -1.642169014129789,
          2.3274424411981007,
          1.2633183284786307,
          -0.2664500269888275,
          -1.1605565365059336,
          -0.36382358959654326,
          -0.5740259278524541,
          -0.9447372467663968,
          -1.4061398731208765,
          1.7657635056574208,
          0.042685599019628644,
          0.7527939395183922,
          0.1025381452497282,
          -1.0029596827640692,
          -1.3391133535210205,
          -2.431710577117348
         ]
        }
       ],
       "layout": {
        "legend": {
         "bgcolor": "#F5F6F9",
         "font": {
          "color": "#4D5663"
         }
        },
        "paper_bgcolor": "#F5F6F9",
        "plot_bgcolor": "#F5F6F9",
        "template": {
         "data": {
          "bar": [
           {
            "error_x": {
             "color": "#2a3f5f"
            },
            "error_y": {
             "color": "#2a3f5f"
            },
            "marker": {
             "line": {
              "color": "#E5ECF6",
              "width": 0.5
             },
             "pattern": {
              "fillmode": "overlay",
              "size": 10,
              "solidity": 0.2
             }
            },
            "type": "bar"
           }
          ],
          "barpolar": [
           {
            "marker": {
             "line": {
              "color": "#E5ECF6",
              "width": 0.5
             },
             "pattern": {
              "fillmode": "overlay",
              "size": 10,
              "solidity": 0.2
             }
            },
            "type": "barpolar"
           }
          ],
          "carpet": [
           {
            "aaxis": {
             "endlinecolor": "#2a3f5f",
             "gridcolor": "white",
             "linecolor": "white",
             "minorgridcolor": "white",
             "startlinecolor": "#2a3f5f"
            },
            "baxis": {
             "endlinecolor": "#2a3f5f",
             "gridcolor": "white",
             "linecolor": "white",
             "minorgridcolor": "white",
             "startlinecolor": "#2a3f5f"
            },
            "type": "carpet"
           }
          ],
          "choropleth": [
           {
            "colorbar": {
             "outlinewidth": 0,
             "ticks": ""
            },
            "type": "choropleth"
           }
          ],
          "contour": [
           {
            "colorbar": {
             "outlinewidth": 0,
             "ticks": ""
            },
            "colorscale": [
             [
              0,
              "#0d0887"
             ],
             [
              0.1111111111111111,
              "#46039f"
             ],
             [
              0.2222222222222222,
              "#7201a8"
             ],
             [
              0.3333333333333333,
              "#9c179e"
             ],
             [
              0.4444444444444444,
              "#bd3786"
             ],
             [
              0.5555555555555556,
              "#d8576b"
             ],
             [
              0.6666666666666666,
              "#ed7953"
             ],
             [
              0.7777777777777778,
              "#fb9f3a"
             ],
             [
              0.8888888888888888,
              "#fdca26"
             ],
             [
              1,
              "#f0f921"
             ]
            ],
            "type": "contour"
           }
          ],
          "contourcarpet": [
           {
            "colorbar": {
             "outlinewidth": 0,
             "ticks": ""
            },
            "type": "contourcarpet"
           }
          ],
          "heatmap": [
           {
            "colorbar": {
             "outlinewidth": 0,
             "ticks": ""
            },
            "colorscale": [
             [
              0,
              "#0d0887"
             ],
             [
              0.1111111111111111,
              "#46039f"
             ],
             [
              0.2222222222222222,
              "#7201a8"
             ],
             [
              0.3333333333333333,
              "#9c179e"
             ],
             [
              0.4444444444444444,
              "#bd3786"
             ],
             [
              0.5555555555555556,
              "#d8576b"
             ],
             [
              0.6666666666666666,
              "#ed7953"
             ],
             [
              0.7777777777777778,
              "#fb9f3a"
             ],
             [
              0.8888888888888888,
              "#fdca26"
             ],
             [
              1,
              "#f0f921"
             ]
            ],
            "type": "heatmap"
           }
          ],
          "heatmapgl": [
           {
            "colorbar": {
             "outlinewidth": 0,
             "ticks": ""
            },
            "colorscale": [
             [
              0,
              "#0d0887"
             ],
             [
              0.1111111111111111,
              "#46039f"
             ],
             [
              0.2222222222222222,
              "#7201a8"
             ],
             [
              0.3333333333333333,
              "#9c179e"
             ],
             [
              0.4444444444444444,
              "#bd3786"
             ],
             [
              0.5555555555555556,
              "#d8576b"
             ],
             [
              0.6666666666666666,
              "#ed7953"
             ],
             [
              0.7777777777777778,
              "#fb9f3a"
             ],
             [
              0.8888888888888888,
              "#fdca26"
             ],
             [
              1,
              "#f0f921"
             ]
            ],
            "type": "heatmapgl"
           }
          ],
          "histogram": [
           {
            "marker": {
             "pattern": {
              "fillmode": "overlay",
              "size": 10,
              "solidity": 0.2
             }
            },
            "type": "histogram"
           }
          ],
          "histogram2d": [
           {
            "colorbar": {
             "outlinewidth": 0,
             "ticks": ""
            },
            "colorscale": [
             [
              0,
              "#0d0887"
             ],
             [
              0.1111111111111111,
              "#46039f"
             ],
             [
              0.2222222222222222,
              "#7201a8"
             ],
             [
              0.3333333333333333,
              "#9c179e"
             ],
             [
              0.4444444444444444,
              "#bd3786"
             ],
             [
              0.5555555555555556,
              "#d8576b"
             ],
             [
              0.6666666666666666,
              "#ed7953"
             ],
             [
              0.7777777777777778,
              "#fb9f3a"
             ],
             [
              0.8888888888888888,
              "#fdca26"
             ],
             [
              1,
              "#f0f921"
             ]
            ],
            "type": "histogram2d"
           }
          ],
          "histogram2dcontour": [
           {
            "colorbar": {
             "outlinewidth": 0,
             "ticks": ""
            },
            "colorscale": [
             [
              0,
              "#0d0887"
             ],
             [
              0.1111111111111111,
              "#46039f"
             ],
             [
              0.2222222222222222,
              "#7201a8"
             ],
             [
              0.3333333333333333,
              "#9c179e"
             ],
             [
              0.4444444444444444,
              "#bd3786"
             ],
             [
              0.5555555555555556,
              "#d8576b"
             ],
             [
              0.6666666666666666,
              "#ed7953"
             ],
             [
              0.7777777777777778,
              "#fb9f3a"
             ],
             [
              0.8888888888888888,
              "#fdca26"
             ],
             [
              1,
              "#f0f921"
             ]
            ],
            "type": "histogram2dcontour"
           }
          ],
          "mesh3d": [
           {
            "colorbar": {
             "outlinewidth": 0,
             "ticks": ""
            },
            "type": "mesh3d"
           }
          ],
          "parcoords": [
           {
            "line": {
             "colorbar": {
              "outlinewidth": 0,
              "ticks": ""
             }
            },
            "type": "parcoords"
           }
          ],
          "pie": [
           {
            "automargin": true,
            "type": "pie"
           }
          ],
          "scatter": [
           {
            "marker": {
             "colorbar": {
              "outlinewidth": 0,
              "ticks": ""
             }
            },
            "type": "scatter"
           }
          ],
          "scatter3d": [
           {
            "line": {
             "colorbar": {
              "outlinewidth": 0,
              "ticks": ""
             }
            },
            "marker": {
             "colorbar": {
              "outlinewidth": 0,
              "ticks": ""
             }
            },
            "type": "scatter3d"
           }
          ],
          "scattercarpet": [
           {
            "marker": {
             "colorbar": {
              "outlinewidth": 0,
              "ticks": ""
             }
            },
            "type": "scattercarpet"
           }
          ],
          "scattergeo": [
           {
            "marker": {
             "colorbar": {
              "outlinewidth": 0,
              "ticks": ""
             }
            },
            "type": "scattergeo"
           }
          ],
          "scattergl": [
           {
            "marker": {
             "colorbar": {
              "outlinewidth": 0,
              "ticks": ""
             }
            },
            "type": "scattergl"
           }
          ],
          "scattermapbox": [
           {
            "marker": {
             "colorbar": {
              "outlinewidth": 0,
              "ticks": ""
             }
            },
            "type": "scattermapbox"
           }
          ],
          "scatterpolar": [
           {
            "marker": {
             "colorbar": {
              "outlinewidth": 0,
              "ticks": ""
             }
            },
            "type": "scatterpolar"
           }
          ],
          "scatterpolargl": [
           {
            "marker": {
             "colorbar": {
              "outlinewidth": 0,
              "ticks": ""
             }
            },
            "type": "scatterpolargl"
           }
          ],
          "scatterternary": [
           {
            "marker": {
             "colorbar": {
              "outlinewidth": 0,
              "ticks": ""
             }
            },
            "type": "scatterternary"
           }
          ],
          "surface": [
           {
            "colorbar": {
             "outlinewidth": 0,
             "ticks": ""
            },
            "colorscale": [
             [
              0,
              "#0d0887"
             ],
             [
              0.1111111111111111,
              "#46039f"
             ],
             [
              0.2222222222222222,
              "#7201a8"
             ],
             [
              0.3333333333333333,
              "#9c179e"
             ],
             [
              0.4444444444444444,
              "#bd3786"
             ],
             [
              0.5555555555555556,
              "#d8576b"
             ],
             [
              0.6666666666666666,
              "#ed7953"
             ],
             [
              0.7777777777777778,
              "#fb9f3a"
             ],
             [
              0.8888888888888888,
              "#fdca26"
             ],
             [
              1,
              "#f0f921"
             ]
            ],
            "type": "surface"
           }
          ],
          "table": [
           {
            "cells": {
             "fill": {
              "color": "#EBF0F8"
             },
             "line": {
              "color": "white"
             }
            },
            "header": {
             "fill": {
              "color": "#C8D4E3"
             },
             "line": {
              "color": "white"
             }
            },
            "type": "table"
           }
          ]
         },
         "layout": {
          "annotationdefaults": {
           "arrowcolor": "#2a3f5f",
           "arrowhead": 0,
           "arrowwidth": 1
          },
          "autotypenumbers": "strict",
          "coloraxis": {
           "colorbar": {
            "outlinewidth": 0,
            "ticks": ""
           }
          },
          "colorscale": {
           "diverging": [
            [
             0,
             "#8e0152"
            ],
            [
             0.1,
             "#c51b7d"
            ],
            [
             0.2,
             "#de77ae"
            ],
            [
             0.3,
             "#f1b6da"
            ],
            [
             0.4,
             "#fde0ef"
            ],
            [
             0.5,
             "#f7f7f7"
            ],
            [
             0.6,
             "#e6f5d0"
            ],
            [
             0.7,
             "#b8e186"
            ],
            [
             0.8,
             "#7fbc41"
            ],
            [
             0.9,
             "#4d9221"
            ],
            [
             1,
             "#276419"
            ]
           ],
           "sequential": [
            [
             0,
             "#0d0887"
            ],
            [
             0.1111111111111111,
             "#46039f"
            ],
            [
             0.2222222222222222,
             "#7201a8"
            ],
            [
             0.3333333333333333,
             "#9c179e"
            ],
            [
             0.4444444444444444,
             "#bd3786"
            ],
            [
             0.5555555555555556,
             "#d8576b"
            ],
            [
             0.6666666666666666,
             "#ed7953"
            ],
            [
             0.7777777777777778,
             "#fb9f3a"
            ],
            [
             0.8888888888888888,
             "#fdca26"
            ],
            [
             1,
             "#f0f921"
            ]
           ],
           "sequentialminus": [
            [
             0,
             "#0d0887"
            ],
            [
             0.1111111111111111,
             "#46039f"
            ],
            [
             0.2222222222222222,
             "#7201a8"
            ],
            [
             0.3333333333333333,
             "#9c179e"
            ],
            [
             0.4444444444444444,
             "#bd3786"
            ],
            [
             0.5555555555555556,
             "#d8576b"
            ],
            [
             0.6666666666666666,
             "#ed7953"
            ],
            [
             0.7777777777777778,
             "#fb9f3a"
            ],
            [
             0.8888888888888888,
             "#fdca26"
            ],
            [
             1,
             "#f0f921"
            ]
           ]
          },
          "colorway": [
           "#636efa",
           "#EF553B",
           "#00cc96",
           "#ab63fa",
           "#FFA15A",
           "#19d3f3",
           "#FF6692",
           "#B6E880",
           "#FF97FF",
           "#FECB52"
          ],
          "font": {
           "color": "#2a3f5f"
          },
          "geo": {
           "bgcolor": "white",
           "lakecolor": "white",
           "landcolor": "#E5ECF6",
           "showlakes": true,
           "showland": true,
           "subunitcolor": "white"
          },
          "hoverlabel": {
           "align": "left"
          },
          "hovermode": "closest",
          "mapbox": {
           "style": "light"
          },
          "paper_bgcolor": "white",
          "plot_bgcolor": "#E5ECF6",
          "polar": {
           "angularaxis": {
            "gridcolor": "white",
            "linecolor": "white",
            "ticks": ""
           },
           "bgcolor": "#E5ECF6",
           "radialaxis": {
            "gridcolor": "white",
            "linecolor": "white",
            "ticks": ""
           }
          },
          "scene": {
           "xaxis": {
            "backgroundcolor": "#E5ECF6",
            "gridcolor": "white",
            "gridwidth": 2,
            "linecolor": "white",
            "showbackground": true,
            "ticks": "",
            "zerolinecolor": "white"
           },
           "yaxis": {
            "backgroundcolor": "#E5ECF6",
            "gridcolor": "white",
            "gridwidth": 2,
            "linecolor": "white",
            "showbackground": true,
            "ticks": "",
            "zerolinecolor": "white"
           },
           "zaxis": {
            "backgroundcolor": "#E5ECF6",
            "gridcolor": "white",
            "gridwidth": 2,
            "linecolor": "white",
            "showbackground": true,
            "ticks": "",
            "zerolinecolor": "white"
           }
          },
          "shapedefaults": {
           "line": {
            "color": "#2a3f5f"
           }
          },
          "ternary": {
           "aaxis": {
            "gridcolor": "white",
            "linecolor": "white",
            "ticks": ""
           },
           "baxis": {
            "gridcolor": "white",
            "linecolor": "white",
            "ticks": ""
           },
           "bgcolor": "#E5ECF6",
           "caxis": {
            "gridcolor": "white",
            "linecolor": "white",
            "ticks": ""
           }
          },
          "title": {
           "x": 0.05
          },
          "xaxis": {
           "automargin": true,
           "gridcolor": "white",
           "linecolor": "white",
           "ticks": "",
           "title": {
            "standoff": 15
           },
           "zerolinecolor": "white",
           "zerolinewidth": 2
          },
          "yaxis": {
           "automargin": true,
           "gridcolor": "white",
           "linecolor": "white",
           "ticks": "",
           "title": {
            "standoff": 15
           },
           "zerolinecolor": "white",
           "zerolinewidth": 2
          }
         }
        },
        "title": {
         "font": {
          "color": "#4D5663"
         }
        },
        "xaxis": {
         "gridcolor": "#E1E5ED",
         "showgrid": true,
         "tickfont": {
          "color": "#4D5663"
         },
         "title": {
          "font": {
           "color": "#4D5663"
          },
          "text": ""
         },
         "zerolinecolor": "#E1E5ED"
        },
        "yaxis": {
         "gridcolor": "#E1E5ED",
         "showgrid": true,
         "tickfont": {
          "color": "#4D5663"
         },
         "title": {
          "font": {
           "color": "#4D5663"
          },
          "text": ""
         },
         "zerolinecolor": "#E1E5ED"
        }
       }
      },
      "text/html": [
       "<div>                            <div id=\"70e358d2-a7f7-4be7-8ea2-25f261f021de\" class=\"plotly-graph-div\" style=\"height:525px; width:100%;\"></div>            <script type=\"text/javascript\">                require([\"plotly\"], function(Plotly) {                    window.PLOTLYENV=window.PLOTLYENV || {};\n",
       "                    window.PLOTLYENV.BASE_URL='https://plot.ly';                                    if (document.getElementById(\"70e358d2-a7f7-4be7-8ea2-25f261f021de\")) {                    Plotly.newPlot(                        \"70e358d2-a7f7-4be7-8ea2-25f261f021de\",                        [{\"marker\":{\"color\":[\"rgb(255, 153, 51)\",\"rgb(55, 128, 191)\",\"rgb(50, 171, 96)\",\"rgb(128, 0, 128)\",\"rgb(219, 64, 82)\",\"rgb(0, 128, 128)\",\"rgb(255, 255, 51)\",\"rgb(128, 128, 0)\",\"rgb(251, 128, 114)\",\"rgb(128, 177, 211)\"],\"line\":{\"width\":1.3},\"size\":[57,30,40,102,52,63,32,35,73,54,63,58,56,58,63,52,55,70,99,36,65,59,46,89,59,36,65,58,67,75,77,78,69,53,51,63,29,58,56,58,89,58,86,14,62,64,43,49,51,54,48,72,32,64,38,112,44,51,62,49,76,78,45,80,19,72,77,63,52,51,12,64,52,36,16,58,52,56,44,85,55,94,58,59,57,42,90,68,52,38,57,58,38,74,36,55,26,75,47,26],\"symbol\":\"circle\"},\"mode\":\"markers\",\"text\":\"\",\"x\":[1.8546943094246786,0.7484318595969548,-1.3003802265817697,0.5466013635649044,0.5936748444947731,-1.8998908810208484,0.33721413564963915,1.1337712628923053,1.359082325911419,1.0243456616090953,-0.7769188276254685,0.15627448332439178,0.02909909907259362,0.5340802561947197,0.44166099876698245,0.07418337277071425,-1.2166485828944438,0.4704216470315535,0.1776738729336818,-0.9082445699203281,-0.5882378507295679,1.2566415972493183,-0.6219653660070883,0.39494223876348156,1.4308659933450811,1.49581915347491,0.4076595706023893,-1.2939477605182126,0.973390369604027,0.840098155584022,-0.5185938843649213,0.10199556541041863,0.8500271871363656,1.1539670862850304,-1.0848994588674004,0.8384190457546357,0.6937565388763399,-1.410582449207463,0.0690709545571296,2.0081983789111573,-1.0046445131062767,0.7516523194583801,1.3873453206817357,0.0743343655411143,0.13912434845424487,-1.0530483619299962,-0.5065833576247132,1.0048844700796773,1.6869679168211584,-0.6326703784319785,-0.14584422183332776,-0.3012231557587274,0.9861559735709121,-1.3944268538824043,0.205266530140708,-0.3526912470632605,0.5139945168452866,0.6431761536884101,0.8533221153361462,0.3634162498544376,1.488558770362642,0.39118080162568675,-0.4064937772536102,-1.3424483605503834,-0.8484394801485337,0.442011011278428,0.5552676006967177,-1.1550992405702285,-0.045464650893156155,-0.22856117724941144,0.6310239049105584,1.443996432243972,-0.14437703793582427,-1.8093132042767839,-0.8965944258926464,-0.7955997958807984,-0.4820361239791199,0.5371266880897007,-0.23005501754629296,-0.24086175705188134,0.2530975143376481,-0.055343478317405104,-0.6591122798690139,1.2243412756761436,0.708139988592118,-0.11597112980702137,-0.8039079953833423,1.4002562252201896,0.8216116431913105,-0.8804732872490963,0.7570077363215513,-1.2470995107966565,-0.10568771334587965,0.4014953547386781,0.22971241053917285,-0.3461355642941567,-0.8004521108163732,1.0572143736336341,0.7315126139588002,1.0860112166901377],\"y\":[0.16782352183400587,0.624804262589385,0.20372352671812846,-1.0591108379188434,-1.1419991407057792,0.8822057456431932,-0.30702637099270114,-2.0571013104149785,0.14614864879810144,2.8239149412769016,-2.412974864103616,0.721557660743138,-1.3663833420655647,-0.4052192278722541,0.23495373968771768,-0.5455590082566745,-1.1389799602470527,-1.9385486162077734,0.8047110489285142,-0.2351182610922446,2.3322152150147737,0.8960012160713902,0.8218942950746454,-0.4482443216083756,0.19863172403022056,0.33279159985848933,-2.4384779622185095,1.193567194099597,0.06995951078451483,0.4072798445048463,0.8146048718814357,1.4685320619448519,1.241729574244285,-0.37101981322201927,0.19634382933661695,-1.2594514852704604,0.48904672630322243,0.31628022355690794,-1.815222945460142,0.5376001263469178,0.8928260980073432,0.12879019588005242,0.6852771649802917,0.9239529848193153,2.3823692123794133,1.8982715919903281,1.7308831412905878,1.1862688195828759,-1.848635962299935,-2.073596318572358,0.12343301517841951,-0.34208245724851927,0.001591497174670703,-0.7105462449113583,2.118870082413893,1.0323512051698571,-0.14904284624203912,-0.27697382952569033,-1.4030368172614824,0.8069435110865915,-0.48338082158192425,-0.16726241537412317,0.7750420639775881,0.8556546635018052,-0.5617163502227375,-1.1334010030114128,2.8353718723380155,1.1504533925555331,0.8432868744795676,0.9992348285333864,-1.3610373755414766,0.17205002153134172,0.3127027245372549,-2.533325046279571,1.0768939607725407,-0.568689730288132,1.1509542732856508,-0.3683126886930604,-1.8553771750534833,-0.767540898256376,-1.3840393947293608,0.3718860914407538,0.2847053629058795,-0.7893439575251157,-1.642169014129789,2.3274424411981007,1.2633183284786307,-0.2664500269888275,-1.1605565365059336,-0.36382358959654326,-0.5740259278524541,-0.9447372467663968,-1.4061398731208765,1.7657635056574208,0.042685599019628644,0.7527939395183922,0.1025381452497282,-1.0029596827640692,-1.3391133535210205,-2.431710577117348],\"type\":\"scatter\"}],                        {\"legend\":{\"bgcolor\":\"#F5F6F9\",\"font\":{\"color\":\"#4D5663\"}},\"paper_bgcolor\":\"#F5F6F9\",\"plot_bgcolor\":\"#F5F6F9\",\"template\":{\"data\":{\"barpolar\":[{\"marker\":{\"line\":{\"color\":\"#E5ECF6\",\"width\":0.5},\"pattern\":{\"fillmode\":\"overlay\",\"size\":10,\"solidity\":0.2}},\"type\":\"barpolar\"}],\"bar\":[{\"error_x\":{\"color\":\"#2a3f5f\"},\"error_y\":{\"color\":\"#2a3f5f\"},\"marker\":{\"line\":{\"color\":\"#E5ECF6\",\"width\":0.5},\"pattern\":{\"fillmode\":\"overlay\",\"size\":10,\"solidity\":0.2}},\"type\":\"bar\"}],\"carpet\":[{\"aaxis\":{\"endlinecolor\":\"#2a3f5f\",\"gridcolor\":\"white\",\"linecolor\":\"white\",\"minorgridcolor\":\"white\",\"startlinecolor\":\"#2a3f5f\"},\"baxis\":{\"endlinecolor\":\"#2a3f5f\",\"gridcolor\":\"white\",\"linecolor\":\"white\",\"minorgridcolor\":\"white\",\"startlinecolor\":\"#2a3f5f\"},\"type\":\"carpet\"}],\"choropleth\":[{\"colorbar\":{\"outlinewidth\":0,\"ticks\":\"\"},\"type\":\"choropleth\"}],\"contourcarpet\":[{\"colorbar\":{\"outlinewidth\":0,\"ticks\":\"\"},\"type\":\"contourcarpet\"}],\"contour\":[{\"colorbar\":{\"outlinewidth\":0,\"ticks\":\"\"},\"colorscale\":[[0.0,\"#0d0887\"],[0.1111111111111111,\"#46039f\"],[0.2222222222222222,\"#7201a8\"],[0.3333333333333333,\"#9c179e\"],[0.4444444444444444,\"#bd3786\"],[0.5555555555555556,\"#d8576b\"],[0.6666666666666666,\"#ed7953\"],[0.7777777777777778,\"#fb9f3a\"],[0.8888888888888888,\"#fdca26\"],[1.0,\"#f0f921\"]],\"type\":\"contour\"}],\"heatmapgl\":[{\"colorbar\":{\"outlinewidth\":0,\"ticks\":\"\"},\"colorscale\":[[0.0,\"#0d0887\"],[0.1111111111111111,\"#46039f\"],[0.2222222222222222,\"#7201a8\"],[0.3333333333333333,\"#9c179e\"],[0.4444444444444444,\"#bd3786\"],[0.5555555555555556,\"#d8576b\"],[0.6666666666666666,\"#ed7953\"],[0.7777777777777778,\"#fb9f3a\"],[0.8888888888888888,\"#fdca26\"],[1.0,\"#f0f921\"]],\"type\":\"heatmapgl\"}],\"heatmap\":[{\"colorbar\":{\"outlinewidth\":0,\"ticks\":\"\"},\"colorscale\":[[0.0,\"#0d0887\"],[0.1111111111111111,\"#46039f\"],[0.2222222222222222,\"#7201a8\"],[0.3333333333333333,\"#9c179e\"],[0.4444444444444444,\"#bd3786\"],[0.5555555555555556,\"#d8576b\"],[0.6666666666666666,\"#ed7953\"],[0.7777777777777778,\"#fb9f3a\"],[0.8888888888888888,\"#fdca26\"],[1.0,\"#f0f921\"]],\"type\":\"heatmap\"}],\"histogram2dcontour\":[{\"colorbar\":{\"outlinewidth\":0,\"ticks\":\"\"},\"colorscale\":[[0.0,\"#0d0887\"],[0.1111111111111111,\"#46039f\"],[0.2222222222222222,\"#7201a8\"],[0.3333333333333333,\"#9c179e\"],[0.4444444444444444,\"#bd3786\"],[0.5555555555555556,\"#d8576b\"],[0.6666666666666666,\"#ed7953\"],[0.7777777777777778,\"#fb9f3a\"],[0.8888888888888888,\"#fdca26\"],[1.0,\"#f0f921\"]],\"type\":\"histogram2dcontour\"}],\"histogram2d\":[{\"colorbar\":{\"outlinewidth\":0,\"ticks\":\"\"},\"colorscale\":[[0.0,\"#0d0887\"],[0.1111111111111111,\"#46039f\"],[0.2222222222222222,\"#7201a8\"],[0.3333333333333333,\"#9c179e\"],[0.4444444444444444,\"#bd3786\"],[0.5555555555555556,\"#d8576b\"],[0.6666666666666666,\"#ed7953\"],[0.7777777777777778,\"#fb9f3a\"],[0.8888888888888888,\"#fdca26\"],[1.0,\"#f0f921\"]],\"type\":\"histogram2d\"}],\"histogram\":[{\"marker\":{\"pattern\":{\"fillmode\":\"overlay\",\"size\":10,\"solidity\":0.2}},\"type\":\"histogram\"}],\"mesh3d\":[{\"colorbar\":{\"outlinewidth\":0,\"ticks\":\"\"},\"type\":\"mesh3d\"}],\"parcoords\":[{\"line\":{\"colorbar\":{\"outlinewidth\":0,\"ticks\":\"\"}},\"type\":\"parcoords\"}],\"pie\":[{\"automargin\":true,\"type\":\"pie\"}],\"scatter3d\":[{\"line\":{\"colorbar\":{\"outlinewidth\":0,\"ticks\":\"\"}},\"marker\":{\"colorbar\":{\"outlinewidth\":0,\"ticks\":\"\"}},\"type\":\"scatter3d\"}],\"scattercarpet\":[{\"marker\":{\"colorbar\":{\"outlinewidth\":0,\"ticks\":\"\"}},\"type\":\"scattercarpet\"}],\"scattergeo\":[{\"marker\":{\"colorbar\":{\"outlinewidth\":0,\"ticks\":\"\"}},\"type\":\"scattergeo\"}],\"scattergl\":[{\"marker\":{\"colorbar\":{\"outlinewidth\":0,\"ticks\":\"\"}},\"type\":\"scattergl\"}],\"scattermapbox\":[{\"marker\":{\"colorbar\":{\"outlinewidth\":0,\"ticks\":\"\"}},\"type\":\"scattermapbox\"}],\"scatterpolargl\":[{\"marker\":{\"colorbar\":{\"outlinewidth\":0,\"ticks\":\"\"}},\"type\":\"scatterpolargl\"}],\"scatterpolar\":[{\"marker\":{\"colorbar\":{\"outlinewidth\":0,\"ticks\":\"\"}},\"type\":\"scatterpolar\"}],\"scatter\":[{\"marker\":{\"colorbar\":{\"outlinewidth\":0,\"ticks\":\"\"}},\"type\":\"scatter\"}],\"scatterternary\":[{\"marker\":{\"colorbar\":{\"outlinewidth\":0,\"ticks\":\"\"}},\"type\":\"scatterternary\"}],\"surface\":[{\"colorbar\":{\"outlinewidth\":0,\"ticks\":\"\"},\"colorscale\":[[0.0,\"#0d0887\"],[0.1111111111111111,\"#46039f\"],[0.2222222222222222,\"#7201a8\"],[0.3333333333333333,\"#9c179e\"],[0.4444444444444444,\"#bd3786\"],[0.5555555555555556,\"#d8576b\"],[0.6666666666666666,\"#ed7953\"],[0.7777777777777778,\"#fb9f3a\"],[0.8888888888888888,\"#fdca26\"],[1.0,\"#f0f921\"]],\"type\":\"surface\"}],\"table\":[{\"cells\":{\"fill\":{\"color\":\"#EBF0F8\"},\"line\":{\"color\":\"white\"}},\"header\":{\"fill\":{\"color\":\"#C8D4E3\"},\"line\":{\"color\":\"white\"}},\"type\":\"table\"}]},\"layout\":{\"annotationdefaults\":{\"arrowcolor\":\"#2a3f5f\",\"arrowhead\":0,\"arrowwidth\":1},\"autotypenumbers\":\"strict\",\"coloraxis\":{\"colorbar\":{\"outlinewidth\":0,\"ticks\":\"\"}},\"colorscale\":{\"diverging\":[[0,\"#8e0152\"],[0.1,\"#c51b7d\"],[0.2,\"#de77ae\"],[0.3,\"#f1b6da\"],[0.4,\"#fde0ef\"],[0.5,\"#f7f7f7\"],[0.6,\"#e6f5d0\"],[0.7,\"#b8e186\"],[0.8,\"#7fbc41\"],[0.9,\"#4d9221\"],[1,\"#276419\"]],\"sequential\":[[0.0,\"#0d0887\"],[0.1111111111111111,\"#46039f\"],[0.2222222222222222,\"#7201a8\"],[0.3333333333333333,\"#9c179e\"],[0.4444444444444444,\"#bd3786\"],[0.5555555555555556,\"#d8576b\"],[0.6666666666666666,\"#ed7953\"],[0.7777777777777778,\"#fb9f3a\"],[0.8888888888888888,\"#fdca26\"],[1.0,\"#f0f921\"]],\"sequentialminus\":[[0.0,\"#0d0887\"],[0.1111111111111111,\"#46039f\"],[0.2222222222222222,\"#7201a8\"],[0.3333333333333333,\"#9c179e\"],[0.4444444444444444,\"#bd3786\"],[0.5555555555555556,\"#d8576b\"],[0.6666666666666666,\"#ed7953\"],[0.7777777777777778,\"#fb9f3a\"],[0.8888888888888888,\"#fdca26\"],[1.0,\"#f0f921\"]]},\"colorway\":[\"#636efa\",\"#EF553B\",\"#00cc96\",\"#ab63fa\",\"#FFA15A\",\"#19d3f3\",\"#FF6692\",\"#B6E880\",\"#FF97FF\",\"#FECB52\"],\"font\":{\"color\":\"#2a3f5f\"},\"geo\":{\"bgcolor\":\"white\",\"lakecolor\":\"white\",\"landcolor\":\"#E5ECF6\",\"showlakes\":true,\"showland\":true,\"subunitcolor\":\"white\"},\"hoverlabel\":{\"align\":\"left\"},\"hovermode\":\"closest\",\"mapbox\":{\"style\":\"light\"},\"paper_bgcolor\":\"white\",\"plot_bgcolor\":\"#E5ECF6\",\"polar\":{\"angularaxis\":{\"gridcolor\":\"white\",\"linecolor\":\"white\",\"ticks\":\"\"},\"bgcolor\":\"#E5ECF6\",\"radialaxis\":{\"gridcolor\":\"white\",\"linecolor\":\"white\",\"ticks\":\"\"}},\"scene\":{\"xaxis\":{\"backgroundcolor\":\"#E5ECF6\",\"gridcolor\":\"white\",\"gridwidth\":2,\"linecolor\":\"white\",\"showbackground\":true,\"ticks\":\"\",\"zerolinecolor\":\"white\"},\"yaxis\":{\"backgroundcolor\":\"#E5ECF6\",\"gridcolor\":\"white\",\"gridwidth\":2,\"linecolor\":\"white\",\"showbackground\":true,\"ticks\":\"\",\"zerolinecolor\":\"white\"},\"zaxis\":{\"backgroundcolor\":\"#E5ECF6\",\"gridcolor\":\"white\",\"gridwidth\":2,\"linecolor\":\"white\",\"showbackground\":true,\"ticks\":\"\",\"zerolinecolor\":\"white\"}},\"shapedefaults\":{\"line\":{\"color\":\"#2a3f5f\"}},\"ternary\":{\"aaxis\":{\"gridcolor\":\"white\",\"linecolor\":\"white\",\"ticks\":\"\"},\"baxis\":{\"gridcolor\":\"white\",\"linecolor\":\"white\",\"ticks\":\"\"},\"bgcolor\":\"#E5ECF6\",\"caxis\":{\"gridcolor\":\"white\",\"linecolor\":\"white\",\"ticks\":\"\"}},\"title\":{\"x\":0.05},\"xaxis\":{\"automargin\":true,\"gridcolor\":\"white\",\"linecolor\":\"white\",\"ticks\":\"\",\"title\":{\"standoff\":15},\"zerolinecolor\":\"white\",\"zerolinewidth\":2},\"yaxis\":{\"automargin\":true,\"gridcolor\":\"white\",\"linecolor\":\"white\",\"ticks\":\"\",\"title\":{\"standoff\":15},\"zerolinecolor\":\"white\",\"zerolinewidth\":2}}},\"title\":{\"font\":{\"color\":\"#4D5663\"}},\"xaxis\":{\"gridcolor\":\"#E1E5ED\",\"showgrid\":true,\"tickfont\":{\"color\":\"#4D5663\"},\"title\":{\"font\":{\"color\":\"#4D5663\"},\"text\":\"\"},\"zerolinecolor\":\"#E1E5ED\"},\"yaxis\":{\"gridcolor\":\"#E1E5ED\",\"showgrid\":true,\"tickfont\":{\"color\":\"#4D5663\"},\"title\":{\"font\":{\"color\":\"#4D5663\"},\"text\":\"\"},\"zerolinecolor\":\"#E1E5ED\"}},                        {\"showLink\": true, \"linkText\": \"Export to plot.ly\", \"plotlyServerURL\": \"https://plot.ly\", \"responsive\": true}                    ).then(function(){\n",
       "                            \n",
       "var gd = document.getElementById('70e358d2-a7f7-4be7-8ea2-25f261f021de');\n",
       "var x = new MutationObserver(function (mutations, observer) {{\n",
       "        var display = window.getComputedStyle(gd).display;\n",
       "        if (!display || display === 'none') {{\n",
       "            console.log([gd, 'removed!']);\n",
       "            Plotly.purge(gd);\n",
       "            observer.disconnect();\n",
       "        }}\n",
       "}});\n",
       "\n",
       "// Listen for the removal of the full notebook cells\n",
       "var notebookContainer = gd.closest('#notebook-container');\n",
       "if (notebookContainer) {{\n",
       "    x.observe(notebookContainer, {childList: true});\n",
       "}}\n",
       "\n",
       "// Listen for the clearing of the current output cell\n",
       "var outputEl = gd.closest('.output');\n",
       "if (outputEl) {{\n",
       "    x.observe(outputEl, {childList: true});\n",
       "}}\n",
       "\n",
       "                        })                };                });            </script>        </div>"
      ]
     },
     "metadata": {},
     "output_type": "display_data"
    }
   ],
   "source": [
    "df.iplot(kind='bubble',x='A',y='B',size='C')"
   ]
  },
  {
   "cell_type": "markdown",
   "metadata": {},
   "source": [
    "## scatter_matrix()\n",
    "\n",
    "Similar to sns.pairplot()"
   ]
  },
  {
   "cell_type": "code",
   "execution_count": 19,
   "metadata": {},
   "outputs": [
    {
     "data": {
      "application/vnd.plotly.v1+json": {
       "config": {
        "linkText": "Export to plot.ly",
        "plotlyServerURL": "https://plot.ly",
        "showLink": true
       },
       "data": [
        {
         "histfunc": "count",
         "histnorm": "",
         "marker": {
          "color": "rgba(255, 153, 51, 1.0)",
          "line": {
           "color": "#4D5663",
           "width": 1.3
          }
         },
         "name": "A",
         "nbinsx": 10,
         "opacity": 0.8,
         "orientation": "v",
         "type": "histogram",
         "x": [
          1.8546943094246786,
          0.7484318595969548,
          -1.3003802265817697,
          0.5466013635649044,
          0.5936748444947731,
          -1.8998908810208484,
          0.33721413564963915,
          1.1337712628923053,
          1.359082325911419,
          1.0243456616090953,
          -0.7769188276254685,
          0.15627448332439178,
          0.02909909907259362,
          0.5340802561947197,
          0.44166099876698245,
          0.07418337277071425,
          -1.2166485828944438,
          0.4704216470315535,
          0.1776738729336818,
          -0.9082445699203281,
          -0.5882378507295679,
          1.2566415972493183,
          -0.6219653660070883,
          0.39494223876348156,
          1.4308659933450811,
          1.49581915347491,
          0.4076595706023893,
          -1.2939477605182126,
          0.973390369604027,
          0.840098155584022,
          -0.5185938843649213,
          0.10199556541041863,
          0.8500271871363656,
          1.1539670862850304,
          -1.0848994588674004,
          0.8384190457546357,
          0.6937565388763399,
          -1.410582449207463,
          0.0690709545571296,
          2.0081983789111573,
          -1.0046445131062767,
          0.7516523194583801,
          1.3873453206817357,
          0.0743343655411143,
          0.13912434845424487,
          -1.0530483619299962,
          -0.5065833576247132,
          1.0048844700796773,
          1.6869679168211584,
          -0.6326703784319785,
          -0.14584422183332776,
          -0.3012231557587274,
          0.9861559735709121,
          -1.3944268538824043,
          0.205266530140708,
          -0.3526912470632605,
          0.5139945168452866,
          0.6431761536884101,
          0.8533221153361462,
          0.3634162498544376,
          1.488558770362642,
          0.39118080162568675,
          -0.4064937772536102,
          -1.3424483605503834,
          -0.8484394801485337,
          0.442011011278428,
          0.5552676006967177,
          -1.1550992405702285,
          -0.045464650893156155,
          -0.22856117724941144,
          0.6310239049105584,
          1.443996432243972,
          -0.14437703793582427,
          -1.8093132042767839,
          -0.8965944258926464,
          -0.7955997958807984,
          -0.4820361239791199,
          0.5371266880897007,
          -0.23005501754629296,
          -0.24086175705188134,
          0.2530975143376481,
          -0.055343478317405104,
          -0.6591122798690139,
          1.2243412756761436,
          0.708139988592118,
          -0.11597112980702137,
          -0.8039079953833423,
          1.4002562252201896,
          0.8216116431913105,
          -0.8804732872490963,
          0.7570077363215513,
          -1.2470995107966565,
          -0.10568771334587965,
          0.4014953547386781,
          0.22971241053917285,
          -0.3461355642941567,
          -0.8004521108163732,
          1.0572143736336341,
          0.7315126139588002,
          1.0860112166901377
         ],
         "xaxis": "x",
         "yaxis": "y"
        },
        {
         "line": {
          "color": "rgba(128, 128, 128, 1.0)",
          "dash": "solid",
          "shape": "linear",
          "width": 1.3
         },
         "marker": {
          "size": 2,
          "symbol": "circle"
         },
         "mode": "markers",
         "name": "A",
         "text": "",
         "type": "scatter",
         "x": [
          0.16782352183400587,
          0.624804262589385,
          0.20372352671812846,
          -1.0591108379188434,
          -1.1419991407057792,
          0.8822057456431932,
          -0.30702637099270114,
          -2.0571013104149785,
          0.14614864879810144,
          2.8239149412769016,
          -2.412974864103616,
          0.721557660743138,
          -1.3663833420655647,
          -0.4052192278722541,
          0.23495373968771768,
          -0.5455590082566745,
          -1.1389799602470527,
          -1.9385486162077734,
          0.8047110489285142,
          -0.2351182610922446,
          2.3322152150147737,
          0.8960012160713902,
          0.8218942950746454,
          -0.4482443216083756,
          0.19863172403022056,
          0.33279159985848933,
          -2.4384779622185095,
          1.193567194099597,
          0.06995951078451483,
          0.4072798445048463,
          0.8146048718814357,
          1.4685320619448519,
          1.241729574244285,
          -0.37101981322201927,
          0.19634382933661695,
          -1.2594514852704604,
          0.48904672630322243,
          0.31628022355690794,
          -1.815222945460142,
          0.5376001263469178,
          0.8928260980073432,
          0.12879019588005242,
          0.6852771649802917,
          0.9239529848193153,
          2.3823692123794133,
          1.8982715919903281,
          1.7308831412905878,
          1.1862688195828759,
          -1.848635962299935,
          -2.073596318572358,
          0.12343301517841951,
          -0.34208245724851927,
          0.001591497174670703,
          -0.7105462449113583,
          2.118870082413893,
          1.0323512051698571,
          -0.14904284624203912,
          -0.27697382952569033,
          -1.4030368172614824,
          0.8069435110865915,
          -0.48338082158192425,
          -0.16726241537412317,
          0.7750420639775881,
          0.8556546635018052,
          -0.5617163502227375,
          -1.1334010030114128,
          2.8353718723380155,
          1.1504533925555331,
          0.8432868744795676,
          0.9992348285333864,
          -1.3610373755414766,
          0.17205002153134172,
          0.3127027245372549,
          -2.533325046279571,
          1.0768939607725407,
          -0.568689730288132,
          1.1509542732856508,
          -0.3683126886930604,
          -1.8553771750534833,
          -0.767540898256376,
          -1.3840393947293608,
          0.3718860914407538,
          0.2847053629058795,
          -0.7893439575251157,
          -1.642169014129789,
          2.3274424411981007,
          1.2633183284786307,
          -0.2664500269888275,
          -1.1605565365059336,
          -0.36382358959654326,
          -0.5740259278524541,
          -0.9447372467663968,
          -1.4061398731208765,
          1.7657635056574208,
          0.042685599019628644,
          0.7527939395183922,
          0.1025381452497282,
          -1.0029596827640692,
          -1.3391133535210205,
          -2.431710577117348
         ],
         "xaxis": "x2",
         "y": [
          1.8546943094246786,
          0.7484318595969548,
          -1.3003802265817697,
          0.5466013635649044,
          0.5936748444947731,
          -1.8998908810208484,
          0.33721413564963915,
          1.1337712628923053,
          1.359082325911419,
          1.0243456616090953,
          -0.7769188276254685,
          0.15627448332439178,
          0.02909909907259362,
          0.5340802561947197,
          0.44166099876698245,
          0.07418337277071425,
          -1.2166485828944438,
          0.4704216470315535,
          0.1776738729336818,
          -0.9082445699203281,
          -0.5882378507295679,
          1.2566415972493183,
          -0.6219653660070883,
          0.39494223876348156,
          1.4308659933450811,
          1.49581915347491,
          0.4076595706023893,
          -1.2939477605182126,
          0.973390369604027,
          0.840098155584022,
          -0.5185938843649213,
          0.10199556541041863,
          0.8500271871363656,
          1.1539670862850304,
          -1.0848994588674004,
          0.8384190457546357,
          0.6937565388763399,
          -1.410582449207463,
          0.0690709545571296,
          2.0081983789111573,
          -1.0046445131062767,
          0.7516523194583801,
          1.3873453206817357,
          0.0743343655411143,
          0.13912434845424487,
          -1.0530483619299962,
          -0.5065833576247132,
          1.0048844700796773,
          1.6869679168211584,
          -0.6326703784319785,
          -0.14584422183332776,
          -0.3012231557587274,
          0.9861559735709121,
          -1.3944268538824043,
          0.205266530140708,
          -0.3526912470632605,
          0.5139945168452866,
          0.6431761536884101,
          0.8533221153361462,
          0.3634162498544376,
          1.488558770362642,
          0.39118080162568675,
          -0.4064937772536102,
          -1.3424483605503834,
          -0.8484394801485337,
          0.442011011278428,
          0.5552676006967177,
          -1.1550992405702285,
          -0.045464650893156155,
          -0.22856117724941144,
          0.6310239049105584,
          1.443996432243972,
          -0.14437703793582427,
          -1.8093132042767839,
          -0.8965944258926464,
          -0.7955997958807984,
          -0.4820361239791199,
          0.5371266880897007,
          -0.23005501754629296,
          -0.24086175705188134,
          0.2530975143376481,
          -0.055343478317405104,
          -0.6591122798690139,
          1.2243412756761436,
          0.708139988592118,
          -0.11597112980702137,
          -0.8039079953833423,
          1.4002562252201896,
          0.8216116431913105,
          -0.8804732872490963,
          0.7570077363215513,
          -1.2470995107966565,
          -0.10568771334587965,
          0.4014953547386781,
          0.22971241053917285,
          -0.3461355642941567,
          -0.8004521108163732,
          1.0572143736336341,
          0.7315126139588002,
          1.0860112166901377
         ],
         "yaxis": "y2"
        },
        {
         "line": {
          "color": "rgba(128, 128, 128, 1.0)",
          "dash": "solid",
          "shape": "linear",
          "width": 1.3
         },
         "marker": {
          "size": 2,
          "symbol": "circle"
         },
         "mode": "markers",
         "name": "A",
         "text": "",
         "type": "scatter",
         "x": [
          -0.03244389602055529,
          -1.376064723215646,
          -0.8936449852951962,
          2.246183247170497,
          -0.2842455411433604,
          0.24977220339714862,
          -1.3092079752731844,
          -1.125820862033277,
          0.7881123101596321,
          -0.17629478631106424,
          0.24791816263662367,
          0.024129800700381513,
          -0.0731598915189741,
          0.011826906834777438,
          0.25766620763392967,
          -0.2760160116474995,
          -0.12422601615338257,
          0.6304374772358293,
          2.0906771171790104,
          -1.0682789441846812,
          0.35542075055937694,
          0.07116119586324078,
          -0.5785308586685893,
          1.592617960631492,
          0.04851991365648021,
          -1.068886282058525,
          0.36282714372099184,
          0.00509787537875922,
          0.45830896155744966,
          0.887170281719946,
          0.9978917974896991,
          1.022752347260949,
          0.556188463426931,
          -0.23755417410411084,
          -0.3310855715715259,
          0.2714160532359191,
          -1.4189791792176458,
          -0.00042666021864642376,
          -0.06049170225579462,
          0.01194277380680795,
          1.5831380346753257,
          0.035250206851351266,
          1.417575706148856,
          -2.2127674994658983,
          0.24454590517047958,
          0.3281634508912985,
          -0.7267207272217229,
          -0.44970481157645426,
          -0.35327261841451457,
          -0.16458726099049978,
          -0.4593882381974047,
          0.7023722469065665,
          -1.2623134023136406,
          0.314987762048421,
          -0.9901882642956437,
          2.706367199353684,
          -0.6596398069513764,
          -0.31575679367085446,
          0.2032154447404938,
          -0.4200196391830115,
          0.9221453778359124,
          1.0085534461366155,
          -0.6556210132152722,
          1.1414216930155912,
          -1.9488020947921916,
          0.7355350611389138,
          0.9509715976708066,
          0.2482948033835417,
          -0.29254111057074667,
          -0.3220057608509072,
          -2.315980644514428,
          0.3057844356233016,
          -0.2712245431049181,
          -1.0915701524938453,
          -2.1015619677219455,
          0.01920940725249679,
          -0.28048236908173735,
          -0.10100878456696832,
          -0.6835423968236275,
          1.3714640280125716,
          -0.10764423590559576,
          1.8174456157836572,
          0.02236206198865971,
          0.062061313687635136,
          -0.009785031937426381,
          -0.7838538964590656,
          1.6255932335409693,
          0.5003115963691971,
          -0.25889661335579556,
          -0.9668628171957215,
          -0.01756446850677946,
          0.01921596143610028,
          -0.9626825014469726,
          0.8186790237590893,
          -1.1037901893201325,
          -0.12499750671327468,
          -1.6067080396214912,
          0.8909711217238272,
          -0.5237514547912062,
          -1.5974457559062116
         ],
         "xaxis": "x3",
         "y": [
          1.8546943094246786,
          0.7484318595969548,
          -1.3003802265817697,
          0.5466013635649044,
          0.5936748444947731,
          -1.8998908810208484,
          0.33721413564963915,
          1.1337712628923053,
          1.359082325911419,
          1.0243456616090953,
          -0.7769188276254685,
          0.15627448332439178,
          0.02909909907259362,
          0.5340802561947197,
          0.44166099876698245,
          0.07418337277071425,
          -1.2166485828944438,
          0.4704216470315535,
          0.1776738729336818,
          -0.9082445699203281,
          -0.5882378507295679,
          1.2566415972493183,
          -0.6219653660070883,
          0.39494223876348156,
          1.4308659933450811,
          1.49581915347491,
          0.4076595706023893,
          -1.2939477605182126,
          0.973390369604027,
          0.840098155584022,
          -0.5185938843649213,
          0.10199556541041863,
          0.8500271871363656,
          1.1539670862850304,
          -1.0848994588674004,
          0.8384190457546357,
          0.6937565388763399,
          -1.410582449207463,
          0.0690709545571296,
          2.0081983789111573,
          -1.0046445131062767,
          0.7516523194583801,
          1.3873453206817357,
          0.0743343655411143,
          0.13912434845424487,
          -1.0530483619299962,
          -0.5065833576247132,
          1.0048844700796773,
          1.6869679168211584,
          -0.6326703784319785,
          -0.14584422183332776,
          -0.3012231557587274,
          0.9861559735709121,
          -1.3944268538824043,
          0.205266530140708,
          -0.3526912470632605,
          0.5139945168452866,
          0.6431761536884101,
          0.8533221153361462,
          0.3634162498544376,
          1.488558770362642,
          0.39118080162568675,
          -0.4064937772536102,
          -1.3424483605503834,
          -0.8484394801485337,
          0.442011011278428,
          0.5552676006967177,
          -1.1550992405702285,
          -0.045464650893156155,
          -0.22856117724941144,
          0.6310239049105584,
          1.443996432243972,
          -0.14437703793582427,
          -1.8093132042767839,
          -0.8965944258926464,
          -0.7955997958807984,
          -0.4820361239791199,
          0.5371266880897007,
          -0.23005501754629296,
          -0.24086175705188134,
          0.2530975143376481,
          -0.055343478317405104,
          -0.6591122798690139,
          1.2243412756761436,
          0.708139988592118,
          -0.11597112980702137,
          -0.8039079953833423,
          1.4002562252201896,
          0.8216116431913105,
          -0.8804732872490963,
          0.7570077363215513,
          -1.2470995107966565,
          -0.10568771334587965,
          0.4014953547386781,
          0.22971241053917285,
          -0.3461355642941567,
          -0.8004521108163732,
          1.0572143736336341,
          0.7315126139588002,
          1.0860112166901377
         ],
         "yaxis": "y3"
        },
        {
         "line": {
          "color": "rgba(128, 128, 128, 1.0)",
          "dash": "solid",
          "shape": "linear",
          "width": 1.3
         },
         "marker": {
          "size": 2,
          "symbol": "circle"
         },
         "mode": "markers",
         "name": "A",
         "text": "",
         "type": "scatter",
         "x": [
          -1.1743782441565986,
          1.1782833648527276,
          1.5285790172040352,
          -0.2434144242919703,
          -0.4301588761425384,
          -0.7837164708704318,
          2.073423242544931,
          -0.2257065019732865,
          0.04025288020323026,
          -1.833822463665788,
          -0.2587243022625214,
          -0.6335293523645709,
          -1.5938225684918346,
          -1.9844992498676004,
          -2.2467059083481717,
          -1.1574783516368528,
          -1.4314297953207724,
          -0.5675189226657303,
          0.07328812335559368,
          0.7763500403084073,
          -0.04574480746821436,
          -0.9425064559799998,
          -0.8984776247702821,
          0.956115375095708,
          1.1249636326772186,
          0.18047759286331055,
          0.4834830977051666,
          1.1359849486831892,
          -1.23109749884796,
          -0.8350338429293566,
          -1.4041117937722885,
          -0.19222501951972754,
          0.4107617067354256,
          1.113296384171082,
          0.3542586508961774,
          0.04216726966998681,
          0.8337223455153439,
          0.8799374868623578,
          -0.30970768032124896,
          0.8135929649919327,
          -0.3474054726372615,
          1.434623693513677,
          1.2090274423416068,
          0.9776485795974024,
          -0.359336777779442,
          -0.7524142469475738,
          -1.0786195821151634,
          1.1441069081921416,
          -0.6438736200124546,
          -2.1811363529022243,
          2.749364643347722,
          -0.6376526405902072,
          0.4933127169085133,
          0.6407358994289105,
          1.9203355558496584,
          -0.5031870511468246,
          1.1902510739977927,
          -0.8522380402140213,
          -0.7994261211247916,
          -1.5676607716376543,
          0.5189353938974922,
          0.9418028876654798,
          -1.7933214038330763,
          -0.18300167329776737,
          -0.3623073647973699,
          1.7645851942714825,
          0.9158521128290925,
          -0.6610980358418276,
          0.5353690939854695,
          1.6614260596748263,
          -1.866332590645327,
          1.0251188630279735,
          -1.2434292901719175,
          1.3659799826491938,
          -0.02593510027533987,
          -0.6795213977682552,
          -1.2585533047693196,
          0.7800230311503399,
          0.1494552056184573,
          0.12657988727076194,
          0.13454202817400898,
          1.123746387394713,
          -0.5028693384267661,
          1.1632965799030452,
          -0.3649996949647845,
          -1.4981199619605614,
          -1.1455858537957884,
          -0.20965624480119005,
          -1.225845377033073,
          0.5358111916046665,
          1.7643937592782502,
          1.6013443242308194,
          1.4191392048939866,
          0.7218348489598841,
          -0.3219562479975362,
          0.10487503564293446,
          -0.23344503665794872,
          -0.08201562590525006,
          -0.10466154218617565,
          0.1053146185652273
         ],
         "xaxis": "x4",
         "y": [
          1.8546943094246786,
          0.7484318595969548,
          -1.3003802265817697,
          0.5466013635649044,
          0.5936748444947731,
          -1.8998908810208484,
          0.33721413564963915,
          1.1337712628923053,
          1.359082325911419,
          1.0243456616090953,
          -0.7769188276254685,
          0.15627448332439178,
          0.02909909907259362,
          0.5340802561947197,
          0.44166099876698245,
          0.07418337277071425,
          -1.2166485828944438,
          0.4704216470315535,
          0.1776738729336818,
          -0.9082445699203281,
          -0.5882378507295679,
          1.2566415972493183,
          -0.6219653660070883,
          0.39494223876348156,
          1.4308659933450811,
          1.49581915347491,
          0.4076595706023893,
          -1.2939477605182126,
          0.973390369604027,
          0.840098155584022,
          -0.5185938843649213,
          0.10199556541041863,
          0.8500271871363656,
          1.1539670862850304,
          -1.0848994588674004,
          0.8384190457546357,
          0.6937565388763399,
          -1.410582449207463,
          0.0690709545571296,
          2.0081983789111573,
          -1.0046445131062767,
          0.7516523194583801,
          1.3873453206817357,
          0.0743343655411143,
          0.13912434845424487,
          -1.0530483619299962,
          -0.5065833576247132,
          1.0048844700796773,
          1.6869679168211584,
          -0.6326703784319785,
          -0.14584422183332776,
          -0.3012231557587274,
          0.9861559735709121,
          -1.3944268538824043,
          0.205266530140708,
          -0.3526912470632605,
          0.5139945168452866,
          0.6431761536884101,
          0.8533221153361462,
          0.3634162498544376,
          1.488558770362642,
          0.39118080162568675,
          -0.4064937772536102,
          -1.3424483605503834,
          -0.8484394801485337,
          0.442011011278428,
          0.5552676006967177,
          -1.1550992405702285,
          -0.045464650893156155,
          -0.22856117724941144,
          0.6310239049105584,
          1.443996432243972,
          -0.14437703793582427,
          -1.8093132042767839,
          -0.8965944258926464,
          -0.7955997958807984,
          -0.4820361239791199,
          0.5371266880897007,
          -0.23005501754629296,
          -0.24086175705188134,
          0.2530975143376481,
          -0.055343478317405104,
          -0.6591122798690139,
          1.2243412756761436,
          0.708139988592118,
          -0.11597112980702137,
          -0.8039079953833423,
          1.4002562252201896,
          0.8216116431913105,
          -0.8804732872490963,
          0.7570077363215513,
          -1.2470995107966565,
          -0.10568771334587965,
          0.4014953547386781,
          0.22971241053917285,
          -0.3461355642941567,
          -0.8004521108163732,
          1.0572143736336341,
          0.7315126139588002,
          1.0860112166901377
         ],
         "yaxis": "y4"
        },
        {
         "line": {
          "color": "rgba(128, 128, 128, 1.0)",
          "dash": "solid",
          "shape": "linear",
          "width": 1.3
         },
         "marker": {
          "size": 2,
          "symbol": "circle"
         },
         "mode": "markers",
         "name": "B",
         "text": "",
         "type": "scatter",
         "x": [
          1.8546943094246786,
          0.7484318595969548,
          -1.3003802265817697,
          0.5466013635649044,
          0.5936748444947731,
          -1.8998908810208484,
          0.33721413564963915,
          1.1337712628923053,
          1.359082325911419,
          1.0243456616090953,
          -0.7769188276254685,
          0.15627448332439178,
          0.02909909907259362,
          0.5340802561947197,
          0.44166099876698245,
          0.07418337277071425,
          -1.2166485828944438,
          0.4704216470315535,
          0.1776738729336818,
          -0.9082445699203281,
          -0.5882378507295679,
          1.2566415972493183,
          -0.6219653660070883,
          0.39494223876348156,
          1.4308659933450811,
          1.49581915347491,
          0.4076595706023893,
          -1.2939477605182126,
          0.973390369604027,
          0.840098155584022,
          -0.5185938843649213,
          0.10199556541041863,
          0.8500271871363656,
          1.1539670862850304,
          -1.0848994588674004,
          0.8384190457546357,
          0.6937565388763399,
          -1.410582449207463,
          0.0690709545571296,
          2.0081983789111573,
          -1.0046445131062767,
          0.7516523194583801,
          1.3873453206817357,
          0.0743343655411143,
          0.13912434845424487,
          -1.0530483619299962,
          -0.5065833576247132,
          1.0048844700796773,
          1.6869679168211584,
          -0.6326703784319785,
          -0.14584422183332776,
          -0.3012231557587274,
          0.9861559735709121,
          -1.3944268538824043,
          0.205266530140708,
          -0.3526912470632605,
          0.5139945168452866,
          0.6431761536884101,
          0.8533221153361462,
          0.3634162498544376,
          1.488558770362642,
          0.39118080162568675,
          -0.4064937772536102,
          -1.3424483605503834,
          -0.8484394801485337,
          0.442011011278428,
          0.5552676006967177,
          -1.1550992405702285,
          -0.045464650893156155,
          -0.22856117724941144,
          0.6310239049105584,
          1.443996432243972,
          -0.14437703793582427,
          -1.8093132042767839,
          -0.8965944258926464,
          -0.7955997958807984,
          -0.4820361239791199,
          0.5371266880897007,
          -0.23005501754629296,
          -0.24086175705188134,
          0.2530975143376481,
          -0.055343478317405104,
          -0.6591122798690139,
          1.2243412756761436,
          0.708139988592118,
          -0.11597112980702137,
          -0.8039079953833423,
          1.4002562252201896,
          0.8216116431913105,
          -0.8804732872490963,
          0.7570077363215513,
          -1.2470995107966565,
          -0.10568771334587965,
          0.4014953547386781,
          0.22971241053917285,
          -0.3461355642941567,
          -0.8004521108163732,
          1.0572143736336341,
          0.7315126139588002,
          1.0860112166901377
         ],
         "xaxis": "x5",
         "y": [
          0.16782352183400587,
          0.624804262589385,
          0.20372352671812846,
          -1.0591108379188434,
          -1.1419991407057792,
          0.8822057456431932,
          -0.30702637099270114,
          -2.0571013104149785,
          0.14614864879810144,
          2.8239149412769016,
          -2.412974864103616,
          0.721557660743138,
          -1.3663833420655647,
          -0.4052192278722541,
          0.23495373968771768,
          -0.5455590082566745,
          -1.1389799602470527,
          -1.9385486162077734,
          0.8047110489285142,
          -0.2351182610922446,
          2.3322152150147737,
          0.8960012160713902,
          0.8218942950746454,
          -0.4482443216083756,
          0.19863172403022056,
          0.33279159985848933,
          -2.4384779622185095,
          1.193567194099597,
          0.06995951078451483,
          0.4072798445048463,
          0.8146048718814357,
          1.4685320619448519,
          1.241729574244285,
          -0.37101981322201927,
          0.19634382933661695,
          -1.2594514852704604,
          0.48904672630322243,
          0.31628022355690794,
          -1.815222945460142,
          0.5376001263469178,
          0.8928260980073432,
          0.12879019588005242,
          0.6852771649802917,
          0.9239529848193153,
          2.3823692123794133,
          1.8982715919903281,
          1.7308831412905878,
          1.1862688195828759,
          -1.848635962299935,
          -2.073596318572358,
          0.12343301517841951,
          -0.34208245724851927,
          0.001591497174670703,
          -0.7105462449113583,
          2.118870082413893,
          1.0323512051698571,
          -0.14904284624203912,
          -0.27697382952569033,
          -1.4030368172614824,
          0.8069435110865915,
          -0.48338082158192425,
          -0.16726241537412317,
          0.7750420639775881,
          0.8556546635018052,
          -0.5617163502227375,
          -1.1334010030114128,
          2.8353718723380155,
          1.1504533925555331,
          0.8432868744795676,
          0.9992348285333864,
          -1.3610373755414766,
          0.17205002153134172,
          0.3127027245372549,
          -2.533325046279571,
          1.0768939607725407,
          -0.568689730288132,
          1.1509542732856508,
          -0.3683126886930604,
          -1.8553771750534833,
          -0.767540898256376,
          -1.3840393947293608,
          0.3718860914407538,
          0.2847053629058795,
          -0.7893439575251157,
          -1.642169014129789,
          2.3274424411981007,
          1.2633183284786307,
          -0.2664500269888275,
          -1.1605565365059336,
          -0.36382358959654326,
          -0.5740259278524541,
          -0.9447372467663968,
          -1.4061398731208765,
          1.7657635056574208,
          0.042685599019628644,
          0.7527939395183922,
          0.1025381452497282,
          -1.0029596827640692,
          -1.3391133535210205,
          -2.431710577117348
         ],
         "yaxis": "y5"
        },
        {
         "histfunc": "count",
         "histnorm": "",
         "marker": {
          "color": "rgba(55, 128, 191, 1.0)",
          "line": {
           "color": "#4D5663",
           "width": 1.3
          }
         },
         "name": "B",
         "nbinsx": 10,
         "opacity": 0.8,
         "orientation": "v",
         "type": "histogram",
         "x": [
          0.16782352183400587,
          0.624804262589385,
          0.20372352671812846,
          -1.0591108379188434,
          -1.1419991407057792,
          0.8822057456431932,
          -0.30702637099270114,
          -2.0571013104149785,
          0.14614864879810144,
          2.8239149412769016,
          -2.412974864103616,
          0.721557660743138,
          -1.3663833420655647,
          -0.4052192278722541,
          0.23495373968771768,
          -0.5455590082566745,
          -1.1389799602470527,
          -1.9385486162077734,
          0.8047110489285142,
          -0.2351182610922446,
          2.3322152150147737,
          0.8960012160713902,
          0.8218942950746454,
          -0.4482443216083756,
          0.19863172403022056,
          0.33279159985848933,
          -2.4384779622185095,
          1.193567194099597,
          0.06995951078451483,
          0.4072798445048463,
          0.8146048718814357,
          1.4685320619448519,
          1.241729574244285,
          -0.37101981322201927,
          0.19634382933661695,
          -1.2594514852704604,
          0.48904672630322243,
          0.31628022355690794,
          -1.815222945460142,
          0.5376001263469178,
          0.8928260980073432,
          0.12879019588005242,
          0.6852771649802917,
          0.9239529848193153,
          2.3823692123794133,
          1.8982715919903281,
          1.7308831412905878,
          1.1862688195828759,
          -1.848635962299935,
          -2.073596318572358,
          0.12343301517841951,
          -0.34208245724851927,
          0.001591497174670703,
          -0.7105462449113583,
          2.118870082413893,
          1.0323512051698571,
          -0.14904284624203912,
          -0.27697382952569033,
          -1.4030368172614824,
          0.8069435110865915,
          -0.48338082158192425,
          -0.16726241537412317,
          0.7750420639775881,
          0.8556546635018052,
          -0.5617163502227375,
          -1.1334010030114128,
          2.8353718723380155,
          1.1504533925555331,
          0.8432868744795676,
          0.9992348285333864,
          -1.3610373755414766,
          0.17205002153134172,
          0.3127027245372549,
          -2.533325046279571,
          1.0768939607725407,
          -0.568689730288132,
          1.1509542732856508,
          -0.3683126886930604,
          -1.8553771750534833,
          -0.767540898256376,
          -1.3840393947293608,
          0.3718860914407538,
          0.2847053629058795,
          -0.7893439575251157,
          -1.642169014129789,
          2.3274424411981007,
          1.2633183284786307,
          -0.2664500269888275,
          -1.1605565365059336,
          -0.36382358959654326,
          -0.5740259278524541,
          -0.9447372467663968,
          -1.4061398731208765,
          1.7657635056574208,
          0.042685599019628644,
          0.7527939395183922,
          0.1025381452497282,
          -1.0029596827640692,
          -1.3391133535210205,
          -2.431710577117348
         ],
         "xaxis": "x6",
         "yaxis": "y6"
        },
        {
         "line": {
          "color": "rgba(128, 128, 128, 1.0)",
          "dash": "solid",
          "shape": "linear",
          "width": 1.3
         },
         "marker": {
          "size": 2,
          "symbol": "circle"
         },
         "mode": "markers",
         "name": "B",
         "text": "",
         "type": "scatter",
         "x": [
          -0.03244389602055529,
          -1.376064723215646,
          -0.8936449852951962,
          2.246183247170497,
          -0.2842455411433604,
          0.24977220339714862,
          -1.3092079752731844,
          -1.125820862033277,
          0.7881123101596321,
          -0.17629478631106424,
          0.24791816263662367,
          0.024129800700381513,
          -0.0731598915189741,
          0.011826906834777438,
          0.25766620763392967,
          -0.2760160116474995,
          -0.12422601615338257,
          0.6304374772358293,
          2.0906771171790104,
          -1.0682789441846812,
          0.35542075055937694,
          0.07116119586324078,
          -0.5785308586685893,
          1.592617960631492,
          0.04851991365648021,
          -1.068886282058525,
          0.36282714372099184,
          0.00509787537875922,
          0.45830896155744966,
          0.887170281719946,
          0.9978917974896991,
          1.022752347260949,
          0.556188463426931,
          -0.23755417410411084,
          -0.3310855715715259,
          0.2714160532359191,
          -1.4189791792176458,
          -0.00042666021864642376,
          -0.06049170225579462,
          0.01194277380680795,
          1.5831380346753257,
          0.035250206851351266,
          1.417575706148856,
          -2.2127674994658983,
          0.24454590517047958,
          0.3281634508912985,
          -0.7267207272217229,
          -0.44970481157645426,
          -0.35327261841451457,
          -0.16458726099049978,
          -0.4593882381974047,
          0.7023722469065665,
          -1.2623134023136406,
          0.314987762048421,
          -0.9901882642956437,
          2.706367199353684,
          -0.6596398069513764,
          -0.31575679367085446,
          0.2032154447404938,
          -0.4200196391830115,
          0.9221453778359124,
          1.0085534461366155,
          -0.6556210132152722,
          1.1414216930155912,
          -1.9488020947921916,
          0.7355350611389138,
          0.9509715976708066,
          0.2482948033835417,
          -0.29254111057074667,
          -0.3220057608509072,
          -2.315980644514428,
          0.3057844356233016,
          -0.2712245431049181,
          -1.0915701524938453,
          -2.1015619677219455,
          0.01920940725249679,
          -0.28048236908173735,
          -0.10100878456696832,
          -0.6835423968236275,
          1.3714640280125716,
          -0.10764423590559576,
          1.8174456157836572,
          0.02236206198865971,
          0.062061313687635136,
          -0.009785031937426381,
          -0.7838538964590656,
          1.6255932335409693,
          0.5003115963691971,
          -0.25889661335579556,
          -0.9668628171957215,
          -0.01756446850677946,
          0.01921596143610028,
          -0.9626825014469726,
          0.8186790237590893,
          -1.1037901893201325,
          -0.12499750671327468,
          -1.6067080396214912,
          0.8909711217238272,
          -0.5237514547912062,
          -1.5974457559062116
         ],
         "xaxis": "x7",
         "y": [
          0.16782352183400587,
          0.624804262589385,
          0.20372352671812846,
          -1.0591108379188434,
          -1.1419991407057792,
          0.8822057456431932,
          -0.30702637099270114,
          -2.0571013104149785,
          0.14614864879810144,
          2.8239149412769016,
          -2.412974864103616,
          0.721557660743138,
          -1.3663833420655647,
          -0.4052192278722541,
          0.23495373968771768,
          -0.5455590082566745,
          -1.1389799602470527,
          -1.9385486162077734,
          0.8047110489285142,
          -0.2351182610922446,
          2.3322152150147737,
          0.8960012160713902,
          0.8218942950746454,
          -0.4482443216083756,
          0.19863172403022056,
          0.33279159985848933,
          -2.4384779622185095,
          1.193567194099597,
          0.06995951078451483,
          0.4072798445048463,
          0.8146048718814357,
          1.4685320619448519,
          1.241729574244285,
          -0.37101981322201927,
          0.19634382933661695,
          -1.2594514852704604,
          0.48904672630322243,
          0.31628022355690794,
          -1.815222945460142,
          0.5376001263469178,
          0.8928260980073432,
          0.12879019588005242,
          0.6852771649802917,
          0.9239529848193153,
          2.3823692123794133,
          1.8982715919903281,
          1.7308831412905878,
          1.1862688195828759,
          -1.848635962299935,
          -2.073596318572358,
          0.12343301517841951,
          -0.34208245724851927,
          0.001591497174670703,
          -0.7105462449113583,
          2.118870082413893,
          1.0323512051698571,
          -0.14904284624203912,
          -0.27697382952569033,
          -1.4030368172614824,
          0.8069435110865915,
          -0.48338082158192425,
          -0.16726241537412317,
          0.7750420639775881,
          0.8556546635018052,
          -0.5617163502227375,
          -1.1334010030114128,
          2.8353718723380155,
          1.1504533925555331,
          0.8432868744795676,
          0.9992348285333864,
          -1.3610373755414766,
          0.17205002153134172,
          0.3127027245372549,
          -2.533325046279571,
          1.0768939607725407,
          -0.568689730288132,
          1.1509542732856508,
          -0.3683126886930604,
          -1.8553771750534833,
          -0.767540898256376,
          -1.3840393947293608,
          0.3718860914407538,
          0.2847053629058795,
          -0.7893439575251157,
          -1.642169014129789,
          2.3274424411981007,
          1.2633183284786307,
          -0.2664500269888275,
          -1.1605565365059336,
          -0.36382358959654326,
          -0.5740259278524541,
          -0.9447372467663968,
          -1.4061398731208765,
          1.7657635056574208,
          0.042685599019628644,
          0.7527939395183922,
          0.1025381452497282,
          -1.0029596827640692,
          -1.3391133535210205,
          -2.431710577117348
         ],
         "yaxis": "y7"
        },
        {
         "line": {
          "color": "rgba(128, 128, 128, 1.0)",
          "dash": "solid",
          "shape": "linear",
          "width": 1.3
         },
         "marker": {
          "size": 2,
          "symbol": "circle"
         },
         "mode": "markers",
         "name": "B",
         "text": "",
         "type": "scatter",
         "x": [
          -1.1743782441565986,
          1.1782833648527276,
          1.5285790172040352,
          -0.2434144242919703,
          -0.4301588761425384,
          -0.7837164708704318,
          2.073423242544931,
          -0.2257065019732865,
          0.04025288020323026,
          -1.833822463665788,
          -0.2587243022625214,
          -0.6335293523645709,
          -1.5938225684918346,
          -1.9844992498676004,
          -2.2467059083481717,
          -1.1574783516368528,
          -1.4314297953207724,
          -0.5675189226657303,
          0.07328812335559368,
          0.7763500403084073,
          -0.04574480746821436,
          -0.9425064559799998,
          -0.8984776247702821,
          0.956115375095708,
          1.1249636326772186,
          0.18047759286331055,
          0.4834830977051666,
          1.1359849486831892,
          -1.23109749884796,
          -0.8350338429293566,
          -1.4041117937722885,
          -0.19222501951972754,
          0.4107617067354256,
          1.113296384171082,
          0.3542586508961774,
          0.04216726966998681,
          0.8337223455153439,
          0.8799374868623578,
          -0.30970768032124896,
          0.8135929649919327,
          -0.3474054726372615,
          1.434623693513677,
          1.2090274423416068,
          0.9776485795974024,
          -0.359336777779442,
          -0.7524142469475738,
          -1.0786195821151634,
          1.1441069081921416,
          -0.6438736200124546,
          -2.1811363529022243,
          2.749364643347722,
          -0.6376526405902072,
          0.4933127169085133,
          0.6407358994289105,
          1.9203355558496584,
          -0.5031870511468246,
          1.1902510739977927,
          -0.8522380402140213,
          -0.7994261211247916,
          -1.5676607716376543,
          0.5189353938974922,
          0.9418028876654798,
          -1.7933214038330763,
          -0.18300167329776737,
          -0.3623073647973699,
          1.7645851942714825,
          0.9158521128290925,
          -0.6610980358418276,
          0.5353690939854695,
          1.6614260596748263,
          -1.866332590645327,
          1.0251188630279735,
          -1.2434292901719175,
          1.3659799826491938,
          -0.02593510027533987,
          -0.6795213977682552,
          -1.2585533047693196,
          0.7800230311503399,
          0.1494552056184573,
          0.12657988727076194,
          0.13454202817400898,
          1.123746387394713,
          -0.5028693384267661,
          1.1632965799030452,
          -0.3649996949647845,
          -1.4981199619605614,
          -1.1455858537957884,
          -0.20965624480119005,
          -1.225845377033073,
          0.5358111916046665,
          1.7643937592782502,
          1.6013443242308194,
          1.4191392048939866,
          0.7218348489598841,
          -0.3219562479975362,
          0.10487503564293446,
          -0.23344503665794872,
          -0.08201562590525006,
          -0.10466154218617565,
          0.1053146185652273
         ],
         "xaxis": "x8",
         "y": [
          0.16782352183400587,
          0.624804262589385,
          0.20372352671812846,
          -1.0591108379188434,
          -1.1419991407057792,
          0.8822057456431932,
          -0.30702637099270114,
          -2.0571013104149785,
          0.14614864879810144,
          2.8239149412769016,
          -2.412974864103616,
          0.721557660743138,
          -1.3663833420655647,
          -0.4052192278722541,
          0.23495373968771768,
          -0.5455590082566745,
          -1.1389799602470527,
          -1.9385486162077734,
          0.8047110489285142,
          -0.2351182610922446,
          2.3322152150147737,
          0.8960012160713902,
          0.8218942950746454,
          -0.4482443216083756,
          0.19863172403022056,
          0.33279159985848933,
          -2.4384779622185095,
          1.193567194099597,
          0.06995951078451483,
          0.4072798445048463,
          0.8146048718814357,
          1.4685320619448519,
          1.241729574244285,
          -0.37101981322201927,
          0.19634382933661695,
          -1.2594514852704604,
          0.48904672630322243,
          0.31628022355690794,
          -1.815222945460142,
          0.5376001263469178,
          0.8928260980073432,
          0.12879019588005242,
          0.6852771649802917,
          0.9239529848193153,
          2.3823692123794133,
          1.8982715919903281,
          1.7308831412905878,
          1.1862688195828759,
          -1.848635962299935,
          -2.073596318572358,
          0.12343301517841951,
          -0.34208245724851927,
          0.001591497174670703,
          -0.7105462449113583,
          2.118870082413893,
          1.0323512051698571,
          -0.14904284624203912,
          -0.27697382952569033,
          -1.4030368172614824,
          0.8069435110865915,
          -0.48338082158192425,
          -0.16726241537412317,
          0.7750420639775881,
          0.8556546635018052,
          -0.5617163502227375,
          -1.1334010030114128,
          2.8353718723380155,
          1.1504533925555331,
          0.8432868744795676,
          0.9992348285333864,
          -1.3610373755414766,
          0.17205002153134172,
          0.3127027245372549,
          -2.533325046279571,
          1.0768939607725407,
          -0.568689730288132,
          1.1509542732856508,
          -0.3683126886930604,
          -1.8553771750534833,
          -0.767540898256376,
          -1.3840393947293608,
          0.3718860914407538,
          0.2847053629058795,
          -0.7893439575251157,
          -1.642169014129789,
          2.3274424411981007,
          1.2633183284786307,
          -0.2664500269888275,
          -1.1605565365059336,
          -0.36382358959654326,
          -0.5740259278524541,
          -0.9447372467663968,
          -1.4061398731208765,
          1.7657635056574208,
          0.042685599019628644,
          0.7527939395183922,
          0.1025381452497282,
          -1.0029596827640692,
          -1.3391133535210205,
          -2.431710577117348
         ],
         "yaxis": "y8"
        },
        {
         "line": {
          "color": "rgba(128, 128, 128, 1.0)",
          "dash": "solid",
          "shape": "linear",
          "width": 1.3
         },
         "marker": {
          "size": 2,
          "symbol": "circle"
         },
         "mode": "markers",
         "name": "C",
         "text": "",
         "type": "scatter",
         "x": [
          1.8546943094246786,
          0.7484318595969548,
          -1.3003802265817697,
          0.5466013635649044,
          0.5936748444947731,
          -1.8998908810208484,
          0.33721413564963915,
          1.1337712628923053,
          1.359082325911419,
          1.0243456616090953,
          -0.7769188276254685,
          0.15627448332439178,
          0.02909909907259362,
          0.5340802561947197,
          0.44166099876698245,
          0.07418337277071425,
          -1.2166485828944438,
          0.4704216470315535,
          0.1776738729336818,
          -0.9082445699203281,
          -0.5882378507295679,
          1.2566415972493183,
          -0.6219653660070883,
          0.39494223876348156,
          1.4308659933450811,
          1.49581915347491,
          0.4076595706023893,
          -1.2939477605182126,
          0.973390369604027,
          0.840098155584022,
          -0.5185938843649213,
          0.10199556541041863,
          0.8500271871363656,
          1.1539670862850304,
          -1.0848994588674004,
          0.8384190457546357,
          0.6937565388763399,
          -1.410582449207463,
          0.0690709545571296,
          2.0081983789111573,
          -1.0046445131062767,
          0.7516523194583801,
          1.3873453206817357,
          0.0743343655411143,
          0.13912434845424487,
          -1.0530483619299962,
          -0.5065833576247132,
          1.0048844700796773,
          1.6869679168211584,
          -0.6326703784319785,
          -0.14584422183332776,
          -0.3012231557587274,
          0.9861559735709121,
          -1.3944268538824043,
          0.205266530140708,
          -0.3526912470632605,
          0.5139945168452866,
          0.6431761536884101,
          0.8533221153361462,
          0.3634162498544376,
          1.488558770362642,
          0.39118080162568675,
          -0.4064937772536102,
          -1.3424483605503834,
          -0.8484394801485337,
          0.442011011278428,
          0.5552676006967177,
          -1.1550992405702285,
          -0.045464650893156155,
          -0.22856117724941144,
          0.6310239049105584,
          1.443996432243972,
          -0.14437703793582427,
          -1.8093132042767839,
          -0.8965944258926464,
          -0.7955997958807984,
          -0.4820361239791199,
          0.5371266880897007,
          -0.23005501754629296,
          -0.24086175705188134,
          0.2530975143376481,
          -0.055343478317405104,
          -0.6591122798690139,
          1.2243412756761436,
          0.708139988592118,
          -0.11597112980702137,
          -0.8039079953833423,
          1.4002562252201896,
          0.8216116431913105,
          -0.8804732872490963,
          0.7570077363215513,
          -1.2470995107966565,
          -0.10568771334587965,
          0.4014953547386781,
          0.22971241053917285,
          -0.3461355642941567,
          -0.8004521108163732,
          1.0572143736336341,
          0.7315126139588002,
          1.0860112166901377
         ],
         "xaxis": "x9",
         "y": [
          -0.03244389602055529,
          -1.376064723215646,
          -0.8936449852951962,
          2.246183247170497,
          -0.2842455411433604,
          0.24977220339714862,
          -1.3092079752731844,
          -1.125820862033277,
          0.7881123101596321,
          -0.17629478631106424,
          0.24791816263662367,
          0.024129800700381513,
          -0.0731598915189741,
          0.011826906834777438,
          0.25766620763392967,
          -0.2760160116474995,
          -0.12422601615338257,
          0.6304374772358293,
          2.0906771171790104,
          -1.0682789441846812,
          0.35542075055937694,
          0.07116119586324078,
          -0.5785308586685893,
          1.592617960631492,
          0.04851991365648021,
          -1.068886282058525,
          0.36282714372099184,
          0.00509787537875922,
          0.45830896155744966,
          0.887170281719946,
          0.9978917974896991,
          1.022752347260949,
          0.556188463426931,
          -0.23755417410411084,
          -0.3310855715715259,
          0.2714160532359191,
          -1.4189791792176458,
          -0.00042666021864642376,
          -0.06049170225579462,
          0.01194277380680795,
          1.5831380346753257,
          0.035250206851351266,
          1.417575706148856,
          -2.2127674994658983,
          0.24454590517047958,
          0.3281634508912985,
          -0.7267207272217229,
          -0.44970481157645426,
          -0.35327261841451457,
          -0.16458726099049978,
          -0.4593882381974047,
          0.7023722469065665,
          -1.2623134023136406,
          0.314987762048421,
          -0.9901882642956437,
          2.706367199353684,
          -0.6596398069513764,
          -0.31575679367085446,
          0.2032154447404938,
          -0.4200196391830115,
          0.9221453778359124,
          1.0085534461366155,
          -0.6556210132152722,
          1.1414216930155912,
          -1.9488020947921916,
          0.7355350611389138,
          0.9509715976708066,
          0.2482948033835417,
          -0.29254111057074667,
          -0.3220057608509072,
          -2.315980644514428,
          0.3057844356233016,
          -0.2712245431049181,
          -1.0915701524938453,
          -2.1015619677219455,
          0.01920940725249679,
          -0.28048236908173735,
          -0.10100878456696832,
          -0.6835423968236275,
          1.3714640280125716,
          -0.10764423590559576,
          1.8174456157836572,
          0.02236206198865971,
          0.062061313687635136,
          -0.009785031937426381,
          -0.7838538964590656,
          1.6255932335409693,
          0.5003115963691971,
          -0.25889661335579556,
          -0.9668628171957215,
          -0.01756446850677946,
          0.01921596143610028,
          -0.9626825014469726,
          0.8186790237590893,
          -1.1037901893201325,
          -0.12499750671327468,
          -1.6067080396214912,
          0.8909711217238272,
          -0.5237514547912062,
          -1.5974457559062116
         ],
         "yaxis": "y9"
        },
        {
         "line": {
          "color": "rgba(128, 128, 128, 1.0)",
          "dash": "solid",
          "shape": "linear",
          "width": 1.3
         },
         "marker": {
          "size": 2,
          "symbol": "circle"
         },
         "mode": "markers",
         "name": "C",
         "text": "",
         "type": "scatter",
         "x": [
          0.16782352183400587,
          0.624804262589385,
          0.20372352671812846,
          -1.0591108379188434,
          -1.1419991407057792,
          0.8822057456431932,
          -0.30702637099270114,
          -2.0571013104149785,
          0.14614864879810144,
          2.8239149412769016,
          -2.412974864103616,
          0.721557660743138,
          -1.3663833420655647,
          -0.4052192278722541,
          0.23495373968771768,
          -0.5455590082566745,
          -1.1389799602470527,
          -1.9385486162077734,
          0.8047110489285142,
          -0.2351182610922446,
          2.3322152150147737,
          0.8960012160713902,
          0.8218942950746454,
          -0.4482443216083756,
          0.19863172403022056,
          0.33279159985848933,
          -2.4384779622185095,
          1.193567194099597,
          0.06995951078451483,
          0.4072798445048463,
          0.8146048718814357,
          1.4685320619448519,
          1.241729574244285,
          -0.37101981322201927,
          0.19634382933661695,
          -1.2594514852704604,
          0.48904672630322243,
          0.31628022355690794,
          -1.815222945460142,
          0.5376001263469178,
          0.8928260980073432,
          0.12879019588005242,
          0.6852771649802917,
          0.9239529848193153,
          2.3823692123794133,
          1.8982715919903281,
          1.7308831412905878,
          1.1862688195828759,
          -1.848635962299935,
          -2.073596318572358,
          0.12343301517841951,
          -0.34208245724851927,
          0.001591497174670703,
          -0.7105462449113583,
          2.118870082413893,
          1.0323512051698571,
          -0.14904284624203912,
          -0.27697382952569033,
          -1.4030368172614824,
          0.8069435110865915,
          -0.48338082158192425,
          -0.16726241537412317,
          0.7750420639775881,
          0.8556546635018052,
          -0.5617163502227375,
          -1.1334010030114128,
          2.8353718723380155,
          1.1504533925555331,
          0.8432868744795676,
          0.9992348285333864,
          -1.3610373755414766,
          0.17205002153134172,
          0.3127027245372549,
          -2.533325046279571,
          1.0768939607725407,
          -0.568689730288132,
          1.1509542732856508,
          -0.3683126886930604,
          -1.8553771750534833,
          -0.767540898256376,
          -1.3840393947293608,
          0.3718860914407538,
          0.2847053629058795,
          -0.7893439575251157,
          -1.642169014129789,
          2.3274424411981007,
          1.2633183284786307,
          -0.2664500269888275,
          -1.1605565365059336,
          -0.36382358959654326,
          -0.5740259278524541,
          -0.9447372467663968,
          -1.4061398731208765,
          1.7657635056574208,
          0.042685599019628644,
          0.7527939395183922,
          0.1025381452497282,
          -1.0029596827640692,
          -1.3391133535210205,
          -2.431710577117348
         ],
         "xaxis": "x10",
         "y": [
          -0.03244389602055529,
          -1.376064723215646,
          -0.8936449852951962,
          2.246183247170497,
          -0.2842455411433604,
          0.24977220339714862,
          -1.3092079752731844,
          -1.125820862033277,
          0.7881123101596321,
          -0.17629478631106424,
          0.24791816263662367,
          0.024129800700381513,
          -0.0731598915189741,
          0.011826906834777438,
          0.25766620763392967,
          -0.2760160116474995,
          -0.12422601615338257,
          0.6304374772358293,
          2.0906771171790104,
          -1.0682789441846812,
          0.35542075055937694,
          0.07116119586324078,
          -0.5785308586685893,
          1.592617960631492,
          0.04851991365648021,
          -1.068886282058525,
          0.36282714372099184,
          0.00509787537875922,
          0.45830896155744966,
          0.887170281719946,
          0.9978917974896991,
          1.022752347260949,
          0.556188463426931,
          -0.23755417410411084,
          -0.3310855715715259,
          0.2714160532359191,
          -1.4189791792176458,
          -0.00042666021864642376,
          -0.06049170225579462,
          0.01194277380680795,
          1.5831380346753257,
          0.035250206851351266,
          1.417575706148856,
          -2.2127674994658983,
          0.24454590517047958,
          0.3281634508912985,
          -0.7267207272217229,
          -0.44970481157645426,
          -0.35327261841451457,
          -0.16458726099049978,
          -0.4593882381974047,
          0.7023722469065665,
          -1.2623134023136406,
          0.314987762048421,
          -0.9901882642956437,
          2.706367199353684,
          -0.6596398069513764,
          -0.31575679367085446,
          0.2032154447404938,
          -0.4200196391830115,
          0.9221453778359124,
          1.0085534461366155,
          -0.6556210132152722,
          1.1414216930155912,
          -1.9488020947921916,
          0.7355350611389138,
          0.9509715976708066,
          0.2482948033835417,
          -0.29254111057074667,
          -0.3220057608509072,
          -2.315980644514428,
          0.3057844356233016,
          -0.2712245431049181,
          -1.0915701524938453,
          -2.1015619677219455,
          0.01920940725249679,
          -0.28048236908173735,
          -0.10100878456696832,
          -0.6835423968236275,
          1.3714640280125716,
          -0.10764423590559576,
          1.8174456157836572,
          0.02236206198865971,
          0.062061313687635136,
          -0.009785031937426381,
          -0.7838538964590656,
          1.6255932335409693,
          0.5003115963691971,
          -0.25889661335579556,
          -0.9668628171957215,
          -0.01756446850677946,
          0.01921596143610028,
          -0.9626825014469726,
          0.8186790237590893,
          -1.1037901893201325,
          -0.12499750671327468,
          -1.6067080396214912,
          0.8909711217238272,
          -0.5237514547912062,
          -1.5974457559062116
         ],
         "yaxis": "y10"
        },
        {
         "histfunc": "count",
         "histnorm": "",
         "marker": {
          "color": "rgba(50, 171, 96, 1.0)",
          "line": {
           "color": "#4D5663",
           "width": 1.3
          }
         },
         "name": "C",
         "nbinsx": 10,
         "opacity": 0.8,
         "orientation": "v",
         "type": "histogram",
         "x": [
          -0.03244389602055529,
          -1.376064723215646,
          -0.8936449852951962,
          2.246183247170497,
          -0.2842455411433604,
          0.24977220339714862,
          -1.3092079752731844,
          -1.125820862033277,
          0.7881123101596321,
          -0.17629478631106424,
          0.24791816263662367,
          0.024129800700381513,
          -0.0731598915189741,
          0.011826906834777438,
          0.25766620763392967,
          -0.2760160116474995,
          -0.12422601615338257,
          0.6304374772358293,
          2.0906771171790104,
          -1.0682789441846812,
          0.35542075055937694,
          0.07116119586324078,
          -0.5785308586685893,
          1.592617960631492,
          0.04851991365648021,
          -1.068886282058525,
          0.36282714372099184,
          0.00509787537875922,
          0.45830896155744966,
          0.887170281719946,
          0.9978917974896991,
          1.022752347260949,
          0.556188463426931,
          -0.23755417410411084,
          -0.3310855715715259,
          0.2714160532359191,
          -1.4189791792176458,
          -0.00042666021864642376,
          -0.06049170225579462,
          0.01194277380680795,
          1.5831380346753257,
          0.035250206851351266,
          1.417575706148856,
          -2.2127674994658983,
          0.24454590517047958,
          0.3281634508912985,
          -0.7267207272217229,
          -0.44970481157645426,
          -0.35327261841451457,
          -0.16458726099049978,
          -0.4593882381974047,
          0.7023722469065665,
          -1.2623134023136406,
          0.314987762048421,
          -0.9901882642956437,
          2.706367199353684,
          -0.6596398069513764,
          -0.31575679367085446,
          0.2032154447404938,
          -0.4200196391830115,
          0.9221453778359124,
          1.0085534461366155,
          -0.6556210132152722,
          1.1414216930155912,
          -1.9488020947921916,
          0.7355350611389138,
          0.9509715976708066,
          0.2482948033835417,
          -0.29254111057074667,
          -0.3220057608509072,
          -2.315980644514428,
          0.3057844356233016,
          -0.2712245431049181,
          -1.0915701524938453,
          -2.1015619677219455,
          0.01920940725249679,
          -0.28048236908173735,
          -0.10100878456696832,
          -0.6835423968236275,
          1.3714640280125716,
          -0.10764423590559576,
          1.8174456157836572,
          0.02236206198865971,
          0.062061313687635136,
          -0.009785031937426381,
          -0.7838538964590656,
          1.6255932335409693,
          0.5003115963691971,
          -0.25889661335579556,
          -0.9668628171957215,
          -0.01756446850677946,
          0.01921596143610028,
          -0.9626825014469726,
          0.8186790237590893,
          -1.1037901893201325,
          -0.12499750671327468,
          -1.6067080396214912,
          0.8909711217238272,
          -0.5237514547912062,
          -1.5974457559062116
         ],
         "xaxis": "x11",
         "yaxis": "y11"
        },
        {
         "line": {
          "color": "rgba(128, 128, 128, 1.0)",
          "dash": "solid",
          "shape": "linear",
          "width": 1.3
         },
         "marker": {
          "size": 2,
          "symbol": "circle"
         },
         "mode": "markers",
         "name": "C",
         "text": "",
         "type": "scatter",
         "x": [
          -1.1743782441565986,
          1.1782833648527276,
          1.5285790172040352,
          -0.2434144242919703,
          -0.4301588761425384,
          -0.7837164708704318,
          2.073423242544931,
          -0.2257065019732865,
          0.04025288020323026,
          -1.833822463665788,
          -0.2587243022625214,
          -0.6335293523645709,
          -1.5938225684918346,
          -1.9844992498676004,
          -2.2467059083481717,
          -1.1574783516368528,
          -1.4314297953207724,
          -0.5675189226657303,
          0.07328812335559368,
          0.7763500403084073,
          -0.04574480746821436,
          -0.9425064559799998,
          -0.8984776247702821,
          0.956115375095708,
          1.1249636326772186,
          0.18047759286331055,
          0.4834830977051666,
          1.1359849486831892,
          -1.23109749884796,
          -0.8350338429293566,
          -1.4041117937722885,
          -0.19222501951972754,
          0.4107617067354256,
          1.113296384171082,
          0.3542586508961774,
          0.04216726966998681,
          0.8337223455153439,
          0.8799374868623578,
          -0.30970768032124896,
          0.8135929649919327,
          -0.3474054726372615,
          1.434623693513677,
          1.2090274423416068,
          0.9776485795974024,
          -0.359336777779442,
          -0.7524142469475738,
          -1.0786195821151634,
          1.1441069081921416,
          -0.6438736200124546,
          -2.1811363529022243,
          2.749364643347722,
          -0.6376526405902072,
          0.4933127169085133,
          0.6407358994289105,
          1.9203355558496584,
          -0.5031870511468246,
          1.1902510739977927,
          -0.8522380402140213,
          -0.7994261211247916,
          -1.5676607716376543,
          0.5189353938974922,
          0.9418028876654798,
          -1.7933214038330763,
          -0.18300167329776737,
          -0.3623073647973699,
          1.7645851942714825,
          0.9158521128290925,
          -0.6610980358418276,
          0.5353690939854695,
          1.6614260596748263,
          -1.866332590645327,
          1.0251188630279735,
          -1.2434292901719175,
          1.3659799826491938,
          -0.02593510027533987,
          -0.6795213977682552,
          -1.2585533047693196,
          0.7800230311503399,
          0.1494552056184573,
          0.12657988727076194,
          0.13454202817400898,
          1.123746387394713,
          -0.5028693384267661,
          1.1632965799030452,
          -0.3649996949647845,
          -1.4981199619605614,
          -1.1455858537957884,
          -0.20965624480119005,
          -1.225845377033073,
          0.5358111916046665,
          1.7643937592782502,
          1.6013443242308194,
          1.4191392048939866,
          0.7218348489598841,
          -0.3219562479975362,
          0.10487503564293446,
          -0.23344503665794872,
          -0.08201562590525006,
          -0.10466154218617565,
          0.1053146185652273
         ],
         "xaxis": "x12",
         "y": [
          -0.03244389602055529,
          -1.376064723215646,
          -0.8936449852951962,
          2.246183247170497,
          -0.2842455411433604,
          0.24977220339714862,
          -1.3092079752731844,
          -1.125820862033277,
          0.7881123101596321,
          -0.17629478631106424,
          0.24791816263662367,
          0.024129800700381513,
          -0.0731598915189741,
          0.011826906834777438,
          0.25766620763392967,
          -0.2760160116474995,
          -0.12422601615338257,
          0.6304374772358293,
          2.0906771171790104,
          -1.0682789441846812,
          0.35542075055937694,
          0.07116119586324078,
          -0.5785308586685893,
          1.592617960631492,
          0.04851991365648021,
          -1.068886282058525,
          0.36282714372099184,
          0.00509787537875922,
          0.45830896155744966,
          0.887170281719946,
          0.9978917974896991,
          1.022752347260949,
          0.556188463426931,
          -0.23755417410411084,
          -0.3310855715715259,
          0.2714160532359191,
          -1.4189791792176458,
          -0.00042666021864642376,
          -0.06049170225579462,
          0.01194277380680795,
          1.5831380346753257,
          0.035250206851351266,
          1.417575706148856,
          -2.2127674994658983,
          0.24454590517047958,
          0.3281634508912985,
          -0.7267207272217229,
          -0.44970481157645426,
          -0.35327261841451457,
          -0.16458726099049978,
          -0.4593882381974047,
          0.7023722469065665,
          -1.2623134023136406,
          0.314987762048421,
          -0.9901882642956437,
          2.706367199353684,
          -0.6596398069513764,
          -0.31575679367085446,
          0.2032154447404938,
          -0.4200196391830115,
          0.9221453778359124,
          1.0085534461366155,
          -0.6556210132152722,
          1.1414216930155912,
          -1.9488020947921916,
          0.7355350611389138,
          0.9509715976708066,
          0.2482948033835417,
          -0.29254111057074667,
          -0.3220057608509072,
          -2.315980644514428,
          0.3057844356233016,
          -0.2712245431049181,
          -1.0915701524938453,
          -2.1015619677219455,
          0.01920940725249679,
          -0.28048236908173735,
          -0.10100878456696832,
          -0.6835423968236275,
          1.3714640280125716,
          -0.10764423590559576,
          1.8174456157836572,
          0.02236206198865971,
          0.062061313687635136,
          -0.009785031937426381,
          -0.7838538964590656,
          1.6255932335409693,
          0.5003115963691971,
          -0.25889661335579556,
          -0.9668628171957215,
          -0.01756446850677946,
          0.01921596143610028,
          -0.9626825014469726,
          0.8186790237590893,
          -1.1037901893201325,
          -0.12499750671327468,
          -1.6067080396214912,
          0.8909711217238272,
          -0.5237514547912062,
          -1.5974457559062116
         ],
         "yaxis": "y12"
        },
        {
         "line": {
          "color": "rgba(128, 128, 128, 1.0)",
          "dash": "solid",
          "shape": "linear",
          "width": 1.3
         },
         "marker": {
          "size": 2,
          "symbol": "circle"
         },
         "mode": "markers",
         "name": "D",
         "text": "",
         "type": "scatter",
         "x": [
          1.8546943094246786,
          0.7484318595969548,
          -1.3003802265817697,
          0.5466013635649044,
          0.5936748444947731,
          -1.8998908810208484,
          0.33721413564963915,
          1.1337712628923053,
          1.359082325911419,
          1.0243456616090953,
          -0.7769188276254685,
          0.15627448332439178,
          0.02909909907259362,
          0.5340802561947197,
          0.44166099876698245,
          0.07418337277071425,
          -1.2166485828944438,
          0.4704216470315535,
          0.1776738729336818,
          -0.9082445699203281,
          -0.5882378507295679,
          1.2566415972493183,
          -0.6219653660070883,
          0.39494223876348156,
          1.4308659933450811,
          1.49581915347491,
          0.4076595706023893,
          -1.2939477605182126,
          0.973390369604027,
          0.840098155584022,
          -0.5185938843649213,
          0.10199556541041863,
          0.8500271871363656,
          1.1539670862850304,
          -1.0848994588674004,
          0.8384190457546357,
          0.6937565388763399,
          -1.410582449207463,
          0.0690709545571296,
          2.0081983789111573,
          -1.0046445131062767,
          0.7516523194583801,
          1.3873453206817357,
          0.0743343655411143,
          0.13912434845424487,
          -1.0530483619299962,
          -0.5065833576247132,
          1.0048844700796773,
          1.6869679168211584,
          -0.6326703784319785,
          -0.14584422183332776,
          -0.3012231557587274,
          0.9861559735709121,
          -1.3944268538824043,
          0.205266530140708,
          -0.3526912470632605,
          0.5139945168452866,
          0.6431761536884101,
          0.8533221153361462,
          0.3634162498544376,
          1.488558770362642,
          0.39118080162568675,
          -0.4064937772536102,
          -1.3424483605503834,
          -0.8484394801485337,
          0.442011011278428,
          0.5552676006967177,
          -1.1550992405702285,
          -0.045464650893156155,
          -0.22856117724941144,
          0.6310239049105584,
          1.443996432243972,
          -0.14437703793582427,
          -1.8093132042767839,
          -0.8965944258926464,
          -0.7955997958807984,
          -0.4820361239791199,
          0.5371266880897007,
          -0.23005501754629296,
          -0.24086175705188134,
          0.2530975143376481,
          -0.055343478317405104,
          -0.6591122798690139,
          1.2243412756761436,
          0.708139988592118,
          -0.11597112980702137,
          -0.8039079953833423,
          1.4002562252201896,
          0.8216116431913105,
          -0.8804732872490963,
          0.7570077363215513,
          -1.2470995107966565,
          -0.10568771334587965,
          0.4014953547386781,
          0.22971241053917285,
          -0.3461355642941567,
          -0.8004521108163732,
          1.0572143736336341,
          0.7315126139588002,
          1.0860112166901377
         ],
         "xaxis": "x13",
         "y": [
          -1.1743782441565986,
          1.1782833648527276,
          1.5285790172040352,
          -0.2434144242919703,
          -0.4301588761425384,
          -0.7837164708704318,
          2.073423242544931,
          -0.2257065019732865,
          0.04025288020323026,
          -1.833822463665788,
          -0.2587243022625214,
          -0.6335293523645709,
          -1.5938225684918346,
          -1.9844992498676004,
          -2.2467059083481717,
          -1.1574783516368528,
          -1.4314297953207724,
          -0.5675189226657303,
          0.07328812335559368,
          0.7763500403084073,
          -0.04574480746821436,
          -0.9425064559799998,
          -0.8984776247702821,
          0.956115375095708,
          1.1249636326772186,
          0.18047759286331055,
          0.4834830977051666,
          1.1359849486831892,
          -1.23109749884796,
          -0.8350338429293566,
          -1.4041117937722885,
          -0.19222501951972754,
          0.4107617067354256,
          1.113296384171082,
          0.3542586508961774,
          0.04216726966998681,
          0.8337223455153439,
          0.8799374868623578,
          -0.30970768032124896,
          0.8135929649919327,
          -0.3474054726372615,
          1.434623693513677,
          1.2090274423416068,
          0.9776485795974024,
          -0.359336777779442,
          -0.7524142469475738,
          -1.0786195821151634,
          1.1441069081921416,
          -0.6438736200124546,
          -2.1811363529022243,
          2.749364643347722,
          -0.6376526405902072,
          0.4933127169085133,
          0.6407358994289105,
          1.9203355558496584,
          -0.5031870511468246,
          1.1902510739977927,
          -0.8522380402140213,
          -0.7994261211247916,
          -1.5676607716376543,
          0.5189353938974922,
          0.9418028876654798,
          -1.7933214038330763,
          -0.18300167329776737,
          -0.3623073647973699,
          1.7645851942714825,
          0.9158521128290925,
          -0.6610980358418276,
          0.5353690939854695,
          1.6614260596748263,
          -1.866332590645327,
          1.0251188630279735,
          -1.2434292901719175,
          1.3659799826491938,
          -0.02593510027533987,
          -0.6795213977682552,
          -1.2585533047693196,
          0.7800230311503399,
          0.1494552056184573,
          0.12657988727076194,
          0.13454202817400898,
          1.123746387394713,
          -0.5028693384267661,
          1.1632965799030452,
          -0.3649996949647845,
          -1.4981199619605614,
          -1.1455858537957884,
          -0.20965624480119005,
          -1.225845377033073,
          0.5358111916046665,
          1.7643937592782502,
          1.6013443242308194,
          1.4191392048939866,
          0.7218348489598841,
          -0.3219562479975362,
          0.10487503564293446,
          -0.23344503665794872,
          -0.08201562590525006,
          -0.10466154218617565,
          0.1053146185652273
         ],
         "yaxis": "y13"
        },
        {
         "line": {
          "color": "rgba(128, 128, 128, 1.0)",
          "dash": "solid",
          "shape": "linear",
          "width": 1.3
         },
         "marker": {
          "size": 2,
          "symbol": "circle"
         },
         "mode": "markers",
         "name": "D",
         "text": "",
         "type": "scatter",
         "x": [
          0.16782352183400587,
          0.624804262589385,
          0.20372352671812846,
          -1.0591108379188434,
          -1.1419991407057792,
          0.8822057456431932,
          -0.30702637099270114,
          -2.0571013104149785,
          0.14614864879810144,
          2.8239149412769016,
          -2.412974864103616,
          0.721557660743138,
          -1.3663833420655647,
          -0.4052192278722541,
          0.23495373968771768,
          -0.5455590082566745,
          -1.1389799602470527,
          -1.9385486162077734,
          0.8047110489285142,
          -0.2351182610922446,
          2.3322152150147737,
          0.8960012160713902,
          0.8218942950746454,
          -0.4482443216083756,
          0.19863172403022056,
          0.33279159985848933,
          -2.4384779622185095,
          1.193567194099597,
          0.06995951078451483,
          0.4072798445048463,
          0.8146048718814357,
          1.4685320619448519,
          1.241729574244285,
          -0.37101981322201927,
          0.19634382933661695,
          -1.2594514852704604,
          0.48904672630322243,
          0.31628022355690794,
          -1.815222945460142,
          0.5376001263469178,
          0.8928260980073432,
          0.12879019588005242,
          0.6852771649802917,
          0.9239529848193153,
          2.3823692123794133,
          1.8982715919903281,
          1.7308831412905878,
          1.1862688195828759,
          -1.848635962299935,
          -2.073596318572358,
          0.12343301517841951,
          -0.34208245724851927,
          0.001591497174670703,
          -0.7105462449113583,
          2.118870082413893,
          1.0323512051698571,
          -0.14904284624203912,
          -0.27697382952569033,
          -1.4030368172614824,
          0.8069435110865915,
          -0.48338082158192425,
          -0.16726241537412317,
          0.7750420639775881,
          0.8556546635018052,
          -0.5617163502227375,
          -1.1334010030114128,
          2.8353718723380155,
          1.1504533925555331,
          0.8432868744795676,
          0.9992348285333864,
          -1.3610373755414766,
          0.17205002153134172,
          0.3127027245372549,
          -2.533325046279571,
          1.0768939607725407,
          -0.568689730288132,
          1.1509542732856508,
          -0.3683126886930604,
          -1.8553771750534833,
          -0.767540898256376,
          -1.3840393947293608,
          0.3718860914407538,
          0.2847053629058795,
          -0.7893439575251157,
          -1.642169014129789,
          2.3274424411981007,
          1.2633183284786307,
          -0.2664500269888275,
          -1.1605565365059336,
          -0.36382358959654326,
          -0.5740259278524541,
          -0.9447372467663968,
          -1.4061398731208765,
          1.7657635056574208,
          0.042685599019628644,
          0.7527939395183922,
          0.1025381452497282,
          -1.0029596827640692,
          -1.3391133535210205,
          -2.431710577117348
         ],
         "xaxis": "x14",
         "y": [
          -1.1743782441565986,
          1.1782833648527276,
          1.5285790172040352,
          -0.2434144242919703,
          -0.4301588761425384,
          -0.7837164708704318,
          2.073423242544931,
          -0.2257065019732865,
          0.04025288020323026,
          -1.833822463665788,
          -0.2587243022625214,
          -0.6335293523645709,
          -1.5938225684918346,
          -1.9844992498676004,
          -2.2467059083481717,
          -1.1574783516368528,
          -1.4314297953207724,
          -0.5675189226657303,
          0.07328812335559368,
          0.7763500403084073,
          -0.04574480746821436,
          -0.9425064559799998,
          -0.8984776247702821,
          0.956115375095708,
          1.1249636326772186,
          0.18047759286331055,
          0.4834830977051666,
          1.1359849486831892,
          -1.23109749884796,
          -0.8350338429293566,
          -1.4041117937722885,
          -0.19222501951972754,
          0.4107617067354256,
          1.113296384171082,
          0.3542586508961774,
          0.04216726966998681,
          0.8337223455153439,
          0.8799374868623578,
          -0.30970768032124896,
          0.8135929649919327,
          -0.3474054726372615,
          1.434623693513677,
          1.2090274423416068,
          0.9776485795974024,
          -0.359336777779442,
          -0.7524142469475738,
          -1.0786195821151634,
          1.1441069081921416,
          -0.6438736200124546,
          -2.1811363529022243,
          2.749364643347722,
          -0.6376526405902072,
          0.4933127169085133,
          0.6407358994289105,
          1.9203355558496584,
          -0.5031870511468246,
          1.1902510739977927,
          -0.8522380402140213,
          -0.7994261211247916,
          -1.5676607716376543,
          0.5189353938974922,
          0.9418028876654798,
          -1.7933214038330763,
          -0.18300167329776737,
          -0.3623073647973699,
          1.7645851942714825,
          0.9158521128290925,
          -0.6610980358418276,
          0.5353690939854695,
          1.6614260596748263,
          -1.866332590645327,
          1.0251188630279735,
          -1.2434292901719175,
          1.3659799826491938,
          -0.02593510027533987,
          -0.6795213977682552,
          -1.2585533047693196,
          0.7800230311503399,
          0.1494552056184573,
          0.12657988727076194,
          0.13454202817400898,
          1.123746387394713,
          -0.5028693384267661,
          1.1632965799030452,
          -0.3649996949647845,
          -1.4981199619605614,
          -1.1455858537957884,
          -0.20965624480119005,
          -1.225845377033073,
          0.5358111916046665,
          1.7643937592782502,
          1.6013443242308194,
          1.4191392048939866,
          0.7218348489598841,
          -0.3219562479975362,
          0.10487503564293446,
          -0.23344503665794872,
          -0.08201562590525006,
          -0.10466154218617565,
          0.1053146185652273
         ],
         "yaxis": "y14"
        },
        {
         "line": {
          "color": "rgba(128, 128, 128, 1.0)",
          "dash": "solid",
          "shape": "linear",
          "width": 1.3
         },
         "marker": {
          "size": 2,
          "symbol": "circle"
         },
         "mode": "markers",
         "name": "D",
         "text": "",
         "type": "scatter",
         "x": [
          -0.03244389602055529,
          -1.376064723215646,
          -0.8936449852951962,
          2.246183247170497,
          -0.2842455411433604,
          0.24977220339714862,
          -1.3092079752731844,
          -1.125820862033277,
          0.7881123101596321,
          -0.17629478631106424,
          0.24791816263662367,
          0.024129800700381513,
          -0.0731598915189741,
          0.011826906834777438,
          0.25766620763392967,
          -0.2760160116474995,
          -0.12422601615338257,
          0.6304374772358293,
          2.0906771171790104,
          -1.0682789441846812,
          0.35542075055937694,
          0.07116119586324078,
          -0.5785308586685893,
          1.592617960631492,
          0.04851991365648021,
          -1.068886282058525,
          0.36282714372099184,
          0.00509787537875922,
          0.45830896155744966,
          0.887170281719946,
          0.9978917974896991,
          1.022752347260949,
          0.556188463426931,
          -0.23755417410411084,
          -0.3310855715715259,
          0.2714160532359191,
          -1.4189791792176458,
          -0.00042666021864642376,
          -0.06049170225579462,
          0.01194277380680795,
          1.5831380346753257,
          0.035250206851351266,
          1.417575706148856,
          -2.2127674994658983,
          0.24454590517047958,
          0.3281634508912985,
          -0.7267207272217229,
          -0.44970481157645426,
          -0.35327261841451457,
          -0.16458726099049978,
          -0.4593882381974047,
          0.7023722469065665,
          -1.2623134023136406,
          0.314987762048421,
          -0.9901882642956437,
          2.706367199353684,
          -0.6596398069513764,
          -0.31575679367085446,
          0.2032154447404938,
          -0.4200196391830115,
          0.9221453778359124,
          1.0085534461366155,
          -0.6556210132152722,
          1.1414216930155912,
          -1.9488020947921916,
          0.7355350611389138,
          0.9509715976708066,
          0.2482948033835417,
          -0.29254111057074667,
          -0.3220057608509072,
          -2.315980644514428,
          0.3057844356233016,
          -0.2712245431049181,
          -1.0915701524938453,
          -2.1015619677219455,
          0.01920940725249679,
          -0.28048236908173735,
          -0.10100878456696832,
          -0.6835423968236275,
          1.3714640280125716,
          -0.10764423590559576,
          1.8174456157836572,
          0.02236206198865971,
          0.062061313687635136,
          -0.009785031937426381,
          -0.7838538964590656,
          1.6255932335409693,
          0.5003115963691971,
          -0.25889661335579556,
          -0.9668628171957215,
          -0.01756446850677946,
          0.01921596143610028,
          -0.9626825014469726,
          0.8186790237590893,
          -1.1037901893201325,
          -0.12499750671327468,
          -1.6067080396214912,
          0.8909711217238272,
          -0.5237514547912062,
          -1.5974457559062116
         ],
         "xaxis": "x15",
         "y": [
          -1.1743782441565986,
          1.1782833648527276,
          1.5285790172040352,
          -0.2434144242919703,
          -0.4301588761425384,
          -0.7837164708704318,
          2.073423242544931,
          -0.2257065019732865,
          0.04025288020323026,
          -1.833822463665788,
          -0.2587243022625214,
          -0.6335293523645709,
          -1.5938225684918346,
          -1.9844992498676004,
          -2.2467059083481717,
          -1.1574783516368528,
          -1.4314297953207724,
          -0.5675189226657303,
          0.07328812335559368,
          0.7763500403084073,
          -0.04574480746821436,
          -0.9425064559799998,
          -0.8984776247702821,
          0.956115375095708,
          1.1249636326772186,
          0.18047759286331055,
          0.4834830977051666,
          1.1359849486831892,
          -1.23109749884796,
          -0.8350338429293566,
          -1.4041117937722885,
          -0.19222501951972754,
          0.4107617067354256,
          1.113296384171082,
          0.3542586508961774,
          0.04216726966998681,
          0.8337223455153439,
          0.8799374868623578,
          -0.30970768032124896,
          0.8135929649919327,
          -0.3474054726372615,
          1.434623693513677,
          1.2090274423416068,
          0.9776485795974024,
          -0.359336777779442,
          -0.7524142469475738,
          -1.0786195821151634,
          1.1441069081921416,
          -0.6438736200124546,
          -2.1811363529022243,
          2.749364643347722,
          -0.6376526405902072,
          0.4933127169085133,
          0.6407358994289105,
          1.9203355558496584,
          -0.5031870511468246,
          1.1902510739977927,
          -0.8522380402140213,
          -0.7994261211247916,
          -1.5676607716376543,
          0.5189353938974922,
          0.9418028876654798,
          -1.7933214038330763,
          -0.18300167329776737,
          -0.3623073647973699,
          1.7645851942714825,
          0.9158521128290925,
          -0.6610980358418276,
          0.5353690939854695,
          1.6614260596748263,
          -1.866332590645327,
          1.0251188630279735,
          -1.2434292901719175,
          1.3659799826491938,
          -0.02593510027533987,
          -0.6795213977682552,
          -1.2585533047693196,
          0.7800230311503399,
          0.1494552056184573,
          0.12657988727076194,
          0.13454202817400898,
          1.123746387394713,
          -0.5028693384267661,
          1.1632965799030452,
          -0.3649996949647845,
          -1.4981199619605614,
          -1.1455858537957884,
          -0.20965624480119005,
          -1.225845377033073,
          0.5358111916046665,
          1.7643937592782502,
          1.6013443242308194,
          1.4191392048939866,
          0.7218348489598841,
          -0.3219562479975362,
          0.10487503564293446,
          -0.23344503665794872,
          -0.08201562590525006,
          -0.10466154218617565,
          0.1053146185652273
         ],
         "yaxis": "y15"
        },
        {
         "histfunc": "count",
         "histnorm": "",
         "marker": {
          "color": "rgba(128, 0, 128, 1.0)",
          "line": {
           "color": "#4D5663",
           "width": 1.3
          }
         },
         "name": "D",
         "nbinsx": 10,
         "opacity": 0.8,
         "orientation": "v",
         "type": "histogram",
         "x": [
          -1.1743782441565986,
          1.1782833648527276,
          1.5285790172040352,
          -0.2434144242919703,
          -0.4301588761425384,
          -0.7837164708704318,
          2.073423242544931,
          -0.2257065019732865,
          0.04025288020323026,
          -1.833822463665788,
          -0.2587243022625214,
          -0.6335293523645709,
          -1.5938225684918346,
          -1.9844992498676004,
          -2.2467059083481717,
          -1.1574783516368528,
          -1.4314297953207724,
          -0.5675189226657303,
          0.07328812335559368,
          0.7763500403084073,
          -0.04574480746821436,
          -0.9425064559799998,
          -0.8984776247702821,
          0.956115375095708,
          1.1249636326772186,
          0.18047759286331055,
          0.4834830977051666,
          1.1359849486831892,
          -1.23109749884796,
          -0.8350338429293566,
          -1.4041117937722885,
          -0.19222501951972754,
          0.4107617067354256,
          1.113296384171082,
          0.3542586508961774,
          0.04216726966998681,
          0.8337223455153439,
          0.8799374868623578,
          -0.30970768032124896,
          0.8135929649919327,
          -0.3474054726372615,
          1.434623693513677,
          1.2090274423416068,
          0.9776485795974024,
          -0.359336777779442,
          -0.7524142469475738,
          -1.0786195821151634,
          1.1441069081921416,
          -0.6438736200124546,
          -2.1811363529022243,
          2.749364643347722,
          -0.6376526405902072,
          0.4933127169085133,
          0.6407358994289105,
          1.9203355558496584,
          -0.5031870511468246,
          1.1902510739977927,
          -0.8522380402140213,
          -0.7994261211247916,
          -1.5676607716376543,
          0.5189353938974922,
          0.9418028876654798,
          -1.7933214038330763,
          -0.18300167329776737,
          -0.3623073647973699,
          1.7645851942714825,
          0.9158521128290925,
          -0.6610980358418276,
          0.5353690939854695,
          1.6614260596748263,
          -1.866332590645327,
          1.0251188630279735,
          -1.2434292901719175,
          1.3659799826491938,
          -0.02593510027533987,
          -0.6795213977682552,
          -1.2585533047693196,
          0.7800230311503399,
          0.1494552056184573,
          0.12657988727076194,
          0.13454202817400898,
          1.123746387394713,
          -0.5028693384267661,
          1.1632965799030452,
          -0.3649996949647845,
          -1.4981199619605614,
          -1.1455858537957884,
          -0.20965624480119005,
          -1.225845377033073,
          0.5358111916046665,
          1.7643937592782502,
          1.6013443242308194,
          1.4191392048939866,
          0.7218348489598841,
          -0.3219562479975362,
          0.10487503564293446,
          -0.23344503665794872,
          -0.08201562590525006,
          -0.10466154218617565,
          0.1053146185652273
         ],
         "xaxis": "x16",
         "yaxis": "y16"
        }
       ],
       "layout": {
        "bargap": 0.02,
        "legend": {
         "bgcolor": "#F5F6F9",
         "font": {
          "color": "#4D5663"
         }
        },
        "paper_bgcolor": "#F5F6F9",
        "plot_bgcolor": "#F5F6F9",
        "showlegend": false,
        "template": {
         "data": {
          "bar": [
           {
            "error_x": {
             "color": "#2a3f5f"
            },
            "error_y": {
             "color": "#2a3f5f"
            },
            "marker": {
             "line": {
              "color": "#E5ECF6",
              "width": 0.5
             },
             "pattern": {
              "fillmode": "overlay",
              "size": 10,
              "solidity": 0.2
             }
            },
            "type": "bar"
           }
          ],
          "barpolar": [
           {
            "marker": {
             "line": {
              "color": "#E5ECF6",
              "width": 0.5
             },
             "pattern": {
              "fillmode": "overlay",
              "size": 10,
              "solidity": 0.2
             }
            },
            "type": "barpolar"
           }
          ],
          "carpet": [
           {
            "aaxis": {
             "endlinecolor": "#2a3f5f",
             "gridcolor": "white",
             "linecolor": "white",
             "minorgridcolor": "white",
             "startlinecolor": "#2a3f5f"
            },
            "baxis": {
             "endlinecolor": "#2a3f5f",
             "gridcolor": "white",
             "linecolor": "white",
             "minorgridcolor": "white",
             "startlinecolor": "#2a3f5f"
            },
            "type": "carpet"
           }
          ],
          "choropleth": [
           {
            "colorbar": {
             "outlinewidth": 0,
             "ticks": ""
            },
            "type": "choropleth"
           }
          ],
          "contour": [
           {
            "colorbar": {
             "outlinewidth": 0,
             "ticks": ""
            },
            "colorscale": [
             [
              0,
              "#0d0887"
             ],
             [
              0.1111111111111111,
              "#46039f"
             ],
             [
              0.2222222222222222,
              "#7201a8"
             ],
             [
              0.3333333333333333,
              "#9c179e"
             ],
             [
              0.4444444444444444,
              "#bd3786"
             ],
             [
              0.5555555555555556,
              "#d8576b"
             ],
             [
              0.6666666666666666,
              "#ed7953"
             ],
             [
              0.7777777777777778,
              "#fb9f3a"
             ],
             [
              0.8888888888888888,
              "#fdca26"
             ],
             [
              1,
              "#f0f921"
             ]
            ],
            "type": "contour"
           }
          ],
          "contourcarpet": [
           {
            "colorbar": {
             "outlinewidth": 0,
             "ticks": ""
            },
            "type": "contourcarpet"
           }
          ],
          "heatmap": [
           {
            "colorbar": {
             "outlinewidth": 0,
             "ticks": ""
            },
            "colorscale": [
             [
              0,
              "#0d0887"
             ],
             [
              0.1111111111111111,
              "#46039f"
             ],
             [
              0.2222222222222222,
              "#7201a8"
             ],
             [
              0.3333333333333333,
              "#9c179e"
             ],
             [
              0.4444444444444444,
              "#bd3786"
             ],
             [
              0.5555555555555556,
              "#d8576b"
             ],
             [
              0.6666666666666666,
              "#ed7953"
             ],
             [
              0.7777777777777778,
              "#fb9f3a"
             ],
             [
              0.8888888888888888,
              "#fdca26"
             ],
             [
              1,
              "#f0f921"
             ]
            ],
            "type": "heatmap"
           }
          ],
          "heatmapgl": [
           {
            "colorbar": {
             "outlinewidth": 0,
             "ticks": ""
            },
            "colorscale": [
             [
              0,
              "#0d0887"
             ],
             [
              0.1111111111111111,
              "#46039f"
             ],
             [
              0.2222222222222222,
              "#7201a8"
             ],
             [
              0.3333333333333333,
              "#9c179e"
             ],
             [
              0.4444444444444444,
              "#bd3786"
             ],
             [
              0.5555555555555556,
              "#d8576b"
             ],
             [
              0.6666666666666666,
              "#ed7953"
             ],
             [
              0.7777777777777778,
              "#fb9f3a"
             ],
             [
              0.8888888888888888,
              "#fdca26"
             ],
             [
              1,
              "#f0f921"
             ]
            ],
            "type": "heatmapgl"
           }
          ],
          "histogram": [
           {
            "marker": {
             "pattern": {
              "fillmode": "overlay",
              "size": 10,
              "solidity": 0.2
             }
            },
            "type": "histogram"
           }
          ],
          "histogram2d": [
           {
            "colorbar": {
             "outlinewidth": 0,
             "ticks": ""
            },
            "colorscale": [
             [
              0,
              "#0d0887"
             ],
             [
              0.1111111111111111,
              "#46039f"
             ],
             [
              0.2222222222222222,
              "#7201a8"
             ],
             [
              0.3333333333333333,
              "#9c179e"
             ],
             [
              0.4444444444444444,
              "#bd3786"
             ],
             [
              0.5555555555555556,
              "#d8576b"
             ],
             [
              0.6666666666666666,
              "#ed7953"
             ],
             [
              0.7777777777777778,
              "#fb9f3a"
             ],
             [
              0.8888888888888888,
              "#fdca26"
             ],
             [
              1,
              "#f0f921"
             ]
            ],
            "type": "histogram2d"
           }
          ],
          "histogram2dcontour": [
           {
            "colorbar": {
             "outlinewidth": 0,
             "ticks": ""
            },
            "colorscale": [
             [
              0,
              "#0d0887"
             ],
             [
              0.1111111111111111,
              "#46039f"
             ],
             [
              0.2222222222222222,
              "#7201a8"
             ],
             [
              0.3333333333333333,
              "#9c179e"
             ],
             [
              0.4444444444444444,
              "#bd3786"
             ],
             [
              0.5555555555555556,
              "#d8576b"
             ],
             [
              0.6666666666666666,
              "#ed7953"
             ],
             [
              0.7777777777777778,
              "#fb9f3a"
             ],
             [
              0.8888888888888888,
              "#fdca26"
             ],
             [
              1,
              "#f0f921"
             ]
            ],
            "type": "histogram2dcontour"
           }
          ],
          "mesh3d": [
           {
            "colorbar": {
             "outlinewidth": 0,
             "ticks": ""
            },
            "type": "mesh3d"
           }
          ],
          "parcoords": [
           {
            "line": {
             "colorbar": {
              "outlinewidth": 0,
              "ticks": ""
             }
            },
            "type": "parcoords"
           }
          ],
          "pie": [
           {
            "automargin": true,
            "type": "pie"
           }
          ],
          "scatter": [
           {
            "marker": {
             "colorbar": {
              "outlinewidth": 0,
              "ticks": ""
             }
            },
            "type": "scatter"
           }
          ],
          "scatter3d": [
           {
            "line": {
             "colorbar": {
              "outlinewidth": 0,
              "ticks": ""
             }
            },
            "marker": {
             "colorbar": {
              "outlinewidth": 0,
              "ticks": ""
             }
            },
            "type": "scatter3d"
           }
          ],
          "scattercarpet": [
           {
            "marker": {
             "colorbar": {
              "outlinewidth": 0,
              "ticks": ""
             }
            },
            "type": "scattercarpet"
           }
          ],
          "scattergeo": [
           {
            "marker": {
             "colorbar": {
              "outlinewidth": 0,
              "ticks": ""
             }
            },
            "type": "scattergeo"
           }
          ],
          "scattergl": [
           {
            "marker": {
             "colorbar": {
              "outlinewidth": 0,
              "ticks": ""
             }
            },
            "type": "scattergl"
           }
          ],
          "scattermapbox": [
           {
            "marker": {
             "colorbar": {
              "outlinewidth": 0,
              "ticks": ""
             }
            },
            "type": "scattermapbox"
           }
          ],
          "scatterpolar": [
           {
            "marker": {
             "colorbar": {
              "outlinewidth": 0,
              "ticks": ""
             }
            },
            "type": "scatterpolar"
           }
          ],
          "scatterpolargl": [
           {
            "marker": {
             "colorbar": {
              "outlinewidth": 0,
              "ticks": ""
             }
            },
            "type": "scatterpolargl"
           }
          ],
          "scatterternary": [
           {
            "marker": {
             "colorbar": {
              "outlinewidth": 0,
              "ticks": ""
             }
            },
            "type": "scatterternary"
           }
          ],
          "surface": [
           {
            "colorbar": {
             "outlinewidth": 0,
             "ticks": ""
            },
            "colorscale": [
             [
              0,
              "#0d0887"
             ],
             [
              0.1111111111111111,
              "#46039f"
             ],
             [
              0.2222222222222222,
              "#7201a8"
             ],
             [
              0.3333333333333333,
              "#9c179e"
             ],
             [
              0.4444444444444444,
              "#bd3786"
             ],
             [
              0.5555555555555556,
              "#d8576b"
             ],
             [
              0.6666666666666666,
              "#ed7953"
             ],
             [
              0.7777777777777778,
              "#fb9f3a"
             ],
             [
              0.8888888888888888,
              "#fdca26"
             ],
             [
              1,
              "#f0f921"
             ]
            ],
            "type": "surface"
           }
          ],
          "table": [
           {
            "cells": {
             "fill": {
              "color": "#EBF0F8"
             },
             "line": {
              "color": "white"
             }
            },
            "header": {
             "fill": {
              "color": "#C8D4E3"
             },
             "line": {
              "color": "white"
             }
            },
            "type": "table"
           }
          ]
         },
         "layout": {
          "annotationdefaults": {
           "arrowcolor": "#2a3f5f",
           "arrowhead": 0,
           "arrowwidth": 1
          },
          "autotypenumbers": "strict",
          "coloraxis": {
           "colorbar": {
            "outlinewidth": 0,
            "ticks": ""
           }
          },
          "colorscale": {
           "diverging": [
            [
             0,
             "#8e0152"
            ],
            [
             0.1,
             "#c51b7d"
            ],
            [
             0.2,
             "#de77ae"
            ],
            [
             0.3,
             "#f1b6da"
            ],
            [
             0.4,
             "#fde0ef"
            ],
            [
             0.5,
             "#f7f7f7"
            ],
            [
             0.6,
             "#e6f5d0"
            ],
            [
             0.7,
             "#b8e186"
            ],
            [
             0.8,
             "#7fbc41"
            ],
            [
             0.9,
             "#4d9221"
            ],
            [
             1,
             "#276419"
            ]
           ],
           "sequential": [
            [
             0,
             "#0d0887"
            ],
            [
             0.1111111111111111,
             "#46039f"
            ],
            [
             0.2222222222222222,
             "#7201a8"
            ],
            [
             0.3333333333333333,
             "#9c179e"
            ],
            [
             0.4444444444444444,
             "#bd3786"
            ],
            [
             0.5555555555555556,
             "#d8576b"
            ],
            [
             0.6666666666666666,
             "#ed7953"
            ],
            [
             0.7777777777777778,
             "#fb9f3a"
            ],
            [
             0.8888888888888888,
             "#fdca26"
            ],
            [
             1,
             "#f0f921"
            ]
           ],
           "sequentialminus": [
            [
             0,
             "#0d0887"
            ],
            [
             0.1111111111111111,
             "#46039f"
            ],
            [
             0.2222222222222222,
             "#7201a8"
            ],
            [
             0.3333333333333333,
             "#9c179e"
            ],
            [
             0.4444444444444444,
             "#bd3786"
            ],
            [
             0.5555555555555556,
             "#d8576b"
            ],
            [
             0.6666666666666666,
             "#ed7953"
            ],
            [
             0.7777777777777778,
             "#fb9f3a"
            ],
            [
             0.8888888888888888,
             "#fdca26"
            ],
            [
             1,
             "#f0f921"
            ]
           ]
          },
          "colorway": [
           "#636efa",
           "#EF553B",
           "#00cc96",
           "#ab63fa",
           "#FFA15A",
           "#19d3f3",
           "#FF6692",
           "#B6E880",
           "#FF97FF",
           "#FECB52"
          ],
          "font": {
           "color": "#2a3f5f"
          },
          "geo": {
           "bgcolor": "white",
           "lakecolor": "white",
           "landcolor": "#E5ECF6",
           "showlakes": true,
           "showland": true,
           "subunitcolor": "white"
          },
          "hoverlabel": {
           "align": "left"
          },
          "hovermode": "closest",
          "mapbox": {
           "style": "light"
          },
          "paper_bgcolor": "white",
          "plot_bgcolor": "#E5ECF6",
          "polar": {
           "angularaxis": {
            "gridcolor": "white",
            "linecolor": "white",
            "ticks": ""
           },
           "bgcolor": "#E5ECF6",
           "radialaxis": {
            "gridcolor": "white",
            "linecolor": "white",
            "ticks": ""
           }
          },
          "scene": {
           "xaxis": {
            "backgroundcolor": "#E5ECF6",
            "gridcolor": "white",
            "gridwidth": 2,
            "linecolor": "white",
            "showbackground": true,
            "ticks": "",
            "zerolinecolor": "white"
           },
           "yaxis": {
            "backgroundcolor": "#E5ECF6",
            "gridcolor": "white",
            "gridwidth": 2,
            "linecolor": "white",
            "showbackground": true,
            "ticks": "",
            "zerolinecolor": "white"
           },
           "zaxis": {
            "backgroundcolor": "#E5ECF6",
            "gridcolor": "white",
            "gridwidth": 2,
            "linecolor": "white",
            "showbackground": true,
            "ticks": "",
            "zerolinecolor": "white"
           }
          },
          "shapedefaults": {
           "line": {
            "color": "#2a3f5f"
           }
          },
          "ternary": {
           "aaxis": {
            "gridcolor": "white",
            "linecolor": "white",
            "ticks": ""
           },
           "baxis": {
            "gridcolor": "white",
            "linecolor": "white",
            "ticks": ""
           },
           "bgcolor": "#E5ECF6",
           "caxis": {
            "gridcolor": "white",
            "linecolor": "white",
            "ticks": ""
           }
          },
          "title": {
           "x": 0.05
          },
          "xaxis": {
           "automargin": true,
           "gridcolor": "white",
           "linecolor": "white",
           "ticks": "",
           "title": {
            "standoff": 15
           },
           "zerolinecolor": "white",
           "zerolinewidth": 2
          },
          "yaxis": {
           "automargin": true,
           "gridcolor": "white",
           "linecolor": "white",
           "ticks": "",
           "title": {
            "standoff": 15
           },
           "zerolinecolor": "white",
           "zerolinewidth": 2
          }
         }
        },
        "title": {
         "font": {
          "color": "#4D5663"
         }
        },
        "xaxis": {
         "anchor": "y",
         "domain": [
          0,
          0.2125
         ],
         "gridcolor": "#E1E5ED",
         "showgrid": false,
         "tickfont": {
          "color": "#4D5663"
         },
         "title": {
          "font": {
           "color": "#4D5663"
          },
          "text": ""
         },
         "zerolinecolor": "#E1E5ED"
        },
        "xaxis10": {
         "anchor": "y10",
         "domain": [
          0.2625,
          0.475
         ],
         "gridcolor": "#E1E5ED",
         "showgrid": false,
         "tickfont": {
          "color": "#4D5663"
         },
         "title": {
          "font": {
           "color": "#4D5663"
          },
          "text": ""
         },
         "zerolinecolor": "#E1E5ED"
        },
        "xaxis11": {
         "anchor": "y11",
         "domain": [
          0.525,
          0.7375
         ],
         "gridcolor": "#E1E5ED",
         "showgrid": false,
         "tickfont": {
          "color": "#4D5663"
         },
         "title": {
          "font": {
           "color": "#4D5663"
          },
          "text": ""
         },
         "zerolinecolor": "#E1E5ED"
        },
        "xaxis12": {
         "anchor": "y12",
         "domain": [
          0.7875,
          1
         ],
         "gridcolor": "#E1E5ED",
         "showgrid": false,
         "tickfont": {
          "color": "#4D5663"
         },
         "title": {
          "font": {
           "color": "#4D5663"
          },
          "text": ""
         },
         "zerolinecolor": "#E1E5ED"
        },
        "xaxis13": {
         "anchor": "y13",
         "domain": [
          0,
          0.2125
         ],
         "gridcolor": "#E1E5ED",
         "showgrid": false,
         "tickfont": {
          "color": "#4D5663"
         },
         "title": {
          "font": {
           "color": "#4D5663"
          },
          "text": ""
         },
         "zerolinecolor": "#E1E5ED"
        },
        "xaxis14": {
         "anchor": "y14",
         "domain": [
          0.2625,
          0.475
         ],
         "gridcolor": "#E1E5ED",
         "showgrid": false,
         "tickfont": {
          "color": "#4D5663"
         },
         "title": {
          "font": {
           "color": "#4D5663"
          },
          "text": ""
         },
         "zerolinecolor": "#E1E5ED"
        },
        "xaxis15": {
         "anchor": "y15",
         "domain": [
          0.525,
          0.7375
         ],
         "gridcolor": "#E1E5ED",
         "showgrid": false,
         "tickfont": {
          "color": "#4D5663"
         },
         "title": {
          "font": {
           "color": "#4D5663"
          },
          "text": ""
         },
         "zerolinecolor": "#E1E5ED"
        },
        "xaxis16": {
         "anchor": "y16",
         "domain": [
          0.7875,
          1
         ],
         "gridcolor": "#E1E5ED",
         "showgrid": false,
         "tickfont": {
          "color": "#4D5663"
         },
         "title": {
          "font": {
           "color": "#4D5663"
          },
          "text": ""
         },
         "zerolinecolor": "#E1E5ED"
        },
        "xaxis2": {
         "anchor": "y2",
         "domain": [
          0.2625,
          0.475
         ],
         "gridcolor": "#E1E5ED",
         "showgrid": false,
         "tickfont": {
          "color": "#4D5663"
         },
         "title": {
          "font": {
           "color": "#4D5663"
          },
          "text": ""
         },
         "zerolinecolor": "#E1E5ED"
        },
        "xaxis3": {
         "anchor": "y3",
         "domain": [
          0.525,
          0.7375
         ],
         "gridcolor": "#E1E5ED",
         "showgrid": false,
         "tickfont": {
          "color": "#4D5663"
         },
         "title": {
          "font": {
           "color": "#4D5663"
          },
          "text": ""
         },
         "zerolinecolor": "#E1E5ED"
        },
        "xaxis4": {
         "anchor": "y4",
         "domain": [
          0.7875,
          1
         ],
         "gridcolor": "#E1E5ED",
         "showgrid": false,
         "tickfont": {
          "color": "#4D5663"
         },
         "title": {
          "font": {
           "color": "#4D5663"
          },
          "text": ""
         },
         "zerolinecolor": "#E1E5ED"
        },
        "xaxis5": {
         "anchor": "y5",
         "domain": [
          0,
          0.2125
         ],
         "gridcolor": "#E1E5ED",
         "showgrid": false,
         "tickfont": {
          "color": "#4D5663"
         },
         "title": {
          "font": {
           "color": "#4D5663"
          },
          "text": ""
         },
         "zerolinecolor": "#E1E5ED"
        },
        "xaxis6": {
         "anchor": "y6",
         "domain": [
          0.2625,
          0.475
         ],
         "gridcolor": "#E1E5ED",
         "showgrid": false,
         "tickfont": {
          "color": "#4D5663"
         },
         "title": {
          "font": {
           "color": "#4D5663"
          },
          "text": ""
         },
         "zerolinecolor": "#E1E5ED"
        },
        "xaxis7": {
         "anchor": "y7",
         "domain": [
          0.525,
          0.7375
         ],
         "gridcolor": "#E1E5ED",
         "showgrid": false,
         "tickfont": {
          "color": "#4D5663"
         },
         "title": {
          "font": {
           "color": "#4D5663"
          },
          "text": ""
         },
         "zerolinecolor": "#E1E5ED"
        },
        "xaxis8": {
         "anchor": "y8",
         "domain": [
          0.7875,
          1
         ],
         "gridcolor": "#E1E5ED",
         "showgrid": false,
         "tickfont": {
          "color": "#4D5663"
         },
         "title": {
          "font": {
           "color": "#4D5663"
          },
          "text": ""
         },
         "zerolinecolor": "#E1E5ED"
        },
        "xaxis9": {
         "anchor": "y9",
         "domain": [
          0,
          0.2125
         ],
         "gridcolor": "#E1E5ED",
         "showgrid": false,
         "tickfont": {
          "color": "#4D5663"
         },
         "title": {
          "font": {
           "color": "#4D5663"
          },
          "text": ""
         },
         "zerolinecolor": "#E1E5ED"
        },
        "yaxis": {
         "anchor": "x",
         "domain": [
          0.8025,
          1
         ],
         "gridcolor": "#E1E5ED",
         "showgrid": false,
         "tickfont": {
          "color": "#4D5663"
         },
         "title": {
          "font": {
           "color": "#4D5663"
          },
          "text": ""
         },
         "zerolinecolor": "#E1E5ED"
        },
        "yaxis10": {
         "anchor": "x10",
         "domain": [
          0.2675,
          0.465
         ],
         "gridcolor": "#E1E5ED",
         "showgrid": false,
         "tickfont": {
          "color": "#4D5663"
         },
         "title": {
          "font": {
           "color": "#4D5663"
          },
          "text": ""
         },
         "zerolinecolor": "#E1E5ED"
        },
        "yaxis11": {
         "anchor": "x11",
         "domain": [
          0.2675,
          0.465
         ],
         "gridcolor": "#E1E5ED",
         "showgrid": false,
         "tickfont": {
          "color": "#4D5663"
         },
         "title": {
          "font": {
           "color": "#4D5663"
          },
          "text": ""
         },
         "zerolinecolor": "#E1E5ED"
        },
        "yaxis12": {
         "anchor": "x12",
         "domain": [
          0.2675,
          0.465
         ],
         "gridcolor": "#E1E5ED",
         "showgrid": false,
         "tickfont": {
          "color": "#4D5663"
         },
         "title": {
          "font": {
           "color": "#4D5663"
          },
          "text": ""
         },
         "zerolinecolor": "#E1E5ED"
        },
        "yaxis13": {
         "anchor": "x13",
         "domain": [
          0,
          0.1975
         ],
         "gridcolor": "#E1E5ED",
         "showgrid": false,
         "tickfont": {
          "color": "#4D5663"
         },
         "title": {
          "font": {
           "color": "#4D5663"
          },
          "text": ""
         },
         "zerolinecolor": "#E1E5ED"
        },
        "yaxis14": {
         "anchor": "x14",
         "domain": [
          0,
          0.1975
         ],
         "gridcolor": "#E1E5ED",
         "showgrid": false,
         "tickfont": {
          "color": "#4D5663"
         },
         "title": {
          "font": {
           "color": "#4D5663"
          },
          "text": ""
         },
         "zerolinecolor": "#E1E5ED"
        },
        "yaxis15": {
         "anchor": "x15",
         "domain": [
          0,
          0.1975
         ],
         "gridcolor": "#E1E5ED",
         "showgrid": false,
         "tickfont": {
          "color": "#4D5663"
         },
         "title": {
          "font": {
           "color": "#4D5663"
          },
          "text": ""
         },
         "zerolinecolor": "#E1E5ED"
        },
        "yaxis16": {
         "anchor": "x16",
         "domain": [
          0,
          0.1975
         ],
         "gridcolor": "#E1E5ED",
         "showgrid": false,
         "tickfont": {
          "color": "#4D5663"
         },
         "title": {
          "font": {
           "color": "#4D5663"
          },
          "text": ""
         },
         "zerolinecolor": "#E1E5ED"
        },
        "yaxis2": {
         "anchor": "x2",
         "domain": [
          0.8025,
          1
         ],
         "gridcolor": "#E1E5ED",
         "showgrid": false,
         "tickfont": {
          "color": "#4D5663"
         },
         "title": {
          "font": {
           "color": "#4D5663"
          },
          "text": ""
         },
         "zerolinecolor": "#E1E5ED"
        },
        "yaxis3": {
         "anchor": "x3",
         "domain": [
          0.8025,
          1
         ],
         "gridcolor": "#E1E5ED",
         "showgrid": false,
         "tickfont": {
          "color": "#4D5663"
         },
         "title": {
          "font": {
           "color": "#4D5663"
          },
          "text": ""
         },
         "zerolinecolor": "#E1E5ED"
        },
        "yaxis4": {
         "anchor": "x4",
         "domain": [
          0.8025,
          1
         ],
         "gridcolor": "#E1E5ED",
         "showgrid": false,
         "tickfont": {
          "color": "#4D5663"
         },
         "title": {
          "font": {
           "color": "#4D5663"
          },
          "text": ""
         },
         "zerolinecolor": "#E1E5ED"
        },
        "yaxis5": {
         "anchor": "x5",
         "domain": [
          0.535,
          0.7325
         ],
         "gridcolor": "#E1E5ED",
         "showgrid": false,
         "tickfont": {
          "color": "#4D5663"
         },
         "title": {
          "font": {
           "color": "#4D5663"
          },
          "text": ""
         },
         "zerolinecolor": "#E1E5ED"
        },
        "yaxis6": {
         "anchor": "x6",
         "domain": [
          0.535,
          0.7325
         ],
         "gridcolor": "#E1E5ED",
         "showgrid": false,
         "tickfont": {
          "color": "#4D5663"
         },
         "title": {
          "font": {
           "color": "#4D5663"
          },
          "text": ""
         },
         "zerolinecolor": "#E1E5ED"
        },
        "yaxis7": {
         "anchor": "x7",
         "domain": [
          0.535,
          0.7325
         ],
         "gridcolor": "#E1E5ED",
         "showgrid": false,
         "tickfont": {
          "color": "#4D5663"
         },
         "title": {
          "font": {
           "color": "#4D5663"
          },
          "text": ""
         },
         "zerolinecolor": "#E1E5ED"
        },
        "yaxis8": {
         "anchor": "x8",
         "domain": [
          0.535,
          0.7325
         ],
         "gridcolor": "#E1E5ED",
         "showgrid": false,
         "tickfont": {
          "color": "#4D5663"
         },
         "title": {
          "font": {
           "color": "#4D5663"
          },
          "text": ""
         },
         "zerolinecolor": "#E1E5ED"
        },
        "yaxis9": {
         "anchor": "x9",
         "domain": [
          0.2675,
          0.465
         ],
         "gridcolor": "#E1E5ED",
         "showgrid": false,
         "tickfont": {
          "color": "#4D5663"
         },
         "title": {
          "font": {
           "color": "#4D5663"
          },
          "text": ""
         },
         "zerolinecolor": "#E1E5ED"
        }
       }
      },
      "text/html": [
       "<div>                            <div id=\"38ef615c-fd7d-49e3-ae39-02b28c1e3a3f\" class=\"plotly-graph-div\" style=\"height:525px; width:100%;\"></div>            <script type=\"text/javascript\">                require([\"plotly\"], function(Plotly) {                    window.PLOTLYENV=window.PLOTLYENV || {};\n",
       "                    window.PLOTLYENV.BASE_URL='https://plot.ly';                                    if (document.getElementById(\"38ef615c-fd7d-49e3-ae39-02b28c1e3a3f\")) {                    Plotly.newPlot(                        \"38ef615c-fd7d-49e3-ae39-02b28c1e3a3f\",                        [{\"histfunc\":\"count\",\"histnorm\":\"\",\"marker\":{\"color\":\"rgba(255, 153, 51, 1.0)\",\"line\":{\"color\":\"#4D5663\",\"width\":1.3}},\"name\":\"A\",\"nbinsx\":10,\"opacity\":0.8,\"orientation\":\"v\",\"x\":[1.8546943094246786,0.7484318595969548,-1.3003802265817697,0.5466013635649044,0.5936748444947731,-1.8998908810208484,0.33721413564963915,1.1337712628923053,1.359082325911419,1.0243456616090953,-0.7769188276254685,0.15627448332439178,0.02909909907259362,0.5340802561947197,0.44166099876698245,0.07418337277071425,-1.2166485828944438,0.4704216470315535,0.1776738729336818,-0.9082445699203281,-0.5882378507295679,1.2566415972493183,-0.6219653660070883,0.39494223876348156,1.4308659933450811,1.49581915347491,0.4076595706023893,-1.2939477605182126,0.973390369604027,0.840098155584022,-0.5185938843649213,0.10199556541041863,0.8500271871363656,1.1539670862850304,-1.0848994588674004,0.8384190457546357,0.6937565388763399,-1.410582449207463,0.0690709545571296,2.0081983789111573,-1.0046445131062767,0.7516523194583801,1.3873453206817357,0.0743343655411143,0.13912434845424487,-1.0530483619299962,-0.5065833576247132,1.0048844700796773,1.6869679168211584,-0.6326703784319785,-0.14584422183332776,-0.3012231557587274,0.9861559735709121,-1.3944268538824043,0.205266530140708,-0.3526912470632605,0.5139945168452866,0.6431761536884101,0.8533221153361462,0.3634162498544376,1.488558770362642,0.39118080162568675,-0.4064937772536102,-1.3424483605503834,-0.8484394801485337,0.442011011278428,0.5552676006967177,-1.1550992405702285,-0.045464650893156155,-0.22856117724941144,0.6310239049105584,1.443996432243972,-0.14437703793582427,-1.8093132042767839,-0.8965944258926464,-0.7955997958807984,-0.4820361239791199,0.5371266880897007,-0.23005501754629296,-0.24086175705188134,0.2530975143376481,-0.055343478317405104,-0.6591122798690139,1.2243412756761436,0.708139988592118,-0.11597112980702137,-0.8039079953833423,1.4002562252201896,0.8216116431913105,-0.8804732872490963,0.7570077363215513,-1.2470995107966565,-0.10568771334587965,0.4014953547386781,0.22971241053917285,-0.3461355642941567,-0.8004521108163732,1.0572143736336341,0.7315126139588002,1.0860112166901377],\"xaxis\":\"x\",\"yaxis\":\"y\",\"type\":\"histogram\"},{\"line\":{\"color\":\"rgba(128, 128, 128, 1.0)\",\"dash\":\"solid\",\"shape\":\"linear\",\"width\":1.3},\"marker\":{\"size\":2,\"symbol\":\"circle\"},\"mode\":\"markers\",\"name\":\"A\",\"text\":\"\",\"x\":[0.16782352183400587,0.624804262589385,0.20372352671812846,-1.0591108379188434,-1.1419991407057792,0.8822057456431932,-0.30702637099270114,-2.0571013104149785,0.14614864879810144,2.8239149412769016,-2.412974864103616,0.721557660743138,-1.3663833420655647,-0.4052192278722541,0.23495373968771768,-0.5455590082566745,-1.1389799602470527,-1.9385486162077734,0.8047110489285142,-0.2351182610922446,2.3322152150147737,0.8960012160713902,0.8218942950746454,-0.4482443216083756,0.19863172403022056,0.33279159985848933,-2.4384779622185095,1.193567194099597,0.06995951078451483,0.4072798445048463,0.8146048718814357,1.4685320619448519,1.241729574244285,-0.37101981322201927,0.19634382933661695,-1.2594514852704604,0.48904672630322243,0.31628022355690794,-1.815222945460142,0.5376001263469178,0.8928260980073432,0.12879019588005242,0.6852771649802917,0.9239529848193153,2.3823692123794133,1.8982715919903281,1.7308831412905878,1.1862688195828759,-1.848635962299935,-2.073596318572358,0.12343301517841951,-0.34208245724851927,0.001591497174670703,-0.7105462449113583,2.118870082413893,1.0323512051698571,-0.14904284624203912,-0.27697382952569033,-1.4030368172614824,0.8069435110865915,-0.48338082158192425,-0.16726241537412317,0.7750420639775881,0.8556546635018052,-0.5617163502227375,-1.1334010030114128,2.8353718723380155,1.1504533925555331,0.8432868744795676,0.9992348285333864,-1.3610373755414766,0.17205002153134172,0.3127027245372549,-2.533325046279571,1.0768939607725407,-0.568689730288132,1.1509542732856508,-0.3683126886930604,-1.8553771750534833,-0.767540898256376,-1.3840393947293608,0.3718860914407538,0.2847053629058795,-0.7893439575251157,-1.642169014129789,2.3274424411981007,1.2633183284786307,-0.2664500269888275,-1.1605565365059336,-0.36382358959654326,-0.5740259278524541,-0.9447372467663968,-1.4061398731208765,1.7657635056574208,0.042685599019628644,0.7527939395183922,0.1025381452497282,-1.0029596827640692,-1.3391133535210205,-2.431710577117348],\"xaxis\":\"x2\",\"y\":[1.8546943094246786,0.7484318595969548,-1.3003802265817697,0.5466013635649044,0.5936748444947731,-1.8998908810208484,0.33721413564963915,1.1337712628923053,1.359082325911419,1.0243456616090953,-0.7769188276254685,0.15627448332439178,0.02909909907259362,0.5340802561947197,0.44166099876698245,0.07418337277071425,-1.2166485828944438,0.4704216470315535,0.1776738729336818,-0.9082445699203281,-0.5882378507295679,1.2566415972493183,-0.6219653660070883,0.39494223876348156,1.4308659933450811,1.49581915347491,0.4076595706023893,-1.2939477605182126,0.973390369604027,0.840098155584022,-0.5185938843649213,0.10199556541041863,0.8500271871363656,1.1539670862850304,-1.0848994588674004,0.8384190457546357,0.6937565388763399,-1.410582449207463,0.0690709545571296,2.0081983789111573,-1.0046445131062767,0.7516523194583801,1.3873453206817357,0.0743343655411143,0.13912434845424487,-1.0530483619299962,-0.5065833576247132,1.0048844700796773,1.6869679168211584,-0.6326703784319785,-0.14584422183332776,-0.3012231557587274,0.9861559735709121,-1.3944268538824043,0.205266530140708,-0.3526912470632605,0.5139945168452866,0.6431761536884101,0.8533221153361462,0.3634162498544376,1.488558770362642,0.39118080162568675,-0.4064937772536102,-1.3424483605503834,-0.8484394801485337,0.442011011278428,0.5552676006967177,-1.1550992405702285,-0.045464650893156155,-0.22856117724941144,0.6310239049105584,1.443996432243972,-0.14437703793582427,-1.8093132042767839,-0.8965944258926464,-0.7955997958807984,-0.4820361239791199,0.5371266880897007,-0.23005501754629296,-0.24086175705188134,0.2530975143376481,-0.055343478317405104,-0.6591122798690139,1.2243412756761436,0.708139988592118,-0.11597112980702137,-0.8039079953833423,1.4002562252201896,0.8216116431913105,-0.8804732872490963,0.7570077363215513,-1.2470995107966565,-0.10568771334587965,0.4014953547386781,0.22971241053917285,-0.3461355642941567,-0.8004521108163732,1.0572143736336341,0.7315126139588002,1.0860112166901377],\"yaxis\":\"y2\",\"type\":\"scatter\"},{\"line\":{\"color\":\"rgba(128, 128, 128, 1.0)\",\"dash\":\"solid\",\"shape\":\"linear\",\"width\":1.3},\"marker\":{\"size\":2,\"symbol\":\"circle\"},\"mode\":\"markers\",\"name\":\"A\",\"text\":\"\",\"x\":[-0.03244389602055529,-1.376064723215646,-0.8936449852951962,2.246183247170497,-0.2842455411433604,0.24977220339714862,-1.3092079752731844,-1.125820862033277,0.7881123101596321,-0.17629478631106424,0.24791816263662367,0.024129800700381513,-0.0731598915189741,0.011826906834777438,0.25766620763392967,-0.2760160116474995,-0.12422601615338257,0.6304374772358293,2.0906771171790104,-1.0682789441846812,0.35542075055937694,0.07116119586324078,-0.5785308586685893,1.592617960631492,0.04851991365648021,-1.068886282058525,0.36282714372099184,0.00509787537875922,0.45830896155744966,0.887170281719946,0.9978917974896991,1.022752347260949,0.556188463426931,-0.23755417410411084,-0.3310855715715259,0.2714160532359191,-1.4189791792176458,-0.00042666021864642376,-0.06049170225579462,0.01194277380680795,1.5831380346753257,0.035250206851351266,1.417575706148856,-2.2127674994658983,0.24454590517047958,0.3281634508912985,-0.7267207272217229,-0.44970481157645426,-0.35327261841451457,-0.16458726099049978,-0.4593882381974047,0.7023722469065665,-1.2623134023136406,0.314987762048421,-0.9901882642956437,2.706367199353684,-0.6596398069513764,-0.31575679367085446,0.2032154447404938,-0.4200196391830115,0.9221453778359124,1.0085534461366155,-0.6556210132152722,1.1414216930155912,-1.9488020947921916,0.7355350611389138,0.9509715976708066,0.2482948033835417,-0.29254111057074667,-0.3220057608509072,-2.315980644514428,0.3057844356233016,-0.2712245431049181,-1.0915701524938453,-2.1015619677219455,0.01920940725249679,-0.28048236908173735,-0.10100878456696832,-0.6835423968236275,1.3714640280125716,-0.10764423590559576,1.8174456157836572,0.02236206198865971,0.062061313687635136,-0.009785031937426381,-0.7838538964590656,1.6255932335409693,0.5003115963691971,-0.25889661335579556,-0.9668628171957215,-0.01756446850677946,0.01921596143610028,-0.9626825014469726,0.8186790237590893,-1.1037901893201325,-0.12499750671327468,-1.6067080396214912,0.8909711217238272,-0.5237514547912062,-1.5974457559062116],\"xaxis\":\"x3\",\"y\":[1.8546943094246786,0.7484318595969548,-1.3003802265817697,0.5466013635649044,0.5936748444947731,-1.8998908810208484,0.33721413564963915,1.1337712628923053,1.359082325911419,1.0243456616090953,-0.7769188276254685,0.15627448332439178,0.02909909907259362,0.5340802561947197,0.44166099876698245,0.07418337277071425,-1.2166485828944438,0.4704216470315535,0.1776738729336818,-0.9082445699203281,-0.5882378507295679,1.2566415972493183,-0.6219653660070883,0.39494223876348156,1.4308659933450811,1.49581915347491,0.4076595706023893,-1.2939477605182126,0.973390369604027,0.840098155584022,-0.5185938843649213,0.10199556541041863,0.8500271871363656,1.1539670862850304,-1.0848994588674004,0.8384190457546357,0.6937565388763399,-1.410582449207463,0.0690709545571296,2.0081983789111573,-1.0046445131062767,0.7516523194583801,1.3873453206817357,0.0743343655411143,0.13912434845424487,-1.0530483619299962,-0.5065833576247132,1.0048844700796773,1.6869679168211584,-0.6326703784319785,-0.14584422183332776,-0.3012231557587274,0.9861559735709121,-1.3944268538824043,0.205266530140708,-0.3526912470632605,0.5139945168452866,0.6431761536884101,0.8533221153361462,0.3634162498544376,1.488558770362642,0.39118080162568675,-0.4064937772536102,-1.3424483605503834,-0.8484394801485337,0.442011011278428,0.5552676006967177,-1.1550992405702285,-0.045464650893156155,-0.22856117724941144,0.6310239049105584,1.443996432243972,-0.14437703793582427,-1.8093132042767839,-0.8965944258926464,-0.7955997958807984,-0.4820361239791199,0.5371266880897007,-0.23005501754629296,-0.24086175705188134,0.2530975143376481,-0.055343478317405104,-0.6591122798690139,1.2243412756761436,0.708139988592118,-0.11597112980702137,-0.8039079953833423,1.4002562252201896,0.8216116431913105,-0.8804732872490963,0.7570077363215513,-1.2470995107966565,-0.10568771334587965,0.4014953547386781,0.22971241053917285,-0.3461355642941567,-0.8004521108163732,1.0572143736336341,0.7315126139588002,1.0860112166901377],\"yaxis\":\"y3\",\"type\":\"scatter\"},{\"line\":{\"color\":\"rgba(128, 128, 128, 1.0)\",\"dash\":\"solid\",\"shape\":\"linear\",\"width\":1.3},\"marker\":{\"size\":2,\"symbol\":\"circle\"},\"mode\":\"markers\",\"name\":\"A\",\"text\":\"\",\"x\":[-1.1743782441565986,1.1782833648527276,1.5285790172040352,-0.2434144242919703,-0.4301588761425384,-0.7837164708704318,2.073423242544931,-0.2257065019732865,0.04025288020323026,-1.833822463665788,-0.2587243022625214,-0.6335293523645709,-1.5938225684918346,-1.9844992498676004,-2.2467059083481717,-1.1574783516368528,-1.4314297953207724,-0.5675189226657303,0.07328812335559368,0.7763500403084073,-0.04574480746821436,-0.9425064559799998,-0.8984776247702821,0.956115375095708,1.1249636326772186,0.18047759286331055,0.4834830977051666,1.1359849486831892,-1.23109749884796,-0.8350338429293566,-1.4041117937722885,-0.19222501951972754,0.4107617067354256,1.113296384171082,0.3542586508961774,0.04216726966998681,0.8337223455153439,0.8799374868623578,-0.30970768032124896,0.8135929649919327,-0.3474054726372615,1.434623693513677,1.2090274423416068,0.9776485795974024,-0.359336777779442,-0.7524142469475738,-1.0786195821151634,1.1441069081921416,-0.6438736200124546,-2.1811363529022243,2.749364643347722,-0.6376526405902072,0.4933127169085133,0.6407358994289105,1.9203355558496584,-0.5031870511468246,1.1902510739977927,-0.8522380402140213,-0.7994261211247916,-1.5676607716376543,0.5189353938974922,0.9418028876654798,-1.7933214038330763,-0.18300167329776737,-0.3623073647973699,1.7645851942714825,0.9158521128290925,-0.6610980358418276,0.5353690939854695,1.6614260596748263,-1.866332590645327,1.0251188630279735,-1.2434292901719175,1.3659799826491938,-0.02593510027533987,-0.6795213977682552,-1.2585533047693196,0.7800230311503399,0.1494552056184573,0.12657988727076194,0.13454202817400898,1.123746387394713,-0.5028693384267661,1.1632965799030452,-0.3649996949647845,-1.4981199619605614,-1.1455858537957884,-0.20965624480119005,-1.225845377033073,0.5358111916046665,1.7643937592782502,1.6013443242308194,1.4191392048939866,0.7218348489598841,-0.3219562479975362,0.10487503564293446,-0.23344503665794872,-0.08201562590525006,-0.10466154218617565,0.1053146185652273],\"xaxis\":\"x4\",\"y\":[1.8546943094246786,0.7484318595969548,-1.3003802265817697,0.5466013635649044,0.5936748444947731,-1.8998908810208484,0.33721413564963915,1.1337712628923053,1.359082325911419,1.0243456616090953,-0.7769188276254685,0.15627448332439178,0.02909909907259362,0.5340802561947197,0.44166099876698245,0.07418337277071425,-1.2166485828944438,0.4704216470315535,0.1776738729336818,-0.9082445699203281,-0.5882378507295679,1.2566415972493183,-0.6219653660070883,0.39494223876348156,1.4308659933450811,1.49581915347491,0.4076595706023893,-1.2939477605182126,0.973390369604027,0.840098155584022,-0.5185938843649213,0.10199556541041863,0.8500271871363656,1.1539670862850304,-1.0848994588674004,0.8384190457546357,0.6937565388763399,-1.410582449207463,0.0690709545571296,2.0081983789111573,-1.0046445131062767,0.7516523194583801,1.3873453206817357,0.0743343655411143,0.13912434845424487,-1.0530483619299962,-0.5065833576247132,1.0048844700796773,1.6869679168211584,-0.6326703784319785,-0.14584422183332776,-0.3012231557587274,0.9861559735709121,-1.3944268538824043,0.205266530140708,-0.3526912470632605,0.5139945168452866,0.6431761536884101,0.8533221153361462,0.3634162498544376,1.488558770362642,0.39118080162568675,-0.4064937772536102,-1.3424483605503834,-0.8484394801485337,0.442011011278428,0.5552676006967177,-1.1550992405702285,-0.045464650893156155,-0.22856117724941144,0.6310239049105584,1.443996432243972,-0.14437703793582427,-1.8093132042767839,-0.8965944258926464,-0.7955997958807984,-0.4820361239791199,0.5371266880897007,-0.23005501754629296,-0.24086175705188134,0.2530975143376481,-0.055343478317405104,-0.6591122798690139,1.2243412756761436,0.708139988592118,-0.11597112980702137,-0.8039079953833423,1.4002562252201896,0.8216116431913105,-0.8804732872490963,0.7570077363215513,-1.2470995107966565,-0.10568771334587965,0.4014953547386781,0.22971241053917285,-0.3461355642941567,-0.8004521108163732,1.0572143736336341,0.7315126139588002,1.0860112166901377],\"yaxis\":\"y4\",\"type\":\"scatter\"},{\"line\":{\"color\":\"rgba(128, 128, 128, 1.0)\",\"dash\":\"solid\",\"shape\":\"linear\",\"width\":1.3},\"marker\":{\"size\":2,\"symbol\":\"circle\"},\"mode\":\"markers\",\"name\":\"B\",\"text\":\"\",\"x\":[1.8546943094246786,0.7484318595969548,-1.3003802265817697,0.5466013635649044,0.5936748444947731,-1.8998908810208484,0.33721413564963915,1.1337712628923053,1.359082325911419,1.0243456616090953,-0.7769188276254685,0.15627448332439178,0.02909909907259362,0.5340802561947197,0.44166099876698245,0.07418337277071425,-1.2166485828944438,0.4704216470315535,0.1776738729336818,-0.9082445699203281,-0.5882378507295679,1.2566415972493183,-0.6219653660070883,0.39494223876348156,1.4308659933450811,1.49581915347491,0.4076595706023893,-1.2939477605182126,0.973390369604027,0.840098155584022,-0.5185938843649213,0.10199556541041863,0.8500271871363656,1.1539670862850304,-1.0848994588674004,0.8384190457546357,0.6937565388763399,-1.410582449207463,0.0690709545571296,2.0081983789111573,-1.0046445131062767,0.7516523194583801,1.3873453206817357,0.0743343655411143,0.13912434845424487,-1.0530483619299962,-0.5065833576247132,1.0048844700796773,1.6869679168211584,-0.6326703784319785,-0.14584422183332776,-0.3012231557587274,0.9861559735709121,-1.3944268538824043,0.205266530140708,-0.3526912470632605,0.5139945168452866,0.6431761536884101,0.8533221153361462,0.3634162498544376,1.488558770362642,0.39118080162568675,-0.4064937772536102,-1.3424483605503834,-0.8484394801485337,0.442011011278428,0.5552676006967177,-1.1550992405702285,-0.045464650893156155,-0.22856117724941144,0.6310239049105584,1.443996432243972,-0.14437703793582427,-1.8093132042767839,-0.8965944258926464,-0.7955997958807984,-0.4820361239791199,0.5371266880897007,-0.23005501754629296,-0.24086175705188134,0.2530975143376481,-0.055343478317405104,-0.6591122798690139,1.2243412756761436,0.708139988592118,-0.11597112980702137,-0.8039079953833423,1.4002562252201896,0.8216116431913105,-0.8804732872490963,0.7570077363215513,-1.2470995107966565,-0.10568771334587965,0.4014953547386781,0.22971241053917285,-0.3461355642941567,-0.8004521108163732,1.0572143736336341,0.7315126139588002,1.0860112166901377],\"xaxis\":\"x5\",\"y\":[0.16782352183400587,0.624804262589385,0.20372352671812846,-1.0591108379188434,-1.1419991407057792,0.8822057456431932,-0.30702637099270114,-2.0571013104149785,0.14614864879810144,2.8239149412769016,-2.412974864103616,0.721557660743138,-1.3663833420655647,-0.4052192278722541,0.23495373968771768,-0.5455590082566745,-1.1389799602470527,-1.9385486162077734,0.8047110489285142,-0.2351182610922446,2.3322152150147737,0.8960012160713902,0.8218942950746454,-0.4482443216083756,0.19863172403022056,0.33279159985848933,-2.4384779622185095,1.193567194099597,0.06995951078451483,0.4072798445048463,0.8146048718814357,1.4685320619448519,1.241729574244285,-0.37101981322201927,0.19634382933661695,-1.2594514852704604,0.48904672630322243,0.31628022355690794,-1.815222945460142,0.5376001263469178,0.8928260980073432,0.12879019588005242,0.6852771649802917,0.9239529848193153,2.3823692123794133,1.8982715919903281,1.7308831412905878,1.1862688195828759,-1.848635962299935,-2.073596318572358,0.12343301517841951,-0.34208245724851927,0.001591497174670703,-0.7105462449113583,2.118870082413893,1.0323512051698571,-0.14904284624203912,-0.27697382952569033,-1.4030368172614824,0.8069435110865915,-0.48338082158192425,-0.16726241537412317,0.7750420639775881,0.8556546635018052,-0.5617163502227375,-1.1334010030114128,2.8353718723380155,1.1504533925555331,0.8432868744795676,0.9992348285333864,-1.3610373755414766,0.17205002153134172,0.3127027245372549,-2.533325046279571,1.0768939607725407,-0.568689730288132,1.1509542732856508,-0.3683126886930604,-1.8553771750534833,-0.767540898256376,-1.3840393947293608,0.3718860914407538,0.2847053629058795,-0.7893439575251157,-1.642169014129789,2.3274424411981007,1.2633183284786307,-0.2664500269888275,-1.1605565365059336,-0.36382358959654326,-0.5740259278524541,-0.9447372467663968,-1.4061398731208765,1.7657635056574208,0.042685599019628644,0.7527939395183922,0.1025381452497282,-1.0029596827640692,-1.3391133535210205,-2.431710577117348],\"yaxis\":\"y5\",\"type\":\"scatter\"},{\"histfunc\":\"count\",\"histnorm\":\"\",\"marker\":{\"color\":\"rgba(55, 128, 191, 1.0)\",\"line\":{\"color\":\"#4D5663\",\"width\":1.3}},\"name\":\"B\",\"nbinsx\":10,\"opacity\":0.8,\"orientation\":\"v\",\"x\":[0.16782352183400587,0.624804262589385,0.20372352671812846,-1.0591108379188434,-1.1419991407057792,0.8822057456431932,-0.30702637099270114,-2.0571013104149785,0.14614864879810144,2.8239149412769016,-2.412974864103616,0.721557660743138,-1.3663833420655647,-0.4052192278722541,0.23495373968771768,-0.5455590082566745,-1.1389799602470527,-1.9385486162077734,0.8047110489285142,-0.2351182610922446,2.3322152150147737,0.8960012160713902,0.8218942950746454,-0.4482443216083756,0.19863172403022056,0.33279159985848933,-2.4384779622185095,1.193567194099597,0.06995951078451483,0.4072798445048463,0.8146048718814357,1.4685320619448519,1.241729574244285,-0.37101981322201927,0.19634382933661695,-1.2594514852704604,0.48904672630322243,0.31628022355690794,-1.815222945460142,0.5376001263469178,0.8928260980073432,0.12879019588005242,0.6852771649802917,0.9239529848193153,2.3823692123794133,1.8982715919903281,1.7308831412905878,1.1862688195828759,-1.848635962299935,-2.073596318572358,0.12343301517841951,-0.34208245724851927,0.001591497174670703,-0.7105462449113583,2.118870082413893,1.0323512051698571,-0.14904284624203912,-0.27697382952569033,-1.4030368172614824,0.8069435110865915,-0.48338082158192425,-0.16726241537412317,0.7750420639775881,0.8556546635018052,-0.5617163502227375,-1.1334010030114128,2.8353718723380155,1.1504533925555331,0.8432868744795676,0.9992348285333864,-1.3610373755414766,0.17205002153134172,0.3127027245372549,-2.533325046279571,1.0768939607725407,-0.568689730288132,1.1509542732856508,-0.3683126886930604,-1.8553771750534833,-0.767540898256376,-1.3840393947293608,0.3718860914407538,0.2847053629058795,-0.7893439575251157,-1.642169014129789,2.3274424411981007,1.2633183284786307,-0.2664500269888275,-1.1605565365059336,-0.36382358959654326,-0.5740259278524541,-0.9447372467663968,-1.4061398731208765,1.7657635056574208,0.042685599019628644,0.7527939395183922,0.1025381452497282,-1.0029596827640692,-1.3391133535210205,-2.431710577117348],\"xaxis\":\"x6\",\"yaxis\":\"y6\",\"type\":\"histogram\"},{\"line\":{\"color\":\"rgba(128, 128, 128, 1.0)\",\"dash\":\"solid\",\"shape\":\"linear\",\"width\":1.3},\"marker\":{\"size\":2,\"symbol\":\"circle\"},\"mode\":\"markers\",\"name\":\"B\",\"text\":\"\",\"x\":[-0.03244389602055529,-1.376064723215646,-0.8936449852951962,2.246183247170497,-0.2842455411433604,0.24977220339714862,-1.3092079752731844,-1.125820862033277,0.7881123101596321,-0.17629478631106424,0.24791816263662367,0.024129800700381513,-0.0731598915189741,0.011826906834777438,0.25766620763392967,-0.2760160116474995,-0.12422601615338257,0.6304374772358293,2.0906771171790104,-1.0682789441846812,0.35542075055937694,0.07116119586324078,-0.5785308586685893,1.592617960631492,0.04851991365648021,-1.068886282058525,0.36282714372099184,0.00509787537875922,0.45830896155744966,0.887170281719946,0.9978917974896991,1.022752347260949,0.556188463426931,-0.23755417410411084,-0.3310855715715259,0.2714160532359191,-1.4189791792176458,-0.00042666021864642376,-0.06049170225579462,0.01194277380680795,1.5831380346753257,0.035250206851351266,1.417575706148856,-2.2127674994658983,0.24454590517047958,0.3281634508912985,-0.7267207272217229,-0.44970481157645426,-0.35327261841451457,-0.16458726099049978,-0.4593882381974047,0.7023722469065665,-1.2623134023136406,0.314987762048421,-0.9901882642956437,2.706367199353684,-0.6596398069513764,-0.31575679367085446,0.2032154447404938,-0.4200196391830115,0.9221453778359124,1.0085534461366155,-0.6556210132152722,1.1414216930155912,-1.9488020947921916,0.7355350611389138,0.9509715976708066,0.2482948033835417,-0.29254111057074667,-0.3220057608509072,-2.315980644514428,0.3057844356233016,-0.2712245431049181,-1.0915701524938453,-2.1015619677219455,0.01920940725249679,-0.28048236908173735,-0.10100878456696832,-0.6835423968236275,1.3714640280125716,-0.10764423590559576,1.8174456157836572,0.02236206198865971,0.062061313687635136,-0.009785031937426381,-0.7838538964590656,1.6255932335409693,0.5003115963691971,-0.25889661335579556,-0.9668628171957215,-0.01756446850677946,0.01921596143610028,-0.9626825014469726,0.8186790237590893,-1.1037901893201325,-0.12499750671327468,-1.6067080396214912,0.8909711217238272,-0.5237514547912062,-1.5974457559062116],\"xaxis\":\"x7\",\"y\":[0.16782352183400587,0.624804262589385,0.20372352671812846,-1.0591108379188434,-1.1419991407057792,0.8822057456431932,-0.30702637099270114,-2.0571013104149785,0.14614864879810144,2.8239149412769016,-2.412974864103616,0.721557660743138,-1.3663833420655647,-0.4052192278722541,0.23495373968771768,-0.5455590082566745,-1.1389799602470527,-1.9385486162077734,0.8047110489285142,-0.2351182610922446,2.3322152150147737,0.8960012160713902,0.8218942950746454,-0.4482443216083756,0.19863172403022056,0.33279159985848933,-2.4384779622185095,1.193567194099597,0.06995951078451483,0.4072798445048463,0.8146048718814357,1.4685320619448519,1.241729574244285,-0.37101981322201927,0.19634382933661695,-1.2594514852704604,0.48904672630322243,0.31628022355690794,-1.815222945460142,0.5376001263469178,0.8928260980073432,0.12879019588005242,0.6852771649802917,0.9239529848193153,2.3823692123794133,1.8982715919903281,1.7308831412905878,1.1862688195828759,-1.848635962299935,-2.073596318572358,0.12343301517841951,-0.34208245724851927,0.001591497174670703,-0.7105462449113583,2.118870082413893,1.0323512051698571,-0.14904284624203912,-0.27697382952569033,-1.4030368172614824,0.8069435110865915,-0.48338082158192425,-0.16726241537412317,0.7750420639775881,0.8556546635018052,-0.5617163502227375,-1.1334010030114128,2.8353718723380155,1.1504533925555331,0.8432868744795676,0.9992348285333864,-1.3610373755414766,0.17205002153134172,0.3127027245372549,-2.533325046279571,1.0768939607725407,-0.568689730288132,1.1509542732856508,-0.3683126886930604,-1.8553771750534833,-0.767540898256376,-1.3840393947293608,0.3718860914407538,0.2847053629058795,-0.7893439575251157,-1.642169014129789,2.3274424411981007,1.2633183284786307,-0.2664500269888275,-1.1605565365059336,-0.36382358959654326,-0.5740259278524541,-0.9447372467663968,-1.4061398731208765,1.7657635056574208,0.042685599019628644,0.7527939395183922,0.1025381452497282,-1.0029596827640692,-1.3391133535210205,-2.431710577117348],\"yaxis\":\"y7\",\"type\":\"scatter\"},{\"line\":{\"color\":\"rgba(128, 128, 128, 1.0)\",\"dash\":\"solid\",\"shape\":\"linear\",\"width\":1.3},\"marker\":{\"size\":2,\"symbol\":\"circle\"},\"mode\":\"markers\",\"name\":\"B\",\"text\":\"\",\"x\":[-1.1743782441565986,1.1782833648527276,1.5285790172040352,-0.2434144242919703,-0.4301588761425384,-0.7837164708704318,2.073423242544931,-0.2257065019732865,0.04025288020323026,-1.833822463665788,-0.2587243022625214,-0.6335293523645709,-1.5938225684918346,-1.9844992498676004,-2.2467059083481717,-1.1574783516368528,-1.4314297953207724,-0.5675189226657303,0.07328812335559368,0.7763500403084073,-0.04574480746821436,-0.9425064559799998,-0.8984776247702821,0.956115375095708,1.1249636326772186,0.18047759286331055,0.4834830977051666,1.1359849486831892,-1.23109749884796,-0.8350338429293566,-1.4041117937722885,-0.19222501951972754,0.4107617067354256,1.113296384171082,0.3542586508961774,0.04216726966998681,0.8337223455153439,0.8799374868623578,-0.30970768032124896,0.8135929649919327,-0.3474054726372615,1.434623693513677,1.2090274423416068,0.9776485795974024,-0.359336777779442,-0.7524142469475738,-1.0786195821151634,1.1441069081921416,-0.6438736200124546,-2.1811363529022243,2.749364643347722,-0.6376526405902072,0.4933127169085133,0.6407358994289105,1.9203355558496584,-0.5031870511468246,1.1902510739977927,-0.8522380402140213,-0.7994261211247916,-1.5676607716376543,0.5189353938974922,0.9418028876654798,-1.7933214038330763,-0.18300167329776737,-0.3623073647973699,1.7645851942714825,0.9158521128290925,-0.6610980358418276,0.5353690939854695,1.6614260596748263,-1.866332590645327,1.0251188630279735,-1.2434292901719175,1.3659799826491938,-0.02593510027533987,-0.6795213977682552,-1.2585533047693196,0.7800230311503399,0.1494552056184573,0.12657988727076194,0.13454202817400898,1.123746387394713,-0.5028693384267661,1.1632965799030452,-0.3649996949647845,-1.4981199619605614,-1.1455858537957884,-0.20965624480119005,-1.225845377033073,0.5358111916046665,1.7643937592782502,1.6013443242308194,1.4191392048939866,0.7218348489598841,-0.3219562479975362,0.10487503564293446,-0.23344503665794872,-0.08201562590525006,-0.10466154218617565,0.1053146185652273],\"xaxis\":\"x8\",\"y\":[0.16782352183400587,0.624804262589385,0.20372352671812846,-1.0591108379188434,-1.1419991407057792,0.8822057456431932,-0.30702637099270114,-2.0571013104149785,0.14614864879810144,2.8239149412769016,-2.412974864103616,0.721557660743138,-1.3663833420655647,-0.4052192278722541,0.23495373968771768,-0.5455590082566745,-1.1389799602470527,-1.9385486162077734,0.8047110489285142,-0.2351182610922446,2.3322152150147737,0.8960012160713902,0.8218942950746454,-0.4482443216083756,0.19863172403022056,0.33279159985848933,-2.4384779622185095,1.193567194099597,0.06995951078451483,0.4072798445048463,0.8146048718814357,1.4685320619448519,1.241729574244285,-0.37101981322201927,0.19634382933661695,-1.2594514852704604,0.48904672630322243,0.31628022355690794,-1.815222945460142,0.5376001263469178,0.8928260980073432,0.12879019588005242,0.6852771649802917,0.9239529848193153,2.3823692123794133,1.8982715919903281,1.7308831412905878,1.1862688195828759,-1.848635962299935,-2.073596318572358,0.12343301517841951,-0.34208245724851927,0.001591497174670703,-0.7105462449113583,2.118870082413893,1.0323512051698571,-0.14904284624203912,-0.27697382952569033,-1.4030368172614824,0.8069435110865915,-0.48338082158192425,-0.16726241537412317,0.7750420639775881,0.8556546635018052,-0.5617163502227375,-1.1334010030114128,2.8353718723380155,1.1504533925555331,0.8432868744795676,0.9992348285333864,-1.3610373755414766,0.17205002153134172,0.3127027245372549,-2.533325046279571,1.0768939607725407,-0.568689730288132,1.1509542732856508,-0.3683126886930604,-1.8553771750534833,-0.767540898256376,-1.3840393947293608,0.3718860914407538,0.2847053629058795,-0.7893439575251157,-1.642169014129789,2.3274424411981007,1.2633183284786307,-0.2664500269888275,-1.1605565365059336,-0.36382358959654326,-0.5740259278524541,-0.9447372467663968,-1.4061398731208765,1.7657635056574208,0.042685599019628644,0.7527939395183922,0.1025381452497282,-1.0029596827640692,-1.3391133535210205,-2.431710577117348],\"yaxis\":\"y8\",\"type\":\"scatter\"},{\"line\":{\"color\":\"rgba(128, 128, 128, 1.0)\",\"dash\":\"solid\",\"shape\":\"linear\",\"width\":1.3},\"marker\":{\"size\":2,\"symbol\":\"circle\"},\"mode\":\"markers\",\"name\":\"C\",\"text\":\"\",\"x\":[1.8546943094246786,0.7484318595969548,-1.3003802265817697,0.5466013635649044,0.5936748444947731,-1.8998908810208484,0.33721413564963915,1.1337712628923053,1.359082325911419,1.0243456616090953,-0.7769188276254685,0.15627448332439178,0.02909909907259362,0.5340802561947197,0.44166099876698245,0.07418337277071425,-1.2166485828944438,0.4704216470315535,0.1776738729336818,-0.9082445699203281,-0.5882378507295679,1.2566415972493183,-0.6219653660070883,0.39494223876348156,1.4308659933450811,1.49581915347491,0.4076595706023893,-1.2939477605182126,0.973390369604027,0.840098155584022,-0.5185938843649213,0.10199556541041863,0.8500271871363656,1.1539670862850304,-1.0848994588674004,0.8384190457546357,0.6937565388763399,-1.410582449207463,0.0690709545571296,2.0081983789111573,-1.0046445131062767,0.7516523194583801,1.3873453206817357,0.0743343655411143,0.13912434845424487,-1.0530483619299962,-0.5065833576247132,1.0048844700796773,1.6869679168211584,-0.6326703784319785,-0.14584422183332776,-0.3012231557587274,0.9861559735709121,-1.3944268538824043,0.205266530140708,-0.3526912470632605,0.5139945168452866,0.6431761536884101,0.8533221153361462,0.3634162498544376,1.488558770362642,0.39118080162568675,-0.4064937772536102,-1.3424483605503834,-0.8484394801485337,0.442011011278428,0.5552676006967177,-1.1550992405702285,-0.045464650893156155,-0.22856117724941144,0.6310239049105584,1.443996432243972,-0.14437703793582427,-1.8093132042767839,-0.8965944258926464,-0.7955997958807984,-0.4820361239791199,0.5371266880897007,-0.23005501754629296,-0.24086175705188134,0.2530975143376481,-0.055343478317405104,-0.6591122798690139,1.2243412756761436,0.708139988592118,-0.11597112980702137,-0.8039079953833423,1.4002562252201896,0.8216116431913105,-0.8804732872490963,0.7570077363215513,-1.2470995107966565,-0.10568771334587965,0.4014953547386781,0.22971241053917285,-0.3461355642941567,-0.8004521108163732,1.0572143736336341,0.7315126139588002,1.0860112166901377],\"xaxis\":\"x9\",\"y\":[-0.03244389602055529,-1.376064723215646,-0.8936449852951962,2.246183247170497,-0.2842455411433604,0.24977220339714862,-1.3092079752731844,-1.125820862033277,0.7881123101596321,-0.17629478631106424,0.24791816263662367,0.024129800700381513,-0.0731598915189741,0.011826906834777438,0.25766620763392967,-0.2760160116474995,-0.12422601615338257,0.6304374772358293,2.0906771171790104,-1.0682789441846812,0.35542075055937694,0.07116119586324078,-0.5785308586685893,1.592617960631492,0.04851991365648021,-1.068886282058525,0.36282714372099184,0.00509787537875922,0.45830896155744966,0.887170281719946,0.9978917974896991,1.022752347260949,0.556188463426931,-0.23755417410411084,-0.3310855715715259,0.2714160532359191,-1.4189791792176458,-0.00042666021864642376,-0.06049170225579462,0.01194277380680795,1.5831380346753257,0.035250206851351266,1.417575706148856,-2.2127674994658983,0.24454590517047958,0.3281634508912985,-0.7267207272217229,-0.44970481157645426,-0.35327261841451457,-0.16458726099049978,-0.4593882381974047,0.7023722469065665,-1.2623134023136406,0.314987762048421,-0.9901882642956437,2.706367199353684,-0.6596398069513764,-0.31575679367085446,0.2032154447404938,-0.4200196391830115,0.9221453778359124,1.0085534461366155,-0.6556210132152722,1.1414216930155912,-1.9488020947921916,0.7355350611389138,0.9509715976708066,0.2482948033835417,-0.29254111057074667,-0.3220057608509072,-2.315980644514428,0.3057844356233016,-0.2712245431049181,-1.0915701524938453,-2.1015619677219455,0.01920940725249679,-0.28048236908173735,-0.10100878456696832,-0.6835423968236275,1.3714640280125716,-0.10764423590559576,1.8174456157836572,0.02236206198865971,0.062061313687635136,-0.009785031937426381,-0.7838538964590656,1.6255932335409693,0.5003115963691971,-0.25889661335579556,-0.9668628171957215,-0.01756446850677946,0.01921596143610028,-0.9626825014469726,0.8186790237590893,-1.1037901893201325,-0.12499750671327468,-1.6067080396214912,0.8909711217238272,-0.5237514547912062,-1.5974457559062116],\"yaxis\":\"y9\",\"type\":\"scatter\"},{\"line\":{\"color\":\"rgba(128, 128, 128, 1.0)\",\"dash\":\"solid\",\"shape\":\"linear\",\"width\":1.3},\"marker\":{\"size\":2,\"symbol\":\"circle\"},\"mode\":\"markers\",\"name\":\"C\",\"text\":\"\",\"x\":[0.16782352183400587,0.624804262589385,0.20372352671812846,-1.0591108379188434,-1.1419991407057792,0.8822057456431932,-0.30702637099270114,-2.0571013104149785,0.14614864879810144,2.8239149412769016,-2.412974864103616,0.721557660743138,-1.3663833420655647,-0.4052192278722541,0.23495373968771768,-0.5455590082566745,-1.1389799602470527,-1.9385486162077734,0.8047110489285142,-0.2351182610922446,2.3322152150147737,0.8960012160713902,0.8218942950746454,-0.4482443216083756,0.19863172403022056,0.33279159985848933,-2.4384779622185095,1.193567194099597,0.06995951078451483,0.4072798445048463,0.8146048718814357,1.4685320619448519,1.241729574244285,-0.37101981322201927,0.19634382933661695,-1.2594514852704604,0.48904672630322243,0.31628022355690794,-1.815222945460142,0.5376001263469178,0.8928260980073432,0.12879019588005242,0.6852771649802917,0.9239529848193153,2.3823692123794133,1.8982715919903281,1.7308831412905878,1.1862688195828759,-1.848635962299935,-2.073596318572358,0.12343301517841951,-0.34208245724851927,0.001591497174670703,-0.7105462449113583,2.118870082413893,1.0323512051698571,-0.14904284624203912,-0.27697382952569033,-1.4030368172614824,0.8069435110865915,-0.48338082158192425,-0.16726241537412317,0.7750420639775881,0.8556546635018052,-0.5617163502227375,-1.1334010030114128,2.8353718723380155,1.1504533925555331,0.8432868744795676,0.9992348285333864,-1.3610373755414766,0.17205002153134172,0.3127027245372549,-2.533325046279571,1.0768939607725407,-0.568689730288132,1.1509542732856508,-0.3683126886930604,-1.8553771750534833,-0.767540898256376,-1.3840393947293608,0.3718860914407538,0.2847053629058795,-0.7893439575251157,-1.642169014129789,2.3274424411981007,1.2633183284786307,-0.2664500269888275,-1.1605565365059336,-0.36382358959654326,-0.5740259278524541,-0.9447372467663968,-1.4061398731208765,1.7657635056574208,0.042685599019628644,0.7527939395183922,0.1025381452497282,-1.0029596827640692,-1.3391133535210205,-2.431710577117348],\"xaxis\":\"x10\",\"y\":[-0.03244389602055529,-1.376064723215646,-0.8936449852951962,2.246183247170497,-0.2842455411433604,0.24977220339714862,-1.3092079752731844,-1.125820862033277,0.7881123101596321,-0.17629478631106424,0.24791816263662367,0.024129800700381513,-0.0731598915189741,0.011826906834777438,0.25766620763392967,-0.2760160116474995,-0.12422601615338257,0.6304374772358293,2.0906771171790104,-1.0682789441846812,0.35542075055937694,0.07116119586324078,-0.5785308586685893,1.592617960631492,0.04851991365648021,-1.068886282058525,0.36282714372099184,0.00509787537875922,0.45830896155744966,0.887170281719946,0.9978917974896991,1.022752347260949,0.556188463426931,-0.23755417410411084,-0.3310855715715259,0.2714160532359191,-1.4189791792176458,-0.00042666021864642376,-0.06049170225579462,0.01194277380680795,1.5831380346753257,0.035250206851351266,1.417575706148856,-2.2127674994658983,0.24454590517047958,0.3281634508912985,-0.7267207272217229,-0.44970481157645426,-0.35327261841451457,-0.16458726099049978,-0.4593882381974047,0.7023722469065665,-1.2623134023136406,0.314987762048421,-0.9901882642956437,2.706367199353684,-0.6596398069513764,-0.31575679367085446,0.2032154447404938,-0.4200196391830115,0.9221453778359124,1.0085534461366155,-0.6556210132152722,1.1414216930155912,-1.9488020947921916,0.7355350611389138,0.9509715976708066,0.2482948033835417,-0.29254111057074667,-0.3220057608509072,-2.315980644514428,0.3057844356233016,-0.2712245431049181,-1.0915701524938453,-2.1015619677219455,0.01920940725249679,-0.28048236908173735,-0.10100878456696832,-0.6835423968236275,1.3714640280125716,-0.10764423590559576,1.8174456157836572,0.02236206198865971,0.062061313687635136,-0.009785031937426381,-0.7838538964590656,1.6255932335409693,0.5003115963691971,-0.25889661335579556,-0.9668628171957215,-0.01756446850677946,0.01921596143610028,-0.9626825014469726,0.8186790237590893,-1.1037901893201325,-0.12499750671327468,-1.6067080396214912,0.8909711217238272,-0.5237514547912062,-1.5974457559062116],\"yaxis\":\"y10\",\"type\":\"scatter\"},{\"histfunc\":\"count\",\"histnorm\":\"\",\"marker\":{\"color\":\"rgba(50, 171, 96, 1.0)\",\"line\":{\"color\":\"#4D5663\",\"width\":1.3}},\"name\":\"C\",\"nbinsx\":10,\"opacity\":0.8,\"orientation\":\"v\",\"x\":[-0.03244389602055529,-1.376064723215646,-0.8936449852951962,2.246183247170497,-0.2842455411433604,0.24977220339714862,-1.3092079752731844,-1.125820862033277,0.7881123101596321,-0.17629478631106424,0.24791816263662367,0.024129800700381513,-0.0731598915189741,0.011826906834777438,0.25766620763392967,-0.2760160116474995,-0.12422601615338257,0.6304374772358293,2.0906771171790104,-1.0682789441846812,0.35542075055937694,0.07116119586324078,-0.5785308586685893,1.592617960631492,0.04851991365648021,-1.068886282058525,0.36282714372099184,0.00509787537875922,0.45830896155744966,0.887170281719946,0.9978917974896991,1.022752347260949,0.556188463426931,-0.23755417410411084,-0.3310855715715259,0.2714160532359191,-1.4189791792176458,-0.00042666021864642376,-0.06049170225579462,0.01194277380680795,1.5831380346753257,0.035250206851351266,1.417575706148856,-2.2127674994658983,0.24454590517047958,0.3281634508912985,-0.7267207272217229,-0.44970481157645426,-0.35327261841451457,-0.16458726099049978,-0.4593882381974047,0.7023722469065665,-1.2623134023136406,0.314987762048421,-0.9901882642956437,2.706367199353684,-0.6596398069513764,-0.31575679367085446,0.2032154447404938,-0.4200196391830115,0.9221453778359124,1.0085534461366155,-0.6556210132152722,1.1414216930155912,-1.9488020947921916,0.7355350611389138,0.9509715976708066,0.2482948033835417,-0.29254111057074667,-0.3220057608509072,-2.315980644514428,0.3057844356233016,-0.2712245431049181,-1.0915701524938453,-2.1015619677219455,0.01920940725249679,-0.28048236908173735,-0.10100878456696832,-0.6835423968236275,1.3714640280125716,-0.10764423590559576,1.8174456157836572,0.02236206198865971,0.062061313687635136,-0.009785031937426381,-0.7838538964590656,1.6255932335409693,0.5003115963691971,-0.25889661335579556,-0.9668628171957215,-0.01756446850677946,0.01921596143610028,-0.9626825014469726,0.8186790237590893,-1.1037901893201325,-0.12499750671327468,-1.6067080396214912,0.8909711217238272,-0.5237514547912062,-1.5974457559062116],\"xaxis\":\"x11\",\"yaxis\":\"y11\",\"type\":\"histogram\"},{\"line\":{\"color\":\"rgba(128, 128, 128, 1.0)\",\"dash\":\"solid\",\"shape\":\"linear\",\"width\":1.3},\"marker\":{\"size\":2,\"symbol\":\"circle\"},\"mode\":\"markers\",\"name\":\"C\",\"text\":\"\",\"x\":[-1.1743782441565986,1.1782833648527276,1.5285790172040352,-0.2434144242919703,-0.4301588761425384,-0.7837164708704318,2.073423242544931,-0.2257065019732865,0.04025288020323026,-1.833822463665788,-0.2587243022625214,-0.6335293523645709,-1.5938225684918346,-1.9844992498676004,-2.2467059083481717,-1.1574783516368528,-1.4314297953207724,-0.5675189226657303,0.07328812335559368,0.7763500403084073,-0.04574480746821436,-0.9425064559799998,-0.8984776247702821,0.956115375095708,1.1249636326772186,0.18047759286331055,0.4834830977051666,1.1359849486831892,-1.23109749884796,-0.8350338429293566,-1.4041117937722885,-0.19222501951972754,0.4107617067354256,1.113296384171082,0.3542586508961774,0.04216726966998681,0.8337223455153439,0.8799374868623578,-0.30970768032124896,0.8135929649919327,-0.3474054726372615,1.434623693513677,1.2090274423416068,0.9776485795974024,-0.359336777779442,-0.7524142469475738,-1.0786195821151634,1.1441069081921416,-0.6438736200124546,-2.1811363529022243,2.749364643347722,-0.6376526405902072,0.4933127169085133,0.6407358994289105,1.9203355558496584,-0.5031870511468246,1.1902510739977927,-0.8522380402140213,-0.7994261211247916,-1.5676607716376543,0.5189353938974922,0.9418028876654798,-1.7933214038330763,-0.18300167329776737,-0.3623073647973699,1.7645851942714825,0.9158521128290925,-0.6610980358418276,0.5353690939854695,1.6614260596748263,-1.866332590645327,1.0251188630279735,-1.2434292901719175,1.3659799826491938,-0.02593510027533987,-0.6795213977682552,-1.2585533047693196,0.7800230311503399,0.1494552056184573,0.12657988727076194,0.13454202817400898,1.123746387394713,-0.5028693384267661,1.1632965799030452,-0.3649996949647845,-1.4981199619605614,-1.1455858537957884,-0.20965624480119005,-1.225845377033073,0.5358111916046665,1.7643937592782502,1.6013443242308194,1.4191392048939866,0.7218348489598841,-0.3219562479975362,0.10487503564293446,-0.23344503665794872,-0.08201562590525006,-0.10466154218617565,0.1053146185652273],\"xaxis\":\"x12\",\"y\":[-0.03244389602055529,-1.376064723215646,-0.8936449852951962,2.246183247170497,-0.2842455411433604,0.24977220339714862,-1.3092079752731844,-1.125820862033277,0.7881123101596321,-0.17629478631106424,0.24791816263662367,0.024129800700381513,-0.0731598915189741,0.011826906834777438,0.25766620763392967,-0.2760160116474995,-0.12422601615338257,0.6304374772358293,2.0906771171790104,-1.0682789441846812,0.35542075055937694,0.07116119586324078,-0.5785308586685893,1.592617960631492,0.04851991365648021,-1.068886282058525,0.36282714372099184,0.00509787537875922,0.45830896155744966,0.887170281719946,0.9978917974896991,1.022752347260949,0.556188463426931,-0.23755417410411084,-0.3310855715715259,0.2714160532359191,-1.4189791792176458,-0.00042666021864642376,-0.06049170225579462,0.01194277380680795,1.5831380346753257,0.035250206851351266,1.417575706148856,-2.2127674994658983,0.24454590517047958,0.3281634508912985,-0.7267207272217229,-0.44970481157645426,-0.35327261841451457,-0.16458726099049978,-0.4593882381974047,0.7023722469065665,-1.2623134023136406,0.314987762048421,-0.9901882642956437,2.706367199353684,-0.6596398069513764,-0.31575679367085446,0.2032154447404938,-0.4200196391830115,0.9221453778359124,1.0085534461366155,-0.6556210132152722,1.1414216930155912,-1.9488020947921916,0.7355350611389138,0.9509715976708066,0.2482948033835417,-0.29254111057074667,-0.3220057608509072,-2.315980644514428,0.3057844356233016,-0.2712245431049181,-1.0915701524938453,-2.1015619677219455,0.01920940725249679,-0.28048236908173735,-0.10100878456696832,-0.6835423968236275,1.3714640280125716,-0.10764423590559576,1.8174456157836572,0.02236206198865971,0.062061313687635136,-0.009785031937426381,-0.7838538964590656,1.6255932335409693,0.5003115963691971,-0.25889661335579556,-0.9668628171957215,-0.01756446850677946,0.01921596143610028,-0.9626825014469726,0.8186790237590893,-1.1037901893201325,-0.12499750671327468,-1.6067080396214912,0.8909711217238272,-0.5237514547912062,-1.5974457559062116],\"yaxis\":\"y12\",\"type\":\"scatter\"},{\"line\":{\"color\":\"rgba(128, 128, 128, 1.0)\",\"dash\":\"solid\",\"shape\":\"linear\",\"width\":1.3},\"marker\":{\"size\":2,\"symbol\":\"circle\"},\"mode\":\"markers\",\"name\":\"D\",\"text\":\"\",\"x\":[1.8546943094246786,0.7484318595969548,-1.3003802265817697,0.5466013635649044,0.5936748444947731,-1.8998908810208484,0.33721413564963915,1.1337712628923053,1.359082325911419,1.0243456616090953,-0.7769188276254685,0.15627448332439178,0.02909909907259362,0.5340802561947197,0.44166099876698245,0.07418337277071425,-1.2166485828944438,0.4704216470315535,0.1776738729336818,-0.9082445699203281,-0.5882378507295679,1.2566415972493183,-0.6219653660070883,0.39494223876348156,1.4308659933450811,1.49581915347491,0.4076595706023893,-1.2939477605182126,0.973390369604027,0.840098155584022,-0.5185938843649213,0.10199556541041863,0.8500271871363656,1.1539670862850304,-1.0848994588674004,0.8384190457546357,0.6937565388763399,-1.410582449207463,0.0690709545571296,2.0081983789111573,-1.0046445131062767,0.7516523194583801,1.3873453206817357,0.0743343655411143,0.13912434845424487,-1.0530483619299962,-0.5065833576247132,1.0048844700796773,1.6869679168211584,-0.6326703784319785,-0.14584422183332776,-0.3012231557587274,0.9861559735709121,-1.3944268538824043,0.205266530140708,-0.3526912470632605,0.5139945168452866,0.6431761536884101,0.8533221153361462,0.3634162498544376,1.488558770362642,0.39118080162568675,-0.4064937772536102,-1.3424483605503834,-0.8484394801485337,0.442011011278428,0.5552676006967177,-1.1550992405702285,-0.045464650893156155,-0.22856117724941144,0.6310239049105584,1.443996432243972,-0.14437703793582427,-1.8093132042767839,-0.8965944258926464,-0.7955997958807984,-0.4820361239791199,0.5371266880897007,-0.23005501754629296,-0.24086175705188134,0.2530975143376481,-0.055343478317405104,-0.6591122798690139,1.2243412756761436,0.708139988592118,-0.11597112980702137,-0.8039079953833423,1.4002562252201896,0.8216116431913105,-0.8804732872490963,0.7570077363215513,-1.2470995107966565,-0.10568771334587965,0.4014953547386781,0.22971241053917285,-0.3461355642941567,-0.8004521108163732,1.0572143736336341,0.7315126139588002,1.0860112166901377],\"xaxis\":\"x13\",\"y\":[-1.1743782441565986,1.1782833648527276,1.5285790172040352,-0.2434144242919703,-0.4301588761425384,-0.7837164708704318,2.073423242544931,-0.2257065019732865,0.04025288020323026,-1.833822463665788,-0.2587243022625214,-0.6335293523645709,-1.5938225684918346,-1.9844992498676004,-2.2467059083481717,-1.1574783516368528,-1.4314297953207724,-0.5675189226657303,0.07328812335559368,0.7763500403084073,-0.04574480746821436,-0.9425064559799998,-0.8984776247702821,0.956115375095708,1.1249636326772186,0.18047759286331055,0.4834830977051666,1.1359849486831892,-1.23109749884796,-0.8350338429293566,-1.4041117937722885,-0.19222501951972754,0.4107617067354256,1.113296384171082,0.3542586508961774,0.04216726966998681,0.8337223455153439,0.8799374868623578,-0.30970768032124896,0.8135929649919327,-0.3474054726372615,1.434623693513677,1.2090274423416068,0.9776485795974024,-0.359336777779442,-0.7524142469475738,-1.0786195821151634,1.1441069081921416,-0.6438736200124546,-2.1811363529022243,2.749364643347722,-0.6376526405902072,0.4933127169085133,0.6407358994289105,1.9203355558496584,-0.5031870511468246,1.1902510739977927,-0.8522380402140213,-0.7994261211247916,-1.5676607716376543,0.5189353938974922,0.9418028876654798,-1.7933214038330763,-0.18300167329776737,-0.3623073647973699,1.7645851942714825,0.9158521128290925,-0.6610980358418276,0.5353690939854695,1.6614260596748263,-1.866332590645327,1.0251188630279735,-1.2434292901719175,1.3659799826491938,-0.02593510027533987,-0.6795213977682552,-1.2585533047693196,0.7800230311503399,0.1494552056184573,0.12657988727076194,0.13454202817400898,1.123746387394713,-0.5028693384267661,1.1632965799030452,-0.3649996949647845,-1.4981199619605614,-1.1455858537957884,-0.20965624480119005,-1.225845377033073,0.5358111916046665,1.7643937592782502,1.6013443242308194,1.4191392048939866,0.7218348489598841,-0.3219562479975362,0.10487503564293446,-0.23344503665794872,-0.08201562590525006,-0.10466154218617565,0.1053146185652273],\"yaxis\":\"y13\",\"type\":\"scatter\"},{\"line\":{\"color\":\"rgba(128, 128, 128, 1.0)\",\"dash\":\"solid\",\"shape\":\"linear\",\"width\":1.3},\"marker\":{\"size\":2,\"symbol\":\"circle\"},\"mode\":\"markers\",\"name\":\"D\",\"text\":\"\",\"x\":[0.16782352183400587,0.624804262589385,0.20372352671812846,-1.0591108379188434,-1.1419991407057792,0.8822057456431932,-0.30702637099270114,-2.0571013104149785,0.14614864879810144,2.8239149412769016,-2.412974864103616,0.721557660743138,-1.3663833420655647,-0.4052192278722541,0.23495373968771768,-0.5455590082566745,-1.1389799602470527,-1.9385486162077734,0.8047110489285142,-0.2351182610922446,2.3322152150147737,0.8960012160713902,0.8218942950746454,-0.4482443216083756,0.19863172403022056,0.33279159985848933,-2.4384779622185095,1.193567194099597,0.06995951078451483,0.4072798445048463,0.8146048718814357,1.4685320619448519,1.241729574244285,-0.37101981322201927,0.19634382933661695,-1.2594514852704604,0.48904672630322243,0.31628022355690794,-1.815222945460142,0.5376001263469178,0.8928260980073432,0.12879019588005242,0.6852771649802917,0.9239529848193153,2.3823692123794133,1.8982715919903281,1.7308831412905878,1.1862688195828759,-1.848635962299935,-2.073596318572358,0.12343301517841951,-0.34208245724851927,0.001591497174670703,-0.7105462449113583,2.118870082413893,1.0323512051698571,-0.14904284624203912,-0.27697382952569033,-1.4030368172614824,0.8069435110865915,-0.48338082158192425,-0.16726241537412317,0.7750420639775881,0.8556546635018052,-0.5617163502227375,-1.1334010030114128,2.8353718723380155,1.1504533925555331,0.8432868744795676,0.9992348285333864,-1.3610373755414766,0.17205002153134172,0.3127027245372549,-2.533325046279571,1.0768939607725407,-0.568689730288132,1.1509542732856508,-0.3683126886930604,-1.8553771750534833,-0.767540898256376,-1.3840393947293608,0.3718860914407538,0.2847053629058795,-0.7893439575251157,-1.642169014129789,2.3274424411981007,1.2633183284786307,-0.2664500269888275,-1.1605565365059336,-0.36382358959654326,-0.5740259278524541,-0.9447372467663968,-1.4061398731208765,1.7657635056574208,0.042685599019628644,0.7527939395183922,0.1025381452497282,-1.0029596827640692,-1.3391133535210205,-2.431710577117348],\"xaxis\":\"x14\",\"y\":[-1.1743782441565986,1.1782833648527276,1.5285790172040352,-0.2434144242919703,-0.4301588761425384,-0.7837164708704318,2.073423242544931,-0.2257065019732865,0.04025288020323026,-1.833822463665788,-0.2587243022625214,-0.6335293523645709,-1.5938225684918346,-1.9844992498676004,-2.2467059083481717,-1.1574783516368528,-1.4314297953207724,-0.5675189226657303,0.07328812335559368,0.7763500403084073,-0.04574480746821436,-0.9425064559799998,-0.8984776247702821,0.956115375095708,1.1249636326772186,0.18047759286331055,0.4834830977051666,1.1359849486831892,-1.23109749884796,-0.8350338429293566,-1.4041117937722885,-0.19222501951972754,0.4107617067354256,1.113296384171082,0.3542586508961774,0.04216726966998681,0.8337223455153439,0.8799374868623578,-0.30970768032124896,0.8135929649919327,-0.3474054726372615,1.434623693513677,1.2090274423416068,0.9776485795974024,-0.359336777779442,-0.7524142469475738,-1.0786195821151634,1.1441069081921416,-0.6438736200124546,-2.1811363529022243,2.749364643347722,-0.6376526405902072,0.4933127169085133,0.6407358994289105,1.9203355558496584,-0.5031870511468246,1.1902510739977927,-0.8522380402140213,-0.7994261211247916,-1.5676607716376543,0.5189353938974922,0.9418028876654798,-1.7933214038330763,-0.18300167329776737,-0.3623073647973699,1.7645851942714825,0.9158521128290925,-0.6610980358418276,0.5353690939854695,1.6614260596748263,-1.866332590645327,1.0251188630279735,-1.2434292901719175,1.3659799826491938,-0.02593510027533987,-0.6795213977682552,-1.2585533047693196,0.7800230311503399,0.1494552056184573,0.12657988727076194,0.13454202817400898,1.123746387394713,-0.5028693384267661,1.1632965799030452,-0.3649996949647845,-1.4981199619605614,-1.1455858537957884,-0.20965624480119005,-1.225845377033073,0.5358111916046665,1.7643937592782502,1.6013443242308194,1.4191392048939866,0.7218348489598841,-0.3219562479975362,0.10487503564293446,-0.23344503665794872,-0.08201562590525006,-0.10466154218617565,0.1053146185652273],\"yaxis\":\"y14\",\"type\":\"scatter\"},{\"line\":{\"color\":\"rgba(128, 128, 128, 1.0)\",\"dash\":\"solid\",\"shape\":\"linear\",\"width\":1.3},\"marker\":{\"size\":2,\"symbol\":\"circle\"},\"mode\":\"markers\",\"name\":\"D\",\"text\":\"\",\"x\":[-0.03244389602055529,-1.376064723215646,-0.8936449852951962,2.246183247170497,-0.2842455411433604,0.24977220339714862,-1.3092079752731844,-1.125820862033277,0.7881123101596321,-0.17629478631106424,0.24791816263662367,0.024129800700381513,-0.0731598915189741,0.011826906834777438,0.25766620763392967,-0.2760160116474995,-0.12422601615338257,0.6304374772358293,2.0906771171790104,-1.0682789441846812,0.35542075055937694,0.07116119586324078,-0.5785308586685893,1.592617960631492,0.04851991365648021,-1.068886282058525,0.36282714372099184,0.00509787537875922,0.45830896155744966,0.887170281719946,0.9978917974896991,1.022752347260949,0.556188463426931,-0.23755417410411084,-0.3310855715715259,0.2714160532359191,-1.4189791792176458,-0.00042666021864642376,-0.06049170225579462,0.01194277380680795,1.5831380346753257,0.035250206851351266,1.417575706148856,-2.2127674994658983,0.24454590517047958,0.3281634508912985,-0.7267207272217229,-0.44970481157645426,-0.35327261841451457,-0.16458726099049978,-0.4593882381974047,0.7023722469065665,-1.2623134023136406,0.314987762048421,-0.9901882642956437,2.706367199353684,-0.6596398069513764,-0.31575679367085446,0.2032154447404938,-0.4200196391830115,0.9221453778359124,1.0085534461366155,-0.6556210132152722,1.1414216930155912,-1.9488020947921916,0.7355350611389138,0.9509715976708066,0.2482948033835417,-0.29254111057074667,-0.3220057608509072,-2.315980644514428,0.3057844356233016,-0.2712245431049181,-1.0915701524938453,-2.1015619677219455,0.01920940725249679,-0.28048236908173735,-0.10100878456696832,-0.6835423968236275,1.3714640280125716,-0.10764423590559576,1.8174456157836572,0.02236206198865971,0.062061313687635136,-0.009785031937426381,-0.7838538964590656,1.6255932335409693,0.5003115963691971,-0.25889661335579556,-0.9668628171957215,-0.01756446850677946,0.01921596143610028,-0.9626825014469726,0.8186790237590893,-1.1037901893201325,-0.12499750671327468,-1.6067080396214912,0.8909711217238272,-0.5237514547912062,-1.5974457559062116],\"xaxis\":\"x15\",\"y\":[-1.1743782441565986,1.1782833648527276,1.5285790172040352,-0.2434144242919703,-0.4301588761425384,-0.7837164708704318,2.073423242544931,-0.2257065019732865,0.04025288020323026,-1.833822463665788,-0.2587243022625214,-0.6335293523645709,-1.5938225684918346,-1.9844992498676004,-2.2467059083481717,-1.1574783516368528,-1.4314297953207724,-0.5675189226657303,0.07328812335559368,0.7763500403084073,-0.04574480746821436,-0.9425064559799998,-0.8984776247702821,0.956115375095708,1.1249636326772186,0.18047759286331055,0.4834830977051666,1.1359849486831892,-1.23109749884796,-0.8350338429293566,-1.4041117937722885,-0.19222501951972754,0.4107617067354256,1.113296384171082,0.3542586508961774,0.04216726966998681,0.8337223455153439,0.8799374868623578,-0.30970768032124896,0.8135929649919327,-0.3474054726372615,1.434623693513677,1.2090274423416068,0.9776485795974024,-0.359336777779442,-0.7524142469475738,-1.0786195821151634,1.1441069081921416,-0.6438736200124546,-2.1811363529022243,2.749364643347722,-0.6376526405902072,0.4933127169085133,0.6407358994289105,1.9203355558496584,-0.5031870511468246,1.1902510739977927,-0.8522380402140213,-0.7994261211247916,-1.5676607716376543,0.5189353938974922,0.9418028876654798,-1.7933214038330763,-0.18300167329776737,-0.3623073647973699,1.7645851942714825,0.9158521128290925,-0.6610980358418276,0.5353690939854695,1.6614260596748263,-1.866332590645327,1.0251188630279735,-1.2434292901719175,1.3659799826491938,-0.02593510027533987,-0.6795213977682552,-1.2585533047693196,0.7800230311503399,0.1494552056184573,0.12657988727076194,0.13454202817400898,1.123746387394713,-0.5028693384267661,1.1632965799030452,-0.3649996949647845,-1.4981199619605614,-1.1455858537957884,-0.20965624480119005,-1.225845377033073,0.5358111916046665,1.7643937592782502,1.6013443242308194,1.4191392048939866,0.7218348489598841,-0.3219562479975362,0.10487503564293446,-0.23344503665794872,-0.08201562590525006,-0.10466154218617565,0.1053146185652273],\"yaxis\":\"y15\",\"type\":\"scatter\"},{\"histfunc\":\"count\",\"histnorm\":\"\",\"marker\":{\"color\":\"rgba(128, 0, 128, 1.0)\",\"line\":{\"color\":\"#4D5663\",\"width\":1.3}},\"name\":\"D\",\"nbinsx\":10,\"opacity\":0.8,\"orientation\":\"v\",\"x\":[-1.1743782441565986,1.1782833648527276,1.5285790172040352,-0.2434144242919703,-0.4301588761425384,-0.7837164708704318,2.073423242544931,-0.2257065019732865,0.04025288020323026,-1.833822463665788,-0.2587243022625214,-0.6335293523645709,-1.5938225684918346,-1.9844992498676004,-2.2467059083481717,-1.1574783516368528,-1.4314297953207724,-0.5675189226657303,0.07328812335559368,0.7763500403084073,-0.04574480746821436,-0.9425064559799998,-0.8984776247702821,0.956115375095708,1.1249636326772186,0.18047759286331055,0.4834830977051666,1.1359849486831892,-1.23109749884796,-0.8350338429293566,-1.4041117937722885,-0.19222501951972754,0.4107617067354256,1.113296384171082,0.3542586508961774,0.04216726966998681,0.8337223455153439,0.8799374868623578,-0.30970768032124896,0.8135929649919327,-0.3474054726372615,1.434623693513677,1.2090274423416068,0.9776485795974024,-0.359336777779442,-0.7524142469475738,-1.0786195821151634,1.1441069081921416,-0.6438736200124546,-2.1811363529022243,2.749364643347722,-0.6376526405902072,0.4933127169085133,0.6407358994289105,1.9203355558496584,-0.5031870511468246,1.1902510739977927,-0.8522380402140213,-0.7994261211247916,-1.5676607716376543,0.5189353938974922,0.9418028876654798,-1.7933214038330763,-0.18300167329776737,-0.3623073647973699,1.7645851942714825,0.9158521128290925,-0.6610980358418276,0.5353690939854695,1.6614260596748263,-1.866332590645327,1.0251188630279735,-1.2434292901719175,1.3659799826491938,-0.02593510027533987,-0.6795213977682552,-1.2585533047693196,0.7800230311503399,0.1494552056184573,0.12657988727076194,0.13454202817400898,1.123746387394713,-0.5028693384267661,1.1632965799030452,-0.3649996949647845,-1.4981199619605614,-1.1455858537957884,-0.20965624480119005,-1.225845377033073,0.5358111916046665,1.7643937592782502,1.6013443242308194,1.4191392048939866,0.7218348489598841,-0.3219562479975362,0.10487503564293446,-0.23344503665794872,-0.08201562590525006,-0.10466154218617565,0.1053146185652273],\"xaxis\":\"x16\",\"yaxis\":\"y16\",\"type\":\"histogram\"}],                        {\"bargap\":0.02,\"legend\":{\"bgcolor\":\"#F5F6F9\",\"font\":{\"color\":\"#4D5663\"}},\"paper_bgcolor\":\"#F5F6F9\",\"plot_bgcolor\":\"#F5F6F9\",\"showlegend\":false,\"template\":{\"data\":{\"barpolar\":[{\"marker\":{\"line\":{\"color\":\"#E5ECF6\",\"width\":0.5},\"pattern\":{\"fillmode\":\"overlay\",\"size\":10,\"solidity\":0.2}},\"type\":\"barpolar\"}],\"bar\":[{\"error_x\":{\"color\":\"#2a3f5f\"},\"error_y\":{\"color\":\"#2a3f5f\"},\"marker\":{\"line\":{\"color\":\"#E5ECF6\",\"width\":0.5},\"pattern\":{\"fillmode\":\"overlay\",\"size\":10,\"solidity\":0.2}},\"type\":\"bar\"}],\"carpet\":[{\"aaxis\":{\"endlinecolor\":\"#2a3f5f\",\"gridcolor\":\"white\",\"linecolor\":\"white\",\"minorgridcolor\":\"white\",\"startlinecolor\":\"#2a3f5f\"},\"baxis\":{\"endlinecolor\":\"#2a3f5f\",\"gridcolor\":\"white\",\"linecolor\":\"white\",\"minorgridcolor\":\"white\",\"startlinecolor\":\"#2a3f5f\"},\"type\":\"carpet\"}],\"choropleth\":[{\"colorbar\":{\"outlinewidth\":0,\"ticks\":\"\"},\"type\":\"choropleth\"}],\"contourcarpet\":[{\"colorbar\":{\"outlinewidth\":0,\"ticks\":\"\"},\"type\":\"contourcarpet\"}],\"contour\":[{\"colorbar\":{\"outlinewidth\":0,\"ticks\":\"\"},\"colorscale\":[[0.0,\"#0d0887\"],[0.1111111111111111,\"#46039f\"],[0.2222222222222222,\"#7201a8\"],[0.3333333333333333,\"#9c179e\"],[0.4444444444444444,\"#bd3786\"],[0.5555555555555556,\"#d8576b\"],[0.6666666666666666,\"#ed7953\"],[0.7777777777777778,\"#fb9f3a\"],[0.8888888888888888,\"#fdca26\"],[1.0,\"#f0f921\"]],\"type\":\"contour\"}],\"heatmapgl\":[{\"colorbar\":{\"outlinewidth\":0,\"ticks\":\"\"},\"colorscale\":[[0.0,\"#0d0887\"],[0.1111111111111111,\"#46039f\"],[0.2222222222222222,\"#7201a8\"],[0.3333333333333333,\"#9c179e\"],[0.4444444444444444,\"#bd3786\"],[0.5555555555555556,\"#d8576b\"],[0.6666666666666666,\"#ed7953\"],[0.7777777777777778,\"#fb9f3a\"],[0.8888888888888888,\"#fdca26\"],[1.0,\"#f0f921\"]],\"type\":\"heatmapgl\"}],\"heatmap\":[{\"colorbar\":{\"outlinewidth\":0,\"ticks\":\"\"},\"colorscale\":[[0.0,\"#0d0887\"],[0.1111111111111111,\"#46039f\"],[0.2222222222222222,\"#7201a8\"],[0.3333333333333333,\"#9c179e\"],[0.4444444444444444,\"#bd3786\"],[0.5555555555555556,\"#d8576b\"],[0.6666666666666666,\"#ed7953\"],[0.7777777777777778,\"#fb9f3a\"],[0.8888888888888888,\"#fdca26\"],[1.0,\"#f0f921\"]],\"type\":\"heatmap\"}],\"histogram2dcontour\":[{\"colorbar\":{\"outlinewidth\":0,\"ticks\":\"\"},\"colorscale\":[[0.0,\"#0d0887\"],[0.1111111111111111,\"#46039f\"],[0.2222222222222222,\"#7201a8\"],[0.3333333333333333,\"#9c179e\"],[0.4444444444444444,\"#bd3786\"],[0.5555555555555556,\"#d8576b\"],[0.6666666666666666,\"#ed7953\"],[0.7777777777777778,\"#fb9f3a\"],[0.8888888888888888,\"#fdca26\"],[1.0,\"#f0f921\"]],\"type\":\"histogram2dcontour\"}],\"histogram2d\":[{\"colorbar\":{\"outlinewidth\":0,\"ticks\":\"\"},\"colorscale\":[[0.0,\"#0d0887\"],[0.1111111111111111,\"#46039f\"],[0.2222222222222222,\"#7201a8\"],[0.3333333333333333,\"#9c179e\"],[0.4444444444444444,\"#bd3786\"],[0.5555555555555556,\"#d8576b\"],[0.6666666666666666,\"#ed7953\"],[0.7777777777777778,\"#fb9f3a\"],[0.8888888888888888,\"#fdca26\"],[1.0,\"#f0f921\"]],\"type\":\"histogram2d\"}],\"histogram\":[{\"marker\":{\"pattern\":{\"fillmode\":\"overlay\",\"size\":10,\"solidity\":0.2}},\"type\":\"histogram\"}],\"mesh3d\":[{\"colorbar\":{\"outlinewidth\":0,\"ticks\":\"\"},\"type\":\"mesh3d\"}],\"parcoords\":[{\"line\":{\"colorbar\":{\"outlinewidth\":0,\"ticks\":\"\"}},\"type\":\"parcoords\"}],\"pie\":[{\"automargin\":true,\"type\":\"pie\"}],\"scatter3d\":[{\"line\":{\"colorbar\":{\"outlinewidth\":0,\"ticks\":\"\"}},\"marker\":{\"colorbar\":{\"outlinewidth\":0,\"ticks\":\"\"}},\"type\":\"scatter3d\"}],\"scattercarpet\":[{\"marker\":{\"colorbar\":{\"outlinewidth\":0,\"ticks\":\"\"}},\"type\":\"scattercarpet\"}],\"scattergeo\":[{\"marker\":{\"colorbar\":{\"outlinewidth\":0,\"ticks\":\"\"}},\"type\":\"scattergeo\"}],\"scattergl\":[{\"marker\":{\"colorbar\":{\"outlinewidth\":0,\"ticks\":\"\"}},\"type\":\"scattergl\"}],\"scattermapbox\":[{\"marker\":{\"colorbar\":{\"outlinewidth\":0,\"ticks\":\"\"}},\"type\":\"scattermapbox\"}],\"scatterpolargl\":[{\"marker\":{\"colorbar\":{\"outlinewidth\":0,\"ticks\":\"\"}},\"type\":\"scatterpolargl\"}],\"scatterpolar\":[{\"marker\":{\"colorbar\":{\"outlinewidth\":0,\"ticks\":\"\"}},\"type\":\"scatterpolar\"}],\"scatter\":[{\"marker\":{\"colorbar\":{\"outlinewidth\":0,\"ticks\":\"\"}},\"type\":\"scatter\"}],\"scatterternary\":[{\"marker\":{\"colorbar\":{\"outlinewidth\":0,\"ticks\":\"\"}},\"type\":\"scatterternary\"}],\"surface\":[{\"colorbar\":{\"outlinewidth\":0,\"ticks\":\"\"},\"colorscale\":[[0.0,\"#0d0887\"],[0.1111111111111111,\"#46039f\"],[0.2222222222222222,\"#7201a8\"],[0.3333333333333333,\"#9c179e\"],[0.4444444444444444,\"#bd3786\"],[0.5555555555555556,\"#d8576b\"],[0.6666666666666666,\"#ed7953\"],[0.7777777777777778,\"#fb9f3a\"],[0.8888888888888888,\"#fdca26\"],[1.0,\"#f0f921\"]],\"type\":\"surface\"}],\"table\":[{\"cells\":{\"fill\":{\"color\":\"#EBF0F8\"},\"line\":{\"color\":\"white\"}},\"header\":{\"fill\":{\"color\":\"#C8D4E3\"},\"line\":{\"color\":\"white\"}},\"type\":\"table\"}]},\"layout\":{\"annotationdefaults\":{\"arrowcolor\":\"#2a3f5f\",\"arrowhead\":0,\"arrowwidth\":1},\"autotypenumbers\":\"strict\",\"coloraxis\":{\"colorbar\":{\"outlinewidth\":0,\"ticks\":\"\"}},\"colorscale\":{\"diverging\":[[0,\"#8e0152\"],[0.1,\"#c51b7d\"],[0.2,\"#de77ae\"],[0.3,\"#f1b6da\"],[0.4,\"#fde0ef\"],[0.5,\"#f7f7f7\"],[0.6,\"#e6f5d0\"],[0.7,\"#b8e186\"],[0.8,\"#7fbc41\"],[0.9,\"#4d9221\"],[1,\"#276419\"]],\"sequential\":[[0.0,\"#0d0887\"],[0.1111111111111111,\"#46039f\"],[0.2222222222222222,\"#7201a8\"],[0.3333333333333333,\"#9c179e\"],[0.4444444444444444,\"#bd3786\"],[0.5555555555555556,\"#d8576b\"],[0.6666666666666666,\"#ed7953\"],[0.7777777777777778,\"#fb9f3a\"],[0.8888888888888888,\"#fdca26\"],[1.0,\"#f0f921\"]],\"sequentialminus\":[[0.0,\"#0d0887\"],[0.1111111111111111,\"#46039f\"],[0.2222222222222222,\"#7201a8\"],[0.3333333333333333,\"#9c179e\"],[0.4444444444444444,\"#bd3786\"],[0.5555555555555556,\"#d8576b\"],[0.6666666666666666,\"#ed7953\"],[0.7777777777777778,\"#fb9f3a\"],[0.8888888888888888,\"#fdca26\"],[1.0,\"#f0f921\"]]},\"colorway\":[\"#636efa\",\"#EF553B\",\"#00cc96\",\"#ab63fa\",\"#FFA15A\",\"#19d3f3\",\"#FF6692\",\"#B6E880\",\"#FF97FF\",\"#FECB52\"],\"font\":{\"color\":\"#2a3f5f\"},\"geo\":{\"bgcolor\":\"white\",\"lakecolor\":\"white\",\"landcolor\":\"#E5ECF6\",\"showlakes\":true,\"showland\":true,\"subunitcolor\":\"white\"},\"hoverlabel\":{\"align\":\"left\"},\"hovermode\":\"closest\",\"mapbox\":{\"style\":\"light\"},\"paper_bgcolor\":\"white\",\"plot_bgcolor\":\"#E5ECF6\",\"polar\":{\"angularaxis\":{\"gridcolor\":\"white\",\"linecolor\":\"white\",\"ticks\":\"\"},\"bgcolor\":\"#E5ECF6\",\"radialaxis\":{\"gridcolor\":\"white\",\"linecolor\":\"white\",\"ticks\":\"\"}},\"scene\":{\"xaxis\":{\"backgroundcolor\":\"#E5ECF6\",\"gridcolor\":\"white\",\"gridwidth\":2,\"linecolor\":\"white\",\"showbackground\":true,\"ticks\":\"\",\"zerolinecolor\":\"white\"},\"yaxis\":{\"backgroundcolor\":\"#E5ECF6\",\"gridcolor\":\"white\",\"gridwidth\":2,\"linecolor\":\"white\",\"showbackground\":true,\"ticks\":\"\",\"zerolinecolor\":\"white\"},\"zaxis\":{\"backgroundcolor\":\"#E5ECF6\",\"gridcolor\":\"white\",\"gridwidth\":2,\"linecolor\":\"white\",\"showbackground\":true,\"ticks\":\"\",\"zerolinecolor\":\"white\"}},\"shapedefaults\":{\"line\":{\"color\":\"#2a3f5f\"}},\"ternary\":{\"aaxis\":{\"gridcolor\":\"white\",\"linecolor\":\"white\",\"ticks\":\"\"},\"baxis\":{\"gridcolor\":\"white\",\"linecolor\":\"white\",\"ticks\":\"\"},\"bgcolor\":\"#E5ECF6\",\"caxis\":{\"gridcolor\":\"white\",\"linecolor\":\"white\",\"ticks\":\"\"}},\"title\":{\"x\":0.05},\"xaxis\":{\"automargin\":true,\"gridcolor\":\"white\",\"linecolor\":\"white\",\"ticks\":\"\",\"title\":{\"standoff\":15},\"zerolinecolor\":\"white\",\"zerolinewidth\":2},\"yaxis\":{\"automargin\":true,\"gridcolor\":\"white\",\"linecolor\":\"white\",\"ticks\":\"\",\"title\":{\"standoff\":15},\"zerolinecolor\":\"white\",\"zerolinewidth\":2}}},\"title\":{\"font\":{\"color\":\"#4D5663\"}},\"xaxis\":{\"anchor\":\"y\",\"domain\":[0.0,0.2125],\"gridcolor\":\"#E1E5ED\",\"showgrid\":false,\"tickfont\":{\"color\":\"#4D5663\"},\"title\":{\"font\":{\"color\":\"#4D5663\"},\"text\":\"\"},\"zerolinecolor\":\"#E1E5ED\"},\"yaxis\":{\"anchor\":\"x\",\"domain\":[0.8025,1.0],\"gridcolor\":\"#E1E5ED\",\"showgrid\":false,\"tickfont\":{\"color\":\"#4D5663\"},\"title\":{\"font\":{\"color\":\"#4D5663\"},\"text\":\"\"},\"zerolinecolor\":\"#E1E5ED\"},\"xaxis2\":{\"anchor\":\"y2\",\"domain\":[0.2625,0.475],\"gridcolor\":\"#E1E5ED\",\"showgrid\":false,\"tickfont\":{\"color\":\"#4D5663\"},\"title\":{\"font\":{\"color\":\"#4D5663\"},\"text\":\"\"},\"zerolinecolor\":\"#E1E5ED\"},\"yaxis2\":{\"anchor\":\"x2\",\"domain\":[0.8025,1.0],\"gridcolor\":\"#E1E5ED\",\"showgrid\":false,\"tickfont\":{\"color\":\"#4D5663\"},\"title\":{\"font\":{\"color\":\"#4D5663\"},\"text\":\"\"},\"zerolinecolor\":\"#E1E5ED\"},\"xaxis3\":{\"anchor\":\"y3\",\"domain\":[0.525,0.7375],\"gridcolor\":\"#E1E5ED\",\"showgrid\":false,\"tickfont\":{\"color\":\"#4D5663\"},\"title\":{\"font\":{\"color\":\"#4D5663\"},\"text\":\"\"},\"zerolinecolor\":\"#E1E5ED\"},\"yaxis3\":{\"anchor\":\"x3\",\"domain\":[0.8025,1.0],\"gridcolor\":\"#E1E5ED\",\"showgrid\":false,\"tickfont\":{\"color\":\"#4D5663\"},\"title\":{\"font\":{\"color\":\"#4D5663\"},\"text\":\"\"},\"zerolinecolor\":\"#E1E5ED\"},\"xaxis4\":{\"anchor\":\"y4\",\"domain\":[0.7875,1.0],\"gridcolor\":\"#E1E5ED\",\"showgrid\":false,\"tickfont\":{\"color\":\"#4D5663\"},\"title\":{\"font\":{\"color\":\"#4D5663\"},\"text\":\"\"},\"zerolinecolor\":\"#E1E5ED\"},\"yaxis4\":{\"anchor\":\"x4\",\"domain\":[0.8025,1.0],\"gridcolor\":\"#E1E5ED\",\"showgrid\":false,\"tickfont\":{\"color\":\"#4D5663\"},\"title\":{\"font\":{\"color\":\"#4D5663\"},\"text\":\"\"},\"zerolinecolor\":\"#E1E5ED\"},\"xaxis5\":{\"anchor\":\"y5\",\"domain\":[0.0,0.2125],\"gridcolor\":\"#E1E5ED\",\"showgrid\":false,\"tickfont\":{\"color\":\"#4D5663\"},\"title\":{\"font\":{\"color\":\"#4D5663\"},\"text\":\"\"},\"zerolinecolor\":\"#E1E5ED\"},\"yaxis5\":{\"anchor\":\"x5\",\"domain\":[0.535,0.7325],\"gridcolor\":\"#E1E5ED\",\"showgrid\":false,\"tickfont\":{\"color\":\"#4D5663\"},\"title\":{\"font\":{\"color\":\"#4D5663\"},\"text\":\"\"},\"zerolinecolor\":\"#E1E5ED\"},\"xaxis6\":{\"anchor\":\"y6\",\"domain\":[0.2625,0.475],\"gridcolor\":\"#E1E5ED\",\"showgrid\":false,\"tickfont\":{\"color\":\"#4D5663\"},\"title\":{\"font\":{\"color\":\"#4D5663\"},\"text\":\"\"},\"zerolinecolor\":\"#E1E5ED\"},\"yaxis6\":{\"anchor\":\"x6\",\"domain\":[0.535,0.7325],\"gridcolor\":\"#E1E5ED\",\"showgrid\":false,\"tickfont\":{\"color\":\"#4D5663\"},\"title\":{\"font\":{\"color\":\"#4D5663\"},\"text\":\"\"},\"zerolinecolor\":\"#E1E5ED\"},\"xaxis7\":{\"anchor\":\"y7\",\"domain\":[0.525,0.7375],\"gridcolor\":\"#E1E5ED\",\"showgrid\":false,\"tickfont\":{\"color\":\"#4D5663\"},\"title\":{\"font\":{\"color\":\"#4D5663\"},\"text\":\"\"},\"zerolinecolor\":\"#E1E5ED\"},\"yaxis7\":{\"anchor\":\"x7\",\"domain\":[0.535,0.7325],\"gridcolor\":\"#E1E5ED\",\"showgrid\":false,\"tickfont\":{\"color\":\"#4D5663\"},\"title\":{\"font\":{\"color\":\"#4D5663\"},\"text\":\"\"},\"zerolinecolor\":\"#E1E5ED\"},\"xaxis8\":{\"anchor\":\"y8\",\"domain\":[0.7875,1.0],\"gridcolor\":\"#E1E5ED\",\"showgrid\":false,\"tickfont\":{\"color\":\"#4D5663\"},\"title\":{\"font\":{\"color\":\"#4D5663\"},\"text\":\"\"},\"zerolinecolor\":\"#E1E5ED\"},\"yaxis8\":{\"anchor\":\"x8\",\"domain\":[0.535,0.7325],\"gridcolor\":\"#E1E5ED\",\"showgrid\":false,\"tickfont\":{\"color\":\"#4D5663\"},\"title\":{\"font\":{\"color\":\"#4D5663\"},\"text\":\"\"},\"zerolinecolor\":\"#E1E5ED\"},\"xaxis9\":{\"anchor\":\"y9\",\"domain\":[0.0,0.2125],\"gridcolor\":\"#E1E5ED\",\"showgrid\":false,\"tickfont\":{\"color\":\"#4D5663\"},\"title\":{\"font\":{\"color\":\"#4D5663\"},\"text\":\"\"},\"zerolinecolor\":\"#E1E5ED\"},\"yaxis9\":{\"anchor\":\"x9\",\"domain\":[0.2675,0.465],\"gridcolor\":\"#E1E5ED\",\"showgrid\":false,\"tickfont\":{\"color\":\"#4D5663\"},\"title\":{\"font\":{\"color\":\"#4D5663\"},\"text\":\"\"},\"zerolinecolor\":\"#E1E5ED\"},\"xaxis10\":{\"anchor\":\"y10\",\"domain\":[0.2625,0.475],\"gridcolor\":\"#E1E5ED\",\"showgrid\":false,\"tickfont\":{\"color\":\"#4D5663\"},\"title\":{\"font\":{\"color\":\"#4D5663\"},\"text\":\"\"},\"zerolinecolor\":\"#E1E5ED\"},\"yaxis10\":{\"anchor\":\"x10\",\"domain\":[0.2675,0.465],\"gridcolor\":\"#E1E5ED\",\"showgrid\":false,\"tickfont\":{\"color\":\"#4D5663\"},\"title\":{\"font\":{\"color\":\"#4D5663\"},\"text\":\"\"},\"zerolinecolor\":\"#E1E5ED\"},\"xaxis11\":{\"anchor\":\"y11\",\"domain\":[0.525,0.7375],\"gridcolor\":\"#E1E5ED\",\"showgrid\":false,\"tickfont\":{\"color\":\"#4D5663\"},\"title\":{\"font\":{\"color\":\"#4D5663\"},\"text\":\"\"},\"zerolinecolor\":\"#E1E5ED\"},\"yaxis11\":{\"anchor\":\"x11\",\"domain\":[0.2675,0.465],\"gridcolor\":\"#E1E5ED\",\"showgrid\":false,\"tickfont\":{\"color\":\"#4D5663\"},\"title\":{\"font\":{\"color\":\"#4D5663\"},\"text\":\"\"},\"zerolinecolor\":\"#E1E5ED\"},\"xaxis12\":{\"anchor\":\"y12\",\"domain\":[0.7875,1.0],\"gridcolor\":\"#E1E5ED\",\"showgrid\":false,\"tickfont\":{\"color\":\"#4D5663\"},\"title\":{\"font\":{\"color\":\"#4D5663\"},\"text\":\"\"},\"zerolinecolor\":\"#E1E5ED\"},\"yaxis12\":{\"anchor\":\"x12\",\"domain\":[0.2675,0.465],\"gridcolor\":\"#E1E5ED\",\"showgrid\":false,\"tickfont\":{\"color\":\"#4D5663\"},\"title\":{\"font\":{\"color\":\"#4D5663\"},\"text\":\"\"},\"zerolinecolor\":\"#E1E5ED\"},\"xaxis13\":{\"anchor\":\"y13\",\"domain\":[0.0,0.2125],\"gridcolor\":\"#E1E5ED\",\"showgrid\":false,\"tickfont\":{\"color\":\"#4D5663\"},\"title\":{\"font\":{\"color\":\"#4D5663\"},\"text\":\"\"},\"zerolinecolor\":\"#E1E5ED\"},\"yaxis13\":{\"anchor\":\"x13\",\"domain\":[0.0,0.1975],\"gridcolor\":\"#E1E5ED\",\"showgrid\":false,\"tickfont\":{\"color\":\"#4D5663\"},\"title\":{\"font\":{\"color\":\"#4D5663\"},\"text\":\"\"},\"zerolinecolor\":\"#E1E5ED\"},\"xaxis14\":{\"anchor\":\"y14\",\"domain\":[0.2625,0.475],\"gridcolor\":\"#E1E5ED\",\"showgrid\":false,\"tickfont\":{\"color\":\"#4D5663\"},\"title\":{\"font\":{\"color\":\"#4D5663\"},\"text\":\"\"},\"zerolinecolor\":\"#E1E5ED\"},\"yaxis14\":{\"anchor\":\"x14\",\"domain\":[0.0,0.1975],\"gridcolor\":\"#E1E5ED\",\"showgrid\":false,\"tickfont\":{\"color\":\"#4D5663\"},\"title\":{\"font\":{\"color\":\"#4D5663\"},\"text\":\"\"},\"zerolinecolor\":\"#E1E5ED\"},\"xaxis15\":{\"anchor\":\"y15\",\"domain\":[0.525,0.7375],\"gridcolor\":\"#E1E5ED\",\"showgrid\":false,\"tickfont\":{\"color\":\"#4D5663\"},\"title\":{\"font\":{\"color\":\"#4D5663\"},\"text\":\"\"},\"zerolinecolor\":\"#E1E5ED\"},\"yaxis15\":{\"anchor\":\"x15\",\"domain\":[0.0,0.1975],\"gridcolor\":\"#E1E5ED\",\"showgrid\":false,\"tickfont\":{\"color\":\"#4D5663\"},\"title\":{\"font\":{\"color\":\"#4D5663\"},\"text\":\"\"},\"zerolinecolor\":\"#E1E5ED\"},\"xaxis16\":{\"anchor\":\"y16\",\"domain\":[0.7875,1.0],\"gridcolor\":\"#E1E5ED\",\"showgrid\":false,\"tickfont\":{\"color\":\"#4D5663\"},\"title\":{\"font\":{\"color\":\"#4D5663\"},\"text\":\"\"},\"zerolinecolor\":\"#E1E5ED\"},\"yaxis16\":{\"anchor\":\"x16\",\"domain\":[0.0,0.1975],\"gridcolor\":\"#E1E5ED\",\"showgrid\":false,\"tickfont\":{\"color\":\"#4D5663\"},\"title\":{\"font\":{\"color\":\"#4D5663\"},\"text\":\"\"},\"zerolinecolor\":\"#E1E5ED\"}},                        {\"showLink\": true, \"linkText\": \"Export to plot.ly\", \"plotlyServerURL\": \"https://plot.ly\", \"responsive\": true}                    ).then(function(){\n",
       "                            \n",
       "var gd = document.getElementById('38ef615c-fd7d-49e3-ae39-02b28c1e3a3f');\n",
       "var x = new MutationObserver(function (mutations, observer) {{\n",
       "        var display = window.getComputedStyle(gd).display;\n",
       "        if (!display || display === 'none') {{\n",
       "            console.log([gd, 'removed!']);\n",
       "            Plotly.purge(gd);\n",
       "            observer.disconnect();\n",
       "        }}\n",
       "}});\n",
       "\n",
       "// Listen for the removal of the full notebook cells\n",
       "var notebookContainer = gd.closest('#notebook-container');\n",
       "if (notebookContainer) {{\n",
       "    x.observe(notebookContainer, {childList: true});\n",
       "}}\n",
       "\n",
       "// Listen for the clearing of the current output cell\n",
       "var outputEl = gd.closest('.output');\n",
       "if (outputEl) {{\n",
       "    x.observe(outputEl, {childList: true});\n",
       "}}\n",
       "\n",
       "                        })                };                });            </script>        </div>"
      ]
     },
     "metadata": {},
     "output_type": "display_data"
    }
   ],
   "source": [
    "df.scatter_matrix()"
   ]
  }
 ],
 "metadata": {
  "kernelspec": {
   "display_name": "Python 3 (ipykernel)",
   "language": "python",
   "name": "python3"
  },
  "language_info": {
   "codemirror_mode": {
    "name": "ipython",
    "version": 3
   },
   "file_extension": ".py",
   "mimetype": "text/x-python",
   "name": "python",
   "nbconvert_exporter": "python",
   "pygments_lexer": "ipython3",
   "version": "3.9.4"
  }
 },
 "nbformat": 4,
 "nbformat_minor": 1
}
